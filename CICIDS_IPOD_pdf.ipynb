{
  "nbformat": 4,
  "nbformat_minor": 0,
  "metadata": {
    "colab": {
      "provenance": []
    },
    "kernelspec": {
      "name": "python3",
      "display_name": "Python 3"
    },
    "language_info": {
      "name": "python"
    },
    "widgets": {
      "application/vnd.jupyter.widget-state+json": {
        "f6fb41c3050f4ffc893bbe8bcb0e9c75": {
          "model_module": "@jupyter-widgets/controls",
          "model_name": "HBoxModel",
          "model_module_version": "1.5.0",
          "state": {
            "_dom_classes": [],
            "_model_module": "@jupyter-widgets/controls",
            "_model_module_version": "1.5.0",
            "_model_name": "HBoxModel",
            "_view_count": null,
            "_view_module": "@jupyter-widgets/controls",
            "_view_module_version": "1.5.0",
            "_view_name": "HBoxView",
            "box_style": "",
            "children": [
              "IPY_MODEL_66fdc3156b9349d9b000f182627eff2c",
              "IPY_MODEL_a745b20b1c404a2a9970a6143bd82a28",
              "IPY_MODEL_65e7b9e83f8140d3a0b231b8c55da0fd"
            ],
            "layout": "IPY_MODEL_8d02af3b1c6b4a6e9d267c234aa84a3b"
          }
        },
        "66fdc3156b9349d9b000f182627eff2c": {
          "model_module": "@jupyter-widgets/controls",
          "model_name": "HTMLModel",
          "model_module_version": "1.5.0",
          "state": {
            "_dom_classes": [],
            "_model_module": "@jupyter-widgets/controls",
            "_model_module_version": "1.5.0",
            "_model_name": "HTMLModel",
            "_view_count": null,
            "_view_module": "@jupyter-widgets/controls",
            "_view_module_version": "1.5.0",
            "_view_name": "HTMLView",
            "description": "",
            "description_tooltip": null,
            "layout": "IPY_MODEL_345fe5cceef94e948c505d10e3fd2c41",
            "placeholder": "​",
            "style": "IPY_MODEL_9e92bd0b988746f2ba6330b5102f0a58",
            "value": "100%"
          }
        },
        "a745b20b1c404a2a9970a6143bd82a28": {
          "model_module": "@jupyter-widgets/controls",
          "model_name": "FloatProgressModel",
          "model_module_version": "1.5.0",
          "state": {
            "_dom_classes": [],
            "_model_module": "@jupyter-widgets/controls",
            "_model_module_version": "1.5.0",
            "_model_name": "FloatProgressModel",
            "_view_count": null,
            "_view_module": "@jupyter-widgets/controls",
            "_view_module_version": "1.5.0",
            "_view_name": "ProgressView",
            "bar_style": "success",
            "description": "",
            "description_tooltip": null,
            "layout": "IPY_MODEL_3dfddb603c394d62af8afeb8da90637a",
            "max": 300,
            "min": 0,
            "orientation": "horizontal",
            "style": "IPY_MODEL_8bf9f3e1e34b440dbed4ab57d4da53fa",
            "value": 300
          }
        },
        "65e7b9e83f8140d3a0b231b8c55da0fd": {
          "model_module": "@jupyter-widgets/controls",
          "model_name": "HTMLModel",
          "model_module_version": "1.5.0",
          "state": {
            "_dom_classes": [],
            "_model_module": "@jupyter-widgets/controls",
            "_model_module_version": "1.5.0",
            "_model_name": "HTMLModel",
            "_view_count": null,
            "_view_module": "@jupyter-widgets/controls",
            "_view_module_version": "1.5.0",
            "_view_name": "HTMLView",
            "description": "",
            "description_tooltip": null,
            "layout": "IPY_MODEL_1b62d8ba8c3e44ff8ddfeb28c7ea2e7f",
            "placeholder": "​",
            "style": "IPY_MODEL_954d8e00765d48db832dc1635bb4f0a6",
            "value": " 300/300 [08:35&lt;00:00,  1.77s/it, ae_loss=1.8655667214812134e-05]"
          }
        },
        "8d02af3b1c6b4a6e9d267c234aa84a3b": {
          "model_module": "@jupyter-widgets/base",
          "model_name": "LayoutModel",
          "model_module_version": "1.2.0",
          "state": {
            "_model_module": "@jupyter-widgets/base",
            "_model_module_version": "1.2.0",
            "_model_name": "LayoutModel",
            "_view_count": null,
            "_view_module": "@jupyter-widgets/base",
            "_view_module_version": "1.2.0",
            "_view_name": "LayoutView",
            "align_content": null,
            "align_items": null,
            "align_self": null,
            "border": null,
            "bottom": null,
            "display": null,
            "flex": null,
            "flex_flow": null,
            "grid_area": null,
            "grid_auto_columns": null,
            "grid_auto_flow": null,
            "grid_auto_rows": null,
            "grid_column": null,
            "grid_gap": null,
            "grid_row": null,
            "grid_template_areas": null,
            "grid_template_columns": null,
            "grid_template_rows": null,
            "height": null,
            "justify_content": null,
            "justify_items": null,
            "left": null,
            "margin": null,
            "max_height": null,
            "max_width": null,
            "min_height": null,
            "min_width": null,
            "object_fit": null,
            "object_position": null,
            "order": null,
            "overflow": null,
            "overflow_x": null,
            "overflow_y": null,
            "padding": null,
            "right": null,
            "top": null,
            "visibility": null,
            "width": null
          }
        },
        "345fe5cceef94e948c505d10e3fd2c41": {
          "model_module": "@jupyter-widgets/base",
          "model_name": "LayoutModel",
          "model_module_version": "1.2.0",
          "state": {
            "_model_module": "@jupyter-widgets/base",
            "_model_module_version": "1.2.0",
            "_model_name": "LayoutModel",
            "_view_count": null,
            "_view_module": "@jupyter-widgets/base",
            "_view_module_version": "1.2.0",
            "_view_name": "LayoutView",
            "align_content": null,
            "align_items": null,
            "align_self": null,
            "border": null,
            "bottom": null,
            "display": null,
            "flex": null,
            "flex_flow": null,
            "grid_area": null,
            "grid_auto_columns": null,
            "grid_auto_flow": null,
            "grid_auto_rows": null,
            "grid_column": null,
            "grid_gap": null,
            "grid_row": null,
            "grid_template_areas": null,
            "grid_template_columns": null,
            "grid_template_rows": null,
            "height": null,
            "justify_content": null,
            "justify_items": null,
            "left": null,
            "margin": null,
            "max_height": null,
            "max_width": null,
            "min_height": null,
            "min_width": null,
            "object_fit": null,
            "object_position": null,
            "order": null,
            "overflow": null,
            "overflow_x": null,
            "overflow_y": null,
            "padding": null,
            "right": null,
            "top": null,
            "visibility": null,
            "width": null
          }
        },
        "9e92bd0b988746f2ba6330b5102f0a58": {
          "model_module": "@jupyter-widgets/controls",
          "model_name": "DescriptionStyleModel",
          "model_module_version": "1.5.0",
          "state": {
            "_model_module": "@jupyter-widgets/controls",
            "_model_module_version": "1.5.0",
            "_model_name": "DescriptionStyleModel",
            "_view_count": null,
            "_view_module": "@jupyter-widgets/base",
            "_view_module_version": "1.2.0",
            "_view_name": "StyleView",
            "description_width": ""
          }
        },
        "3dfddb603c394d62af8afeb8da90637a": {
          "model_module": "@jupyter-widgets/base",
          "model_name": "LayoutModel",
          "model_module_version": "1.2.0",
          "state": {
            "_model_module": "@jupyter-widgets/base",
            "_model_module_version": "1.2.0",
            "_model_name": "LayoutModel",
            "_view_count": null,
            "_view_module": "@jupyter-widgets/base",
            "_view_module_version": "1.2.0",
            "_view_name": "LayoutView",
            "align_content": null,
            "align_items": null,
            "align_self": null,
            "border": null,
            "bottom": null,
            "display": null,
            "flex": null,
            "flex_flow": null,
            "grid_area": null,
            "grid_auto_columns": null,
            "grid_auto_flow": null,
            "grid_auto_rows": null,
            "grid_column": null,
            "grid_gap": null,
            "grid_row": null,
            "grid_template_areas": null,
            "grid_template_columns": null,
            "grid_template_rows": null,
            "height": null,
            "justify_content": null,
            "justify_items": null,
            "left": null,
            "margin": null,
            "max_height": null,
            "max_width": null,
            "min_height": null,
            "min_width": null,
            "object_fit": null,
            "object_position": null,
            "order": null,
            "overflow": null,
            "overflow_x": null,
            "overflow_y": null,
            "padding": null,
            "right": null,
            "top": null,
            "visibility": null,
            "width": null
          }
        },
        "8bf9f3e1e34b440dbed4ab57d4da53fa": {
          "model_module": "@jupyter-widgets/controls",
          "model_name": "ProgressStyleModel",
          "model_module_version": "1.5.0",
          "state": {
            "_model_module": "@jupyter-widgets/controls",
            "_model_module_version": "1.5.0",
            "_model_name": "ProgressStyleModel",
            "_view_count": null,
            "_view_module": "@jupyter-widgets/base",
            "_view_module_version": "1.2.0",
            "_view_name": "StyleView",
            "bar_color": null,
            "description_width": ""
          }
        },
        "1b62d8ba8c3e44ff8ddfeb28c7ea2e7f": {
          "model_module": "@jupyter-widgets/base",
          "model_name": "LayoutModel",
          "model_module_version": "1.2.0",
          "state": {
            "_model_module": "@jupyter-widgets/base",
            "_model_module_version": "1.2.0",
            "_model_name": "LayoutModel",
            "_view_count": null,
            "_view_module": "@jupyter-widgets/base",
            "_view_module_version": "1.2.0",
            "_view_name": "LayoutView",
            "align_content": null,
            "align_items": null,
            "align_self": null,
            "border": null,
            "bottom": null,
            "display": null,
            "flex": null,
            "flex_flow": null,
            "grid_area": null,
            "grid_auto_columns": null,
            "grid_auto_flow": null,
            "grid_auto_rows": null,
            "grid_column": null,
            "grid_gap": null,
            "grid_row": null,
            "grid_template_areas": null,
            "grid_template_columns": null,
            "grid_template_rows": null,
            "height": null,
            "justify_content": null,
            "justify_items": null,
            "left": null,
            "margin": null,
            "max_height": null,
            "max_width": null,
            "min_height": null,
            "min_width": null,
            "object_fit": null,
            "object_position": null,
            "order": null,
            "overflow": null,
            "overflow_x": null,
            "overflow_y": null,
            "padding": null,
            "right": null,
            "top": null,
            "visibility": null,
            "width": null
          }
        },
        "954d8e00765d48db832dc1635bb4f0a6": {
          "model_module": "@jupyter-widgets/controls",
          "model_name": "DescriptionStyleModel",
          "model_module_version": "1.5.0",
          "state": {
            "_model_module": "@jupyter-widgets/controls",
            "_model_module_version": "1.5.0",
            "_model_name": "DescriptionStyleModel",
            "_view_count": null,
            "_view_module": "@jupyter-widgets/base",
            "_view_module_version": "1.2.0",
            "_view_name": "StyleView",
            "description_width": ""
          }
        }
      }
    }
  },
  "cells": [
    {
      "cell_type": "code",
      "execution_count": 9,
      "metadata": {
        "id": "iSgw8nzszs6r"
      },
      "outputs": [],
      "source": [
        "import matplotlib.pyplot as plt \n",
        "import numpy as np \n",
        "import os \n",
        "import pandas as pd\n",
        "import seaborn as sns"
      ]
    },
    {
      "cell_type": "code",
      "source": [
        "files = []\n",
        "for dirname, _, filenames in os.walk('./data/raw'):\n",
        "    for filename in filenames:\n",
        "        files.append(os.path.join(dirname, filename))\n",
        "        print(os.path.join(dirname, filename))"
      ],
      "metadata": {
        "colab": {
          "base_uri": "https://localhost:8080/",
          "height": 0
        },
        "id": "0A6T1MtMzwD1",
        "outputId": "0c860475-6cc2-4bef-fbb9-f3eee5f128df"
      },
      "execution_count": 10,
      "outputs": [
        {
          "output_type": "stream",
          "name": "stdout",
          "text": [
            "./data/raw\\Friday-WorkingHours-Afternoon-DDos.pcap_ISCX.csv\n",
            "./data/raw\\Friday-WorkingHours-Afternoon-PortScan.pcap_ISCX.csv\n",
            "./data/raw\\Friday-WorkingHours-Morning.pcap_ISCX.csv\n",
            "./data/raw\\Monday-WorkingHours.pcap_ISCX.csv\n",
            "./data/raw\\Thursday-WorkingHours-Afternoon-Infilteration.pcap_ISCX.csv\n",
            "./data/raw\\Thursday-WorkingHours-Morning-WebAttacks.pcap_ISCX.csv\n",
            "./data/raw\\Tuesday-WorkingHours.pcap_ISCX.csv\n",
            "./data/raw\\Wednesday-workingHours.pcap_ISCX.csv\n"
          ]
        }
      ]
    },
    {
      "cell_type": "code",
      "source": [
        "files = [\n",
        "    [\n",
        "        # Train - 월요일\n",
        "        './data/raw\\Monday-WorkingHours.pcap_ISCX.csv'\n",
        "    ],\n",
        "    [\n",
        "        # Test - 화요일\n",
        "        './data/raw\\Tuesday-WorkingHours.pcap_ISCX.csv'\n",
        "    ],\n",
        "    [\n",
        "        # Test - 수요일\n",
        "        './data/raw\\Wednesday-workingHours.pcap_ISCX.csv'\n",
        "    ], \n",
        "    # 목요일은 에러로 인해 작동 X\n",
        "    [\n",
        "        # Test - 금요일\n",
        "        './data/raw\\Friday-WorkingHours-Afternoon-DDos.pcap_ISCX.csv',\n",
        "        './data/raw\\Friday-WorkingHours-Afternoon-PortScan.pcap_ISCX.csv',\n",
        "    ],\n",
        "    [\n",
        "        # Test - 금요일_Bot\n",
        "        './data/raw\\Friday-WorkingHours-Morning.pcap_ISCX.csv',\n",
        "    ],\n",
        "]"
      ],
      "metadata": {
        "id": "NPhAoRd1ySRN"
      },
      "execution_count": 11,
      "outputs": []
    },
    {
      "cell_type": "markdown",
      "source": [
        "# Train Data"
      ],
      "metadata": {
        "id": "6GPySwkk0eki"
      }
    },
    {
      "cell_type": "code",
      "source": [
        "from Utils import FlowReader"
      ],
      "metadata": {
        "id": "8PyFRVhs3Nyr"
      },
      "execution_count": 12,
      "outputs": []
    },
    {
      "cell_type": "code",
      "source": [
        "trainSet = FlowReader.read_csv(files[0])"
      ],
      "metadata": {
        "id": "q-mbUXCr0Lri"
      },
      "execution_count": 13,
      "outputs": []
    },
    {
      "cell_type": "markdown",
      "source": [
        "## 프로파일링"
      ],
      "metadata": {
        "id": "Em7hFAtP0c5Q"
      }
    },
    {
      "cell_type": "code",
      "source": [
        "from Utils import FlowProfiler"
      ],
      "metadata": {
        "id": "xAS6FIuS0DYl"
      },
      "execution_count": 14,
      "outputs": []
    },
    {
      "cell_type": "code",
      "source": [
        "FlowProfiler.UNIT_TIME=5"
      ],
      "metadata": {
        "id": "GdqRllnfaNLW"
      },
      "execution_count": 15,
      "outputs": []
    },
    {
      "cell_type": "code",
      "source": [
        "trainSet = FlowProfiler.preprocessing(trainSet, mode=\"default\")"
      ],
      "metadata": {
        "id": "GRmkTpsQ6a1n"
      },
      "execution_count": 16,
      "outputs": []
    },
    {
      "cell_type": "code",
      "source": [
        "trainSet"
      ],
      "metadata": {
        "colab": {
          "base_uri": "https://localhost:8080/",
          "height": 444
        },
        "id": "_JtAoxi-89w6",
        "outputId": "4ce46d11-47b6-455e-be0b-8a701832d647"
      },
      "execution_count": 17,
      "outputs": [
        {
          "output_type": "execute_result",
          "data": {
            "text/plain": [
              "               Key_IP  Key_inner_port  Key_outer_port  Inner_port_freq  \\\n",
              "0       8.254.250.126           49188              80         1.000000   \n",
              "1       8.253.185.121           49486              80         1.000000   \n",
              "2        192.168.10.9              88            1029         0.359551   \n",
              "3        192.168.10.3             137             389         0.150000   \n",
              "4        69.31.33.224            1057              80         1.000000   \n",
              "...               ...             ...             ...              ...   \n",
              "47692   184.25.56.202            7173              80         1.000000   \n",
              "47693  184.50.238.170           56432              80         1.000000   \n",
              "47694    52.52.86.145           44944             443         1.000000   \n",
              "47695   54.236.177.89           55806             443         1.000000   \n",
              "47696   91.189.89.198             123             123         1.000000   \n",
              "\n",
              "       Outer_port_freq  Pst_per_flows  Card_inner_ip  Card_inner_port  \\\n",
              "0             1.000000       0.250000              1                1   \n",
              "1             1.000000       0.250000              1                1   \n",
              "2             0.033708       0.595506              1               12   \n",
              "3             0.450000       0.400000              4               14   \n",
              "4             1.000000       1.000000              1                1   \n",
              "...                ...            ...            ...              ...   \n",
              "47692         1.000000       1.000000              1                1   \n",
              "47693         1.000000       1.000000              1                1   \n",
              "47694         1.000000       1.000000              1                1   \n",
              "47695         1.000000       1.000000              1                1   \n",
              "47696         1.000000       1.000000              1                1   \n",
              "\n",
              "       Card_outer_port  Sum_inner_pkts  ...  Sum_outer_pkts  Avg_outer_pkts  \\\n",
              "0                    1               0  ...               8        2.000000   \n",
              "1                    1               0  ...               8        2.000000   \n",
              "2                   67             534  ...             634        7.123596   \n",
              "3                    7              24  ...              54        2.700000   \n",
              "4                    1               5  ...               4        2.000000   \n",
              "...                ...             ...  ...             ...             ...   \n",
              "47692                1               1  ...               1        1.000000   \n",
              "47693                1               1  ...               1        1.000000   \n",
              "47694                1              14  ...              13       13.000000   \n",
              "47695                1              15  ...              13       13.000000   \n",
              "47696                1               1  ...               1        1.000000   \n",
              "\n",
              "       Std_outer_pkts  Sum_outer_bytes  Avg_outer_bytes  Std_outer_bytes  \\\n",
              "0            0.000000             48.0        12.000000         0.000000   \n",
              "1            0.000000             48.0        12.000000         0.000000   \n",
              "2            9.254999         126316.0      1419.280899      2412.947843   \n",
              "3            1.625455            880.0        44.000000        89.865396   \n",
              "4            2.828427            191.0        95.500000       135.057395   \n",
              "...               ...              ...              ...              ...   \n",
              "47692        0.000000              6.0         6.000000         0.000000   \n",
              "47693        0.000000              6.0         6.000000         0.000000   \n",
              "47694        0.000000           4752.0      4752.000000         0.000000   \n",
              "47695        0.000000           5955.0      5955.000000         0.000000   \n",
              "47696        0.000000             48.0        48.000000         0.000000   \n",
              "\n",
              "         Sum_dur       Avg_dur       Std_dur     Label  \n",
              "0              7  1.750000e+00  1.500000e+00  [BENIGN]  \n",
              "1              6  1.500000e+00  1.000000e+00  [BENIGN]  \n",
              "2      501301496  5.632601e+06  1.611198e+07  [BENIGN]  \n",
              "3        6093478  3.046739e+05  9.377045e+05  [BENIGN]  \n",
              "4          40647  2.032350e+04  2.873611e+04  [BENIGN]  \n",
              "...          ...           ...           ...       ...  \n",
              "47692         42  4.200000e+01  0.000000e+00  [BENIGN]  \n",
              "47693         42  4.200000e+01  0.000000e+00  [BENIGN]  \n",
              "47694   52656124  5.265612e+07  0.000000e+00  [BENIGN]  \n",
              "47695   51998174  5.199817e+07  0.000000e+00  [BENIGN]  \n",
              "47696      94265  9.426500e+04  0.000000e+00  [BENIGN]  \n",
              "\n",
              "[47697 rows x 25 columns]"
            ],
            "text/html": [
              "<div>\n",
              "<style scoped>\n",
              "    .dataframe tbody tr th:only-of-type {\n",
              "        vertical-align: middle;\n",
              "    }\n",
              "\n",
              "    .dataframe tbody tr th {\n",
              "        vertical-align: top;\n",
              "    }\n",
              "\n",
              "    .dataframe thead th {\n",
              "        text-align: right;\n",
              "    }\n",
              "</style>\n",
              "<table border=\"1\" class=\"dataframe\">\n",
              "  <thead>\n",
              "    <tr style=\"text-align: right;\">\n",
              "      <th></th>\n",
              "      <th>Key_IP</th>\n",
              "      <th>Key_inner_port</th>\n",
              "      <th>Key_outer_port</th>\n",
              "      <th>Inner_port_freq</th>\n",
              "      <th>Outer_port_freq</th>\n",
              "      <th>Pst_per_flows</th>\n",
              "      <th>Card_inner_ip</th>\n",
              "      <th>Card_inner_port</th>\n",
              "      <th>Card_outer_port</th>\n",
              "      <th>Sum_inner_pkts</th>\n",
              "      <th>...</th>\n",
              "      <th>Sum_outer_pkts</th>\n",
              "      <th>Avg_outer_pkts</th>\n",
              "      <th>Std_outer_pkts</th>\n",
              "      <th>Sum_outer_bytes</th>\n",
              "      <th>Avg_outer_bytes</th>\n",
              "      <th>Std_outer_bytes</th>\n",
              "      <th>Sum_dur</th>\n",
              "      <th>Avg_dur</th>\n",
              "      <th>Std_dur</th>\n",
              "      <th>Label</th>\n",
              "    </tr>\n",
              "  </thead>\n",
              "  <tbody>\n",
              "    <tr>\n",
              "      <th>0</th>\n",
              "      <td>8.254.250.126</td>\n",
              "      <td>49188</td>\n",
              "      <td>80</td>\n",
              "      <td>1.000000</td>\n",
              "      <td>1.000000</td>\n",
              "      <td>0.250000</td>\n",
              "      <td>1</td>\n",
              "      <td>1</td>\n",
              "      <td>1</td>\n",
              "      <td>0</td>\n",
              "      <td>...</td>\n",
              "      <td>8</td>\n",
              "      <td>2.000000</td>\n",
              "      <td>0.000000</td>\n",
              "      <td>48.0</td>\n",
              "      <td>12.000000</td>\n",
              "      <td>0.000000</td>\n",
              "      <td>7</td>\n",
              "      <td>1.750000e+00</td>\n",
              "      <td>1.500000e+00</td>\n",
              "      <td>[BENIGN]</td>\n",
              "    </tr>\n",
              "    <tr>\n",
              "      <th>1</th>\n",
              "      <td>8.253.185.121</td>\n",
              "      <td>49486</td>\n",
              "      <td>80</td>\n",
              "      <td>1.000000</td>\n",
              "      <td>1.000000</td>\n",
              "      <td>0.250000</td>\n",
              "      <td>1</td>\n",
              "      <td>1</td>\n",
              "      <td>1</td>\n",
              "      <td>0</td>\n",
              "      <td>...</td>\n",
              "      <td>8</td>\n",
              "      <td>2.000000</td>\n",
              "      <td>0.000000</td>\n",
              "      <td>48.0</td>\n",
              "      <td>12.000000</td>\n",
              "      <td>0.000000</td>\n",
              "      <td>6</td>\n",
              "      <td>1.500000e+00</td>\n",
              "      <td>1.000000e+00</td>\n",
              "      <td>[BENIGN]</td>\n",
              "    </tr>\n",
              "    <tr>\n",
              "      <th>2</th>\n",
              "      <td>192.168.10.9</td>\n",
              "      <td>88</td>\n",
              "      <td>1029</td>\n",
              "      <td>0.359551</td>\n",
              "      <td>0.033708</td>\n",
              "      <td>0.595506</td>\n",
              "      <td>1</td>\n",
              "      <td>12</td>\n",
              "      <td>67</td>\n",
              "      <td>534</td>\n",
              "      <td>...</td>\n",
              "      <td>634</td>\n",
              "      <td>7.123596</td>\n",
              "      <td>9.254999</td>\n",
              "      <td>126316.0</td>\n",
              "      <td>1419.280899</td>\n",
              "      <td>2412.947843</td>\n",
              "      <td>501301496</td>\n",
              "      <td>5.632601e+06</td>\n",
              "      <td>1.611198e+07</td>\n",
              "      <td>[BENIGN]</td>\n",
              "    </tr>\n",
              "    <tr>\n",
              "      <th>3</th>\n",
              "      <td>192.168.10.3</td>\n",
              "      <td>137</td>\n",
              "      <td>389</td>\n",
              "      <td>0.150000</td>\n",
              "      <td>0.450000</td>\n",
              "      <td>0.400000</td>\n",
              "      <td>4</td>\n",
              "      <td>14</td>\n",
              "      <td>7</td>\n",
              "      <td>24</td>\n",
              "      <td>...</td>\n",
              "      <td>54</td>\n",
              "      <td>2.700000</td>\n",
              "      <td>1.625455</td>\n",
              "      <td>880.0</td>\n",
              "      <td>44.000000</td>\n",
              "      <td>89.865396</td>\n",
              "      <td>6093478</td>\n",
              "      <td>3.046739e+05</td>\n",
              "      <td>9.377045e+05</td>\n",
              "      <td>[BENIGN]</td>\n",
              "    </tr>\n",
              "    <tr>\n",
              "      <th>4</th>\n",
              "      <td>69.31.33.224</td>\n",
              "      <td>1057</td>\n",
              "      <td>80</td>\n",
              "      <td>1.000000</td>\n",
              "      <td>1.000000</td>\n",
              "      <td>1.000000</td>\n",
              "      <td>1</td>\n",
              "      <td>1</td>\n",
              "      <td>1</td>\n",
              "      <td>5</td>\n",
              "      <td>...</td>\n",
              "      <td>4</td>\n",
              "      <td>2.000000</td>\n",
              "      <td>2.828427</td>\n",
              "      <td>191.0</td>\n",
              "      <td>95.500000</td>\n",
              "      <td>135.057395</td>\n",
              "      <td>40647</td>\n",
              "      <td>2.032350e+04</td>\n",
              "      <td>2.873611e+04</td>\n",
              "      <td>[BENIGN]</td>\n",
              "    </tr>\n",
              "    <tr>\n",
              "      <th>...</th>\n",
              "      <td>...</td>\n",
              "      <td>...</td>\n",
              "      <td>...</td>\n",
              "      <td>...</td>\n",
              "      <td>...</td>\n",
              "      <td>...</td>\n",
              "      <td>...</td>\n",
              "      <td>...</td>\n",
              "      <td>...</td>\n",
              "      <td>...</td>\n",
              "      <td>...</td>\n",
              "      <td>...</td>\n",
              "      <td>...</td>\n",
              "      <td>...</td>\n",
              "      <td>...</td>\n",
              "      <td>...</td>\n",
              "      <td>...</td>\n",
              "      <td>...</td>\n",
              "      <td>...</td>\n",
              "      <td>...</td>\n",
              "      <td>...</td>\n",
              "    </tr>\n",
              "    <tr>\n",
              "      <th>47692</th>\n",
              "      <td>184.25.56.202</td>\n",
              "      <td>7173</td>\n",
              "      <td>80</td>\n",
              "      <td>1.000000</td>\n",
              "      <td>1.000000</td>\n",
              "      <td>1.000000</td>\n",
              "      <td>1</td>\n",
              "      <td>1</td>\n",
              "      <td>1</td>\n",
              "      <td>1</td>\n",
              "      <td>...</td>\n",
              "      <td>1</td>\n",
              "      <td>1.000000</td>\n",
              "      <td>0.000000</td>\n",
              "      <td>6.0</td>\n",
              "      <td>6.000000</td>\n",
              "      <td>0.000000</td>\n",
              "      <td>42</td>\n",
              "      <td>4.200000e+01</td>\n",
              "      <td>0.000000e+00</td>\n",
              "      <td>[BENIGN]</td>\n",
              "    </tr>\n",
              "    <tr>\n",
              "      <th>47693</th>\n",
              "      <td>184.50.238.170</td>\n",
              "      <td>56432</td>\n",
              "      <td>80</td>\n",
              "      <td>1.000000</td>\n",
              "      <td>1.000000</td>\n",
              "      <td>1.000000</td>\n",
              "      <td>1</td>\n",
              "      <td>1</td>\n",
              "      <td>1</td>\n",
              "      <td>1</td>\n",
              "      <td>...</td>\n",
              "      <td>1</td>\n",
              "      <td>1.000000</td>\n",
              "      <td>0.000000</td>\n",
              "      <td>6.0</td>\n",
              "      <td>6.000000</td>\n",
              "      <td>0.000000</td>\n",
              "      <td>42</td>\n",
              "      <td>4.200000e+01</td>\n",
              "      <td>0.000000e+00</td>\n",
              "      <td>[BENIGN]</td>\n",
              "    </tr>\n",
              "    <tr>\n",
              "      <th>47694</th>\n",
              "      <td>52.52.86.145</td>\n",
              "      <td>44944</td>\n",
              "      <td>443</td>\n",
              "      <td>1.000000</td>\n",
              "      <td>1.000000</td>\n",
              "      <td>1.000000</td>\n",
              "      <td>1</td>\n",
              "      <td>1</td>\n",
              "      <td>1</td>\n",
              "      <td>14</td>\n",
              "      <td>...</td>\n",
              "      <td>13</td>\n",
              "      <td>13.000000</td>\n",
              "      <td>0.000000</td>\n",
              "      <td>4752.0</td>\n",
              "      <td>4752.000000</td>\n",
              "      <td>0.000000</td>\n",
              "      <td>52656124</td>\n",
              "      <td>5.265612e+07</td>\n",
              "      <td>0.000000e+00</td>\n",
              "      <td>[BENIGN]</td>\n",
              "    </tr>\n",
              "    <tr>\n",
              "      <th>47695</th>\n",
              "      <td>54.236.177.89</td>\n",
              "      <td>55806</td>\n",
              "      <td>443</td>\n",
              "      <td>1.000000</td>\n",
              "      <td>1.000000</td>\n",
              "      <td>1.000000</td>\n",
              "      <td>1</td>\n",
              "      <td>1</td>\n",
              "      <td>1</td>\n",
              "      <td>15</td>\n",
              "      <td>...</td>\n",
              "      <td>13</td>\n",
              "      <td>13.000000</td>\n",
              "      <td>0.000000</td>\n",
              "      <td>5955.0</td>\n",
              "      <td>5955.000000</td>\n",
              "      <td>0.000000</td>\n",
              "      <td>51998174</td>\n",
              "      <td>5.199817e+07</td>\n",
              "      <td>0.000000e+00</td>\n",
              "      <td>[BENIGN]</td>\n",
              "    </tr>\n",
              "    <tr>\n",
              "      <th>47696</th>\n",
              "      <td>91.189.89.198</td>\n",
              "      <td>123</td>\n",
              "      <td>123</td>\n",
              "      <td>1.000000</td>\n",
              "      <td>1.000000</td>\n",
              "      <td>1.000000</td>\n",
              "      <td>1</td>\n",
              "      <td>1</td>\n",
              "      <td>1</td>\n",
              "      <td>1</td>\n",
              "      <td>...</td>\n",
              "      <td>1</td>\n",
              "      <td>1.000000</td>\n",
              "      <td>0.000000</td>\n",
              "      <td>48.0</td>\n",
              "      <td>48.000000</td>\n",
              "      <td>0.000000</td>\n",
              "      <td>94265</td>\n",
              "      <td>9.426500e+04</td>\n",
              "      <td>0.000000e+00</td>\n",
              "      <td>[BENIGN]</td>\n",
              "    </tr>\n",
              "  </tbody>\n",
              "</table>\n",
              "<p>47697 rows × 25 columns</p>\n",
              "</div>"
            ]
          },
          "metadata": {},
          "execution_count": 17
        }
      ]
    },
    {
      "cell_type": "markdown",
      "source": [
        "## 전처리"
      ],
      "metadata": {
        "id": "QyUHO1Fq2P-D"
      }
    },
    {
      "cell_type": "code",
      "source": [
        "from Utils import FlowPreProcessor"
      ],
      "metadata": {
        "id": "P64NPKzA2SQ8"
      },
      "execution_count": 18,
      "outputs": []
    },
    {
      "cell_type": "code",
      "source": [
        "fpp = FlowPreProcessor(mode=\"pdf\")"
      ],
      "metadata": {
        "id": "a9o34E1J2ZQh"
      },
      "execution_count": 19,
      "outputs": []
    },
    {
      "cell_type": "code",
      "source": [
        "trainX = fpp.fit_transform(trainSet)"
      ],
      "metadata": {
        "id": "97AcWt1qBJah"
      },
      "execution_count": 20,
      "outputs": []
    },
    {
      "cell_type": "code",
      "source": [
        "trainX.shape"
      ],
      "metadata": {
        "colab": {
          "base_uri": "https://localhost:8080/",
          "height": 0
        },
        "id": "Upait3SR5zRM",
        "outputId": "6caa7db1-877d-4a32-e109-d45db9bc0a76"
      },
      "execution_count": 21,
      "outputs": [
        {
          "output_type": "execute_result",
          "data": {
            "text/plain": [
              "(47697, 24)"
            ]
          },
          "metadata": {},
          "execution_count": 21
        }
      ]
    },
    {
      "cell_type": "code",
      "source": [
        "trainX"
      ],
      "metadata": {
        "colab": {
          "base_uri": "https://localhost:8080/",
          "height": 0
        },
        "id": "fPs_OJWc6k6G",
        "outputId": "234a28f1-ce4d-424c-d6b1-6425cd786fd4"
      },
      "execution_count": 22,
      "outputs": [
        {
          "output_type": "execute_result",
          "data": {
            "text/plain": [
              "array([[2.0965679e-05, 1.2579407e-04, 2.7913705e-01, ..., 1.0000000e+00,\n",
              "        1.0000000e+00, 1.0000000e+00],\n",
              "       [2.0965679e-05, 1.2579407e-04, 2.7913705e-01, ..., 1.0000000e+00,\n",
              "        1.0000000e+00, 1.0000000e+00],\n",
              "       [7.5728036e-02, 7.5476448e-04, 2.0965679e-05, ..., 9.0055447e-03,\n",
              "        2.4988214e-02, 2.9361390e-03],\n",
              "       ...,\n",
              "       [4.4027925e-04, 6.2897037e-05, 9.8222113e-01, ..., 1.0000000e+00,\n",
              "        2.8288544e-03, 1.0000000e+00],\n",
              "       [6.2897037e-05, 1.2579407e-04, 9.8222113e-01, ..., 1.0000000e+00,\n",
              "        3.6146471e-03, 1.0000000e+00],\n",
              "       [5.8682937e-02, 8.6944669e-02, 7.9334132e-02, ..., 1.0000000e+00,\n",
              "        1.0000000e+00, 1.0000000e+00]], dtype=float32)"
            ]
          },
          "metadata": {},
          "execution_count": 22
        }
      ]
    },
    {
      "cell_type": "markdown",
      "source": [
        "# 학습하기"
      ],
      "metadata": {
        "id": "A1gzpZkb-GRe"
      }
    },
    {
      "cell_type": "code",
      "source": [
        "import torch\n",
        "\n",
        "import torch.nn as nn\n",
        "\n",
        "from tqdm.notebook import tqdm\n",
        "from torch.optim import Adam, SGD, AdamW\n",
        "from torch.optim.lr_scheduler import StepLR\n",
        "from torch.utils.data import DataLoader, Dataset"
      ],
      "metadata": {
        "id": "CHFTeuWL9vDe"
      },
      "execution_count": 23,
      "outputs": []
    },
    {
      "cell_type": "code",
      "source": [
        "device = 'cuda' if torch.cuda.is_available() else 'cpu'"
      ],
      "metadata": {
        "id": "iTMGhiBE-pw-"
      },
      "execution_count": 24,
      "outputs": []
    },
    {
      "cell_type": "code",
      "source": [
        "class FClayer(nn.Module):\n",
        "    def __init__(self, I, O, A='relu'):\n",
        "        super().__init__()\n",
        "        \n",
        "        self.linear = nn.Linear(I, O)\n",
        "        \n",
        "        if A == 'relu':\n",
        "            self.activation = nn.ReLU()\n",
        "        elif A == 'sigmoid':\n",
        "            self.activation = nn.Sigmoid()\n",
        "        else:\n",
        "            self.activation = nn.Identity()\n",
        "        \n",
        "    def forward(self, x):\n",
        "        x = self.linear(x)\n",
        "        x = self.activation(x)\n",
        "        \n",
        "        return x"
      ],
      "metadata": {
        "id": "XohJx0B1-qtj"
      },
      "execution_count": 25,
      "outputs": []
    },
    {
      "cell_type": "code",
      "source": [
        "class AE(nn.Module):\n",
        "    def __init__(self, num_features):\n",
        "        super().__init__()\n",
        "        \n",
        "        self.encoder = nn.Sequential(\n",
        "            FClayer(num_features, 128),\n",
        "            FClayer(128, 64),\n",
        "            FClayer(64,32),\n",
        "            FClayer(32, 16),\n",
        "            FClayer(16, 8),\n",
        "        )\n",
        "        \n",
        "        self.decoder = nn.Sequential(\n",
        "            FClayer(8, 16),\n",
        "            FClayer(16, 32),\n",
        "            FClayer(32, 64),\n",
        "            FClayer(64, 128),\n",
        "            FClayer(128, num_features, \n",
        "                    A='sigmoid'\n",
        "            ),\n",
        "        )\n",
        "    \n",
        "    def forward(self, x):\n",
        "        z = self.encoder(x)\n",
        "        x = self.decoder(z)\n",
        "        return x, z"
      ],
      "metadata": {
        "id": "3GTq5PPW-rhP"
      },
      "execution_count": 26,
      "outputs": []
    },
    {
      "cell_type": "code",
      "source": [
        "a = AE(trainX.shape[1])"
      ],
      "metadata": {
        "id": "StTOFXeS64WT"
      },
      "execution_count": 27,
      "outputs": []
    },
    {
      "cell_type": "code",
      "source": [
        "b = a(torch.tensor(trainX))"
      ],
      "metadata": {
        "id": "tXJq4jW669fy"
      },
      "execution_count": 28,
      "outputs": []
    },
    {
      "cell_type": "code",
      "source": [
        "trainSet"
      ],
      "metadata": {
        "colab": {
          "base_uri": "https://localhost:8080/",
          "height": 444
        },
        "id": "C0DG2jGq7g8i",
        "outputId": "7efdb969-b0a6-4057-bbe9-45e33b72565e"
      },
      "execution_count": 29,
      "outputs": [
        {
          "output_type": "execute_result",
          "data": {
            "text/plain": [
              "               Key_IP  Key_inner_port  Key_outer_port  Inner_port_freq  \\\n",
              "0       8.254.250.126           49188              80         1.000000   \n",
              "1       8.253.185.121           49486              80         1.000000   \n",
              "2        192.168.10.9              88            1029         0.359551   \n",
              "3        192.168.10.3             137             389         0.150000   \n",
              "4        69.31.33.224            1057              80         1.000000   \n",
              "...               ...             ...             ...              ...   \n",
              "47692   184.25.56.202            7173              80         1.000000   \n",
              "47693  184.50.238.170           56432              80         1.000000   \n",
              "47694    52.52.86.145           44944             443         1.000000   \n",
              "47695   54.236.177.89           55806             443         1.000000   \n",
              "47696   91.189.89.198             123             123         1.000000   \n",
              "\n",
              "       Outer_port_freq  Pst_per_flows  Card_inner_ip  Card_inner_port  \\\n",
              "0             1.000000       0.250000              1                1   \n",
              "1             1.000000       0.250000              1                1   \n",
              "2             0.033708       0.595506              1               12   \n",
              "3             0.450000       0.400000              4               14   \n",
              "4             1.000000       1.000000              1                1   \n",
              "...                ...            ...            ...              ...   \n",
              "47692         1.000000       1.000000              1                1   \n",
              "47693         1.000000       1.000000              1                1   \n",
              "47694         1.000000       1.000000              1                1   \n",
              "47695         1.000000       1.000000              1                1   \n",
              "47696         1.000000       1.000000              1                1   \n",
              "\n",
              "       Card_outer_port  Sum_inner_pkts  ...  Sum_outer_pkts  Avg_outer_pkts  \\\n",
              "0                    1               0  ...               8        2.000000   \n",
              "1                    1               0  ...               8        2.000000   \n",
              "2                   67             534  ...             634        7.123596   \n",
              "3                    7              24  ...              54        2.700000   \n",
              "4                    1               5  ...               4        2.000000   \n",
              "...                ...             ...  ...             ...             ...   \n",
              "47692                1               1  ...               1        1.000000   \n",
              "47693                1               1  ...               1        1.000000   \n",
              "47694                1              14  ...              13       13.000000   \n",
              "47695                1              15  ...              13       13.000000   \n",
              "47696                1               1  ...               1        1.000000   \n",
              "\n",
              "       Std_outer_pkts  Sum_outer_bytes  Avg_outer_bytes  Std_outer_bytes  \\\n",
              "0            0.000000             48.0        12.000000         0.000000   \n",
              "1            0.000000             48.0        12.000000         0.000000   \n",
              "2            9.254999         126316.0      1419.280899      2412.947843   \n",
              "3            1.625455            880.0        44.000000        89.865396   \n",
              "4            2.828427            191.0        95.500000       135.057395   \n",
              "...               ...              ...              ...              ...   \n",
              "47692        0.000000              6.0         6.000000         0.000000   \n",
              "47693        0.000000              6.0         6.000000         0.000000   \n",
              "47694        0.000000           4752.0      4752.000000         0.000000   \n",
              "47695        0.000000           5955.0      5955.000000         0.000000   \n",
              "47696        0.000000             48.0        48.000000         0.000000   \n",
              "\n",
              "         Sum_dur       Avg_dur       Std_dur     Label  \n",
              "0              7  1.750000e+00  1.500000e+00  [BENIGN]  \n",
              "1              6  1.500000e+00  1.000000e+00  [BENIGN]  \n",
              "2      501301496  5.632601e+06  1.611198e+07  [BENIGN]  \n",
              "3        6093478  3.046739e+05  9.377045e+05  [BENIGN]  \n",
              "4          40647  2.032350e+04  2.873611e+04  [BENIGN]  \n",
              "...          ...           ...           ...       ...  \n",
              "47692         42  4.200000e+01  0.000000e+00  [BENIGN]  \n",
              "47693         42  4.200000e+01  0.000000e+00  [BENIGN]  \n",
              "47694   52656124  5.265612e+07  0.000000e+00  [BENIGN]  \n",
              "47695   51998174  5.199817e+07  0.000000e+00  [BENIGN]  \n",
              "47696      94265  9.426500e+04  0.000000e+00  [BENIGN]  \n",
              "\n",
              "[47697 rows x 25 columns]"
            ],
            "text/html": [
              "<div>\n",
              "<style scoped>\n",
              "    .dataframe tbody tr th:only-of-type {\n",
              "        vertical-align: middle;\n",
              "    }\n",
              "\n",
              "    .dataframe tbody tr th {\n",
              "        vertical-align: top;\n",
              "    }\n",
              "\n",
              "    .dataframe thead th {\n",
              "        text-align: right;\n",
              "    }\n",
              "</style>\n",
              "<table border=\"1\" class=\"dataframe\">\n",
              "  <thead>\n",
              "    <tr style=\"text-align: right;\">\n",
              "      <th></th>\n",
              "      <th>Key_IP</th>\n",
              "      <th>Key_inner_port</th>\n",
              "      <th>Key_outer_port</th>\n",
              "      <th>Inner_port_freq</th>\n",
              "      <th>Outer_port_freq</th>\n",
              "      <th>Pst_per_flows</th>\n",
              "      <th>Card_inner_ip</th>\n",
              "      <th>Card_inner_port</th>\n",
              "      <th>Card_outer_port</th>\n",
              "      <th>Sum_inner_pkts</th>\n",
              "      <th>...</th>\n",
              "      <th>Sum_outer_pkts</th>\n",
              "      <th>Avg_outer_pkts</th>\n",
              "      <th>Std_outer_pkts</th>\n",
              "      <th>Sum_outer_bytes</th>\n",
              "      <th>Avg_outer_bytes</th>\n",
              "      <th>Std_outer_bytes</th>\n",
              "      <th>Sum_dur</th>\n",
              "      <th>Avg_dur</th>\n",
              "      <th>Std_dur</th>\n",
              "      <th>Label</th>\n",
              "    </tr>\n",
              "  </thead>\n",
              "  <tbody>\n",
              "    <tr>\n",
              "      <th>0</th>\n",
              "      <td>8.254.250.126</td>\n",
              "      <td>49188</td>\n",
              "      <td>80</td>\n",
              "      <td>1.000000</td>\n",
              "      <td>1.000000</td>\n",
              "      <td>0.250000</td>\n",
              "      <td>1</td>\n",
              "      <td>1</td>\n",
              "      <td>1</td>\n",
              "      <td>0</td>\n",
              "      <td>...</td>\n",
              "      <td>8</td>\n",
              "      <td>2.000000</td>\n",
              "      <td>0.000000</td>\n",
              "      <td>48.0</td>\n",
              "      <td>12.000000</td>\n",
              "      <td>0.000000</td>\n",
              "      <td>7</td>\n",
              "      <td>1.750000e+00</td>\n",
              "      <td>1.500000e+00</td>\n",
              "      <td>[BENIGN]</td>\n",
              "    </tr>\n",
              "    <tr>\n",
              "      <th>1</th>\n",
              "      <td>8.253.185.121</td>\n",
              "      <td>49486</td>\n",
              "      <td>80</td>\n",
              "      <td>1.000000</td>\n",
              "      <td>1.000000</td>\n",
              "      <td>0.250000</td>\n",
              "      <td>1</td>\n",
              "      <td>1</td>\n",
              "      <td>1</td>\n",
              "      <td>0</td>\n",
              "      <td>...</td>\n",
              "      <td>8</td>\n",
              "      <td>2.000000</td>\n",
              "      <td>0.000000</td>\n",
              "      <td>48.0</td>\n",
              "      <td>12.000000</td>\n",
              "      <td>0.000000</td>\n",
              "      <td>6</td>\n",
              "      <td>1.500000e+00</td>\n",
              "      <td>1.000000e+00</td>\n",
              "      <td>[BENIGN]</td>\n",
              "    </tr>\n",
              "    <tr>\n",
              "      <th>2</th>\n",
              "      <td>192.168.10.9</td>\n",
              "      <td>88</td>\n",
              "      <td>1029</td>\n",
              "      <td>0.359551</td>\n",
              "      <td>0.033708</td>\n",
              "      <td>0.595506</td>\n",
              "      <td>1</td>\n",
              "      <td>12</td>\n",
              "      <td>67</td>\n",
              "      <td>534</td>\n",
              "      <td>...</td>\n",
              "      <td>634</td>\n",
              "      <td>7.123596</td>\n",
              "      <td>9.254999</td>\n",
              "      <td>126316.0</td>\n",
              "      <td>1419.280899</td>\n",
              "      <td>2412.947843</td>\n",
              "      <td>501301496</td>\n",
              "      <td>5.632601e+06</td>\n",
              "      <td>1.611198e+07</td>\n",
              "      <td>[BENIGN]</td>\n",
              "    </tr>\n",
              "    <tr>\n",
              "      <th>3</th>\n",
              "      <td>192.168.10.3</td>\n",
              "      <td>137</td>\n",
              "      <td>389</td>\n",
              "      <td>0.150000</td>\n",
              "      <td>0.450000</td>\n",
              "      <td>0.400000</td>\n",
              "      <td>4</td>\n",
              "      <td>14</td>\n",
              "      <td>7</td>\n",
              "      <td>24</td>\n",
              "      <td>...</td>\n",
              "      <td>54</td>\n",
              "      <td>2.700000</td>\n",
              "      <td>1.625455</td>\n",
              "      <td>880.0</td>\n",
              "      <td>44.000000</td>\n",
              "      <td>89.865396</td>\n",
              "      <td>6093478</td>\n",
              "      <td>3.046739e+05</td>\n",
              "      <td>9.377045e+05</td>\n",
              "      <td>[BENIGN]</td>\n",
              "    </tr>\n",
              "    <tr>\n",
              "      <th>4</th>\n",
              "      <td>69.31.33.224</td>\n",
              "      <td>1057</td>\n",
              "      <td>80</td>\n",
              "      <td>1.000000</td>\n",
              "      <td>1.000000</td>\n",
              "      <td>1.000000</td>\n",
              "      <td>1</td>\n",
              "      <td>1</td>\n",
              "      <td>1</td>\n",
              "      <td>5</td>\n",
              "      <td>...</td>\n",
              "      <td>4</td>\n",
              "      <td>2.000000</td>\n",
              "      <td>2.828427</td>\n",
              "      <td>191.0</td>\n",
              "      <td>95.500000</td>\n",
              "      <td>135.057395</td>\n",
              "      <td>40647</td>\n",
              "      <td>2.032350e+04</td>\n",
              "      <td>2.873611e+04</td>\n",
              "      <td>[BENIGN]</td>\n",
              "    </tr>\n",
              "    <tr>\n",
              "      <th>...</th>\n",
              "      <td>...</td>\n",
              "      <td>...</td>\n",
              "      <td>...</td>\n",
              "      <td>...</td>\n",
              "      <td>...</td>\n",
              "      <td>...</td>\n",
              "      <td>...</td>\n",
              "      <td>...</td>\n",
              "      <td>...</td>\n",
              "      <td>...</td>\n",
              "      <td>...</td>\n",
              "      <td>...</td>\n",
              "      <td>...</td>\n",
              "      <td>...</td>\n",
              "      <td>...</td>\n",
              "      <td>...</td>\n",
              "      <td>...</td>\n",
              "      <td>...</td>\n",
              "      <td>...</td>\n",
              "      <td>...</td>\n",
              "      <td>...</td>\n",
              "    </tr>\n",
              "    <tr>\n",
              "      <th>47692</th>\n",
              "      <td>184.25.56.202</td>\n",
              "      <td>7173</td>\n",
              "      <td>80</td>\n",
              "      <td>1.000000</td>\n",
              "      <td>1.000000</td>\n",
              "      <td>1.000000</td>\n",
              "      <td>1</td>\n",
              "      <td>1</td>\n",
              "      <td>1</td>\n",
              "      <td>1</td>\n",
              "      <td>...</td>\n",
              "      <td>1</td>\n",
              "      <td>1.000000</td>\n",
              "      <td>0.000000</td>\n",
              "      <td>6.0</td>\n",
              "      <td>6.000000</td>\n",
              "      <td>0.000000</td>\n",
              "      <td>42</td>\n",
              "      <td>4.200000e+01</td>\n",
              "      <td>0.000000e+00</td>\n",
              "      <td>[BENIGN]</td>\n",
              "    </tr>\n",
              "    <tr>\n",
              "      <th>47693</th>\n",
              "      <td>184.50.238.170</td>\n",
              "      <td>56432</td>\n",
              "      <td>80</td>\n",
              "      <td>1.000000</td>\n",
              "      <td>1.000000</td>\n",
              "      <td>1.000000</td>\n",
              "      <td>1</td>\n",
              "      <td>1</td>\n",
              "      <td>1</td>\n",
              "      <td>1</td>\n",
              "      <td>...</td>\n",
              "      <td>1</td>\n",
              "      <td>1.000000</td>\n",
              "      <td>0.000000</td>\n",
              "      <td>6.0</td>\n",
              "      <td>6.000000</td>\n",
              "      <td>0.000000</td>\n",
              "      <td>42</td>\n",
              "      <td>4.200000e+01</td>\n",
              "      <td>0.000000e+00</td>\n",
              "      <td>[BENIGN]</td>\n",
              "    </tr>\n",
              "    <tr>\n",
              "      <th>47694</th>\n",
              "      <td>52.52.86.145</td>\n",
              "      <td>44944</td>\n",
              "      <td>443</td>\n",
              "      <td>1.000000</td>\n",
              "      <td>1.000000</td>\n",
              "      <td>1.000000</td>\n",
              "      <td>1</td>\n",
              "      <td>1</td>\n",
              "      <td>1</td>\n",
              "      <td>14</td>\n",
              "      <td>...</td>\n",
              "      <td>13</td>\n",
              "      <td>13.000000</td>\n",
              "      <td>0.000000</td>\n",
              "      <td>4752.0</td>\n",
              "      <td>4752.000000</td>\n",
              "      <td>0.000000</td>\n",
              "      <td>52656124</td>\n",
              "      <td>5.265612e+07</td>\n",
              "      <td>0.000000e+00</td>\n",
              "      <td>[BENIGN]</td>\n",
              "    </tr>\n",
              "    <tr>\n",
              "      <th>47695</th>\n",
              "      <td>54.236.177.89</td>\n",
              "      <td>55806</td>\n",
              "      <td>443</td>\n",
              "      <td>1.000000</td>\n",
              "      <td>1.000000</td>\n",
              "      <td>1.000000</td>\n",
              "      <td>1</td>\n",
              "      <td>1</td>\n",
              "      <td>1</td>\n",
              "      <td>15</td>\n",
              "      <td>...</td>\n",
              "      <td>13</td>\n",
              "      <td>13.000000</td>\n",
              "      <td>0.000000</td>\n",
              "      <td>5955.0</td>\n",
              "      <td>5955.000000</td>\n",
              "      <td>0.000000</td>\n",
              "      <td>51998174</td>\n",
              "      <td>5.199817e+07</td>\n",
              "      <td>0.000000e+00</td>\n",
              "      <td>[BENIGN]</td>\n",
              "    </tr>\n",
              "    <tr>\n",
              "      <th>47696</th>\n",
              "      <td>91.189.89.198</td>\n",
              "      <td>123</td>\n",
              "      <td>123</td>\n",
              "      <td>1.000000</td>\n",
              "      <td>1.000000</td>\n",
              "      <td>1.000000</td>\n",
              "      <td>1</td>\n",
              "      <td>1</td>\n",
              "      <td>1</td>\n",
              "      <td>1</td>\n",
              "      <td>...</td>\n",
              "      <td>1</td>\n",
              "      <td>1.000000</td>\n",
              "      <td>0.000000</td>\n",
              "      <td>48.0</td>\n",
              "      <td>48.000000</td>\n",
              "      <td>0.000000</td>\n",
              "      <td>94265</td>\n",
              "      <td>9.426500e+04</td>\n",
              "      <td>0.000000e+00</td>\n",
              "      <td>[BENIGN]</td>\n",
              "    </tr>\n",
              "  </tbody>\n",
              "</table>\n",
              "<p>47697 rows × 25 columns</p>\n",
              "</div>"
            ]
          },
          "metadata": {},
          "execution_count": 29
        }
      ]
    },
    {
      "cell_type": "code",
      "source": [
        "b[0].shape"
      ],
      "metadata": {
        "colab": {
          "base_uri": "https://localhost:8080/",
          "height": 0
        },
        "id": "MZpnwgRv7Mj9",
        "outputId": "8b251851-a25d-4994-bcaf-4bb401253538"
      },
      "execution_count": 30,
      "outputs": [
        {
          "output_type": "execute_result",
          "data": {
            "text/plain": [
              "torch.Size([47697, 24])"
            ]
          },
          "metadata": {},
          "execution_count": 30
        }
      ]
    },
    {
      "cell_type": "code",
      "source": [
        "class FlowDataset(Dataset):\n",
        "    def __init__(self, data):\n",
        "        self.data = data\n",
        "        \n",
        "    def __len__(self):\n",
        "        return len(self.data)\n",
        "    \n",
        "    def __getitem__(self, idx):\n",
        "        return self.data[idx]\n"
      ],
      "metadata": {
        "id": "JIXNK2iE-sUX"
      },
      "execution_count": 31,
      "outputs": []
    },
    {
      "cell_type": "code",
      "source": [
        "def train_fn(trainX, batch_size=128, epoch=300, model_path=\"./models/ipod_model_pdf.pt\"):\n",
        "    ae = AE(trainX.shape[1])\n",
        "    ae.to(device)\n",
        "    \n",
        "    ae_loss_fn = nn.MSELoss()\n",
        "    # ae_optim = SGD(ae.parameters(), lr = 1e-1, momentum=0.9)\n",
        "    ae_optim = AdamW(ae.parameters(), lr = 1e-3, weight_decay=1e-11)\n",
        "    ae_sched= StepLR(ae_optim, step_size=75, gamma=0.5)\n",
        "    \n",
        "    dataloader = DataLoader(\n",
        "        FlowDataset(trainX), \n",
        "        batch_size=batch_size, \n",
        "        shuffle=True\n",
        "    )\n",
        "    \n",
        "    best_loss = 1.\n",
        "\n",
        "    with tqdm(range(epoch)) as pbar:\n",
        "        for _ in pbar:\n",
        "            ae_epoch_loss = 0\n",
        "            data_count = 0\n",
        "                        \n",
        "            for X in dataloader:\n",
        "                X = X.to(device)\n",
        "\n",
        "                # 오토 인코더 학습 \n",
        "                O, _ = ae(X)\n",
        "                \n",
        "                ae_loss = ae_loss_fn(O, X)\n",
        "                ae_optim.zero_grad()\n",
        "                ae_loss.backward()\n",
        "                ae_optim.step()                \n",
        "                \n",
        "                # loss 출력하기 \n",
        "                \n",
        "                ae_epoch_loss += ae_loss.item()\n",
        "                data_count += len(X)\n",
        "\n",
        "                pbar.set_postfix( \n",
        "                     ae_loss=f\"{ae_epoch_loss / data_count}\",\n",
        "                )\n",
        "\n",
        "            now_loss = ae_epoch_loss / data_count\n",
        "            if best_loss > now_loss:\n",
        "                best_loss = now_loss\n",
        "                torch.save(ae.state_dict(), model_path)\n",
        "\n",
        "            ae_sched.step()\n",
        "    print(best_loss)\n",
        "    model_state_dict = torch.load(model_path, map_location=device)\n",
        "    ae.load_state_dict(model_state_dict)\n",
        "    return ae"
      ],
      "metadata": {
        "id": "bOy6cqls-tqg"
      },
      "execution_count": 32,
      "outputs": []
    },
    {
      "cell_type": "code",
      "source": [
        "model = train_fn(trainX)"
      ],
      "metadata": {
        "colab": {
          "base_uri": "https://localhost:8080/",
          "height": 67,
          "referenced_widgets": [
            "f6fb41c3050f4ffc893bbe8bcb0e9c75",
            "66fdc3156b9349d9b000f182627eff2c",
            "a745b20b1c404a2a9970a6143bd82a28",
            "65e7b9e83f8140d3a0b231b8c55da0fd",
            "8d02af3b1c6b4a6e9d267c234aa84a3b",
            "345fe5cceef94e948c505d10e3fd2c41",
            "9e92bd0b988746f2ba6330b5102f0a58",
            "3dfddb603c394d62af8afeb8da90637a",
            "8bf9f3e1e34b440dbed4ab57d4da53fa",
            "1b62d8ba8c3e44ff8ddfeb28c7ea2e7f",
            "954d8e00765d48db832dc1635bb4f0a6"
          ]
        },
        "id": "9n-1zOE7-utl",
        "outputId": "22a1d1c7-27c9-4343-ccf1-0d0b7bb062cf"
      },
      "execution_count": 33,
      "outputs": [
        {
          "output_type": "display_data",
          "data": {
            "text/plain": [
              "  0%|          | 0/300 [00:00<?, ?it/s]"
            ],
            "application/vnd.jupyter.widget-view+json": {
              "version_major": 2,
              "version_minor": 0,
              "model_id": "f6fb41c3050f4ffc893bbe8bcb0e9c75"
            }
          },
          "metadata": {}
        },
        {
          "output_type": "stream",
          "name": "stdout",
          "text": [
            "1.8652674601867227e-05\n"
          ]
        }
      ]
    },
    {
      "cell_type": "markdown",
      "source": [
        "# 테스트하기"
      ],
      "metadata": {
        "id": "fnVmX2dPHl-U"
      }
    },
    {
      "cell_type": "code",
      "source": [
        "def test_fn(model, testX):\n",
        "    dataloader = DataLoader(FlowDataset(testX), batch_size= 512, shuffle=False)\n",
        "    model.to(device)\n",
        "    pred = []\n",
        "    loss_fn = nn.MSELoss()\n",
        "    model.eval()\n",
        "    dist_fn = nn.CosineSimilarity(dim=1)\n",
        "    with torch.no_grad():\n",
        "        for X in (dataloader):\n",
        "            X = X.to(device)\n",
        "            O,_  = model(X)\n",
        "            # dist = dist_fn(X,O)\n",
        "            dist = torch.square(X-O).mean(-1)\n",
        "            pred.extend(dist.cpu().tolist())\n",
        "    return pred\n",
        "    "
      ],
      "metadata": {
        "id": "gFNnI2-2-wxk"
      },
      "execution_count": 34,
      "outputs": []
    },
    {
      "cell_type": "code",
      "source": [
        "def labelEncoding(x):\n",
        "    if len(x) == 1:\n",
        "        if x[0] == 'BENIGN':\n",
        "            return 0\n",
        "        else:\n",
        "            return 1\n",
        "    else:\n",
        "        return 1\n",
        "\n"
      ],
      "metadata": {
        "id": "prpKJWOqKsTZ"
      },
      "execution_count": 35,
      "outputs": []
    },
    {
      "cell_type": "code",
      "source": [
        "from sklearn.metrics import roc_auc_score, roc_curve, f1_score, precision_score, recall_score, accuracy_score"
      ],
      "metadata": {
        "id": "PJDbF7aHKweK"
      },
      "execution_count": 36,
      "outputs": []
    },
    {
      "cell_type": "code",
      "source": [
        "def testSetLoader(files):\n",
        "    testSet = FlowReader.read_csv(files)\n",
        "    testSet = FlowProfiler.preprocessing(testSet, mode=\"default\")\n",
        "    return testSet"
      ],
      "metadata": {
        "id": "igXOiAFzmRIw"
      },
      "execution_count": 37,
      "outputs": []
    },
    {
      "cell_type": "code",
      "source": [
        "def result_fn(testSet, loss):\n",
        "    result = pd.DataFrame({\n",
        "        'outer_ip' : testSet['Key_IP'],\n",
        "        'loss' : loss,\n",
        "        'Label' : testSet['Label'],\n",
        "        'Num_Label' : testSet['Label'].apply(\n",
        "            labelEncoding\n",
        "            # lambda x : len(x)\n",
        "        )\n",
        "    })\n",
        "    return result"
      ],
      "metadata": {
        "id": "lEYTGDfUIcVd"
      },
      "execution_count": 38,
      "outputs": []
    },
    {
      "cell_type": "code",
      "source": [
        "def best_f1(y_true, loss):\n",
        "    theta = 0.0001\n",
        "    best_theta = 0\n",
        "    best_f1 = 0\n",
        "    while theta <= 1:\n",
        "        predict = np.where(loss>theta, 1, 0)\n",
        "        now_f1 = f1_score(y_true, predict)\n",
        "        if best_f1 < now_f1:\n",
        "            best_f1 = now_f1\n",
        "            best_theta = theta\n",
        "        \n",
        "        theta += 0.0001\n",
        "\n",
        "    predict = np.where(loss>best_theta, 1, 0)\n",
        "    print(\"theta : \", best_theta)\n",
        "    print(\"accuracy : \", accuracy_score(y_true, predict))\n",
        "    print(\"recall : \", recall_score(y_true, predict))\n",
        "    print(\"precision: \", precision_score(y_true, predict))\n",
        "    print(\"f1-score : \", f1_score(y_true, predict))\n",
        "\n",
        "    return best_theta"
      ],
      "metadata": {
        "id": "8frWHl5DvDP-"
      },
      "execution_count": 39,
      "outputs": []
    },
    {
      "cell_type": "code",
      "source": [
        "concat_result = pd.DataFrame(columns=['outer_ip', 'loss', 'Label', 'Num_Label'])"
      ],
      "metadata": {
        "id": "qevzK1HTg8IR"
      },
      "execution_count": 40,
      "outputs": []
    },
    {
      "cell_type": "markdown",
      "source": [
        "## 화요일"
      ],
      "metadata": {
        "id": "Fqz42U0fIou5"
      }
    },
    {
      "cell_type": "code",
      "source": [
        "testSet = testSetLoader(files[1])"
      ],
      "metadata": {
        "id": "2n9q0Z09_3hF"
      },
      "execution_count": 41,
      "outputs": []
    },
    {
      "cell_type": "code",
      "source": [
        "testX = fpp.transform(testSet)"
      ],
      "metadata": {
        "id": "ALv8w9fIAAx7"
      },
      "execution_count": 42,
      "outputs": []
    },
    {
      "cell_type": "code",
      "source": [
        "loss = test_fn(model, testX)"
      ],
      "metadata": {
        "id": "i6ifhqZdAvoU"
      },
      "execution_count": 43,
      "outputs": []
    },
    {
      "cell_type": "code",
      "source": [
        "result = result_fn(testSet, loss)"
      ],
      "metadata": {
        "id": "hlbCl-xZIXbo"
      },
      "execution_count": 44,
      "outputs": []
    },
    {
      "cell_type": "code",
      "source": [
        "result[result['Num_Label']==1]"
      ],
      "metadata": {
        "id": "i9P6D4UKFiNo",
        "colab": {
          "base_uri": "https://localhost:8080/",
          "height": 959
        },
        "outputId": "f2a0dda3-0fcd-4d62-dc5a-34deeb64f0d7"
      },
      "execution_count": 45,
      "outputs": [
        {
          "output_type": "execute_result",
          "data": {
            "text/plain": [
              "         outer_ip      loss                  Label  Num_Label\n",
              "2120   172.16.0.1  0.016555          [FTP-Patator]          1\n",
              "2143   172.16.0.1  0.000083          [FTP-Patator]          1\n",
              "2529   172.16.0.1  0.001521          [FTP-Patator]          1\n",
              "2951   172.16.0.1  0.001737          [FTP-Patator]          1\n",
              "3946   172.16.0.1  0.001750          [FTP-Patator]          1\n",
              "4002   172.16.0.1  0.001737          [FTP-Patator]          1\n",
              "5133   172.16.0.1  0.001737          [FTP-Patator]          1\n",
              "5796   172.16.0.1  0.001751          [FTP-Patator]          1\n",
              "5838   172.16.0.1  0.001737          [FTP-Patator]          1\n",
              "7054   172.16.0.1  0.001737          [FTP-Patator]          1\n",
              "7130   172.16.0.1  0.001737          [FTP-Patator]          1\n",
              "8252   172.16.0.1  0.001737          [FTP-Patator]          1\n",
              "8327   172.16.0.1  0.001403          [FTP-Patator]          1\n",
              "9473   172.16.0.1  0.001737          [FTP-Patator]          1\n",
              "9564   172.16.0.1  0.001737          [FTP-Patator]          1\n",
              "23355  172.16.0.1  0.000260          [SSH-Patator]          1\n",
              "23581  172.16.0.1  0.043596  [SSH-Patator, BENIGN]          1\n",
              "24350  172.16.0.1  0.004470          [SSH-Patator]          1\n",
              "24352  172.16.0.1  0.126102  [SSH-Patator, BENIGN]          1\n",
              "25367  172.16.0.1  0.004551          [SSH-Patator]          1\n",
              "25814  172.16.0.1  0.003988          [SSH-Patator]          1\n",
              "25826  172.16.0.1  0.003963          [SSH-Patator]          1\n",
              "26765  172.16.0.1  0.003972          [SSH-Patator]          1\n",
              "27418  172.16.0.1  0.003767          [SSH-Patator]          1\n",
              "27432  172.16.0.1  0.003988          [SSH-Patator]          1\n",
              "28332  172.16.0.1  0.003768          [SSH-Patator]          1\n",
              "28854  172.16.0.1  0.003994          [SSH-Patator]          1\n",
              "28929  172.16.0.1  0.003553          [SSH-Patator]          1\n",
              "29693  172.16.0.1  0.003996          [SSH-Patator]          1"
            ],
            "text/html": [
              "<div>\n",
              "<style scoped>\n",
              "    .dataframe tbody tr th:only-of-type {\n",
              "        vertical-align: middle;\n",
              "    }\n",
              "\n",
              "    .dataframe tbody tr th {\n",
              "        vertical-align: top;\n",
              "    }\n",
              "\n",
              "    .dataframe thead th {\n",
              "        text-align: right;\n",
              "    }\n",
              "</style>\n",
              "<table border=\"1\" class=\"dataframe\">\n",
              "  <thead>\n",
              "    <tr style=\"text-align: right;\">\n",
              "      <th></th>\n",
              "      <th>outer_ip</th>\n",
              "      <th>loss</th>\n",
              "      <th>Label</th>\n",
              "      <th>Num_Label</th>\n",
              "    </tr>\n",
              "  </thead>\n",
              "  <tbody>\n",
              "    <tr>\n",
              "      <th>2120</th>\n",
              "      <td>172.16.0.1</td>\n",
              "      <td>0.016555</td>\n",
              "      <td>[FTP-Patator]</td>\n",
              "      <td>1</td>\n",
              "    </tr>\n",
              "    <tr>\n",
              "      <th>2143</th>\n",
              "      <td>172.16.0.1</td>\n",
              "      <td>0.000083</td>\n",
              "      <td>[FTP-Patator]</td>\n",
              "      <td>1</td>\n",
              "    </tr>\n",
              "    <tr>\n",
              "      <th>2529</th>\n",
              "      <td>172.16.0.1</td>\n",
              "      <td>0.001521</td>\n",
              "      <td>[FTP-Patator]</td>\n",
              "      <td>1</td>\n",
              "    </tr>\n",
              "    <tr>\n",
              "      <th>2951</th>\n",
              "      <td>172.16.0.1</td>\n",
              "      <td>0.001737</td>\n",
              "      <td>[FTP-Patator]</td>\n",
              "      <td>1</td>\n",
              "    </tr>\n",
              "    <tr>\n",
              "      <th>3946</th>\n",
              "      <td>172.16.0.1</td>\n",
              "      <td>0.001750</td>\n",
              "      <td>[FTP-Patator]</td>\n",
              "      <td>1</td>\n",
              "    </tr>\n",
              "    <tr>\n",
              "      <th>4002</th>\n",
              "      <td>172.16.0.1</td>\n",
              "      <td>0.001737</td>\n",
              "      <td>[FTP-Patator]</td>\n",
              "      <td>1</td>\n",
              "    </tr>\n",
              "    <tr>\n",
              "      <th>5133</th>\n",
              "      <td>172.16.0.1</td>\n",
              "      <td>0.001737</td>\n",
              "      <td>[FTP-Patator]</td>\n",
              "      <td>1</td>\n",
              "    </tr>\n",
              "    <tr>\n",
              "      <th>5796</th>\n",
              "      <td>172.16.0.1</td>\n",
              "      <td>0.001751</td>\n",
              "      <td>[FTP-Patator]</td>\n",
              "      <td>1</td>\n",
              "    </tr>\n",
              "    <tr>\n",
              "      <th>5838</th>\n",
              "      <td>172.16.0.1</td>\n",
              "      <td>0.001737</td>\n",
              "      <td>[FTP-Patator]</td>\n",
              "      <td>1</td>\n",
              "    </tr>\n",
              "    <tr>\n",
              "      <th>7054</th>\n",
              "      <td>172.16.0.1</td>\n",
              "      <td>0.001737</td>\n",
              "      <td>[FTP-Patator]</td>\n",
              "      <td>1</td>\n",
              "    </tr>\n",
              "    <tr>\n",
              "      <th>7130</th>\n",
              "      <td>172.16.0.1</td>\n",
              "      <td>0.001737</td>\n",
              "      <td>[FTP-Patator]</td>\n",
              "      <td>1</td>\n",
              "    </tr>\n",
              "    <tr>\n",
              "      <th>8252</th>\n",
              "      <td>172.16.0.1</td>\n",
              "      <td>0.001737</td>\n",
              "      <td>[FTP-Patator]</td>\n",
              "      <td>1</td>\n",
              "    </tr>\n",
              "    <tr>\n",
              "      <th>8327</th>\n",
              "      <td>172.16.0.1</td>\n",
              "      <td>0.001403</td>\n",
              "      <td>[FTP-Patator]</td>\n",
              "      <td>1</td>\n",
              "    </tr>\n",
              "    <tr>\n",
              "      <th>9473</th>\n",
              "      <td>172.16.0.1</td>\n",
              "      <td>0.001737</td>\n",
              "      <td>[FTP-Patator]</td>\n",
              "      <td>1</td>\n",
              "    </tr>\n",
              "    <tr>\n",
              "      <th>9564</th>\n",
              "      <td>172.16.0.1</td>\n",
              "      <td>0.001737</td>\n",
              "      <td>[FTP-Patator]</td>\n",
              "      <td>1</td>\n",
              "    </tr>\n",
              "    <tr>\n",
              "      <th>23355</th>\n",
              "      <td>172.16.0.1</td>\n",
              "      <td>0.000260</td>\n",
              "      <td>[SSH-Patator]</td>\n",
              "      <td>1</td>\n",
              "    </tr>\n",
              "    <tr>\n",
              "      <th>23581</th>\n",
              "      <td>172.16.0.1</td>\n",
              "      <td>0.043596</td>\n",
              "      <td>[SSH-Patator, BENIGN]</td>\n",
              "      <td>1</td>\n",
              "    </tr>\n",
              "    <tr>\n",
              "      <th>24350</th>\n",
              "      <td>172.16.0.1</td>\n",
              "      <td>0.004470</td>\n",
              "      <td>[SSH-Patator]</td>\n",
              "      <td>1</td>\n",
              "    </tr>\n",
              "    <tr>\n",
              "      <th>24352</th>\n",
              "      <td>172.16.0.1</td>\n",
              "      <td>0.126102</td>\n",
              "      <td>[SSH-Patator, BENIGN]</td>\n",
              "      <td>1</td>\n",
              "    </tr>\n",
              "    <tr>\n",
              "      <th>25367</th>\n",
              "      <td>172.16.0.1</td>\n",
              "      <td>0.004551</td>\n",
              "      <td>[SSH-Patator]</td>\n",
              "      <td>1</td>\n",
              "    </tr>\n",
              "    <tr>\n",
              "      <th>25814</th>\n",
              "      <td>172.16.0.1</td>\n",
              "      <td>0.003988</td>\n",
              "      <td>[SSH-Patator]</td>\n",
              "      <td>1</td>\n",
              "    </tr>\n",
              "    <tr>\n",
              "      <th>25826</th>\n",
              "      <td>172.16.0.1</td>\n",
              "      <td>0.003963</td>\n",
              "      <td>[SSH-Patator]</td>\n",
              "      <td>1</td>\n",
              "    </tr>\n",
              "    <tr>\n",
              "      <th>26765</th>\n",
              "      <td>172.16.0.1</td>\n",
              "      <td>0.003972</td>\n",
              "      <td>[SSH-Patator]</td>\n",
              "      <td>1</td>\n",
              "    </tr>\n",
              "    <tr>\n",
              "      <th>27418</th>\n",
              "      <td>172.16.0.1</td>\n",
              "      <td>0.003767</td>\n",
              "      <td>[SSH-Patator]</td>\n",
              "      <td>1</td>\n",
              "    </tr>\n",
              "    <tr>\n",
              "      <th>27432</th>\n",
              "      <td>172.16.0.1</td>\n",
              "      <td>0.003988</td>\n",
              "      <td>[SSH-Patator]</td>\n",
              "      <td>1</td>\n",
              "    </tr>\n",
              "    <tr>\n",
              "      <th>28332</th>\n",
              "      <td>172.16.0.1</td>\n",
              "      <td>0.003768</td>\n",
              "      <td>[SSH-Patator]</td>\n",
              "      <td>1</td>\n",
              "    </tr>\n",
              "    <tr>\n",
              "      <th>28854</th>\n",
              "      <td>172.16.0.1</td>\n",
              "      <td>0.003994</td>\n",
              "      <td>[SSH-Patator]</td>\n",
              "      <td>1</td>\n",
              "    </tr>\n",
              "    <tr>\n",
              "      <th>28929</th>\n",
              "      <td>172.16.0.1</td>\n",
              "      <td>0.003553</td>\n",
              "      <td>[SSH-Patator]</td>\n",
              "      <td>1</td>\n",
              "    </tr>\n",
              "    <tr>\n",
              "      <th>29693</th>\n",
              "      <td>172.16.0.1</td>\n",
              "      <td>0.003996</td>\n",
              "      <td>[SSH-Patator]</td>\n",
              "      <td>1</td>\n",
              "    </tr>\n",
              "  </tbody>\n",
              "</table>\n",
              "</div>"
            ]
          },
          "metadata": {},
          "execution_count": 45
        }
      ]
    },
    {
      "cell_type": "code",
      "source": [
        "concat_result = pd.concat([\n",
        "    concat_result, result\n",
        "])"
      ],
      "metadata": {
        "id": "e1a621JahRLN"
      },
      "execution_count": 46,
      "outputs": []
    },
    {
      "cell_type": "code",
      "source": [
        "y_true = result['Num_Label'].values\n",
        "loss = result['loss'].values"
      ],
      "metadata": {
        "id": "BaHQCL8ZIU6i"
      },
      "execution_count": 47,
      "outputs": []
    },
    {
      "cell_type": "code",
      "source": [
        "tues_fp, tues_tp, _ = roc_curve(y_true, loss)\n",
        "roc_auc_score(y_true, loss)"
      ],
      "metadata": {
        "id": "SZAAFwu4cUyh",
        "colab": {
          "base_uri": "https://localhost:8080/",
          "height": 0
        },
        "outputId": "af5acfa1-a741-44bc-f21b-2a217c608e38"
      },
      "execution_count": 48,
      "outputs": [
        {
          "output_type": "execute_result",
          "data": {
            "text/plain": [
              "0.9205953964435213"
            ]
          },
          "metadata": {},
          "execution_count": 48
        }
      ]
    },
    {
      "cell_type": "code",
      "source": [
        "theta = best_f1(y_true, loss)"
      ],
      "metadata": {
        "id": "UPtJpSf4vbmk",
        "colab": {
          "base_uri": "https://localhost:8080/",
          "height": 0
        },
        "outputId": "8933f588-aa52-4f7d-93c7-3c5b6e7fe37b"
      },
      "execution_count": 49,
      "outputs": [
        {
          "output_type": "stream",
          "name": "stdout",
          "text": [
            "theta :  0.12570000000000248\n",
            "accuracy :  0.9981895465994962\n",
            "recall :  0.034482758620689655\n",
            "precision:  0.023809523809523808\n",
            "f1-score :  0.028169014084507043\n"
          ]
        }
      ]
    },
    {
      "cell_type": "code",
      "source": [
        "_, axs = plt.subplots(2,1, figsize=(22,14))\n",
        "titles = ['benign', 'attack']\n",
        "\n",
        "for i in range(2):\n",
        "    axs[i].hist(result[result['Num_Label'] == i]['loss'], bins=200, range=(0,0.1))\n",
        "    axs[i].axvline(x=theta, color='r', linestyle='--')\n",
        "    axs[i].set_title(titles[i])\n"
      ],
      "metadata": {
        "id": "8Fquja89cybg",
        "colab": {
          "base_uri": "https://localhost:8080/",
          "height": 675
        },
        "outputId": "c5889964-04ab-49ef-b5b9-b4551f8ec4eb"
      },
      "execution_count": 51,
      "outputs": [
        {
          "output_type": "display_data",
          "data": {
            "text/plain": [
              "<Figure size 1584x1008 with 2 Axes>"
            ],
            "image/png": "[encoded data removed]"
          },
          "metadata": {
            "needs_background": "light"
          }
        }
      ]
    },
    {
      "cell_type": "markdown",
      "source": [
        "## 수요일"
      ],
      "metadata": {
        "id": "FZDwNMGOImED"
      }
    },
    {
      "cell_type": "code",
      "source": [
        "testSet = testSetLoader(files[2])"
      ],
      "metadata": {
        "id": "YuGb5u_JIlSj"
      },
      "execution_count": 52,
      "outputs": []
    },
    {
      "cell_type": "code",
      "source": [
        "testX = fpp.transform(testSet)"
      ],
      "metadata": {
        "id": "z0BatnDmIlSk"
      },
      "execution_count": 53,
      "outputs": []
    },
    {
      "cell_type": "code",
      "source": [
        "loss = test_fn(model, testX)"
      ],
      "metadata": {
        "id": "iQKJPCg_IlSk"
      },
      "execution_count": 54,
      "outputs": []
    },
    {
      "cell_type": "code",
      "source": [
        "result = result_fn(testSet, loss)"
      ],
      "metadata": {
        "id": "ieCTbcg6IlSk"
      },
      "execution_count": 55,
      "outputs": []
    },
    {
      "cell_type": "code",
      "source": [
        "result[result['Num_Label']==1]"
      ],
      "metadata": {
        "id": "8plR9q6NIlSk",
        "colab": {
          "base_uri": "https://localhost:8080/",
          "height": 896
        },
        "outputId": "942e1dc8-cf1a-4f87-9f68-c48f4de55cf2"
      },
      "execution_count": 56,
      "outputs": [
        {
          "output_type": "execute_result",
          "data": {
            "text/plain": [
              "         outer_ip      loss                       Label  Num_Label\n",
              "1721   172.16.0.1  0.000087             [DoS slowloris]          1\n",
              "1748   172.16.0.1  0.000056     [DoS slowloris, BENIGN]          1\n",
              "5575   172.16.0.1  0.073007             [DoS slowloris]          1\n",
              "5751   172.16.0.1  0.000031     [DoS slowloris, BENIGN]          1\n",
              "6592   172.16.0.1  0.083483     [DoS slowloris, BENIGN]          1\n",
              "7043   172.16.0.1  0.083558     [DoS slowloris, BENIGN]          1\n",
              "7689   172.16.0.1  0.079536             [DoS slowloris]          1\n",
              "8116   172.16.0.1  0.083587     [DoS slowloris, BENIGN]          1\n",
              "8581   172.16.0.1  0.053116     [DoS slowloris, BENIGN]          1\n",
              "9177   172.16.0.1  0.083583  [DoS Slowhttptest, BENIGN]          1\n",
              "9552   172.16.0.1  0.083573  [DoS Slowhttptest, BENIGN]          1\n",
              "10085  172.16.0.1  0.090241  [DoS Slowhttptest, BENIGN]          1\n",
              "10856  172.16.0.1  0.090556  [DoS Slowhttptest, BENIGN]          1\n",
              "11344  172.16.0.1  0.083565  [DoS Slowhttptest, BENIGN]          1\n",
              "11643  172.16.0.1  0.281941          [DoS Hulk, BENIGN]          1\n",
              "11848  172.16.0.1  0.279760          [DoS Hulk, BENIGN]          1\n",
              "12258  172.16.0.1  0.004149                  [DoS Hulk]          1\n",
              "12667  172.16.0.1  0.006477                  [DoS Hulk]          1\n",
              "13590  172.16.0.1  0.000492                  [DoS Hulk]          1\n",
              "14077  172.16.0.1  0.000255                  [DoS Hulk]          1\n",
              "14642  172.16.0.1  0.132613     [DoS GoldenEye, BENIGN]          1\n",
              "15012  172.16.0.1  0.132557     [DoS GoldenEye, BENIGN]          1\n",
              "30241  172.16.0.1  0.196999        [BENIGN, Heartbleed]          1\n",
              "30616  172.16.0.1  0.081884                [Heartbleed]          1\n",
              "31066  172.16.0.1  0.082424                [Heartbleed]          1\n",
              "31583  172.16.0.1  0.124508                [Heartbleed]          1\n",
              "31986  172.16.0.1  0.173989                [Heartbleed]          1"
            ],
            "text/html": [
              "<div>\n",
              "<style scoped>\n",
              "    .dataframe tbody tr th:only-of-type {\n",
              "        vertical-align: middle;\n",
              "    }\n",
              "\n",
              "    .dataframe tbody tr th {\n",
              "        vertical-align: top;\n",
              "    }\n",
              "\n",
              "    .dataframe thead th {\n",
              "        text-align: right;\n",
              "    }\n",
              "</style>\n",
              "<table border=\"1\" class=\"dataframe\">\n",
              "  <thead>\n",
              "    <tr style=\"text-align: right;\">\n",
              "      <th></th>\n",
              "      <th>outer_ip</th>\n",
              "      <th>loss</th>\n",
              "      <th>Label</th>\n",
              "      <th>Num_Label</th>\n",
              "    </tr>\n",
              "  </thead>\n",
              "  <tbody>\n",
              "    <tr>\n",
              "      <th>1721</th>\n",
              "      <td>172.16.0.1</td>\n",
              "      <td>0.000087</td>\n",
              "      <td>[DoS slowloris]</td>\n",
              "      <td>1</td>\n",
              "    </tr>\n",
              "    <tr>\n",
              "      <th>1748</th>\n",
              "      <td>172.16.0.1</td>\n",
              "      <td>0.000056</td>\n",
              "      <td>[DoS slowloris, BENIGN]</td>\n",
              "      <td>1</td>\n",
              "    </tr>\n",
              "    <tr>\n",
              "      <th>5575</th>\n",
              "      <td>172.16.0.1</td>\n",
              "      <td>0.073007</td>\n",
              "      <td>[DoS slowloris]</td>\n",
              "      <td>1</td>\n",
              "    </tr>\n",
              "    <tr>\n",
              "      <th>5751</th>\n",
              "      <td>172.16.0.1</td>\n",
              "      <td>0.000031</td>\n",
              "      <td>[DoS slowloris, BENIGN]</td>\n",
              "      <td>1</td>\n",
              "    </tr>\n",
              "    <tr>\n",
              "      <th>6592</th>\n",
              "      <td>172.16.0.1</td>\n",
              "      <td>0.083483</td>\n",
              "      <td>[DoS slowloris, BENIGN]</td>\n",
              "      <td>1</td>\n",
              "    </tr>\n",
              "    <tr>\n",
              "      <th>7043</th>\n",
              "      <td>172.16.0.1</td>\n",
              "      <td>0.083558</td>\n",
              "      <td>[DoS slowloris, BENIGN]</td>\n",
              "      <td>1</td>\n",
              "    </tr>\n",
              "    <tr>\n",
              "      <th>7689</th>\n",
              "      <td>172.16.0.1</td>\n",
              "      <td>0.079536</td>\n",
              "      <td>[DoS slowloris]</td>\n",
              "      <td>1</td>\n",
              "    </tr>\n",
              "    <tr>\n",
              "      <th>8116</th>\n",
              "      <td>172.16.0.1</td>\n",
              "      <td>0.083587</td>\n",
              "      <td>[DoS slowloris, BENIGN]</td>\n",
              "      <td>1</td>\n",
              "    </tr>\n",
              "    <tr>\n",
              "      <th>8581</th>\n",
              "      <td>172.16.0.1</td>\n",
              "      <td>0.053116</td>\n",
              "      <td>[DoS slowloris, BENIGN]</td>\n",
              "      <td>1</td>\n",
              "    </tr>\n",
              "    <tr>\n",
              "      <th>9177</th>\n",
              "      <td>172.16.0.1</td>\n",
              "      <td>0.083583</td>\n",
              "      <td>[DoS Slowhttptest, BENIGN]</td>\n",
              "      <td>1</td>\n",
              "    </tr>\n",
              "    <tr>\n",
              "      <th>9552</th>\n",
              "      <td>172.16.0.1</td>\n",
              "      <td>0.083573</td>\n",
              "      <td>[DoS Slowhttptest, BENIGN]</td>\n",
              "      <td>1</td>\n",
              "    </tr>\n",
              "    <tr>\n",
              "      <th>10085</th>\n",
              "      <td>172.16.0.1</td>\n",
              "      <td>0.090241</td>\n",
              "      <td>[DoS Slowhttptest, BENIGN]</td>\n",
              "      <td>1</td>\n",
              "    </tr>\n",
              "    <tr>\n",
              "      <th>10856</th>\n",
              "      <td>172.16.0.1</td>\n",
              "      <td>0.090556</td>\n",
              "      <td>[DoS Slowhttptest, BENIGN]</td>\n",
              "      <td>1</td>\n",
              "    </tr>\n",
              "    <tr>\n",
              "      <th>11344</th>\n",
              "      <td>172.16.0.1</td>\n",
              "      <td>0.083565</td>\n",
              "      <td>[DoS Slowhttptest, BENIGN]</td>\n",
              "      <td>1</td>\n",
              "    </tr>\n",
              "    <tr>\n",
              "      <th>11643</th>\n",
              "      <td>172.16.0.1</td>\n",
              "      <td>0.281941</td>\n",
              "      <td>[DoS Hulk, BENIGN]</td>\n",
              "      <td>1</td>\n",
              "    </tr>\n",
              "    <tr>\n",
              "      <th>11848</th>\n",
              "      <td>172.16.0.1</td>\n",
              "      <td>0.279760</td>\n",
              "      <td>[DoS Hulk, BENIGN]</td>\n",
              "      <td>1</td>\n",
              "    </tr>\n",
              "    <tr>\n",
              "      <th>12258</th>\n",
              "      <td>172.16.0.1</td>\n",
              "      <td>0.004149</td>\n",
              "      <td>[DoS Hulk]</td>\n",
              "      <td>1</td>\n",
              "    </tr>\n",
              "    <tr>\n",
              "      <th>12667</th>\n",
              "      <td>172.16.0.1</td>\n",
              "      <td>0.006477</td>\n",
              "      <td>[DoS Hulk]</td>\n",
              "      <td>1</td>\n",
              "    </tr>\n",
              "    <tr>\n",
              "      <th>13590</th>\n",
              "      <td>172.16.0.1</td>\n",
              "      <td>0.000492</td>\n",
              "      <td>[DoS Hulk]</td>\n",
              "      <td>1</td>\n",
              "    </tr>\n",
              "    <tr>\n",
              "      <th>14077</th>\n",
              "      <td>172.16.0.1</td>\n",
              "      <td>0.000255</td>\n",
              "      <td>[DoS Hulk]</td>\n",
              "      <td>1</td>\n",
              "    </tr>\n",
              "    <tr>\n",
              "      <th>14642</th>\n",
              "      <td>172.16.0.1</td>\n",
              "      <td>0.132613</td>\n",
              "      <td>[DoS GoldenEye, BENIGN]</td>\n",
              "      <td>1</td>\n",
              "    </tr>\n",
              "    <tr>\n",
              "      <th>15012</th>\n",
              "      <td>172.16.0.1</td>\n",
              "      <td>0.132557</td>\n",
              "      <td>[DoS GoldenEye, BENIGN]</td>\n",
              "      <td>1</td>\n",
              "    </tr>\n",
              "    <tr>\n",
              "      <th>30241</th>\n",
              "      <td>172.16.0.1</td>\n",
              "      <td>0.196999</td>\n",
              "      <td>[BENIGN, Heartbleed]</td>\n",
              "      <td>1</td>\n",
              "    </tr>\n",
              "    <tr>\n",
              "      <th>30616</th>\n",
              "      <td>172.16.0.1</td>\n",
              "      <td>0.081884</td>\n",
              "      <td>[Heartbleed]</td>\n",
              "      <td>1</td>\n",
              "    </tr>\n",
              "    <tr>\n",
              "      <th>31066</th>\n",
              "      <td>172.16.0.1</td>\n",
              "      <td>0.082424</td>\n",
              "      <td>[Heartbleed]</td>\n",
              "      <td>1</td>\n",
              "    </tr>\n",
              "    <tr>\n",
              "      <th>31583</th>\n",
              "      <td>172.16.0.1</td>\n",
              "      <td>0.124508</td>\n",
              "      <td>[Heartbleed]</td>\n",
              "      <td>1</td>\n",
              "    </tr>\n",
              "    <tr>\n",
              "      <th>31986</th>\n",
              "      <td>172.16.0.1</td>\n",
              "      <td>0.173989</td>\n",
              "      <td>[Heartbleed]</td>\n",
              "      <td>1</td>\n",
              "    </tr>\n",
              "  </tbody>\n",
              "</table>\n",
              "</div>"
            ]
          },
          "metadata": {},
          "execution_count": 56
        }
      ]
    },
    {
      "cell_type": "code",
      "source": [
        "concat_result = pd.concat([\n",
        "    concat_result, result\n",
        "])"
      ],
      "metadata": {
        "id": "kEm2WtaZhhbC"
      },
      "execution_count": 57,
      "outputs": []
    },
    {
      "cell_type": "code",
      "source": [
        "y_true = result['Num_Label'].values\n",
        "loss = result['loss'].values"
      ],
      "metadata": {
        "id": "KX8lLqBOIlSk"
      },
      "execution_count": 58,
      "outputs": []
    },
    {
      "cell_type": "code",
      "source": [
        "wednes_fp, wednes_tp, _ = roc_curve(y_true, loss)\n",
        "roc_auc_score(y_true, loss)"
      ],
      "metadata": {
        "id": "f5_QUi31IlSk",
        "colab": {
          "base_uri": "https://localhost:8080/",
          "height": 0
        },
        "outputId": "5dc93400-91b8-48d5-c4a9-adfae3920d20"
      },
      "execution_count": 59,
      "outputs": [
        {
          "output_type": "execute_result",
          "data": {
            "text/plain": [
              "0.9600625770838537"
            ]
          },
          "metadata": {},
          "execution_count": 59
        }
      ]
    },
    {
      "cell_type": "code",
      "source": [
        "theta = best_f1(y_true, loss)"
      ],
      "metadata": {
        "id": "jhCSgsrDIlSk",
        "colab": {
          "base_uri": "https://localhost:8080/",
          "height": 0
        },
        "outputId": "ea097e32-305a-4798-b05f-098ded357e88"
      },
      "execution_count": 60,
      "outputs": [
        {
          "output_type": "stream",
          "name": "stdout",
          "text": [
            "theta :  0.08340000000000136\n",
            "accuracy :  0.9977014496539115\n",
            "recall :  0.5555555555555556\n",
            "precision:  0.16483516483516483\n",
            "f1-score :  0.25423728813559326\n"
          ]
        }
      ]
    },
    {
      "cell_type": "code",
      "source": [
        "_, axs = plt.subplots(2,1, figsize=(22,14))\n",
        "titles = ['benign', 'attack']\n",
        "\n",
        "for i in range(2):\n",
        "    axs[i].hist(result[result['Num_Label'] == i]['loss'], bins=200, range=(0,0.1))\n",
        "    axs[i].axvline(x=theta, color='r', linestyle='--')\n",
        "    axs[i].set_title(titles[i])\n"
      ],
      "metadata": {
        "id": "A1DEcik4IlSl",
        "colab": {
          "base_uri": "https://localhost:8080/",
          "height": 675
        },
        "outputId": "25ff0192-8f31-41f5-f1a1-92762a9726c5"
      },
      "execution_count": 61,
      "outputs": [
        {
          "output_type": "display_data",
          "data": {
            "text/plain": [
              "<Figure size 1584x1008 with 2 Axes>"
            ],
            "image/png": "[encoded data removed]"
          },
          "metadata": {
            "needs_background": "light"
          }
        }
      ]
    },
    {
      "cell_type": "markdown",
      "source": [
        "## 금요일 \n",
        "- 목요일은 이유를 알 수 없는 에러로 인해 스킵"
      ],
      "metadata": {
        "id": "NWmFu44yJe8w"
      }
    },
    {
      "cell_type": "code",
      "source": [
        "testSet = testSetLoader(files[3])"
      ],
      "metadata": {
        "id": "_w9HUH10JBmG"
      },
      "execution_count": 62,
      "outputs": []
    },
    {
      "cell_type": "code",
      "source": [
        "testX = fpp.transform(testSet)"
      ],
      "metadata": {
        "id": "4FDGTVa0JBmG"
      },
      "execution_count": 63,
      "outputs": []
    },
    {
      "cell_type": "code",
      "source": [
        "loss = test_fn(model, testX)"
      ],
      "metadata": {
        "id": "n3o47y1lJBmG"
      },
      "execution_count": 64,
      "outputs": []
    },
    {
      "cell_type": "code",
      "source": [
        "result = result_fn(testSet, loss)"
      ],
      "metadata": {
        "id": "qInl_y7YJBmG"
      },
      "execution_count": 65,
      "outputs": []
    },
    {
      "cell_type": "code",
      "source": [
        "result[result['Num_Label']==1]"
      ],
      "metadata": {
        "id": "hjqQfJSLJBmG",
        "colab": {
          "base_uri": "https://localhost:8080/",
          "height": 614
        },
        "outputId": "e40eb03e-17c6-4198-f879-bc3e8409e9d4"
      },
      "execution_count": 66,
      "outputs": [
        {
          "output_type": "execute_result",
          "data": {
            "text/plain": [
              "            outer_ip      loss               Label  Num_Label\n",
              "1656      172.16.0.1  0.028892              [DDoS]          1\n",
              "1984      172.16.0.1  0.026374              [DDoS]          1\n",
              "2247      172.16.0.1  0.028387              [DDoS]          1\n",
              "2288   192.168.10.50  0.169590      [BENIGN, DDoS]          1\n",
              "2480      172.16.0.1  0.028997              [DDoS]          1\n",
              "2928      172.16.0.1  0.185326      [DDoS, BENIGN]          1\n",
              "5849      172.16.0.1  0.000046          [PortScan]          1\n",
              "9213      172.16.0.1  0.000087          [PortScan]          1\n",
              "9452      172.16.0.1  0.000257          [PortScan]          1\n",
              "9742      172.16.0.1  0.000255          [PortScan]          1\n",
              "10918     172.16.0.1  0.039318          [PortScan]          1\n",
              "11004     172.16.0.1  0.030067          [PortScan]          1\n",
              "14065     172.16.0.1  0.113771  [PortScan, BENIGN]          1\n",
              "14234     172.16.0.1  0.133714          [PortScan]          1\n",
              "15004     172.16.0.1  0.000388          [PortScan]          1\n",
              "15394     172.16.0.1  0.130069          [PortScan]          1\n",
              "15549     172.16.0.1  0.024745          [PortScan]          1\n",
              "16657     172.16.0.1  0.130083          [PortScan]          1"
            ],
            "text/html": [
              "<div>\n",
              "<style scoped>\n",
              "    .dataframe tbody tr th:only-of-type {\n",
              "        vertical-align: middle;\n",
              "    }\n",
              "\n",
              "    .dataframe tbody tr th {\n",
              "        vertical-align: top;\n",
              "    }\n",
              "\n",
              "    .dataframe thead th {\n",
              "        text-align: right;\n",
              "    }\n",
              "</style>\n",
              "<table border=\"1\" class=\"dataframe\">\n",
              "  <thead>\n",
              "    <tr style=\"text-align: right;\">\n",
              "      <th></th>\n",
              "      <th>outer_ip</th>\n",
              "      <th>loss</th>\n",
              "      <th>Label</th>\n",
              "      <th>Num_Label</th>\n",
              "    </tr>\n",
              "  </thead>\n",
              "  <tbody>\n",
              "    <tr>\n",
              "      <th>1656</th>\n",
              "      <td>172.16.0.1</td>\n",
              "      <td>0.028892</td>\n",
              "      <td>[DDoS]</td>\n",
              "      <td>1</td>\n",
              "    </tr>\n",
              "    <tr>\n",
              "      <th>1984</th>\n",
              "      <td>172.16.0.1</td>\n",
              "      <td>0.026374</td>\n",
              "      <td>[DDoS]</td>\n",
              "      <td>1</td>\n",
              "    </tr>\n",
              "    <tr>\n",
              "      <th>2247</th>\n",
              "      <td>172.16.0.1</td>\n",
              "      <td>0.028387</td>\n",
              "      <td>[DDoS]</td>\n",
              "      <td>1</td>\n",
              "    </tr>\n",
              "    <tr>\n",
              "      <th>2288</th>\n",
              "      <td>192.168.10.50</td>\n",
              "      <td>0.169590</td>\n",
              "      <td>[BENIGN, DDoS]</td>\n",
              "      <td>1</td>\n",
              "    </tr>\n",
              "    <tr>\n",
              "      <th>2480</th>\n",
              "      <td>172.16.0.1</td>\n",
              "      <td>0.028997</td>\n",
              "      <td>[DDoS]</td>\n",
              "      <td>1</td>\n",
              "    </tr>\n",
              "    <tr>\n",
              "      <th>2928</th>\n",
              "      <td>172.16.0.1</td>\n",
              "      <td>0.185326</td>\n",
              "      <td>[DDoS, BENIGN]</td>\n",
              "      <td>1</td>\n",
              "    </tr>\n",
              "    <tr>\n",
              "      <th>5849</th>\n",
              "      <td>172.16.0.1</td>\n",
              "      <td>0.000046</td>\n",
              "      <td>[PortScan]</td>\n",
              "      <td>1</td>\n",
              "    </tr>\n",
              "    <tr>\n",
              "      <th>9213</th>\n",
              "      <td>172.16.0.1</td>\n",
              "      <td>0.000087</td>\n",
              "      <td>[PortScan]</td>\n",
              "      <td>1</td>\n",
              "    </tr>\n",
              "    <tr>\n",
              "      <th>9452</th>\n",
              "      <td>172.16.0.1</td>\n",
              "      <td>0.000257</td>\n",
              "      <td>[PortScan]</td>\n",
              "      <td>1</td>\n",
              "    </tr>\n",
              "    <tr>\n",
              "      <th>9742</th>\n",
              "      <td>172.16.0.1</td>\n",
              "      <td>0.000255</td>\n",
              "      <td>[PortScan]</td>\n",
              "      <td>1</td>\n",
              "    </tr>\n",
              "    <tr>\n",
              "      <th>10918</th>\n",
              "      <td>172.16.0.1</td>\n",
              "      <td>0.039318</td>\n",
              "      <td>[PortScan]</td>\n",
              "      <td>1</td>\n",
              "    </tr>\n",
              "    <tr>\n",
              "      <th>11004</th>\n",
              "      <td>172.16.0.1</td>\n",
              "      <td>0.030067</td>\n",
              "      <td>[PortScan]</td>\n",
              "      <td>1</td>\n",
              "    </tr>\n",
              "    <tr>\n",
              "      <th>14065</th>\n",
              "      <td>172.16.0.1</td>\n",
              "      <td>0.113771</td>\n",
              "      <td>[PortScan, BENIGN]</td>\n",
              "      <td>1</td>\n",
              "    </tr>\n",
              "    <tr>\n",
              "      <th>14234</th>\n",
              "      <td>172.16.0.1</td>\n",
              "      <td>0.133714</td>\n",
              "      <td>[PortScan]</td>\n",
              "      <td>1</td>\n",
              "    </tr>\n",
              "    <tr>\n",
              "      <th>15004</th>\n",
              "      <td>172.16.0.1</td>\n",
              "      <td>0.000388</td>\n",
              "      <td>[PortScan]</td>\n",
              "      <td>1</td>\n",
              "    </tr>\n",
              "    <tr>\n",
              "      <th>15394</th>\n",
              "      <td>172.16.0.1</td>\n",
              "      <td>0.130069</td>\n",
              "      <td>[PortScan]</td>\n",
              "      <td>1</td>\n",
              "    </tr>\n",
              "    <tr>\n",
              "      <th>15549</th>\n",
              "      <td>172.16.0.1</td>\n",
              "      <td>0.024745</td>\n",
              "      <td>[PortScan]</td>\n",
              "      <td>1</td>\n",
              "    </tr>\n",
              "    <tr>\n",
              "      <th>16657</th>\n",
              "      <td>172.16.0.1</td>\n",
              "      <td>0.130083</td>\n",
              "      <td>[PortScan]</td>\n",
              "      <td>1</td>\n",
              "    </tr>\n",
              "  </tbody>\n",
              "</table>\n",
              "</div>"
            ]
          },
          "metadata": {},
          "execution_count": 66
        }
      ]
    },
    {
      "cell_type": "code",
      "source": [
        "concat_result = pd.concat([\n",
        "    concat_result, result\n",
        "])"
      ],
      "metadata": {
        "id": "ciNP4oKthi67"
      },
      "execution_count": 67,
      "outputs": []
    },
    {
      "cell_type": "code",
      "source": [
        "y_true = result['Num_Label'].values\n",
        "loss = result['loss'].values"
      ],
      "metadata": {
        "id": "IPhE7PIGJBmG"
      },
      "execution_count": 68,
      "outputs": []
    },
    {
      "cell_type": "code",
      "source": [
        "fri_fp, fri_tp, _ = roc_curve(y_true, loss)\n",
        "roc_auc_score(y_true, loss)"
      ],
      "metadata": {
        "id": "LWPgbp7oJBmH",
        "colab": {
          "base_uri": "https://localhost:8080/",
          "height": 0
        },
        "outputId": "abb5266e-a756-43d8-9832-8a40e1ad731a"
      },
      "execution_count": 69,
      "outputs": [
        {
          "output_type": "execute_result",
          "data": {
            "text/plain": [
              "0.944342478411879"
            ]
          },
          "metadata": {},
          "execution_count": 69
        }
      ]
    },
    {
      "cell_type": "code",
      "source": [
        "theta = best_f1(y_true, loss)"
      ],
      "metadata": {
        "id": "_QboepSlJBmH",
        "colab": {
          "base_uri": "https://localhost:8080/",
          "height": 0
        },
        "outputId": "11c145fb-afbd-4aed-fa70-5e79771b0004"
      },
      "execution_count": 70,
      "outputs": [
        {
          "output_type": "stream",
          "name": "stdout",
          "text": [
            "theta :  0.12760000000000227\n",
            "accuracy :  0.9985675815046123\n",
            "recall :  0.2777777777777778\n",
            "precision:  0.29411764705882354\n",
            "f1-score :  0.28571428571428575\n"
          ]
        }
      ]
    },
    {
      "cell_type": "code",
      "source": [
        "_, axs = plt.subplots(2,1, figsize=(22,14))\n",
        "titles = ['benign', 'attack']\n",
        "\n",
        "for i in range(2):\n",
        "    axs[i].hist(result[result['Num_Label'] == i]['loss'], bins=200, range=(0,0.1))\n",
        "    axs[i].axvline(x=theta, color='r', linestyle='--')\n",
        "    axs[i].set_title(titles[i])\n"
      ],
      "metadata": {
        "id": "-55ovTJlJBmH",
        "colab": {
          "base_uri": "https://localhost:8080/",
          "height": 675
        },
        "outputId": "3f6cface-b909-4209-82a5-ae4df8882f8a"
      },
      "execution_count": 71,
      "outputs": [
        {
          "output_type": "display_data",
          "data": {
            "text/plain": [
              "<Figure size 1584x1008 with 2 Axes>"
            ],
            "image/png": "[encoded data removed]"
          },
          "metadata": {
            "needs_background": "light"
          }
        }
      ]
    },
    {
      "cell_type": "markdown",
      "source": [
        "## 금요일 BOT"
      ],
      "metadata": {
        "id": "Cxvtbbd9KMyz"
      }
    },
    {
      "cell_type": "code",
      "source": [
        "testSet = testSetLoader(files[4])"
      ],
      "metadata": {
        "id": "IIuxOv3IKQmJ"
      },
      "execution_count": 72,
      "outputs": []
    },
    {
      "cell_type": "code",
      "source": [
        "testX = fpp.transform(testSet)"
      ],
      "metadata": {
        "id": "q41OYsXmKQmJ"
      },
      "execution_count": 73,
      "outputs": []
    },
    {
      "cell_type": "code",
      "source": [
        "loss = test_fn(model, testX)"
      ],
      "metadata": {
        "id": "ycNG6t4jKQmJ"
      },
      "execution_count": 74,
      "outputs": []
    },
    {
      "cell_type": "code",
      "source": [
        "result = result_fn(testSet, loss)"
      ],
      "metadata": {
        "id": "Y54pmX2EKQmJ"
      },
      "execution_count": 75,
      "outputs": []
    },
    {
      "cell_type": "code",
      "source": [
        "result[result['Num_Label']==1]"
      ],
      "metadata": {
        "id": "Y0L1XkOjKQmJ",
        "colab": {
          "base_uri": "https://localhost:8080/",
          "height": 1000
        },
        "outputId": "ea607178-679e-404e-a350-3963a90054bc"
      },
      "execution_count": 76,
      "outputs": [
        {
          "output_type": "execute_result",
          "data": {
            "text/plain": [
              "             outer_ip      loss  Label  Num_Label\n",
              "2471       52.6.13.28  0.000100  [Bot]          1\n",
              "2511       52.6.13.28  0.000033  [Bot]          1\n",
              "5408   205.174.165.73  0.000085  [Bot]          1\n",
              "5535   205.174.165.73  0.000178  [Bot]          1\n",
              "6068   205.174.165.73  0.000148  [Bot]          1\n",
              "6531   205.174.165.73  0.000160  [Bot]          1\n",
              "6963   205.174.165.73  0.000164  [Bot]          1\n",
              "7590   205.174.165.73  0.102754  [Bot]          1\n",
              "8265   205.174.165.73  0.041861  [Bot]          1\n",
              "8913   205.174.165.73  0.041854  [Bot]          1\n",
              "9302   205.174.165.73  0.102822  [Bot]          1\n",
              "9584   205.174.165.73  0.102814  [Bot]          1\n",
              "9781   205.174.165.73  0.000187  [Bot]          1\n",
              "10108  205.174.165.73  0.000167  [Bot]          1\n",
              "10348  205.174.165.73  0.000446  [Bot]          1\n",
              "10768  205.174.165.73  0.054006  [Bot]          1\n",
              "11195  205.174.165.73  0.054006  [Bot]          1\n",
              "11566  205.174.165.73  0.054203  [Bot]          1\n",
              "12077  205.174.165.73  0.054144  [Bot]          1\n",
              "12178    52.7.235.158  0.000025  [Bot]          1\n",
              "12772  205.174.165.73  0.054203  [Bot]          1\n",
              "13301  205.174.165.73  0.054208  [Bot]          1\n",
              "13803  205.174.165.73  0.054203  [Bot]          1\n",
              "14106  205.174.165.73  0.054187  [Bot]          1\n",
              "14518  205.174.165.73  0.054196  [Bot]          1\n",
              "15027  205.174.165.73  0.054196  [Bot]          1\n",
              "15300  205.174.165.73  0.054187  [Bot]          1\n",
              "15798  205.174.165.73  0.054175  [Bot]          1\n",
              "15980  205.174.165.73  0.054160  [Bot]          1\n",
              "16058  205.174.165.73  0.054208  [Bot]          1\n",
              "16473  205.174.165.73  0.054196  [Bot]          1\n",
              "16763  205.174.165.73  0.054208  [Bot]          1\n",
              "16857  205.174.165.73  0.054196  [Bot]          1\n",
              "16974  205.174.165.73  0.054187  [Bot]          1\n",
              "17039  205.174.165.73  0.054187  [Bot]          1\n",
              "17124  205.174.165.73  0.054196  [Bot]          1\n",
              "17181  205.174.165.73  0.054203  [Bot]          1\n",
              "17221  205.174.165.73  0.054203  [Bot]          1\n",
              "17350  205.174.165.73  0.054203  [Bot]          1"
            ],
            "text/html": [
              "<div>\n",
              "<style scoped>\n",
              "    .dataframe tbody tr th:only-of-type {\n",
              "        vertical-align: middle;\n",
              "    }\n",
              "\n",
              "    .dataframe tbody tr th {\n",
              "        vertical-align: top;\n",
              "    }\n",
              "\n",
              "    .dataframe thead th {\n",
              "        text-align: right;\n",
              "    }\n",
              "</style>\n",
              "<table border=\"1\" class=\"dataframe\">\n",
              "  <thead>\n",
              "    <tr style=\"text-align: right;\">\n",
              "      <th></th>\n",
              "      <th>outer_ip</th>\n",
              "      <th>loss</th>\n",
              "      <th>Label</th>\n",
              "      <th>Num_Label</th>\n",
              "    </tr>\n",
              "  </thead>\n",
              "  <tbody>\n",
              "    <tr>\n",
              "      <th>2471</th>\n",
              "      <td>52.6.13.28</td>\n",
              "      <td>0.000100</td>\n",
              "      <td>[Bot]</td>\n",
              "      <td>1</td>\n",
              "    </tr>\n",
              "    <tr>\n",
              "      <th>2511</th>\n",
              "      <td>52.6.13.28</td>\n",
              "      <td>0.000033</td>\n",
              "      <td>[Bot]</td>\n",
              "      <td>1</td>\n",
              "    </tr>\n",
              "    <tr>\n",
              "      <th>5408</th>\n",
              "      <td>205.174.165.73</td>\n",
              "      <td>0.000085</td>\n",
              "      <td>[Bot]</td>\n",
              "      <td>1</td>\n",
              "    </tr>\n",
              "    <tr>\n",
              "      <th>5535</th>\n",
              "      <td>205.174.165.73</td>\n",
              "      <td>0.000178</td>\n",
              "      <td>[Bot]</td>\n",
              "      <td>1</td>\n",
              "    </tr>\n",
              "    <tr>\n",
              "      <th>6068</th>\n",
              "      <td>205.174.165.73</td>\n",
              "      <td>0.000148</td>\n",
              "      <td>[Bot]</td>\n",
              "      <td>1</td>\n",
              "    </tr>\n",
              "    <tr>\n",
              "      <th>6531</th>\n",
              "      <td>205.174.165.73</td>\n",
              "      <td>0.000160</td>\n",
              "      <td>[Bot]</td>\n",
              "      <td>1</td>\n",
              "    </tr>\n",
              "    <tr>\n",
              "      <th>6963</th>\n",
              "      <td>205.174.165.73</td>\n",
              "      <td>0.000164</td>\n",
              "      <td>[Bot]</td>\n",
              "      <td>1</td>\n",
              "    </tr>\n",
              "    <tr>\n",
              "      <th>7590</th>\n",
              "      <td>205.174.165.73</td>\n",
              "      <td>0.102754</td>\n",
              "      <td>[Bot]</td>\n",
              "      <td>1</td>\n",
              "    </tr>\n",
              "    <tr>\n",
              "      <th>8265</th>\n",
              "      <td>205.174.165.73</td>\n",
              "      <td>0.041861</td>\n",
              "      <td>[Bot]</td>\n",
              "      <td>1</td>\n",
              "    </tr>\n",
              "    <tr>\n",
              "      <th>8913</th>\n",
              "      <td>205.174.165.73</td>\n",
              "      <td>0.041854</td>\n",
              "      <td>[Bot]</td>\n",
              "      <td>1</td>\n",
              "    </tr>\n",
              "    <tr>\n",
              "      <th>9302</th>\n",
              "      <td>205.174.165.73</td>\n",
              "      <td>0.102822</td>\n",
              "      <td>[Bot]</td>\n",
              "      <td>1</td>\n",
              "    </tr>\n",
              "    <tr>\n",
              "      <th>9584</th>\n",
              "      <td>205.174.165.73</td>\n",
              "      <td>0.102814</td>\n",
              "      <td>[Bot]</td>\n",
              "      <td>1</td>\n",
              "    </tr>\n",
              "    <tr>\n",
              "      <th>9781</th>\n",
              "      <td>205.174.165.73</td>\n",
              "      <td>0.000187</td>\n",
              "      <td>[Bot]</td>\n",
              "      <td>1</td>\n",
              "    </tr>\n",
              "    <tr>\n",
              "      <th>10108</th>\n",
              "      <td>205.174.165.73</td>\n",
              "      <td>0.000167</td>\n",
              "      <td>[Bot]</td>\n",
              "      <td>1</td>\n",
              "    </tr>\n",
              "    <tr>\n",
              "      <th>10348</th>\n",
              "      <td>205.174.165.73</td>\n",
              "      <td>0.000446</td>\n",
              "      <td>[Bot]</td>\n",
              "      <td>1</td>\n",
              "    </tr>\n",
              "    <tr>\n",
              "      <th>10768</th>\n",
              "      <td>205.174.165.73</td>\n",
              "      <td>0.054006</td>\n",
              "      <td>[Bot]</td>\n",
              "      <td>1</td>\n",
              "    </tr>\n",
              "    <tr>\n",
              "      <th>11195</th>\n",
              "      <td>205.174.165.73</td>\n",
              "      <td>0.054006</td>\n",
              "      <td>[Bot]</td>\n",
              "      <td>1</td>\n",
              "    </tr>\n",
              "    <tr>\n",
              "      <th>11566</th>\n",
              "      <td>205.174.165.73</td>\n",
              "      <td>0.054203</td>\n",
              "      <td>[Bot]</td>\n",
              "      <td>1</td>\n",
              "    </tr>\n",
              "    <tr>\n",
              "      <th>12077</th>\n",
              "      <td>205.174.165.73</td>\n",
              "      <td>0.054144</td>\n",
              "      <td>[Bot]</td>\n",
              "      <td>1</td>\n",
              "    </tr>\n",
              "    <tr>\n",
              "      <th>12178</th>\n",
              "      <td>52.7.235.158</td>\n",
              "      <td>0.000025</td>\n",
              "      <td>[Bot]</td>\n",
              "      <td>1</td>\n",
              "    </tr>\n",
              "    <tr>\n",
              "      <th>12772</th>\n",
              "      <td>205.174.165.73</td>\n",
              "      <td>0.054203</td>\n",
              "      <td>[Bot]</td>\n",
              "      <td>1</td>\n",
              "    </tr>\n",
              "    <tr>\n",
              "      <th>13301</th>\n",
              "      <td>205.174.165.73</td>\n",
              "      <td>0.054208</td>\n",
              "      <td>[Bot]</td>\n",
              "      <td>1</td>\n",
              "    </tr>\n",
              "    <tr>\n",
              "      <th>13803</th>\n",
              "      <td>205.174.165.73</td>\n",
              "      <td>0.054203</td>\n",
              "      <td>[Bot]</td>\n",
              "      <td>1</td>\n",
              "    </tr>\n",
              "    <tr>\n",
              "      <th>14106</th>\n",
              "      <td>205.174.165.73</td>\n",
              "      <td>0.054187</td>\n",
              "      <td>[Bot]</td>\n",
              "      <td>1</td>\n",
              "    </tr>\n",
              "    <tr>\n",
              "      <th>14518</th>\n",
              "      <td>205.174.165.73</td>\n",
              "      <td>0.054196</td>\n",
              "      <td>[Bot]</td>\n",
              "      <td>1</td>\n",
              "    </tr>\n",
              "    <tr>\n",
              "      <th>15027</th>\n",
              "      <td>205.174.165.73</td>\n",
              "      <td>0.054196</td>\n",
              "      <td>[Bot]</td>\n",
              "      <td>1</td>\n",
              "    </tr>\n",
              "    <tr>\n",
              "      <th>15300</th>\n",
              "      <td>205.174.165.73</td>\n",
              "      <td>0.054187</td>\n",
              "      <td>[Bot]</td>\n",
              "      <td>1</td>\n",
              "    </tr>\n",
              "    <tr>\n",
              "      <th>15798</th>\n",
              "      <td>205.174.165.73</td>\n",
              "      <td>0.054175</td>\n",
              "      <td>[Bot]</td>\n",
              "      <td>1</td>\n",
              "    </tr>\n",
              "    <tr>\n",
              "      <th>15980</th>\n",
              "      <td>205.174.165.73</td>\n",
              "      <td>0.054160</td>\n",
              "      <td>[Bot]</td>\n",
              "      <td>1</td>\n",
              "    </tr>\n",
              "    <tr>\n",
              "      <th>16058</th>\n",
              "      <td>205.174.165.73</td>\n",
              "      <td>0.054208</td>\n",
              "      <td>[Bot]</td>\n",
              "      <td>1</td>\n",
              "    </tr>\n",
              "    <tr>\n",
              "      <th>16473</th>\n",
              "      <td>205.174.165.73</td>\n",
              "      <td>0.054196</td>\n",
              "      <td>[Bot]</td>\n",
              "      <td>1</td>\n",
              "    </tr>\n",
              "    <tr>\n",
              "      <th>16763</th>\n",
              "      <td>205.174.165.73</td>\n",
              "      <td>0.054208</td>\n",
              "      <td>[Bot]</td>\n",
              "      <td>1</td>\n",
              "    </tr>\n",
              "    <tr>\n",
              "      <th>16857</th>\n",
              "      <td>205.174.165.73</td>\n",
              "      <td>0.054196</td>\n",
              "      <td>[Bot]</td>\n",
              "      <td>1</td>\n",
              "    </tr>\n",
              "    <tr>\n",
              "      <th>16974</th>\n",
              "      <td>205.174.165.73</td>\n",
              "      <td>0.054187</td>\n",
              "      <td>[Bot]</td>\n",
              "      <td>1</td>\n",
              "    </tr>\n",
              "    <tr>\n",
              "      <th>17039</th>\n",
              "      <td>205.174.165.73</td>\n",
              "      <td>0.054187</td>\n",
              "      <td>[Bot]</td>\n",
              "      <td>1</td>\n",
              "    </tr>\n",
              "    <tr>\n",
              "      <th>17124</th>\n",
              "      <td>205.174.165.73</td>\n",
              "      <td>0.054196</td>\n",
              "      <td>[Bot]</td>\n",
              "      <td>1</td>\n",
              "    </tr>\n",
              "    <tr>\n",
              "      <th>17181</th>\n",
              "      <td>205.174.165.73</td>\n",
              "      <td>0.054203</td>\n",
              "      <td>[Bot]</td>\n",
              "      <td>1</td>\n",
              "    </tr>\n",
              "    <tr>\n",
              "      <th>17221</th>\n",
              "      <td>205.174.165.73</td>\n",
              "      <td>0.054203</td>\n",
              "      <td>[Bot]</td>\n",
              "      <td>1</td>\n",
              "    </tr>\n",
              "    <tr>\n",
              "      <th>17350</th>\n",
              "      <td>205.174.165.73</td>\n",
              "      <td>0.054203</td>\n",
              "      <td>[Bot]</td>\n",
              "      <td>1</td>\n",
              "    </tr>\n",
              "  </tbody>\n",
              "</table>\n",
              "</div>"
            ]
          },
          "metadata": {},
          "execution_count": 76
        }
      ]
    },
    {
      "cell_type": "code",
      "source": [
        "concat_result = pd.concat([\n",
        "    concat_result, result\n",
        "])"
      ],
      "metadata": {
        "id": "mKpYNjtshlkB"
      },
      "execution_count": 77,
      "outputs": []
    },
    {
      "cell_type": "code",
      "source": [
        "y_true = result['Num_Label'].values\n",
        "loss = result['loss'].values"
      ],
      "metadata": {
        "id": "InqStT-sKQmJ"
      },
      "execution_count": 78,
      "outputs": []
    },
    {
      "cell_type": "code",
      "source": [
        "bot_fp, bot_tp, _ = roc_curve(y_true, loss)\n",
        "roc_auc_score(y_true, loss)"
      ],
      "metadata": {
        "id": "in1gB3wxKQmK",
        "colab": {
          "base_uri": "https://localhost:8080/",
          "height": 0
        },
        "outputId": "f6231004-7aa5-4eec-bde6-c1cd090377fa"
      },
      "execution_count": 79,
      "outputs": [
        {
          "output_type": "execute_result",
          "data": {
            "text/plain": [
              "0.9504047804901126"
            ]
          },
          "metadata": {},
          "execution_count": 79
        }
      ]
    },
    {
      "cell_type": "code",
      "source": [
        "theta = best_f1(y_true, loss)"
      ],
      "metadata": {
        "id": "sbccFhwMKQmK",
        "colab": {
          "base_uri": "https://localhost:8080/",
          "height": 0
        },
        "outputId": "9c101869-876f-4b11-becf-43f685dc4d6e"
      },
      "execution_count": 80,
      "outputs": [
        {
          "output_type": "stream",
          "name": "stdout",
          "text": [
            "theta :  0.05190000000000046\n",
            "accuracy :  0.992981648737272\n",
            "recall :  0.6666666666666666\n",
            "precision:  0.1925925925925926\n",
            "f1-score :  0.29885057471264365\n"
          ]
        }
      ]
    },
    {
      "cell_type": "code",
      "source": [
        "_, axs = plt.subplots(2,1, figsize=(22,14))\n",
        "titles = ['benign', 'attack']\n",
        "\n",
        "for i in range(2):\n",
        "    axs[i].hist(result[result['Num_Label'] == i]['loss'], bins=200, range=(0,0.1))\n",
        "    axs[i].axvline(x=theta, color='r', linestyle='--')\n",
        "    axs[i].set_title(titles[i])\n"
      ],
      "metadata": {
        "id": "gO-MEiUrKQmK",
        "colab": {
          "base_uri": "https://localhost:8080/",
          "height": 675
        },
        "outputId": "db00c611-ee07-4e66-9121-123ed4e59aa8"
      },
      "execution_count": 81,
      "outputs": [
        {
          "output_type": "display_data",
          "data": {
            "text/plain": [
              "<Figure size 1584x1008 with 2 Axes>"
            ],
            "image/png": "[encoded data removed]"
          },
          "metadata": {
            "needs_background": "light"
          }
        }
      ]
    },
    {
      "cell_type": "markdown",
      "source": [
        "## ROC 곡선 그리기"
      ],
      "metadata": {
        "id": "piVV2qQDQPyL"
      }
    },
    {
      "cell_type": "code",
      "source": [
        "plt.figure(figsize=(22,14))\n",
        "\n",
        "plt.plot(tues_fp, tues_tp, color='red', label='tuesday')\n",
        "plt.plot(wednes_fp, wednes_tp, color='blue', label='wednesday')\n",
        "plt.plot(fri_fp, fri_tp, color='green', label='friday')\n",
        "plt.plot(bot_fp, bot_tp, color='pink', label='Bot-attack')\n",
        "plt.plot([0, 1], [0, 1], color='black', linestyle='--')\n",
        "plt.xlabel('False Positive Rate')\n",
        "plt.ylabel('True Positive Rate')\n",
        "plt.title('IPOD_PDF')\n",
        "plt.legend()\n",
        "plt.show()"
      ],
      "metadata": {
        "id": "ZjA1ktZhKMSs",
        "colab": {
          "base_uri": "https://localhost:8080/",
          "height": 687
        },
        "outputId": "c2bfdda1-92be-416c-d026-5e1a998298f6"
      },
      "execution_count": 82,
      "outputs": [
        {
          "output_type": "display_data",
          "data": {
            "text/plain": [
              "<Figure size 1584x1008 with 1 Axes>"
            ],
            "image/png": "[encoded data removed]"
          },
          "metadata": {
            "needs_background": "light"
          }
        }
      ]
    },
    {
      "cell_type": "code",
      "source": [
        "concat_result[concat_result['Num_Label']==1].describe()"
      ],
      "metadata": {
        "id": "Z7o-hnC-QoxV",
        "colab": {
          "base_uri": "https://localhost:8080/",
          "height": 300
        },
        "outputId": "41f763f5-a02f-4075-fdf1-bfdf72d301a8"
      },
      "execution_count": 83,
      "outputs": [
        {
          "output_type": "execute_result",
          "data": {
            "text/plain": [
              "             loss\n",
              "count  113.000000\n",
              "mean     0.047336\n",
              "std      0.057133\n",
              "min      0.000025\n",
              "25%      0.001737\n",
              "50%      0.039318\n",
              "75%      0.073007\n",
              "max      0.281941"
            ],
            "text/html": [
              "<div>\n",
              "<style scoped>\n",
              "    .dataframe tbody tr th:only-of-type {\n",
              "        vertical-align: middle;\n",
              "    }\n",
              "\n",
              "    .dataframe tbody tr th {\n",
              "        vertical-align: top;\n",
              "    }\n",
              "\n",
              "    .dataframe thead th {\n",
              "        text-align: right;\n",
              "    }\n",
              "</style>\n",
              "<table border=\"1\" class=\"dataframe\">\n",
              "  <thead>\n",
              "    <tr style=\"text-align: right;\">\n",
              "      <th></th>\n",
              "      <th>loss</th>\n",
              "    </tr>\n",
              "  </thead>\n",
              "  <tbody>\n",
              "    <tr>\n",
              "      <th>count</th>\n",
              "      <td>113.000000</td>\n",
              "    </tr>\n",
              "    <tr>\n",
              "      <th>mean</th>\n",
              "      <td>0.047336</td>\n",
              "    </tr>\n",
              "    <tr>\n",
              "      <th>std</th>\n",
              "      <td>0.057133</td>\n",
              "    </tr>\n",
              "    <tr>\n",
              "      <th>min</th>\n",
              "      <td>0.000025</td>\n",
              "    </tr>\n",
              "    <tr>\n",
              "      <th>25%</th>\n",
              "      <td>0.001737</td>\n",
              "    </tr>\n",
              "    <tr>\n",
              "      <th>50%</th>\n",
              "      <td>0.039318</td>\n",
              "    </tr>\n",
              "    <tr>\n",
              "      <th>75%</th>\n",
              "      <td>0.073007</td>\n",
              "    </tr>\n",
              "    <tr>\n",
              "      <th>max</th>\n",
              "      <td>0.281941</td>\n",
              "    </tr>\n",
              "  </tbody>\n",
              "</table>\n",
              "</div>"
            ]
          },
          "metadata": {},
          "execution_count": 83
        }
      ]
    },
    {
      "cell_type": "code",
      "source": [
        "y_true = concat_result['Num_Label'].values\n",
        "y_true = y_true.astype(np.int64)\n",
        "loss = concat_result['loss'].values"
      ],
      "metadata": {
        "id": "0cHJPfDEhuQj"
      },
      "execution_count": 84,
      "outputs": []
    },
    {
      "cell_type": "code",
      "source": [
        "y_true"
      ],
      "metadata": {
        "id": "jOvRxr1spblT",
        "colab": {
          "base_uri": "https://localhost:8080/",
          "height": 0
        },
        "outputId": "1b6844a9-d14c-4a2d-fe41-c222ceeef2ab"
      },
      "execution_count": 85,
      "outputs": [
        {
          "output_type": "execute_result",
          "data": {
            "text/plain": [
              "array([0, 0, 0, ..., 0, 0, 0], dtype=int64)"
            ]
          },
          "metadata": {},
          "execution_count": 85
        }
      ]
    },
    {
      "cell_type": "code",
      "source": [
        "roc_auc_score(y_true, loss)"
      ],
      "metadata": {
        "id": "FjiCEoP4huQk",
        "colab": {
          "base_uri": "https://localhost:8080/",
          "height": 0
        },
        "outputId": "768f5dd4-2566-481f-8c90-806d9264b282"
      },
      "execution_count": 86,
      "outputs": [
        {
          "output_type": "execute_result",
          "data": {
            "text/plain": [
              "0.9437347091878667"
            ]
          },
          "metadata": {},
          "execution_count": 86
        }
      ]
    },
    {
      "cell_type": "code",
      "source": [
        "theta = best_f1(y_true, loss)"
      ],
      "metadata": {
        "id": "2IjkXZbjhuQk",
        "colab": {
          "base_uri": "https://localhost:8080/",
          "height": 0
        },
        "outputId": "badb4f26-6210-438e-fdd6-05bc510c66a8"
      },
      "execution_count": 87,
      "outputs": [
        {
          "output_type": "stream",
          "name": "stdout",
          "text": [
            "theta :  0.08340000000000136\n",
            "accuracy :  0.9972310375518056\n",
            "recall :  0.22123893805309736\n",
            "precision:  0.10204081632653061\n",
            "f1-score :  0.13966480446927373\n"
          ]
        }
      ]
    },
    {
      "cell_type": "code",
      "source": [
        "_, axs = plt.subplots(2,1, figsize=(22,14))\n",
        "titles = ['benign', 'attack']\n",
        "\n",
        "for i in range(2):\n",
        "    axs[i].hist(concat_result[concat_result['Num_Label'] == i]['loss'], bins=200, range=(0,0.1))\n",
        "    axs[i].axvline(x=theta, color='r', linestyle='--')\n",
        "    axs[i].set_title(titles[i])\n"
      ],
      "metadata": {
        "id": "3oXwrTCHq3NL",
        "colab": {
          "base_uri": "https://localhost:8080/",
          "height": 825
        },
        "outputId": "8e6cf7ec-ac17-43d4-c26e-8fb609dd6511"
      },
      "execution_count": 88,
      "outputs": [
        {
          "output_type": "display_data",
          "data": {
            "text/plain": [
              "<Figure size 1584x1008 with 2 Axes>"
            ],
            "image/png": "[encoded data removed]"
          },
          "metadata": {
            "needs_background": "light"
          }
        }
      ]
    }
  ]
}