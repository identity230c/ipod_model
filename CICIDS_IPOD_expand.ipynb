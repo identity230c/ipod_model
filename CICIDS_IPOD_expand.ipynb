{
  "nbformat": 4,
  "nbformat_minor": 0,
  "metadata": {
    "colab": {
      "provenance": []
    },
    "kernelspec": {
      "name": "python3",
      "display_name": "Python 3"
    },
    "language_info": {
      "name": "python"
    },
    "widgets": {
      "application/vnd.jupyter.widget-state+json": {
        "3991a342dd2f48548aabc6f1d24dd5c4": {
          "model_module": "@jupyter-widgets/controls",
          "model_name": "HBoxModel",
          "model_module_version": "1.5.0",
          "state": {
            "_dom_classes": [],
            "_model_module": "@jupyter-widgets/controls",
            "_model_module_version": "1.5.0",
            "_model_name": "HBoxModel",
            "_view_count": null,
            "_view_module": "@jupyter-widgets/controls",
            "_view_module_version": "1.5.0",
            "_view_name": "HBoxView",
            "box_style": "",
            "children": [
              "IPY_MODEL_4f4469ed0e70496692b7b20205842043",
              "IPY_MODEL_b3397ae9edde452e8ca08d634845226d",
              "IPY_MODEL_8ff3211d7c59417597cfbf774418ba57"
            ],
            "layout": "IPY_MODEL_74ee5f23a31c471a85cf9c908f0fe16b"
          }
        },
        "4f4469ed0e70496692b7b20205842043": {
          "model_module": "@jupyter-widgets/controls",
          "model_name": "HTMLModel",
          "model_module_version": "1.5.0",
          "state": {
            "_dom_classes": [],
            "_model_module": "@jupyter-widgets/controls",
            "_model_module_version": "1.5.0",
            "_model_name": "HTMLModel",
            "_view_count": null,
            "_view_module": "@jupyter-widgets/controls",
            "_view_module_version": "1.5.0",
            "_view_name": "HTMLView",
            "description": "",
            "description_tooltip": null,
            "layout": "IPY_MODEL_e5233c4a73834d84bb505a873aa4841c",
            "placeholder": "​",
            "style": "IPY_MODEL_e27bc4ca23a04e10b841864e48d95234",
            "value": "100%"
          }
        },
        "b3397ae9edde452e8ca08d634845226d": {
          "model_module": "@jupyter-widgets/controls",
          "model_name": "FloatProgressModel",
          "model_module_version": "1.5.0",
          "state": {
            "_dom_classes": [],
            "_model_module": "@jupyter-widgets/controls",
            "_model_module_version": "1.5.0",
            "_model_name": "FloatProgressModel",
            "_view_count": null,
            "_view_module": "@jupyter-widgets/controls",
            "_view_module_version": "1.5.0",
            "_view_name": "ProgressView",
            "bar_style": "success",
            "description": "",
            "description_tooltip": null,
            "layout": "IPY_MODEL_ebfa2c78f0884f29b455749eb0fc1800",
            "max": 300,
            "min": 0,
            "orientation": "horizontal",
            "style": "IPY_MODEL_b07105a3988a4fd8abf9d6ee60346d13",
            "value": 300
          }
        },
        "8ff3211d7c59417597cfbf774418ba57": {
          "model_module": "@jupyter-widgets/controls",
          "model_name": "HTMLModel",
          "model_module_version": "1.5.0",
          "state": {
            "_dom_classes": [],
            "_model_module": "@jupyter-widgets/controls",
            "_model_module_version": "1.5.0",
            "_model_name": "HTMLModel",
            "_view_count": null,
            "_view_module": "@jupyter-widgets/controls",
            "_view_module_version": "1.5.0",
            "_view_name": "HTMLView",
            "description": "",
            "description_tooltip": null,
            "layout": "IPY_MODEL_96207c68fd014064a9eac92d26faf34a",
            "placeholder": "​",
            "style": "IPY_MODEL_ce5a304035654d509bea1a88473ddbc7",
            "value": " 300/300 [08:51&lt;00:00,  1.90s/it, ae_loss=6.154556495487776e-07]"
          }
        },
        "74ee5f23a31c471a85cf9c908f0fe16b": {
          "model_module": "@jupyter-widgets/base",
          "model_name": "LayoutModel",
          "model_module_version": "1.2.0",
          "state": {
            "_model_module": "@jupyter-widgets/base",
            "_model_module_version": "1.2.0",
            "_model_name": "LayoutModel",
            "_view_count": null,
            "_view_module": "@jupyter-widgets/base",
            "_view_module_version": "1.2.0",
            "_view_name": "LayoutView",
            "align_content": null,
            "align_items": null,
            "align_self": null,
            "border": null,
            "bottom": null,
            "display": null,
            "flex": null,
            "flex_flow": null,
            "grid_area": null,
            "grid_auto_columns": null,
            "grid_auto_flow": null,
            "grid_auto_rows": null,
            "grid_column": null,
            "grid_gap": null,
            "grid_row": null,
            "grid_template_areas": null,
            "grid_template_columns": null,
            "grid_template_rows": null,
            "height": null,
            "justify_content": null,
            "justify_items": null,
            "left": null,
            "margin": null,
            "max_height": null,
            "max_width": null,
            "min_height": null,
            "min_width": null,
            "object_fit": null,
            "object_position": null,
            "order": null,
            "overflow": null,
            "overflow_x": null,
            "overflow_y": null,
            "padding": null,
            "right": null,
            "top": null,
            "visibility": null,
            "width": null
          }
        },
        "e5233c4a73834d84bb505a873aa4841c": {
          "model_module": "@jupyter-widgets/base",
          "model_name": "LayoutModel",
          "model_module_version": "1.2.0",
          "state": {
            "_model_module": "@jupyter-widgets/base",
            "_model_module_version": "1.2.0",
            "_model_name": "LayoutModel",
            "_view_count": null,
            "_view_module": "@jupyter-widgets/base",
            "_view_module_version": "1.2.0",
            "_view_name": "LayoutView",
            "align_content": null,
            "align_items": null,
            "align_self": null,
            "border": null,
            "bottom": null,
            "display": null,
            "flex": null,
            "flex_flow": null,
            "grid_area": null,
            "grid_auto_columns": null,
            "grid_auto_flow": null,
            "grid_auto_rows": null,
            "grid_column": null,
            "grid_gap": null,
            "grid_row": null,
            "grid_template_areas": null,
            "grid_template_columns": null,
            "grid_template_rows": null,
            "height": null,
            "justify_content": null,
            "justify_items": null,
            "left": null,
            "margin": null,
            "max_height": null,
            "max_width": null,
            "min_height": null,
            "min_width": null,
            "object_fit": null,
            "object_position": null,
            "order": null,
            "overflow": null,
            "overflow_x": null,
            "overflow_y": null,
            "padding": null,
            "right": null,
            "top": null,
            "visibility": null,
            "width": null
          }
        },
        "e27bc4ca23a04e10b841864e48d95234": {
          "model_module": "@jupyter-widgets/controls",
          "model_name": "DescriptionStyleModel",
          "model_module_version": "1.5.0",
          "state": {
            "_model_module": "@jupyter-widgets/controls",
            "_model_module_version": "1.5.0",
            "_model_name": "DescriptionStyleModel",
            "_view_count": null,
            "_view_module": "@jupyter-widgets/base",
            "_view_module_version": "1.2.0",
            "_view_name": "StyleView",
            "description_width": ""
          }
        },
        "ebfa2c78f0884f29b455749eb0fc1800": {
          "model_module": "@jupyter-widgets/base",
          "model_name": "LayoutModel",
          "model_module_version": "1.2.0",
          "state": {
            "_model_module": "@jupyter-widgets/base",
            "_model_module_version": "1.2.0",
            "_model_name": "LayoutModel",
            "_view_count": null,
            "_view_module": "@jupyter-widgets/base",
            "_view_module_version": "1.2.0",
            "_view_name": "LayoutView",
            "align_content": null,
            "align_items": null,
            "align_self": null,
            "border": null,
            "bottom": null,
            "display": null,
            "flex": null,
            "flex_flow": null,
            "grid_area": null,
            "grid_auto_columns": null,
            "grid_auto_flow": null,
            "grid_auto_rows": null,
            "grid_column": null,
            "grid_gap": null,
            "grid_row": null,
            "grid_template_areas": null,
            "grid_template_columns": null,
            "grid_template_rows": null,
            "height": null,
            "justify_content": null,
            "justify_items": null,
            "left": null,
            "margin": null,
            "max_height": null,
            "max_width": null,
            "min_height": null,
            "min_width": null,
            "object_fit": null,
            "object_position": null,
            "order": null,
            "overflow": null,
            "overflow_x": null,
            "overflow_y": null,
            "padding": null,
            "right": null,
            "top": null,
            "visibility": null,
            "width": null
          }
        },
        "b07105a3988a4fd8abf9d6ee60346d13": {
          "model_module": "@jupyter-widgets/controls",
          "model_name": "ProgressStyleModel",
          "model_module_version": "1.5.0",
          "state": {
            "_model_module": "@jupyter-widgets/controls",
            "_model_module_version": "1.5.0",
            "_model_name": "ProgressStyleModel",
            "_view_count": null,
            "_view_module": "@jupyter-widgets/base",
            "_view_module_version": "1.2.0",
            "_view_name": "StyleView",
            "bar_color": null,
            "description_width": ""
          }
        },
        "96207c68fd014064a9eac92d26faf34a": {
          "model_module": "@jupyter-widgets/base",
          "model_name": "LayoutModel",
          "model_module_version": "1.2.0",
          "state": {
            "_model_module": "@jupyter-widgets/base",
            "_model_module_version": "1.2.0",
            "_model_name": "LayoutModel",
            "_view_count": null,
            "_view_module": "@jupyter-widgets/base",
            "_view_module_version": "1.2.0",
            "_view_name": "LayoutView",
            "align_content": null,
            "align_items": null,
            "align_self": null,
            "border": null,
            "bottom": null,
            "display": null,
            "flex": null,
            "flex_flow": null,
            "grid_area": null,
            "grid_auto_columns": null,
            "grid_auto_flow": null,
            "grid_auto_rows": null,
            "grid_column": null,
            "grid_gap": null,
            "grid_row": null,
            "grid_template_areas": null,
            "grid_template_columns": null,
            "grid_template_rows": null,
            "height": null,
            "justify_content": null,
            "justify_items": null,
            "left": null,
            "margin": null,
            "max_height": null,
            "max_width": null,
            "min_height": null,
            "min_width": null,
            "object_fit": null,
            "object_position": null,
            "order": null,
            "overflow": null,
            "overflow_x": null,
            "overflow_y": null,
            "padding": null,
            "right": null,
            "top": null,
            "visibility": null,
            "width": null
          }
        },
        "ce5a304035654d509bea1a88473ddbc7": {
          "model_module": "@jupyter-widgets/controls",
          "model_name": "DescriptionStyleModel",
          "model_module_version": "1.5.0",
          "state": {
            "_model_module": "@jupyter-widgets/controls",
            "_model_module_version": "1.5.0",
            "_model_name": "DescriptionStyleModel",
            "_view_count": null,
            "_view_module": "@jupyter-widgets/base",
            "_view_module_version": "1.2.0",
            "_view_name": "StyleView",
            "description_width": ""
          }
        }
      }
    }
  },
  "cells": [
    {
      "cell_type": "code",
      "execution_count": 1,
      "metadata": {
        "id": "iSgw8nzszs6r"
      },
      "outputs": [],
      "source": [
        "import matplotlib.pyplot as plt \n",
        "import numpy as np \n",
        "import os \n",
        "import pandas as pd\n",
        "import seaborn as sns"
      ]
    },
    {
      "cell_type": "code",
      "source": [
        "files = []\n",
        "for dirname, _, filenames in os.walk('./data/raw'):\n",
        "    for filename in filenames:\n",
        "        files.append(os.path.join(dirname, filename))\n",
        "        print(os.path.join(dirname, filename))"
      ],
      "metadata": {
        "colab": {
          "base_uri": "https://localhost:8080/"
        },
        "id": "0A6T1MtMzwD1",
        "outputId": "c49f6bbc-0ddf-4718-a72e-0653b2ca1830"
      },
      "execution_count": 2,
      "outputs": [
        {
          "output_type": "stream",
          "name": "stdout",
          "text": [
            "./data/raw\\Friday-WorkingHours-Afternoon-DDos.pcap_ISCX.csv\n",
            "./data/raw\\Friday-WorkingHours-Afternoon-PortScan.pcap_ISCX.csv\n",
            "./data/raw\\Friday-WorkingHours-Morning.pcap_ISCX.csv\n",
            "./data/raw\\Monday-WorkingHours.pcap_ISCX.csv\n",
            "./data/raw\\Thursday-WorkingHours-Afternoon-Infilteration.pcap_ISCX.csv\n",
            "./data/raw\\Thursday-WorkingHours-Morning-WebAttacks.pcap_ISCX.csv\n",
            "./data/raw\\Tuesday-WorkingHours.pcap_ISCX.csv\n",
            "./data/raw\\Wednesday-workingHours.pcap_ISCX.csv\n"
          ]
        }
      ]
    },
    {
      "cell_type": "code",
      "source": [
        "files = [\n",
        "    [\n",
        "        # Train - 월요일\n",
        "        './data/raw\\Monday-WorkingHours.pcap_ISCX.csv'\n",
        "    ],\n",
        "    [\n",
        "        # Test - 화요일\n",
        "        './data/raw\\Tuesday-WorkingHours.pcap_ISCX.csv'\n",
        "    ],\n",
        "    [\n",
        "        # Test - 수요일\n",
        "        './data/raw\\Wednesday-workingHours.pcap_ISCX.csv'\n",
        "    ], \n",
        "    # 목요일은 에러로 인해 작동 X\n",
        "    [\n",
        "        # Test - 금요일\n",
        "        './data/raw\\Friday-WorkingHours-Afternoon-DDos.pcap_ISCX.csv',\n",
        "        './data/raw\\Friday-WorkingHours-Afternoon-PortScan.pcap_ISCX.csv',\n",
        "    ],\n",
        "    [\n",
        "        # Test - 금요일_Bot\n",
        "        './data/raw\\Friday-WorkingHours-Morning.pcap_ISCX.csv',\n",
        "    ],\n",
        "]"
      ],
      "metadata": {
        "id": "NPhAoRd1ySRN"
      },
      "execution_count": 3,
      "outputs": []
    },
    {
      "cell_type": "markdown",
      "source": [
        "# Train Data"
      ],
      "metadata": {
        "id": "6GPySwkk0eki"
      }
    },
    {
      "cell_type": "code",
      "source": [
        "from Utils import FlowReader"
      ],
      "metadata": {
        "id": "8PyFRVhs3Nyr"
      },
      "execution_count": 4,
      "outputs": []
    },
    {
      "cell_type": "code",
      "source": [
        "trainSet = FlowReader.read_csv(files[0])"
      ],
      "metadata": {
        "id": "q-mbUXCr0Lri"
      },
      "execution_count": 5,
      "outputs": []
    },
    {
      "cell_type": "markdown",
      "source": [
        "## 프로파일링"
      ],
      "metadata": {
        "id": "Em7hFAtP0c5Q"
      }
    },
    {
      "cell_type": "code",
      "source": [
        "from Utils import FlowProfiler"
      ],
      "metadata": {
        "id": "xAS6FIuS0DYl"
      },
      "execution_count": 6,
      "outputs": []
    },
    {
      "cell_type": "code",
      "source": [
        "FlowProfiler.UNIT_TIME=5"
      ],
      "metadata": {
        "id": "GdqRllnfaNLW"
      },
      "execution_count": 7,
      "outputs": []
    },
    {
      "cell_type": "code",
      "source": [
        "trainSet = FlowProfiler.preprocessing(trainSet, mode=\"expand\")"
      ],
      "metadata": {
        "id": "GRmkTpsQ6a1n"
      },
      "execution_count": 8,
      "outputs": []
    },
    {
      "cell_type": "code",
      "source": [
        "trainSet"
      ],
      "metadata": {
        "id": "_JtAoxi-89w6",
        "colab": {
          "base_uri": "https://localhost:8080/",
          "height": 444
        },
        "outputId": "683c6741-0595-44ec-b685-ef1e6b8249f4"
      },
      "execution_count": 9,
      "outputs": [
        {
          "output_type": "execute_result",
          "data": {
            "text/plain": [
              "               Key_IP  Key_inner_port  Key_outer_port  Inner_port_freq  \\\n",
              "0       8.254.250.126           49188              80         1.000000   \n",
              "1       8.253.185.121           49486              80         1.000000   \n",
              "2        192.168.10.9              88            1029         0.359551   \n",
              "3        192.168.10.3             137             389         0.150000   \n",
              "4        69.31.33.224            1057              80         1.000000   \n",
              "...               ...             ...             ...              ...   \n",
              "47692   184.25.56.202            7173              80         1.000000   \n",
              "47693  184.50.238.170           56432              80         1.000000   \n",
              "47694    52.52.86.145           44944             443         1.000000   \n",
              "47695   54.236.177.89           55806             443         1.000000   \n",
              "47696   91.189.89.198             123             123         1.000000   \n",
              "\n",
              "       Outer_port_freq  Pst_per_flows  Card_inner_ip  Card_inner_port  \\\n",
              "0             1.000000       0.250000              1                1   \n",
              "1             1.000000       0.250000              1                1   \n",
              "2             0.033708       0.595506              1               12   \n",
              "3             0.450000       0.400000              4               14   \n",
              "4             1.000000       1.000000              1                1   \n",
              "...                ...            ...            ...              ...   \n",
              "47692         1.000000       1.000000              1                1   \n",
              "47693         1.000000       1.000000              1                1   \n",
              "47694         1.000000       1.000000              1                1   \n",
              "47695         1.000000       1.000000              1                1   \n",
              "47696         1.000000       1.000000              1                1   \n",
              "\n",
              "       Card_outer_port  Sum_inner_pkts  ...  Median_inner_bytes  \\\n",
              "0                    1               0  ...                 0.0   \n",
              "1                    1               0  ...                 0.0   \n",
              "2                   67             534  ...               280.0   \n",
              "3                    7              24  ...                 3.0   \n",
              "4                    1               5  ...                57.5   \n",
              "...                ...             ...  ...                 ...   \n",
              "47692                1               1  ...                 6.0   \n",
              "47693                1               1  ...                 6.0   \n",
              "47694                1              14  ...              2399.0   \n",
              "47695                1              15  ...               776.0   \n",
              "47696                1               1  ...                48.0   \n",
              "\n",
              "       Min_outer_pkts  Max_outer_pkts  Median_outer_pkts  Min_outer_bytes  \\\n",
              "0                   2               2                2.0             12.0   \n",
              "1                   2               2                2.0             12.0   \n",
              "2                   1              45                2.0              6.0   \n",
              "3                   1               6                2.0              6.0   \n",
              "4                   0               4                2.0              0.0   \n",
              "...               ...             ...                ...              ...   \n",
              "47692               1               1                1.0              6.0   \n",
              "47693               1               1                1.0              6.0   \n",
              "47694              13              13               13.0           4752.0   \n",
              "47695              13              13               13.0           5955.0   \n",
              "47696               1               1                1.0             48.0   \n",
              "\n",
              "       Max_outer_bytes  Median_outer_bytes   Min_dur   Max_dur  Median_dur  \n",
              "0                 12.0                12.0         1         4         1.0  \n",
              "1                 12.0                12.0         1         3         1.0  \n",
              "2              12254.0               204.0         3  83068408       740.0  \n",
              "3                300.0                12.0         0   3077743        48.0  \n",
              "4                191.0                95.5         4     40643     20323.5  \n",
              "...                ...                 ...       ...       ...         ...  \n",
              "47692              6.0                 6.0        42        42        42.0  \n",
              "47693              6.0                 6.0        42        42        42.0  \n",
              "47694           4752.0              4752.0  52656124  52656124  52656124.0  \n",
              "47695           5955.0              5955.0  51998174  51998174  51998174.0  \n",
              "47696             48.0                48.0     94265     94265     94265.0  \n",
              "\n",
              "[47697 rows x 40 columns]"
            ],
            "text/html": [
              "<div>\n",
              "<style scoped>\n",
              "    .dataframe tbody tr th:only-of-type {\n",
              "        vertical-align: middle;\n",
              "    }\n",
              "\n",
              "    .dataframe tbody tr th {\n",
              "        vertical-align: top;\n",
              "    }\n",
              "\n",
              "    .dataframe thead th {\n",
              "        text-align: right;\n",
              "    }\n",
              "</style>\n",
              "<table border=\"1\" class=\"dataframe\">\n",
              "  <thead>\n",
              "    <tr style=\"text-align: right;\">\n",
              "      <th></th>\n",
              "      <th>Key_IP</th>\n",
              "      <th>Key_inner_port</th>\n",
              "      <th>Key_outer_port</th>\n",
              "      <th>Inner_port_freq</th>\n",
              "      <th>Outer_port_freq</th>\n",
              "      <th>Pst_per_flows</th>\n",
              "      <th>Card_inner_ip</th>\n",
              "      <th>Card_inner_port</th>\n",
              "      <th>Card_outer_port</th>\n",
              "      <th>Sum_inner_pkts</th>\n",
              "      <th>...</th>\n",
              "      <th>Median_inner_bytes</th>\n",
              "      <th>Min_outer_pkts</th>\n",
              "      <th>Max_outer_pkts</th>\n",
              "      <th>Median_outer_pkts</th>\n",
              "      <th>Min_outer_bytes</th>\n",
              "      <th>Max_outer_bytes</th>\n",
              "      <th>Median_outer_bytes</th>\n",
              "      <th>Min_dur</th>\n",
              "      <th>Max_dur</th>\n",
              "      <th>Median_dur</th>\n",
              "    </tr>\n",
              "  </thead>\n",
              "  <tbody>\n",
              "    <tr>\n",
              "      <th>0</th>\n",
              "      <td>8.254.250.126</td>\n",
              "      <td>49188</td>\n",
              "      <td>80</td>\n",
              "      <td>1.000000</td>\n",
              "      <td>1.000000</td>\n",
              "      <td>0.250000</td>\n",
              "      <td>1</td>\n",
              "      <td>1</td>\n",
              "      <td>1</td>\n",
              "      <td>0</td>\n",
              "      <td>...</td>\n",
              "      <td>0.0</td>\n",
              "      <td>2</td>\n",
              "      <td>2</td>\n",
              "      <td>2.0</td>\n",
              "      <td>12.0</td>\n",
              "      <td>12.0</td>\n",
              "      <td>12.0</td>\n",
              "      <td>1</td>\n",
              "      <td>4</td>\n",
              "      <td>1.0</td>\n",
              "    </tr>\n",
              "    <tr>\n",
              "      <th>1</th>\n",
              "      <td>8.253.185.121</td>\n",
              "      <td>49486</td>\n",
              "      <td>80</td>\n",
              "      <td>1.000000</td>\n",
              "      <td>1.000000</td>\n",
              "      <td>0.250000</td>\n",
              "      <td>1</td>\n",
              "      <td>1</td>\n",
              "      <td>1</td>\n",
              "      <td>0</td>\n",
              "      <td>...</td>\n",
              "      <td>0.0</td>\n",
              "      <td>2</td>\n",
              "      <td>2</td>\n",
              "      <td>2.0</td>\n",
              "      <td>12.0</td>\n",
              "      <td>12.0</td>\n",
              "      <td>12.0</td>\n",
              "      <td>1</td>\n",
              "      <td>3</td>\n",
              "      <td>1.0</td>\n",
              "    </tr>\n",
              "    <tr>\n",
              "      <th>2</th>\n",
              "      <td>192.168.10.9</td>\n",
              "      <td>88</td>\n",
              "      <td>1029</td>\n",
              "      <td>0.359551</td>\n",
              "      <td>0.033708</td>\n",
              "      <td>0.595506</td>\n",
              "      <td>1</td>\n",
              "      <td>12</td>\n",
              "      <td>67</td>\n",
              "      <td>534</td>\n",
              "      <td>...</td>\n",
              "      <td>280.0</td>\n",
              "      <td>1</td>\n",
              "      <td>45</td>\n",
              "      <td>2.0</td>\n",
              "      <td>6.0</td>\n",
              "      <td>12254.0</td>\n",
              "      <td>204.0</td>\n",
              "      <td>3</td>\n",
              "      <td>83068408</td>\n",
              "      <td>740.0</td>\n",
              "    </tr>\n",
              "    <tr>\n",
              "      <th>3</th>\n",
              "      <td>192.168.10.3</td>\n",
              "      <td>137</td>\n",
              "      <td>389</td>\n",
              "      <td>0.150000</td>\n",
              "      <td>0.450000</td>\n",
              "      <td>0.400000</td>\n",
              "      <td>4</td>\n",
              "      <td>14</td>\n",
              "      <td>7</td>\n",
              "      <td>24</td>\n",
              "      <td>...</td>\n",
              "      <td>3.0</td>\n",
              "      <td>1</td>\n",
              "      <td>6</td>\n",
              "      <td>2.0</td>\n",
              "      <td>6.0</td>\n",
              "      <td>300.0</td>\n",
              "      <td>12.0</td>\n",
              "      <td>0</td>\n",
              "      <td>3077743</td>\n",
              "      <td>48.0</td>\n",
              "    </tr>\n",
              "    <tr>\n",
              "      <th>4</th>\n",
              "      <td>69.31.33.224</td>\n",
              "      <td>1057</td>\n",
              "      <td>80</td>\n",
              "      <td>1.000000</td>\n",
              "      <td>1.000000</td>\n",
              "      <td>1.000000</td>\n",
              "      <td>1</td>\n",
              "      <td>1</td>\n",
              "      <td>1</td>\n",
              "      <td>5</td>\n",
              "      <td>...</td>\n",
              "      <td>57.5</td>\n",
              "      <td>0</td>\n",
              "      <td>4</td>\n",
              "      <td>2.0</td>\n",
              "      <td>0.0</td>\n",
              "      <td>191.0</td>\n",
              "      <td>95.5</td>\n",
              "      <td>4</td>\n",
              "      <td>40643</td>\n",
              "      <td>20323.5</td>\n",
              "    </tr>\n",
              "    <tr>\n",
              "      <th>...</th>\n",
              "      <td>...</td>\n",
              "      <td>...</td>\n",
              "      <td>...</td>\n",
              "      <td>...</td>\n",
              "      <td>...</td>\n",
              "      <td>...</td>\n",
              "      <td>...</td>\n",
              "      <td>...</td>\n",
              "      <td>...</td>\n",
              "      <td>...</td>\n",
              "      <td>...</td>\n",
              "      <td>...</td>\n",
              "      <td>...</td>\n",
              "      <td>...</td>\n",
              "      <td>...</td>\n",
              "      <td>...</td>\n",
              "      <td>...</td>\n",
              "      <td>...</td>\n",
              "      <td>...</td>\n",
              "      <td>...</td>\n",
              "      <td>...</td>\n",
              "    </tr>\n",
              "    <tr>\n",
              "      <th>47692</th>\n",
              "      <td>184.25.56.202</td>\n",
              "      <td>7173</td>\n",
              "      <td>80</td>\n",
              "      <td>1.000000</td>\n",
              "      <td>1.000000</td>\n",
              "      <td>1.000000</td>\n",
              "      <td>1</td>\n",
              "      <td>1</td>\n",
              "      <td>1</td>\n",
              "      <td>1</td>\n",
              "      <td>...</td>\n",
              "      <td>6.0</td>\n",
              "      <td>1</td>\n",
              "      <td>1</td>\n",
              "      <td>1.0</td>\n",
              "      <td>6.0</td>\n",
              "      <td>6.0</td>\n",
              "      <td>6.0</td>\n",
              "      <td>42</td>\n",
              "      <td>42</td>\n",
              "      <td>42.0</td>\n",
              "    </tr>\n",
              "    <tr>\n",
              "      <th>47693</th>\n",
              "      <td>184.50.238.170</td>\n",
              "      <td>56432</td>\n",
              "      <td>80</td>\n",
              "      <td>1.000000</td>\n",
              "      <td>1.000000</td>\n",
              "      <td>1.000000</td>\n",
              "      <td>1</td>\n",
              "      <td>1</td>\n",
              "      <td>1</td>\n",
              "      <td>1</td>\n",
              "      <td>...</td>\n",
              "      <td>6.0</td>\n",
              "      <td>1</td>\n",
              "      <td>1</td>\n",
              "      <td>1.0</td>\n",
              "      <td>6.0</td>\n",
              "      <td>6.0</td>\n",
              "      <td>6.0</td>\n",
              "      <td>42</td>\n",
              "      <td>42</td>\n",
              "      <td>42.0</td>\n",
              "    </tr>\n",
              "    <tr>\n",
              "      <th>47694</th>\n",
              "      <td>52.52.86.145</td>\n",
              "      <td>44944</td>\n",
              "      <td>443</td>\n",
              "      <td>1.000000</td>\n",
              "      <td>1.000000</td>\n",
              "      <td>1.000000</td>\n",
              "      <td>1</td>\n",
              "      <td>1</td>\n",
              "      <td>1</td>\n",
              "      <td>14</td>\n",
              "      <td>...</td>\n",
              "      <td>2399.0</td>\n",
              "      <td>13</td>\n",
              "      <td>13</td>\n",
              "      <td>13.0</td>\n",
              "      <td>4752.0</td>\n",
              "      <td>4752.0</td>\n",
              "      <td>4752.0</td>\n",
              "      <td>52656124</td>\n",
              "      <td>52656124</td>\n",
              "      <td>52656124.0</td>\n",
              "    </tr>\n",
              "    <tr>\n",
              "      <th>47695</th>\n",
              "      <td>54.236.177.89</td>\n",
              "      <td>55806</td>\n",
              "      <td>443</td>\n",
              "      <td>1.000000</td>\n",
              "      <td>1.000000</td>\n",
              "      <td>1.000000</td>\n",
              "      <td>1</td>\n",
              "      <td>1</td>\n",
              "      <td>1</td>\n",
              "      <td>15</td>\n",
              "      <td>...</td>\n",
              "      <td>776.0</td>\n",
              "      <td>13</td>\n",
              "      <td>13</td>\n",
              "      <td>13.0</td>\n",
              "      <td>5955.0</td>\n",
              "      <td>5955.0</td>\n",
              "      <td>5955.0</td>\n",
              "      <td>51998174</td>\n",
              "      <td>51998174</td>\n",
              "      <td>51998174.0</td>\n",
              "    </tr>\n",
              "    <tr>\n",
              "      <th>47696</th>\n",
              "      <td>91.189.89.198</td>\n",
              "      <td>123</td>\n",
              "      <td>123</td>\n",
              "      <td>1.000000</td>\n",
              "      <td>1.000000</td>\n",
              "      <td>1.000000</td>\n",
              "      <td>1</td>\n",
              "      <td>1</td>\n",
              "      <td>1</td>\n",
              "      <td>1</td>\n",
              "      <td>...</td>\n",
              "      <td>48.0</td>\n",
              "      <td>1</td>\n",
              "      <td>1</td>\n",
              "      <td>1.0</td>\n",
              "      <td>48.0</td>\n",
              "      <td>48.0</td>\n",
              "      <td>48.0</td>\n",
              "      <td>94265</td>\n",
              "      <td>94265</td>\n",
              "      <td>94265.0</td>\n",
              "    </tr>\n",
              "  </tbody>\n",
              "</table>\n",
              "<p>47697 rows × 40 columns</p>\n",
              "</div>"
            ]
          },
          "metadata": {},
          "execution_count": 9
        }
      ]
    },
    {
      "cell_type": "markdown",
      "source": [
        "## 전처리"
      ],
      "metadata": {
        "id": "QyUHO1Fq2P-D"
      }
    },
    {
      "cell_type": "code",
      "source": [
        "from Utils import FlowPreProcessor"
      ],
      "metadata": {
        "id": "P64NPKzA2SQ8"
      },
      "execution_count": 10,
      "outputs": []
    },
    {
      "cell_type": "code",
      "source": [
        "fpp = FlowPreProcessor(mode=\"minmax\")"
      ],
      "metadata": {
        "id": "a9o34E1J2ZQh"
      },
      "execution_count": 11,
      "outputs": []
    },
    {
      "cell_type": "code",
      "source": [
        "trainX = fpp.fit_transform(trainSet)"
      ],
      "metadata": {
        "id": "97AcWt1qBJah"
      },
      "execution_count": 12,
      "outputs": []
    },
    {
      "cell_type": "code",
      "source": [
        "trainX.shape"
      ],
      "metadata": {
        "id": "Upait3SR5zRM",
        "colab": {
          "base_uri": "https://localhost:8080/"
        },
        "outputId": "be081703-f382-4dc2-f8da-a756144b3a57"
      },
      "execution_count": 13,
      "outputs": [
        {
          "output_type": "execute_result",
          "data": {
            "text/plain": [
              "(47697, 39)"
            ]
          },
          "metadata": {},
          "execution_count": 13
        }
      ]
    },
    {
      "cell_type": "code",
      "source": [
        "trainX"
      ],
      "metadata": {
        "id": "fPs_OJWc6k6G",
        "colab": {
          "base_uri": "https://localhost:8080/"
        },
        "outputId": "c47d2834-1444-4b25-f3b9-2f286e0a67a2"
      },
      "execution_count": 14,
      "outputs": [
        {
          "output_type": "execute_result",
          "data": {
            "text/plain": [
              "array([[2.0965679e-05, 1.2579407e-04, 2.7913705e-01, ..., 1.6666684e-08,\n",
              "        3.3333336e-08, 8.3333385e-09],\n",
              "       [2.0965679e-05, 1.2579407e-04, 2.7913705e-01, ..., 1.6666684e-08,\n",
              "        2.5000002e-08, 8.3333385e-09],\n",
              "       [7.5728036e-02, 7.5476448e-04, 2.0965679e-05, ..., 3.3333368e-08,\n",
              "        6.9223678e-01, 6.1666706e-06],\n",
              "       ...,\n",
              "       [4.4027925e-04, 6.2897037e-05, 9.8222113e-01, ..., 4.3880150e-01,\n",
              "        4.3880108e-01, 4.3880132e-01],\n",
              "       [6.2897037e-05, 1.2579407e-04, 9.8222113e-01, ..., 4.3331856e-01,\n",
              "        4.3331817e-01, 4.3331838e-01],\n",
              "       [5.8682937e-02, 8.6944669e-02, 7.9334132e-02, ..., 7.8555080e-04,\n",
              "        7.8554178e-04, 7.8554213e-04]], dtype=float32)"
            ]
          },
          "metadata": {},
          "execution_count": 14
        }
      ]
    },
    {
      "cell_type": "markdown",
      "source": [
        "# 학습하기"
      ],
      "metadata": {
        "id": "A1gzpZkb-GRe"
      }
    },
    {
      "cell_type": "code",
      "source": [
        "import torch\n",
        "\n",
        "import torch.nn as nn\n",
        "\n",
        "from tqdm.notebook import tqdm\n",
        "from torch.optim import Adam, SGD, AdamW\n",
        "from torch.optim.lr_scheduler import StepLR\n",
        "from torch.utils.data import DataLoader, Dataset"
      ],
      "metadata": {
        "id": "CHFTeuWL9vDe"
      },
      "execution_count": 15,
      "outputs": []
    },
    {
      "cell_type": "code",
      "source": [
        "device = 'cuda' if torch.cuda.is_available() else 'cpu'"
      ],
      "metadata": {
        "id": "iTMGhiBE-pw-"
      },
      "execution_count": 16,
      "outputs": []
    },
    {
      "cell_type": "code",
      "source": [
        "class FClayer(nn.Module):\n",
        "    def __init__(self, I, O, A='relu'):\n",
        "        super().__init__()\n",
        "        \n",
        "        self.linear = nn.Linear(I, O)\n",
        "        \n",
        "        if A == 'relu':\n",
        "            self.activation = nn.ReLU()\n",
        "        elif A == 'sigmoid':\n",
        "            self.activation = nn.Sigmoid()\n",
        "        else:\n",
        "            self.activation = nn.Identity()\n",
        "        \n",
        "    def forward(self, x):\n",
        "        x = self.linear(x)\n",
        "        x = self.activation(x)\n",
        "        \n",
        "        return x"
      ],
      "metadata": {
        "id": "XohJx0B1-qtj"
      },
      "execution_count": 17,
      "outputs": []
    },
    {
      "cell_type": "code",
      "source": [
        "class AE(nn.Module):\n",
        "    def __init__(self, num_features):\n",
        "        super().__init__()\n",
        "        \n",
        "        self.encoder = nn.Sequential(\n",
        "            FClayer(num_features, 128),\n",
        "            FClayer(128, 64),\n",
        "            FClayer(64,32),\n",
        "            FClayer(32, 16),\n",
        "            FClayer(16, 8),\n",
        "        )\n",
        "        \n",
        "        self.decoder = nn.Sequential(\n",
        "            FClayer(8, 16),\n",
        "            FClayer(16, 32),\n",
        "            FClayer(32, 64),\n",
        "            FClayer(64, 128),\n",
        "            FClayer(128, num_features, \n",
        "                    A='sigmoid'\n",
        "            ),\n",
        "        )\n",
        "    \n",
        "    def forward(self, x):\n",
        "        z = self.encoder(x)\n",
        "        x = self.decoder(z)\n",
        "        return x, z"
      ],
      "metadata": {
        "id": "3GTq5PPW-rhP"
      },
      "execution_count": 18,
      "outputs": []
    },
    {
      "cell_type": "code",
      "source": [
        "a = AE(trainX.shape[1])"
      ],
      "metadata": {
        "id": "StTOFXeS64WT"
      },
      "execution_count": 19,
      "outputs": []
    },
    {
      "cell_type": "code",
      "source": [
        "b = a(torch.tensor(trainX))"
      ],
      "metadata": {
        "id": "tXJq4jW669fy"
      },
      "execution_count": 20,
      "outputs": []
    },
    {
      "cell_type": "code",
      "source": [
        "trainSet"
      ],
      "metadata": {
        "id": "C0DG2jGq7g8i",
        "colab": {
          "base_uri": "https://localhost:8080/",
          "height": 444
        },
        "outputId": "31c98c06-9c37-4409-c9fc-3910fc4aa7ad"
      },
      "execution_count": 21,
      "outputs": [
        {
          "output_type": "execute_result",
          "data": {
            "text/plain": [
              "               Key_IP  Key_inner_port  Key_outer_port  Inner_port_freq  \\\n",
              "0       8.254.250.126           49188              80         1.000000   \n",
              "1       8.253.185.121           49486              80         1.000000   \n",
              "2        192.168.10.9              88            1029         0.359551   \n",
              "3        192.168.10.3             137             389         0.150000   \n",
              "4        69.31.33.224            1057              80         1.000000   \n",
              "...               ...             ...             ...              ...   \n",
              "47692   184.25.56.202            7173              80         1.000000   \n",
              "47693  184.50.238.170           56432              80         1.000000   \n",
              "47694    52.52.86.145           44944             443         1.000000   \n",
              "47695   54.236.177.89           55806             443         1.000000   \n",
              "47696   91.189.89.198             123             123         1.000000   \n",
              "\n",
              "       Outer_port_freq  Pst_per_flows  Card_inner_ip  Card_inner_port  \\\n",
              "0             1.000000       0.250000              1                1   \n",
              "1             1.000000       0.250000              1                1   \n",
              "2             0.033708       0.595506              1               12   \n",
              "3             0.450000       0.400000              4               14   \n",
              "4             1.000000       1.000000              1                1   \n",
              "...                ...            ...            ...              ...   \n",
              "47692         1.000000       1.000000              1                1   \n",
              "47693         1.000000       1.000000              1                1   \n",
              "47694         1.000000       1.000000              1                1   \n",
              "47695         1.000000       1.000000              1                1   \n",
              "47696         1.000000       1.000000              1                1   \n",
              "\n",
              "       Card_outer_port  Sum_inner_pkts  ...  Median_inner_bytes  \\\n",
              "0                    1               0  ...                 0.0   \n",
              "1                    1               0  ...                 0.0   \n",
              "2                   67             534  ...               280.0   \n",
              "3                    7              24  ...                 3.0   \n",
              "4                    1               5  ...                57.5   \n",
              "...                ...             ...  ...                 ...   \n",
              "47692                1               1  ...                 6.0   \n",
              "47693                1               1  ...                 6.0   \n",
              "47694                1              14  ...              2399.0   \n",
              "47695                1              15  ...               776.0   \n",
              "47696                1               1  ...                48.0   \n",
              "\n",
              "       Min_outer_pkts  Max_outer_pkts  Median_outer_pkts  Min_outer_bytes  \\\n",
              "0                   2               2                2.0             12.0   \n",
              "1                   2               2                2.0             12.0   \n",
              "2                   1              45                2.0              6.0   \n",
              "3                   1               6                2.0              6.0   \n",
              "4                   0               4                2.0              0.0   \n",
              "...               ...             ...                ...              ...   \n",
              "47692               1               1                1.0              6.0   \n",
              "47693               1               1                1.0              6.0   \n",
              "47694              13              13               13.0           4752.0   \n",
              "47695              13              13               13.0           5955.0   \n",
              "47696               1               1                1.0             48.0   \n",
              "\n",
              "       Max_outer_bytes  Median_outer_bytes   Min_dur   Max_dur  Median_dur  \n",
              "0                 12.0                12.0         1         4         1.0  \n",
              "1                 12.0                12.0         1         3         1.0  \n",
              "2              12254.0               204.0         3  83068408       740.0  \n",
              "3                300.0                12.0         0   3077743        48.0  \n",
              "4                191.0                95.5         4     40643     20323.5  \n",
              "...                ...                 ...       ...       ...         ...  \n",
              "47692              6.0                 6.0        42        42        42.0  \n",
              "47693              6.0                 6.0        42        42        42.0  \n",
              "47694           4752.0              4752.0  52656124  52656124  52656124.0  \n",
              "47695           5955.0              5955.0  51998174  51998174  51998174.0  \n",
              "47696             48.0                48.0     94265     94265     94265.0  \n",
              "\n",
              "[47697 rows x 40 columns]"
            ],
            "text/html": [
              "<div>\n",
              "<style scoped>\n",
              "    .dataframe tbody tr th:only-of-type {\n",
              "        vertical-align: middle;\n",
              "    }\n",
              "\n",
              "    .dataframe tbody tr th {\n",
              "        vertical-align: top;\n",
              "    }\n",
              "\n",
              "    .dataframe thead th {\n",
              "        text-align: right;\n",
              "    }\n",
              "</style>\n",
              "<table border=\"1\" class=\"dataframe\">\n",
              "  <thead>\n",
              "    <tr style=\"text-align: right;\">\n",
              "      <th></th>\n",
              "      <th>Key_IP</th>\n",
              "      <th>Key_inner_port</th>\n",
              "      <th>Key_outer_port</th>\n",
              "      <th>Inner_port_freq</th>\n",
              "      <th>Outer_port_freq</th>\n",
              "      <th>Pst_per_flows</th>\n",
              "      <th>Card_inner_ip</th>\n",
              "      <th>Card_inner_port</th>\n",
              "      <th>Card_outer_port</th>\n",
              "      <th>Sum_inner_pkts</th>\n",
              "      <th>...</th>\n",
              "      <th>Median_inner_bytes</th>\n",
              "      <th>Min_outer_pkts</th>\n",
              "      <th>Max_outer_pkts</th>\n",
              "      <th>Median_outer_pkts</th>\n",
              "      <th>Min_outer_bytes</th>\n",
              "      <th>Max_outer_bytes</th>\n",
              "      <th>Median_outer_bytes</th>\n",
              "      <th>Min_dur</th>\n",
              "      <th>Max_dur</th>\n",
              "      <th>Median_dur</th>\n",
              "    </tr>\n",
              "  </thead>\n",
              "  <tbody>\n",
              "    <tr>\n",
              "      <th>0</th>\n",
              "      <td>8.254.250.126</td>\n",
              "      <td>49188</td>\n",
              "      <td>80</td>\n",
              "      <td>1.000000</td>\n",
              "      <td>1.000000</td>\n",
              "      <td>0.250000</td>\n",
              "      <td>1</td>\n",
              "      <td>1</td>\n",
              "      <td>1</td>\n",
              "      <td>0</td>\n",
              "      <td>...</td>\n",
              "      <td>0.0</td>\n",
              "      <td>2</td>\n",
              "      <td>2</td>\n",
              "      <td>2.0</td>\n",
              "      <td>12.0</td>\n",
              "      <td>12.0</td>\n",
              "      <td>12.0</td>\n",
              "      <td>1</td>\n",
              "      <td>4</td>\n",
              "      <td>1.0</td>\n",
              "    </tr>\n",
              "    <tr>\n",
              "      <th>1</th>\n",
              "      <td>8.253.185.121</td>\n",
              "      <td>49486</td>\n",
              "      <td>80</td>\n",
              "      <td>1.000000</td>\n",
              "      <td>1.000000</td>\n",
              "      <td>0.250000</td>\n",
              "      <td>1</td>\n",
              "      <td>1</td>\n",
              "      <td>1</td>\n",
              "      <td>0</td>\n",
              "      <td>...</td>\n",
              "      <td>0.0</td>\n",
              "      <td>2</td>\n",
              "      <td>2</td>\n",
              "      <td>2.0</td>\n",
              "      <td>12.0</td>\n",
              "      <td>12.0</td>\n",
              "      <td>12.0</td>\n",
              "      <td>1</td>\n",
              "      <td>3</td>\n",
              "      <td>1.0</td>\n",
              "    </tr>\n",
              "    <tr>\n",
              "      <th>2</th>\n",
              "      <td>192.168.10.9</td>\n",
              "      <td>88</td>\n",
              "      <td>1029</td>\n",
              "      <td>0.359551</td>\n",
              "      <td>0.033708</td>\n",
              "      <td>0.595506</td>\n",
              "      <td>1</td>\n",
              "      <td>12</td>\n",
              "      <td>67</td>\n",
              "      <td>534</td>\n",
              "      <td>...</td>\n",
              "      <td>280.0</td>\n",
              "      <td>1</td>\n",
              "      <td>45</td>\n",
              "      <td>2.0</td>\n",
              "      <td>6.0</td>\n",
              "      <td>12254.0</td>\n",
              "      <td>204.0</td>\n",
              "      <td>3</td>\n",
              "      <td>83068408</td>\n",
              "      <td>740.0</td>\n",
              "    </tr>\n",
              "    <tr>\n",
              "      <th>3</th>\n",
              "      <td>192.168.10.3</td>\n",
              "      <td>137</td>\n",
              "      <td>389</td>\n",
              "      <td>0.150000</td>\n",
              "      <td>0.450000</td>\n",
              "      <td>0.400000</td>\n",
              "      <td>4</td>\n",
              "      <td>14</td>\n",
              "      <td>7</td>\n",
              "      <td>24</td>\n",
              "      <td>...</td>\n",
              "      <td>3.0</td>\n",
              "      <td>1</td>\n",
              "      <td>6</td>\n",
              "      <td>2.0</td>\n",
              "      <td>6.0</td>\n",
              "      <td>300.0</td>\n",
              "      <td>12.0</td>\n",
              "      <td>0</td>\n",
              "      <td>3077743</td>\n",
              "      <td>48.0</td>\n",
              "    </tr>\n",
              "    <tr>\n",
              "      <th>4</th>\n",
              "      <td>69.31.33.224</td>\n",
              "      <td>1057</td>\n",
              "      <td>80</td>\n",
              "      <td>1.000000</td>\n",
              "      <td>1.000000</td>\n",
              "      <td>1.000000</td>\n",
              "      <td>1</td>\n",
              "      <td>1</td>\n",
              "      <td>1</td>\n",
              "      <td>5</td>\n",
              "      <td>...</td>\n",
              "      <td>57.5</td>\n",
              "      <td>0</td>\n",
              "      <td>4</td>\n",
              "      <td>2.0</td>\n",
              "      <td>0.0</td>\n",
              "      <td>191.0</td>\n",
              "      <td>95.5</td>\n",
              "      <td>4</td>\n",
              "      <td>40643</td>\n",
              "      <td>20323.5</td>\n",
              "    </tr>\n",
              "    <tr>\n",
              "      <th>...</th>\n",
              "      <td>...</td>\n",
              "      <td>...</td>\n",
              "      <td>...</td>\n",
              "      <td>...</td>\n",
              "      <td>...</td>\n",
              "      <td>...</td>\n",
              "      <td>...</td>\n",
              "      <td>...</td>\n",
              "      <td>...</td>\n",
              "      <td>...</td>\n",
              "      <td>...</td>\n",
              "      <td>...</td>\n",
              "      <td>...</td>\n",
              "      <td>...</td>\n",
              "      <td>...</td>\n",
              "      <td>...</td>\n",
              "      <td>...</td>\n",
              "      <td>...</td>\n",
              "      <td>...</td>\n",
              "      <td>...</td>\n",
              "      <td>...</td>\n",
              "    </tr>\n",
              "    <tr>\n",
              "      <th>47692</th>\n",
              "      <td>184.25.56.202</td>\n",
              "      <td>7173</td>\n",
              "      <td>80</td>\n",
              "      <td>1.000000</td>\n",
              "      <td>1.000000</td>\n",
              "      <td>1.000000</td>\n",
              "      <td>1</td>\n",
              "      <td>1</td>\n",
              "      <td>1</td>\n",
              "      <td>1</td>\n",
              "      <td>...</td>\n",
              "      <td>6.0</td>\n",
              "      <td>1</td>\n",
              "      <td>1</td>\n",
              "      <td>1.0</td>\n",
              "      <td>6.0</td>\n",
              "      <td>6.0</td>\n",
              "      <td>6.0</td>\n",
              "      <td>42</td>\n",
              "      <td>42</td>\n",
              "      <td>42.0</td>\n",
              "    </tr>\n",
              "    <tr>\n",
              "      <th>47693</th>\n",
              "      <td>184.50.238.170</td>\n",
              "      <td>56432</td>\n",
              "      <td>80</td>\n",
              "      <td>1.000000</td>\n",
              "      <td>1.000000</td>\n",
              "      <td>1.000000</td>\n",
              "      <td>1</td>\n",
              "      <td>1</td>\n",
              "      <td>1</td>\n",
              "      <td>1</td>\n",
              "      <td>...</td>\n",
              "      <td>6.0</td>\n",
              "      <td>1</td>\n",
              "      <td>1</td>\n",
              "      <td>1.0</td>\n",
              "      <td>6.0</td>\n",
              "      <td>6.0</td>\n",
              "      <td>6.0</td>\n",
              "      <td>42</td>\n",
              "      <td>42</td>\n",
              "      <td>42.0</td>\n",
              "    </tr>\n",
              "    <tr>\n",
              "      <th>47694</th>\n",
              "      <td>52.52.86.145</td>\n",
              "      <td>44944</td>\n",
              "      <td>443</td>\n",
              "      <td>1.000000</td>\n",
              "      <td>1.000000</td>\n",
              "      <td>1.000000</td>\n",
              "      <td>1</td>\n",
              "      <td>1</td>\n",
              "      <td>1</td>\n",
              "      <td>14</td>\n",
              "      <td>...</td>\n",
              "      <td>2399.0</td>\n",
              "      <td>13</td>\n",
              "      <td>13</td>\n",
              "      <td>13.0</td>\n",
              "      <td>4752.0</td>\n",
              "      <td>4752.0</td>\n",
              "      <td>4752.0</td>\n",
              "      <td>52656124</td>\n",
              "      <td>52656124</td>\n",
              "      <td>52656124.0</td>\n",
              "    </tr>\n",
              "    <tr>\n",
              "      <th>47695</th>\n",
              "      <td>54.236.177.89</td>\n",
              "      <td>55806</td>\n",
              "      <td>443</td>\n",
              "      <td>1.000000</td>\n",
              "      <td>1.000000</td>\n",
              "      <td>1.000000</td>\n",
              "      <td>1</td>\n",
              "      <td>1</td>\n",
              "      <td>1</td>\n",
              "      <td>15</td>\n",
              "      <td>...</td>\n",
              "      <td>776.0</td>\n",
              "      <td>13</td>\n",
              "      <td>13</td>\n",
              "      <td>13.0</td>\n",
              "      <td>5955.0</td>\n",
              "      <td>5955.0</td>\n",
              "      <td>5955.0</td>\n",
              "      <td>51998174</td>\n",
              "      <td>51998174</td>\n",
              "      <td>51998174.0</td>\n",
              "    </tr>\n",
              "    <tr>\n",
              "      <th>47696</th>\n",
              "      <td>91.189.89.198</td>\n",
              "      <td>123</td>\n",
              "      <td>123</td>\n",
              "      <td>1.000000</td>\n",
              "      <td>1.000000</td>\n",
              "      <td>1.000000</td>\n",
              "      <td>1</td>\n",
              "      <td>1</td>\n",
              "      <td>1</td>\n",
              "      <td>1</td>\n",
              "      <td>...</td>\n",
              "      <td>48.0</td>\n",
              "      <td>1</td>\n",
              "      <td>1</td>\n",
              "      <td>1.0</td>\n",
              "      <td>48.0</td>\n",
              "      <td>48.0</td>\n",
              "      <td>48.0</td>\n",
              "      <td>94265</td>\n",
              "      <td>94265</td>\n",
              "      <td>94265.0</td>\n",
              "    </tr>\n",
              "  </tbody>\n",
              "</table>\n",
              "<p>47697 rows × 40 columns</p>\n",
              "</div>"
            ]
          },
          "metadata": {},
          "execution_count": 21
        }
      ]
    },
    {
      "cell_type": "code",
      "source": [
        "b[0].shape"
      ],
      "metadata": {
        "id": "MZpnwgRv7Mj9",
        "colab": {
          "base_uri": "https://localhost:8080/"
        },
        "outputId": "8d2126a5-d35e-45f3-972e-1e929a752fb9"
      },
      "execution_count": 22,
      "outputs": [
        {
          "output_type": "execute_result",
          "data": {
            "text/plain": [
              "torch.Size([47697, 39])"
            ]
          },
          "metadata": {},
          "execution_count": 22
        }
      ]
    },
    {
      "cell_type": "code",
      "source": [
        "class FlowDataset(Dataset):\n",
        "    def __init__(self, data):\n",
        "        self.data = data\n",
        "        \n",
        "    def __len__(self):\n",
        "        return len(self.data)\n",
        "    \n",
        "    def __getitem__(self, idx):\n",
        "        return self.data[idx]\n"
      ],
      "metadata": {
        "id": "JIXNK2iE-sUX"
      },
      "execution_count": 23,
      "outputs": []
    },
    {
      "cell_type": "code",
      "source": [
        "def train_fn(trainX, batch_size=128, epoch=300, model_path=\"./models/ipod_model_expand.pt\"):\n",
        "    ae = AE(trainX.shape[1])\n",
        "    ae.to(device)\n",
        "    \n",
        "    ae_loss_fn = nn.MSELoss()\n",
        "    # ae_optim = SGD(ae.parameters(), lr = 1e-1, momentum=0.9)\n",
        "    ae_optim = AdamW(ae.parameters(), lr = 1e-3, weight_decay=1e-11)\n",
        "    ae_sched= StepLR(ae_optim, step_size=75, gamma=0.5)\n",
        "    \n",
        "    dataloader = DataLoader(\n",
        "        FlowDataset(trainX), \n",
        "        batch_size=batch_size, \n",
        "        shuffle=True\n",
        "    )\n",
        "    \n",
        "    best_loss = 1.\n",
        "\n",
        "    with tqdm(range(epoch)) as pbar:\n",
        "        for _ in pbar:\n",
        "            ae_epoch_loss = 0\n",
        "            data_count = 0\n",
        "                        \n",
        "            for X in dataloader:\n",
        "                X = X.to(device)\n",
        "\n",
        "                # 오토 인코더 학습 \n",
        "                O, _ = ae(X)\n",
        "                \n",
        "                ae_loss = ae_loss_fn(O, X)\n",
        "                ae_optim.zero_grad()\n",
        "                ae_loss.backward()\n",
        "                ae_optim.step()                \n",
        "                \n",
        "                # loss 출력하기 \n",
        "                \n",
        "                ae_epoch_loss += ae_loss.item()\n",
        "                data_count += len(X)\n",
        "\n",
        "                pbar.set_postfix( \n",
        "                     ae_loss=f\"{ae_epoch_loss / data_count}\",\n",
        "                )\n",
        "\n",
        "            now_loss = ae_epoch_loss / data_count\n",
        "            if best_loss > now_loss:\n",
        "                best_loss = now_loss\n",
        "                torch.save(ae.state_dict(), model_path)\n",
        "\n",
        "            ae_sched.step()\n",
        "    print(best_loss)\n",
        "    model_state_dict = torch.load(model_path, map_location=device)\n",
        "    ae.load_state_dict(model_state_dict)\n",
        "    return ae"
      ],
      "metadata": {
        "id": "bOy6cqls-tqg"
      },
      "execution_count": 24,
      "outputs": []
    },
    {
      "cell_type": "code",
      "source": [
        "model = train_fn(trainX)"
      ],
      "metadata": {
        "id": "9n-1zOE7-utl",
        "colab": {
          "base_uri": "https://localhost:8080/",
          "height": 67,
          "referenced_widgets": [
            "3991a342dd2f48548aabc6f1d24dd5c4",
            "4f4469ed0e70496692b7b20205842043",
            "b3397ae9edde452e8ca08d634845226d",
            "8ff3211d7c59417597cfbf774418ba57",
            "74ee5f23a31c471a85cf9c908f0fe16b",
            "e5233c4a73834d84bb505a873aa4841c",
            "e27bc4ca23a04e10b841864e48d95234",
            "ebfa2c78f0884f29b455749eb0fc1800",
            "b07105a3988a4fd8abf9d6ee60346d13",
            "96207c68fd014064a9eac92d26faf34a",
            "ce5a304035654d509bea1a88473ddbc7"
          ]
        },
        "outputId": "995cde5b-8b68-4eb9-d8ed-925b7bdd483f"
      },
      "execution_count": 25,
      "outputs": [
        {
          "output_type": "display_data",
          "data": {
            "text/plain": [
              "  0%|          | 0/300 [00:00<?, ?it/s]"
            ],
            "application/vnd.jupyter.widget-view+json": {
              "version_major": 2,
              "version_minor": 0,
              "model_id": "3991a342dd2f48548aabc6f1d24dd5c4"
            }
          },
          "metadata": {}
        },
        {
          "output_type": "stream",
          "name": "stdout",
          "text": [
            "6.154556495487776e-07\n"
          ]
        }
      ]
    },
    {
      "cell_type": "markdown",
      "source": [
        "# 테스트하기"
      ],
      "metadata": {
        "id": "fnVmX2dPHl-U"
      }
    },
    {
      "cell_type": "code",
      "source": [
        "def test_fn(model, testX):\n",
        "    dataloader = DataLoader(FlowDataset(testX), batch_size= 512, shuffle=False)\n",
        "    model.to(device)\n",
        "    pred = []\n",
        "    loss_fn = nn.MSELoss()\n",
        "    model.eval()\n",
        "    dist_fn = nn.CosineSimilarity(dim=1)\n",
        "    with torch.no_grad():\n",
        "        for X in (dataloader):\n",
        "            X = X.to(device)\n",
        "            O,_  = model(X)\n",
        "            # dist = dist_fn(X,O)\n",
        "            dist = torch.square(X-O).mean(-1)\n",
        "            pred.extend(dist.cpu().tolist())\n",
        "    return pred\n",
        "    "
      ],
      "metadata": {
        "id": "gFNnI2-2-wxk"
      },
      "execution_count": 26,
      "outputs": []
    },
    {
      "cell_type": "code",
      "source": [
        "def labelEncoding(x):\n",
        "    if len(x) == 1:\n",
        "        if x[0] == 'BENIGN':\n",
        "            return 0\n",
        "        else:\n",
        "            return 1\n",
        "    else:\n",
        "        return 1\n",
        "\n"
      ],
      "metadata": {
        "id": "prpKJWOqKsTZ"
      },
      "execution_count": 27,
      "outputs": []
    },
    {
      "cell_type": "code",
      "source": [
        "from sklearn.metrics import roc_auc_score, roc_curve, f1_score, precision_score, recall_score, accuracy_score"
      ],
      "metadata": {
        "id": "PJDbF7aHKweK"
      },
      "execution_count": 28,
      "outputs": []
    },
    {
      "cell_type": "code",
      "source": [
        "def testSetLoader(files):\n",
        "    testSet = FlowReader.read_csv(files)\n",
        "    testSet = FlowProfiler.preprocessing(testSet, mode=\"expand\")\n",
        "    return testSet"
      ],
      "metadata": {
        "id": "igXOiAFzmRIw"
      },
      "execution_count": 29,
      "outputs": []
    },
    {
      "cell_type": "code",
      "source": [
        "def result_fn(testSet, loss):\n",
        "    result = pd.DataFrame({\n",
        "        'outer_ip' : testSet['Key_IP'],\n",
        "        'loss' : loss,\n",
        "        'Label' : testSet['Label'],\n",
        "        'Num_Label' : testSet['Label'].apply(\n",
        "            labelEncoding\n",
        "            # lambda x : len(x)\n",
        "        )\n",
        "    })\n",
        "    return result"
      ],
      "metadata": {
        "id": "lEYTGDfUIcVd"
      },
      "execution_count": 30,
      "outputs": []
    },
    {
      "cell_type": "code",
      "source": [
        "def best_f1(y_true, loss):\n",
        "    theta = 0.0001\n",
        "    best_theta = 0\n",
        "    best_f1 = 0\n",
        "    while theta <= 1:\n",
        "        predict = np.where(loss>theta, 1, 0)\n",
        "        now_f1 = f1_score(y_true, predict)\n",
        "        if best_f1 < now_f1:\n",
        "            best_f1 = now_f1\n",
        "            best_theta = theta\n",
        "        \n",
        "        theta += 0.0001\n",
        "\n",
        "    predict = np.where(loss>best_theta, 1, 0)\n",
        "    print(\"theta : \", best_theta)\n",
        "    print(\"accuracy : \", accuracy_score(y_true, predict))\n",
        "    print(\"recall : \", recall_score(y_true, predict))\n",
        "    print(\"precision: \", precision_score(y_true, predict))\n",
        "    print(\"f1-score : \", f1_score(y_true, predict))\n",
        "\n",
        "    return best_theta"
      ],
      "metadata": {
        "id": "8frWHl5DvDP-"
      },
      "execution_count": 31,
      "outputs": []
    },
    {
      "cell_type": "code",
      "source": [
        "concat_result = pd.DataFrame(columns=['outer_ip', 'loss', 'Label', 'Num_Label'])"
      ],
      "metadata": {
        "id": "qevzK1HTg8IR"
      },
      "execution_count": 32,
      "outputs": []
    },
    {
      "cell_type": "markdown",
      "source": [
        "## 화요일"
      ],
      "metadata": {
        "id": "Fqz42U0fIou5"
      }
    },
    {
      "cell_type": "code",
      "source": [
        "testSet = testSetLoader(files[1])"
      ],
      "metadata": {
        "id": "2n9q0Z09_3hF"
      },
      "execution_count": 33,
      "outputs": []
    },
    {
      "cell_type": "code",
      "source": [
        "testX = fpp.transform(testSet)"
      ],
      "metadata": {
        "id": "ALv8w9fIAAx7"
      },
      "execution_count": 34,
      "outputs": []
    },
    {
      "cell_type": "code",
      "source": [
        "loss = test_fn(model, testX)"
      ],
      "metadata": {
        "id": "i6ifhqZdAvoU"
      },
      "execution_count": 35,
      "outputs": []
    },
    {
      "cell_type": "code",
      "source": [
        "result = result_fn(testSet, loss)"
      ],
      "metadata": {
        "id": "hlbCl-xZIXbo"
      },
      "execution_count": 36,
      "outputs": []
    },
    {
      "cell_type": "code",
      "source": [
        "result[result['Num_Label']==1]"
      ],
      "metadata": {
        "id": "i9P6D4UKFiNo",
        "colab": {
          "base_uri": "https://localhost:8080/",
          "height": 959
        },
        "outputId": "9c9b3517-9878-4050-bf85-2dd39156cc91"
      },
      "execution_count": 37,
      "outputs": [
        {
          "output_type": "execute_result",
          "data": {
            "text/plain": [
              "         outer_ip      loss                  Label  Num_Label\n",
              "2120   172.16.0.1  0.000844          [FTP-Patator]          1\n",
              "2143   172.16.0.1  0.000128          [FTP-Patator]          1\n",
              "2529   172.16.0.1  0.000678          [FTP-Patator]          1\n",
              "2951   172.16.0.1  0.001410          [FTP-Patator]          1\n",
              "3946   172.16.0.1  0.001319          [FTP-Patator]          1\n",
              "4002   172.16.0.1  0.001370          [FTP-Patator]          1\n",
              "5133   172.16.0.1  0.001420          [FTP-Patator]          1\n",
              "5796   172.16.0.1  0.001435          [FTP-Patator]          1\n",
              "5838   172.16.0.1  0.001428          [FTP-Patator]          1\n",
              "7054   172.16.0.1  0.001422          [FTP-Patator]          1\n",
              "7130   172.16.0.1  0.001383          [FTP-Patator]          1\n",
              "8252   172.16.0.1  0.001392          [FTP-Patator]          1\n",
              "8327   172.16.0.1  0.001386          [FTP-Patator]          1\n",
              "9473   172.16.0.1  0.001383          [FTP-Patator]          1\n",
              "9564   172.16.0.1  0.001418          [FTP-Patator]          1\n",
              "23355  172.16.0.1  0.001701          [SSH-Patator]          1\n",
              "23581  172.16.0.1  0.042764  [SSH-Patator, BENIGN]          1\n",
              "24350  172.16.0.1  0.002021          [SSH-Patator]          1\n",
              "24352  172.16.0.1  0.024934  [SSH-Patator, BENIGN]          1\n",
              "25367  172.16.0.1  0.002322          [SSH-Patator]          1\n",
              "25814  172.16.0.1  0.002441          [SSH-Patator]          1\n",
              "25826  172.16.0.1  0.002281          [SSH-Patator]          1\n",
              "26765  172.16.0.1  0.002457          [SSH-Patator]          1\n",
              "27418  172.16.0.1  0.002164          [SSH-Patator]          1\n",
              "27432  172.16.0.1  0.002425          [SSH-Patator]          1\n",
              "28332  172.16.0.1  0.002460          [SSH-Patator]          1\n",
              "28854  172.16.0.1  0.002437          [SSH-Patator]          1\n",
              "28929  172.16.0.1  0.002209          [SSH-Patator]          1\n",
              "29693  172.16.0.1  0.002244          [SSH-Patator]          1"
            ],
            "text/html": [
              "<div>\n",
              "<style scoped>\n",
              "    .dataframe tbody tr th:only-of-type {\n",
              "        vertical-align: middle;\n",
              "    }\n",
              "\n",
              "    .dataframe tbody tr th {\n",
              "        vertical-align: top;\n",
              "    }\n",
              "\n",
              "    .dataframe thead th {\n",
              "        text-align: right;\n",
              "    }\n",
              "</style>\n",
              "<table border=\"1\" class=\"dataframe\">\n",
              "  <thead>\n",
              "    <tr style=\"text-align: right;\">\n",
              "      <th></th>\n",
              "      <th>outer_ip</th>\n",
              "      <th>loss</th>\n",
              "      <th>Label</th>\n",
              "      <th>Num_Label</th>\n",
              "    </tr>\n",
              "  </thead>\n",
              "  <tbody>\n",
              "    <tr>\n",
              "      <th>2120</th>\n",
              "      <td>172.16.0.1</td>\n",
              "      <td>0.000844</td>\n",
              "      <td>[FTP-Patator]</td>\n",
              "      <td>1</td>\n",
              "    </tr>\n",
              "    <tr>\n",
              "      <th>2143</th>\n",
              "      <td>172.16.0.1</td>\n",
              "      <td>0.000128</td>\n",
              "      <td>[FTP-Patator]</td>\n",
              "      <td>1</td>\n",
              "    </tr>\n",
              "    <tr>\n",
              "      <th>2529</th>\n",
              "      <td>172.16.0.1</td>\n",
              "      <td>0.000678</td>\n",
              "      <td>[FTP-Patator]</td>\n",
              "      <td>1</td>\n",
              "    </tr>\n",
              "    <tr>\n",
              "      <th>2951</th>\n",
              "      <td>172.16.0.1</td>\n",
              "      <td>0.001410</td>\n",
              "      <td>[FTP-Patator]</td>\n",
              "      <td>1</td>\n",
              "    </tr>\n",
              "    <tr>\n",
              "      <th>3946</th>\n",
              "      <td>172.16.0.1</td>\n",
              "      <td>0.001319</td>\n",
              "      <td>[FTP-Patator]</td>\n",
              "      <td>1</td>\n",
              "    </tr>\n",
              "    <tr>\n",
              "      <th>4002</th>\n",
              "      <td>172.16.0.1</td>\n",
              "      <td>0.001370</td>\n",
              "      <td>[FTP-Patator]</td>\n",
              "      <td>1</td>\n",
              "    </tr>\n",
              "    <tr>\n",
              "      <th>5133</th>\n",
              "      <td>172.16.0.1</td>\n",
              "      <td>0.001420</td>\n",
              "      <td>[FTP-Patator]</td>\n",
              "      <td>1</td>\n",
              "    </tr>\n",
              "    <tr>\n",
              "      <th>5796</th>\n",
              "      <td>172.16.0.1</td>\n",
              "      <td>0.001435</td>\n",
              "      <td>[FTP-Patator]</td>\n",
              "      <td>1</td>\n",
              "    </tr>\n",
              "    <tr>\n",
              "      <th>5838</th>\n",
              "      <td>172.16.0.1</td>\n",
              "      <td>0.001428</td>\n",
              "      <td>[FTP-Patator]</td>\n",
              "      <td>1</td>\n",
              "    </tr>\n",
              "    <tr>\n",
              "      <th>7054</th>\n",
              "      <td>172.16.0.1</td>\n",
              "      <td>0.001422</td>\n",
              "      <td>[FTP-Patator]</td>\n",
              "      <td>1</td>\n",
              "    </tr>\n",
              "    <tr>\n",
              "      <th>7130</th>\n",
              "      <td>172.16.0.1</td>\n",
              "      <td>0.001383</td>\n",
              "      <td>[FTP-Patator]</td>\n",
              "      <td>1</td>\n",
              "    </tr>\n",
              "    <tr>\n",
              "      <th>8252</th>\n",
              "      <td>172.16.0.1</td>\n",
              "      <td>0.001392</td>\n",
              "      <td>[FTP-Patator]</td>\n",
              "      <td>1</td>\n",
              "    </tr>\n",
              "    <tr>\n",
              "      <th>8327</th>\n",
              "      <td>172.16.0.1</td>\n",
              "      <td>0.001386</td>\n",
              "      <td>[FTP-Patator]</td>\n",
              "      <td>1</td>\n",
              "    </tr>\n",
              "    <tr>\n",
              "      <th>9473</th>\n",
              "      <td>172.16.0.1</td>\n",
              "      <td>0.001383</td>\n",
              "      <td>[FTP-Patator]</td>\n",
              "      <td>1</td>\n",
              "    </tr>\n",
              "    <tr>\n",
              "      <th>9564</th>\n",
              "      <td>172.16.0.1</td>\n",
              "      <td>0.001418</td>\n",
              "      <td>[FTP-Patator]</td>\n",
              "      <td>1</td>\n",
              "    </tr>\n",
              "    <tr>\n",
              "      <th>23355</th>\n",
              "      <td>172.16.0.1</td>\n",
              "      <td>0.001701</td>\n",
              "      <td>[SSH-Patator]</td>\n",
              "      <td>1</td>\n",
              "    </tr>\n",
              "    <tr>\n",
              "      <th>23581</th>\n",
              "      <td>172.16.0.1</td>\n",
              "      <td>0.042764</td>\n",
              "      <td>[SSH-Patator, BENIGN]</td>\n",
              "      <td>1</td>\n",
              "    </tr>\n",
              "    <tr>\n",
              "      <th>24350</th>\n",
              "      <td>172.16.0.1</td>\n",
              "      <td>0.002021</td>\n",
              "      <td>[SSH-Patator]</td>\n",
              "      <td>1</td>\n",
              "    </tr>\n",
              "    <tr>\n",
              "      <th>24352</th>\n",
              "      <td>172.16.0.1</td>\n",
              "      <td>0.024934</td>\n",
              "      <td>[SSH-Patator, BENIGN]</td>\n",
              "      <td>1</td>\n",
              "    </tr>\n",
              "    <tr>\n",
              "      <th>25367</th>\n",
              "      <td>172.16.0.1</td>\n",
              "      <td>0.002322</td>\n",
              "      <td>[SSH-Patator]</td>\n",
              "      <td>1</td>\n",
              "    </tr>\n",
              "    <tr>\n",
              "      <th>25814</th>\n",
              "      <td>172.16.0.1</td>\n",
              "      <td>0.002441</td>\n",
              "      <td>[SSH-Patator]</td>\n",
              "      <td>1</td>\n",
              "    </tr>\n",
              "    <tr>\n",
              "      <th>25826</th>\n",
              "      <td>172.16.0.1</td>\n",
              "      <td>0.002281</td>\n",
              "      <td>[SSH-Patator]</td>\n",
              "      <td>1</td>\n",
              "    </tr>\n",
              "    <tr>\n",
              "      <th>26765</th>\n",
              "      <td>172.16.0.1</td>\n",
              "      <td>0.002457</td>\n",
              "      <td>[SSH-Patator]</td>\n",
              "      <td>1</td>\n",
              "    </tr>\n",
              "    <tr>\n",
              "      <th>27418</th>\n",
              "      <td>172.16.0.1</td>\n",
              "      <td>0.002164</td>\n",
              "      <td>[SSH-Patator]</td>\n",
              "      <td>1</td>\n",
              "    </tr>\n",
              "    <tr>\n",
              "      <th>27432</th>\n",
              "      <td>172.16.0.1</td>\n",
              "      <td>0.002425</td>\n",
              "      <td>[SSH-Patator]</td>\n",
              "      <td>1</td>\n",
              "    </tr>\n",
              "    <tr>\n",
              "      <th>28332</th>\n",
              "      <td>172.16.0.1</td>\n",
              "      <td>0.002460</td>\n",
              "      <td>[SSH-Patator]</td>\n",
              "      <td>1</td>\n",
              "    </tr>\n",
              "    <tr>\n",
              "      <th>28854</th>\n",
              "      <td>172.16.0.1</td>\n",
              "      <td>0.002437</td>\n",
              "      <td>[SSH-Patator]</td>\n",
              "      <td>1</td>\n",
              "    </tr>\n",
              "    <tr>\n",
              "      <th>28929</th>\n",
              "      <td>172.16.0.1</td>\n",
              "      <td>0.002209</td>\n",
              "      <td>[SSH-Patator]</td>\n",
              "      <td>1</td>\n",
              "    </tr>\n",
              "    <tr>\n",
              "      <th>29693</th>\n",
              "      <td>172.16.0.1</td>\n",
              "      <td>0.002244</td>\n",
              "      <td>[SSH-Patator]</td>\n",
              "      <td>1</td>\n",
              "    </tr>\n",
              "  </tbody>\n",
              "</table>\n",
              "</div>"
            ]
          },
          "metadata": {},
          "execution_count": 37
        }
      ]
    },
    {
      "cell_type": "code",
      "source": [
        "concat_result = pd.concat([\n",
        "    concat_result, result\n",
        "])"
      ],
      "metadata": {
        "id": "e1a621JahRLN"
      },
      "execution_count": 38,
      "outputs": []
    },
    {
      "cell_type": "code",
      "source": [
        "y_true = result['Num_Label'].values\n",
        "loss = result['loss'].values"
      ],
      "metadata": {
        "id": "BaHQCL8ZIU6i"
      },
      "execution_count": 39,
      "outputs": []
    },
    {
      "cell_type": "code",
      "source": [
        "tues_fp, tues_tp, _ = roc_curve(y_true, loss)\n",
        "roc_auc_score(y_true, loss)"
      ],
      "metadata": {
        "id": "SZAAFwu4cUyh",
        "colab": {
          "base_uri": "https://localhost:8080/"
        },
        "outputId": "332240a0-a58b-4c7e-8b92-723d3534a0a6"
      },
      "execution_count": 40,
      "outputs": [
        {
          "output_type": "execute_result",
          "data": {
            "text/plain": [
              "0.9883231453621718"
            ]
          },
          "metadata": {},
          "execution_count": 40
        }
      ]
    },
    {
      "cell_type": "code",
      "source": [
        "theta = best_f1(y_true, loss)"
      ],
      "metadata": {
        "id": "UPtJpSf4vbmk",
        "colab": {
          "base_uri": "https://localhost:8080/"
        },
        "outputId": "f15b769d-0319-459d-9492-0f3b202ffff6"
      },
      "execution_count": 41,
      "outputs": [
        {
          "output_type": "stream",
          "name": "stdout",
          "text": [
            "theta :  0.0013000000000000004\n",
            "accuracy :  0.9905279177162049\n",
            "recall :  0.896551724137931\n",
            "precision:  0.06770833333333333\n",
            "f1-score :  0.12590799031476996\n"
          ]
        }
      ]
    },
    {
      "cell_type": "code",
      "source": [
        "_, axs = plt.subplots(2,1, figsize=(22,14))\n",
        "titles = ['benign', 'attack']\n",
        "\n",
        "for i in range(2):\n",
        "    axs[i].hist(result[result['Num_Label'] == i]['loss'], bins=200, range=(0,0.1))\n",
        "    axs[i].axvline(x=theta, color='r', linestyle='--')\n",
        "    axs[i].set_title(titles[i])\n"
      ],
      "metadata": {
        "id": "8Fquja89cybg",
        "colab": {
          "base_uri": "https://localhost:8080/",
          "height": 825
        },
        "outputId": "2d744a0f-760a-4cbb-c999-b8d2da756118"
      },
      "execution_count": 42,
      "outputs": [
        {
          "output_type": "display_data",
          "data": {
            "text/plain": [
              "<Figure size 1584x1008 with 2 Axes>"
            ],
            "image/png": "[encoded data removed]"
          },
          "metadata": {
            "needs_background": "light"
          }
        }
      ]
    },
    {
      "cell_type": "markdown",
      "source": [
        "## 수요일"
      ],
      "metadata": {
        "id": "FZDwNMGOImED"
      }
    },
    {
      "cell_type": "code",
      "source": [
        "testSet = testSetLoader(files[2])"
      ],
      "metadata": {
        "id": "YuGb5u_JIlSj"
      },
      "execution_count": 43,
      "outputs": []
    },
    {
      "cell_type": "code",
      "source": [
        "testX = fpp.transform(testSet)"
      ],
      "metadata": {
        "id": "z0BatnDmIlSk"
      },
      "execution_count": 44,
      "outputs": []
    },
    {
      "cell_type": "code",
      "source": [
        "loss = test_fn(model, testX)"
      ],
      "metadata": {
        "id": "iQKJPCg_IlSk"
      },
      "execution_count": 45,
      "outputs": []
    },
    {
      "cell_type": "code",
      "source": [
        "result = result_fn(testSet, loss)"
      ],
      "metadata": {
        "id": "ieCTbcg6IlSk"
      },
      "execution_count": 46,
      "outputs": []
    },
    {
      "cell_type": "code",
      "source": [
        "result[result['Num_Label']==1]"
      ],
      "metadata": {
        "id": "8plR9q6NIlSk",
        "colab": {
          "base_uri": "https://localhost:8080/",
          "height": 896
        },
        "outputId": "49ab6a27-e882-4bdd-e710-d5c1e15b1322"
      },
      "execution_count": 47,
      "outputs": [
        {
          "output_type": "execute_result",
          "data": {
            "text/plain": [
              "         outer_ip         loss                       Label  Num_Label\n",
              "1721   172.16.0.1     0.000126             [DoS slowloris]          1\n",
              "1748   172.16.0.1     0.000187     [DoS slowloris, BENIGN]          1\n",
              "5575   172.16.0.1     0.049784             [DoS slowloris]          1\n",
              "5751   172.16.0.1     0.000209     [DoS slowloris, BENIGN]          1\n",
              "6592   172.16.0.1     0.294153     [DoS slowloris, BENIGN]          1\n",
              "7043   172.16.0.1     0.385577     [DoS slowloris, BENIGN]          1\n",
              "7689   172.16.0.1     0.303872             [DoS slowloris]          1\n",
              "8116   172.16.0.1     0.302657     [DoS slowloris, BENIGN]          1\n",
              "8581   172.16.0.1     0.042062     [DoS slowloris, BENIGN]          1\n",
              "9177   172.16.0.1     0.404569  [DoS Slowhttptest, BENIGN]          1\n",
              "9552   172.16.0.1     0.368583  [DoS Slowhttptest, BENIGN]          1\n",
              "10085  172.16.0.1     0.363974  [DoS Slowhttptest, BENIGN]          1\n",
              "10856  172.16.0.1     0.311827  [DoS Slowhttptest, BENIGN]          1\n",
              "11344  172.16.0.1     0.034433  [DoS Slowhttptest, BENIGN]          1\n",
              "11643  172.16.0.1   276.166565          [DoS Hulk, BENIGN]          1\n",
              "11848  172.16.0.1  1190.266846          [DoS Hulk, BENIGN]          1\n",
              "12258  172.16.0.1  1177.848389                  [DoS Hulk]          1\n",
              "12667  172.16.0.1   868.014404                  [DoS Hulk]          1\n",
              "13590  172.16.0.1     0.304362                  [DoS Hulk]          1\n",
              "14077  172.16.0.1     0.000649                  [DoS Hulk]          1\n",
              "14642  172.16.0.1     4.124882     [DoS GoldenEye, BENIGN]          1\n",
              "15012  172.16.0.1     1.755153     [DoS GoldenEye, BENIGN]          1\n",
              "30241  172.16.0.1     2.540805        [BENIGN, Heartbleed]          1\n",
              "30616  172.16.0.1     4.632250                [Heartbleed]          1\n",
              "31066  172.16.0.1     5.203104                [Heartbleed]          1\n",
              "31583  172.16.0.1     4.595345                [Heartbleed]          1\n",
              "31986  172.16.0.1     3.015948                [Heartbleed]          1"
            ],
            "text/html": [
              "<div>\n",
              "<style scoped>\n",
              "    .dataframe tbody tr th:only-of-type {\n",
              "        vertical-align: middle;\n",
              "    }\n",
              "\n",
              "    .dataframe tbody tr th {\n",
              "        vertical-align: top;\n",
              "    }\n",
              "\n",
              "    .dataframe thead th {\n",
              "        text-align: right;\n",
              "    }\n",
              "</style>\n",
              "<table border=\"1\" class=\"dataframe\">\n",
              "  <thead>\n",
              "    <tr style=\"text-align: right;\">\n",
              "      <th></th>\n",
              "      <th>outer_ip</th>\n",
              "      <th>loss</th>\n",
              "      <th>Label</th>\n",
              "      <th>Num_Label</th>\n",
              "    </tr>\n",
              "  </thead>\n",
              "  <tbody>\n",
              "    <tr>\n",
              "      <th>1721</th>\n",
              "      <td>172.16.0.1</td>\n",
              "      <td>0.000126</td>\n",
              "      <td>[DoS slowloris]</td>\n",
              "      <td>1</td>\n",
              "    </tr>\n",
              "    <tr>\n",
              "      <th>1748</th>\n",
              "      <td>172.16.0.1</td>\n",
              "      <td>0.000187</td>\n",
              "      <td>[DoS slowloris, BENIGN]</td>\n",
              "      <td>1</td>\n",
              "    </tr>\n",
              "    <tr>\n",
              "      <th>5575</th>\n",
              "      <td>172.16.0.1</td>\n",
              "      <td>0.049784</td>\n",
              "      <td>[DoS slowloris]</td>\n",
              "      <td>1</td>\n",
              "    </tr>\n",
              "    <tr>\n",
              "      <th>5751</th>\n",
              "      <td>172.16.0.1</td>\n",
              "      <td>0.000209</td>\n",
              "      <td>[DoS slowloris, BENIGN]</td>\n",
              "      <td>1</td>\n",
              "    </tr>\n",
              "    <tr>\n",
              "      <th>6592</th>\n",
              "      <td>172.16.0.1</td>\n",
              "      <td>0.294153</td>\n",
              "      <td>[DoS slowloris, BENIGN]</td>\n",
              "      <td>1</td>\n",
              "    </tr>\n",
              "    <tr>\n",
              "      <th>7043</th>\n",
              "      <td>172.16.0.1</td>\n",
              "      <td>0.385577</td>\n",
              "      <td>[DoS slowloris, BENIGN]</td>\n",
              "      <td>1</td>\n",
              "    </tr>\n",
              "    <tr>\n",
              "      <th>7689</th>\n",
              "      <td>172.16.0.1</td>\n",
              "      <td>0.303872</td>\n",
              "      <td>[DoS slowloris]</td>\n",
              "      <td>1</td>\n",
              "    </tr>\n",
              "    <tr>\n",
              "      <th>8116</th>\n",
              "      <td>172.16.0.1</td>\n",
              "      <td>0.302657</td>\n",
              "      <td>[DoS slowloris, BENIGN]</td>\n",
              "      <td>1</td>\n",
              "    </tr>\n",
              "    <tr>\n",
              "      <th>8581</th>\n",
              "      <td>172.16.0.1</td>\n",
              "      <td>0.042062</td>\n",
              "      <td>[DoS slowloris, BENIGN]</td>\n",
              "      <td>1</td>\n",
              "    </tr>\n",
              "    <tr>\n",
              "      <th>9177</th>\n",
              "      <td>172.16.0.1</td>\n",
              "      <td>0.404569</td>\n",
              "      <td>[DoS Slowhttptest, BENIGN]</td>\n",
              "      <td>1</td>\n",
              "    </tr>\n",
              "    <tr>\n",
              "      <th>9552</th>\n",
              "      <td>172.16.0.1</td>\n",
              "      <td>0.368583</td>\n",
              "      <td>[DoS Slowhttptest, BENIGN]</td>\n",
              "      <td>1</td>\n",
              "    </tr>\n",
              "    <tr>\n",
              "      <th>10085</th>\n",
              "      <td>172.16.0.1</td>\n",
              "      <td>0.363974</td>\n",
              "      <td>[DoS Slowhttptest, BENIGN]</td>\n",
              "      <td>1</td>\n",
              "    </tr>\n",
              "    <tr>\n",
              "      <th>10856</th>\n",
              "      <td>172.16.0.1</td>\n",
              "      <td>0.311827</td>\n",
              "      <td>[DoS Slowhttptest, BENIGN]</td>\n",
              "      <td>1</td>\n",
              "    </tr>\n",
              "    <tr>\n",
              "      <th>11344</th>\n",
              "      <td>172.16.0.1</td>\n",
              "      <td>0.034433</td>\n",
              "      <td>[DoS Slowhttptest, BENIGN]</td>\n",
              "      <td>1</td>\n",
              "    </tr>\n",
              "    <tr>\n",
              "      <th>11643</th>\n",
              "      <td>172.16.0.1</td>\n",
              "      <td>276.166565</td>\n",
              "      <td>[DoS Hulk, BENIGN]</td>\n",
              "      <td>1</td>\n",
              "    </tr>\n",
              "    <tr>\n",
              "      <th>11848</th>\n",
              "      <td>172.16.0.1</td>\n",
              "      <td>1190.266846</td>\n",
              "      <td>[DoS Hulk, BENIGN]</td>\n",
              "      <td>1</td>\n",
              "    </tr>\n",
              "    <tr>\n",
              "      <th>12258</th>\n",
              "      <td>172.16.0.1</td>\n",
              "      <td>1177.848389</td>\n",
              "      <td>[DoS Hulk]</td>\n",
              "      <td>1</td>\n",
              "    </tr>\n",
              "    <tr>\n",
              "      <th>12667</th>\n",
              "      <td>172.16.0.1</td>\n",
              "      <td>868.014404</td>\n",
              "      <td>[DoS Hulk]</td>\n",
              "      <td>1</td>\n",
              "    </tr>\n",
              "    <tr>\n",
              "      <th>13590</th>\n",
              "      <td>172.16.0.1</td>\n",
              "      <td>0.304362</td>\n",
              "      <td>[DoS Hulk]</td>\n",
              "      <td>1</td>\n",
              "    </tr>\n",
              "    <tr>\n",
              "      <th>14077</th>\n",
              "      <td>172.16.0.1</td>\n",
              "      <td>0.000649</td>\n",
              "      <td>[DoS Hulk]</td>\n",
              "      <td>1</td>\n",
              "    </tr>\n",
              "    <tr>\n",
              "      <th>14642</th>\n",
              "      <td>172.16.0.1</td>\n",
              "      <td>4.124882</td>\n",
              "      <td>[DoS GoldenEye, BENIGN]</td>\n",
              "      <td>1</td>\n",
              "    </tr>\n",
              "    <tr>\n",
              "      <th>15012</th>\n",
              "      <td>172.16.0.1</td>\n",
              "      <td>1.755153</td>\n",
              "      <td>[DoS GoldenEye, BENIGN]</td>\n",
              "      <td>1</td>\n",
              "    </tr>\n",
              "    <tr>\n",
              "      <th>30241</th>\n",
              "      <td>172.16.0.1</td>\n",
              "      <td>2.540805</td>\n",
              "      <td>[BENIGN, Heartbleed]</td>\n",
              "      <td>1</td>\n",
              "    </tr>\n",
              "    <tr>\n",
              "      <th>30616</th>\n",
              "      <td>172.16.0.1</td>\n",
              "      <td>4.632250</td>\n",
              "      <td>[Heartbleed]</td>\n",
              "      <td>1</td>\n",
              "    </tr>\n",
              "    <tr>\n",
              "      <th>31066</th>\n",
              "      <td>172.16.0.1</td>\n",
              "      <td>5.203104</td>\n",
              "      <td>[Heartbleed]</td>\n",
              "      <td>1</td>\n",
              "    </tr>\n",
              "    <tr>\n",
              "      <th>31583</th>\n",
              "      <td>172.16.0.1</td>\n",
              "      <td>4.595345</td>\n",
              "      <td>[Heartbleed]</td>\n",
              "      <td>1</td>\n",
              "    </tr>\n",
              "    <tr>\n",
              "      <th>31986</th>\n",
              "      <td>172.16.0.1</td>\n",
              "      <td>3.015948</td>\n",
              "      <td>[Heartbleed]</td>\n",
              "      <td>1</td>\n",
              "    </tr>\n",
              "  </tbody>\n",
              "</table>\n",
              "</div>"
            ]
          },
          "metadata": {},
          "execution_count": 47
        }
      ]
    },
    {
      "cell_type": "code",
      "source": [
        "concat_result = pd.concat([\n",
        "    concat_result, result\n",
        "])"
      ],
      "metadata": {
        "id": "kEm2WtaZhhbC"
      },
      "execution_count": 48,
      "outputs": []
    },
    {
      "cell_type": "code",
      "source": [
        "y_true = result['Num_Label'].values\n",
        "loss = result['loss'].values"
      ],
      "metadata": {
        "id": "KX8lLqBOIlSk"
      },
      "execution_count": 49,
      "outputs": []
    },
    {
      "cell_type": "code",
      "source": [
        "wednes_fp, wednes_tp, _ = roc_curve(y_true, loss)\n",
        "roc_auc_score(y_true, loss)"
      ],
      "metadata": {
        "id": "f5_QUi31IlSk",
        "colab": {
          "base_uri": "https://localhost:8080/"
        },
        "outputId": "b6727691-377f-401b-cc17-1a54b7f5b8f4"
      },
      "execution_count": 50,
      "outputs": [
        {
          "output_type": "execute_result",
          "data": {
            "text/plain": [
              "0.9873045192194129"
            ]
          },
          "metadata": {},
          "execution_count": 50
        }
      ]
    },
    {
      "cell_type": "code",
      "source": [
        "theta = best_f1(y_true, loss)"
      ],
      "metadata": {
        "id": "jhCSgsrDIlSk",
        "colab": {
          "base_uri": "https://localhost:8080/"
        },
        "outputId": "57f21a96-8a32-4a05-a6ac-ce07533590a3"
      },
      "execution_count": 51,
      "outputs": [
        {
          "output_type": "stream",
          "name": "stdout",
          "text": [
            "theta :  0.18159999999999632\n",
            "accuracy :  0.9996865613164425\n",
            "recall :  0.7407407407407407\n",
            "precision:  0.8\n",
            "f1-score :  0.7692307692307692\n"
          ]
        }
      ]
    },
    {
      "cell_type": "code",
      "source": [
        "_, axs = plt.subplots(2,1, figsize=(22,14))\n",
        "titles = ['benign', 'attack']\n",
        "\n",
        "for i in range(2):\n",
        "    axs[i].hist(result[result['Num_Label'] == i]['loss'], bins=200, range=(0,0.1))\n",
        "    axs[i].axvline(x=theta, color='r', linestyle='--')\n",
        "    axs[i].set_title(titles[i])\n"
      ],
      "metadata": {
        "id": "A1DEcik4IlSl",
        "colab": {
          "base_uri": "https://localhost:8080/",
          "height": 825
        },
        "outputId": "2e7e6fff-551d-4565-f072-4055db161d29"
      },
      "execution_count": 52,
      "outputs": [
        {
          "output_type": "display_data",
          "data": {
            "text/plain": [
              "<Figure size 1584x1008 with 2 Axes>"
            ],
            "image/png": "[encoded data removed]"
          },
          "metadata": {
            "needs_background": "light"
          }
        }
      ]
    },
    {
      "cell_type": "markdown",
      "source": [
        "## 금요일 \n",
        "- 목요일은 이유를 알 수 없는 에러로 인해 스킵"
      ],
      "metadata": {
        "id": "NWmFu44yJe8w"
      }
    },
    {
      "cell_type": "code",
      "source": [
        "testSet = testSetLoader(files[3])"
      ],
      "metadata": {
        "id": "_w9HUH10JBmG"
      },
      "execution_count": 53,
      "outputs": []
    },
    {
      "cell_type": "code",
      "source": [
        "testX = fpp.transform(testSet)"
      ],
      "metadata": {
        "id": "4FDGTVa0JBmG"
      },
      "execution_count": 54,
      "outputs": []
    },
    {
      "cell_type": "code",
      "source": [
        "loss = test_fn(model, testX)"
      ],
      "metadata": {
        "id": "n3o47y1lJBmG"
      },
      "execution_count": 55,
      "outputs": []
    },
    {
      "cell_type": "code",
      "source": [
        "result = result_fn(testSet, loss)"
      ],
      "metadata": {
        "id": "qInl_y7YJBmG"
      },
      "execution_count": 56,
      "outputs": []
    },
    {
      "cell_type": "code",
      "source": [
        "result[result['Num_Label']==1]"
      ],
      "metadata": {
        "id": "hjqQfJSLJBmG",
        "colab": {
          "base_uri": "https://localhost:8080/",
          "height": 614
        },
        "outputId": "90f0e628-ad52-4967-f369-49765f89f54c"
      },
      "execution_count": 57,
      "outputs": [
        {
          "output_type": "execute_result",
          "data": {
            "text/plain": [
              "            outer_ip        loss               Label  Num_Label\n",
              "1656      172.16.0.1   69.196381              [DDoS]          1\n",
              "1984      172.16.0.1  131.787445              [DDoS]          1\n",
              "2247      172.16.0.1  114.045761              [DDoS]          1\n",
              "2288   192.168.10.50    2.971573      [BENIGN, DDoS]          1\n",
              "2480      172.16.0.1  110.150093              [DDoS]          1\n",
              "2928      172.16.0.1    2.726325      [DDoS, BENIGN]          1\n",
              "5849      172.16.0.1    0.004053          [PortScan]          1\n",
              "9213      172.16.0.1    0.000126          [PortScan]          1\n",
              "9452      172.16.0.1    0.002914          [PortScan]          1\n",
              "9742      172.16.0.1    0.002473          [PortScan]          1\n",
              "10918     172.16.0.1    0.001488          [PortScan]          1\n",
              "11004     172.16.0.1    0.001440          [PortScan]          1\n",
              "14065     172.16.0.1    1.032234  [PortScan, BENIGN]          1\n",
              "14234     172.16.0.1    1.116845          [PortScan]          1\n",
              "15004     172.16.0.1    0.009778          [PortScan]          1\n",
              "15394     172.16.0.1    0.054974          [PortScan]          1\n",
              "15549     172.16.0.1    0.011168          [PortScan]          1\n",
              "16657     172.16.0.1    0.055132          [PortScan]          1"
            ],
            "text/html": [
              "<div>\n",
              "<style scoped>\n",
              "    .dataframe tbody tr th:only-of-type {\n",
              "        vertical-align: middle;\n",
              "    }\n",
              "\n",
              "    .dataframe tbody tr th {\n",
              "        vertical-align: top;\n",
              "    }\n",
              "\n",
              "    .dataframe thead th {\n",
              "        text-align: right;\n",
              "    }\n",
              "</style>\n",
              "<table border=\"1\" class=\"dataframe\">\n",
              "  <thead>\n",
              "    <tr style=\"text-align: right;\">\n",
              "      <th></th>\n",
              "      <th>outer_ip</th>\n",
              "      <th>loss</th>\n",
              "      <th>Label</th>\n",
              "      <th>Num_Label</th>\n",
              "    </tr>\n",
              "  </thead>\n",
              "  <tbody>\n",
              "    <tr>\n",
              "      <th>1656</th>\n",
              "      <td>172.16.0.1</td>\n",
              "      <td>69.196381</td>\n",
              "      <td>[DDoS]</td>\n",
              "      <td>1</td>\n",
              "    </tr>\n",
              "    <tr>\n",
              "      <th>1984</th>\n",
              "      <td>172.16.0.1</td>\n",
              "      <td>131.787445</td>\n",
              "      <td>[DDoS]</td>\n",
              "      <td>1</td>\n",
              "    </tr>\n",
              "    <tr>\n",
              "      <th>2247</th>\n",
              "      <td>172.16.0.1</td>\n",
              "      <td>114.045761</td>\n",
              "      <td>[DDoS]</td>\n",
              "      <td>1</td>\n",
              "    </tr>\n",
              "    <tr>\n",
              "      <th>2288</th>\n",
              "      <td>192.168.10.50</td>\n",
              "      <td>2.971573</td>\n",
              "      <td>[BENIGN, DDoS]</td>\n",
              "      <td>1</td>\n",
              "    </tr>\n",
              "    <tr>\n",
              "      <th>2480</th>\n",
              "      <td>172.16.0.1</td>\n",
              "      <td>110.150093</td>\n",
              "      <td>[DDoS]</td>\n",
              "      <td>1</td>\n",
              "    </tr>\n",
              "    <tr>\n",
              "      <th>2928</th>\n",
              "      <td>172.16.0.1</td>\n",
              "      <td>2.726325</td>\n",
              "      <td>[DDoS, BENIGN]</td>\n",
              "      <td>1</td>\n",
              "    </tr>\n",
              "    <tr>\n",
              "      <th>5849</th>\n",
              "      <td>172.16.0.1</td>\n",
              "      <td>0.004053</td>\n",
              "      <td>[PortScan]</td>\n",
              "      <td>1</td>\n",
              "    </tr>\n",
              "    <tr>\n",
              "      <th>9213</th>\n",
              "      <td>172.16.0.1</td>\n",
              "      <td>0.000126</td>\n",
              "      <td>[PortScan]</td>\n",
              "      <td>1</td>\n",
              "    </tr>\n",
              "    <tr>\n",
              "      <th>9452</th>\n",
              "      <td>172.16.0.1</td>\n",
              "      <td>0.002914</td>\n",
              "      <td>[PortScan]</td>\n",
              "      <td>1</td>\n",
              "    </tr>\n",
              "    <tr>\n",
              "      <th>9742</th>\n",
              "      <td>172.16.0.1</td>\n",
              "      <td>0.002473</td>\n",
              "      <td>[PortScan]</td>\n",
              "      <td>1</td>\n",
              "    </tr>\n",
              "    <tr>\n",
              "      <th>10918</th>\n",
              "      <td>172.16.0.1</td>\n",
              "      <td>0.001488</td>\n",
              "      <td>[PortScan]</td>\n",
              "      <td>1</td>\n",
              "    </tr>\n",
              "    <tr>\n",
              "      <th>11004</th>\n",
              "      <td>172.16.0.1</td>\n",
              "      <td>0.001440</td>\n",
              "      <td>[PortScan]</td>\n",
              "      <td>1</td>\n",
              "    </tr>\n",
              "    <tr>\n",
              "      <th>14065</th>\n",
              "      <td>172.16.0.1</td>\n",
              "      <td>1.032234</td>\n",
              "      <td>[PortScan, BENIGN]</td>\n",
              "      <td>1</td>\n",
              "    </tr>\n",
              "    <tr>\n",
              "      <th>14234</th>\n",
              "      <td>172.16.0.1</td>\n",
              "      <td>1.116845</td>\n",
              "      <td>[PortScan]</td>\n",
              "      <td>1</td>\n",
              "    </tr>\n",
              "    <tr>\n",
              "      <th>15004</th>\n",
              "      <td>172.16.0.1</td>\n",
              "      <td>0.009778</td>\n",
              "      <td>[PortScan]</td>\n",
              "      <td>1</td>\n",
              "    </tr>\n",
              "    <tr>\n",
              "      <th>15394</th>\n",
              "      <td>172.16.0.1</td>\n",
              "      <td>0.054974</td>\n",
              "      <td>[PortScan]</td>\n",
              "      <td>1</td>\n",
              "    </tr>\n",
              "    <tr>\n",
              "      <th>15549</th>\n",
              "      <td>172.16.0.1</td>\n",
              "      <td>0.011168</td>\n",
              "      <td>[PortScan]</td>\n",
              "      <td>1</td>\n",
              "    </tr>\n",
              "    <tr>\n",
              "      <th>16657</th>\n",
              "      <td>172.16.0.1</td>\n",
              "      <td>0.055132</td>\n",
              "      <td>[PortScan]</td>\n",
              "      <td>1</td>\n",
              "    </tr>\n",
              "  </tbody>\n",
              "</table>\n",
              "</div>"
            ]
          },
          "metadata": {},
          "execution_count": 57
        }
      ]
    },
    {
      "cell_type": "code",
      "source": [
        "concat_result = pd.concat([\n",
        "    concat_result, result\n",
        "])"
      ],
      "metadata": {
        "id": "ciNP4oKthi67"
      },
      "execution_count": 58,
      "outputs": []
    },
    {
      "cell_type": "code",
      "source": [
        "y_true = result['Num_Label'].values\n",
        "loss = result['loss'].values"
      ],
      "metadata": {
        "id": "IPhE7PIGJBmG"
      },
      "execution_count": 59,
      "outputs": []
    },
    {
      "cell_type": "code",
      "source": [
        "fri_fp, fri_tp, _ = roc_curve(y_true, loss)\n",
        "roc_auc_score(y_true, loss)"
      ],
      "metadata": {
        "id": "LWPgbp7oJBmH",
        "colab": {
          "base_uri": "https://localhost:8080/"
        },
        "outputId": "dbd87590-5ff8-492f-fade-41af0ff0e3f4"
      },
      "execution_count": 60,
      "outputs": [
        {
          "output_type": "execute_result",
          "data": {
            "text/plain": [
              "0.9903164133448045"
            ]
          },
          "metadata": {},
          "execution_count": 60
        }
      ]
    },
    {
      "cell_type": "code",
      "source": [
        "theta = best_f1(y_true, loss)"
      ],
      "metadata": {
        "id": "_QboepSlJBmH",
        "colab": {
          "base_uri": "https://localhost:8080/"
        },
        "outputId": "25ee6894-39aa-461b-a963-427a05d2faf5"
      },
      "execution_count": 61,
      "outputs": [
        {
          "output_type": "stream",
          "name": "stdout",
          "text": [
            "theta :  0.025199999999999903\n",
            "accuracy :  0.9993124391222139\n",
            "recall :  0.5555555555555556\n",
            "precision:  0.7142857142857143\n",
            "f1-score :  0.6250000000000001\n"
          ]
        }
      ]
    },
    {
      "cell_type": "code",
      "source": [
        "_, axs = plt.subplots(2,1, figsize=(22,14))\n",
        "titles = ['benign', 'attack']\n",
        "\n",
        "for i in range(2):\n",
        "    axs[i].hist(result[result['Num_Label'] == i]['loss'], bins=200, range=(0,0.1))\n",
        "    axs[i].axvline(x=theta, color='r', linestyle='--')\n",
        "    axs[i].set_title(titles[i])\n"
      ],
      "metadata": {
        "id": "-55ovTJlJBmH",
        "colab": {
          "base_uri": "https://localhost:8080/",
          "height": 825
        },
        "outputId": "895ce639-0549-4231-c405-c22b0a51ec19"
      },
      "execution_count": 62,
      "outputs": [
        {
          "output_type": "display_data",
          "data": {
            "text/plain": [
              "<Figure size 1584x1008 with 2 Axes>"
            ],
            "image/png": "[encoded data removed]"
          },
          "metadata": {
            "needs_background": "light"
          }
        }
      ]
    },
    {
      "cell_type": "markdown",
      "source": [
        "## 금요일 BOT"
      ],
      "metadata": {
        "id": "Cxvtbbd9KMyz"
      }
    },
    {
      "cell_type": "code",
      "source": [
        "testSet = testSetLoader(files[4])"
      ],
      "metadata": {
        "id": "IIuxOv3IKQmJ"
      },
      "execution_count": 63,
      "outputs": []
    },
    {
      "cell_type": "code",
      "source": [
        "testX = fpp.transform(testSet)"
      ],
      "metadata": {
        "id": "q41OYsXmKQmJ"
      },
      "execution_count": 64,
      "outputs": []
    },
    {
      "cell_type": "code",
      "source": [
        "loss = test_fn(model, testX)"
      ],
      "metadata": {
        "id": "ycNG6t4jKQmJ"
      },
      "execution_count": 65,
      "outputs": []
    },
    {
      "cell_type": "code",
      "source": [
        "result = result_fn(testSet, loss)"
      ],
      "metadata": {
        "id": "Y54pmX2EKQmJ"
      },
      "execution_count": 66,
      "outputs": []
    },
    {
      "cell_type": "code",
      "source": [
        "result[result['Num_Label']==1]"
      ],
      "metadata": {
        "id": "Y0L1XkOjKQmJ",
        "colab": {
          "base_uri": "https://localhost:8080/",
          "height": 1000
        },
        "outputId": "a485e24a-361e-46c7-decf-fdd14c5cba5e"
      },
      "execution_count": 67,
      "outputs": [
        {
          "output_type": "execute_result",
          "data": {
            "text/plain": [
              "             outer_ip      loss  Label  Num_Label\n",
              "2471       52.6.13.28  0.000340  [Bot]          1\n",
              "2511       52.6.13.28  0.000005  [Bot]          1\n",
              "5408   205.174.165.73  0.000023  [Bot]          1\n",
              "5535   205.174.165.73  0.000362  [Bot]          1\n",
              "6068   205.174.165.73  0.000335  [Bot]          1\n",
              "6531   205.174.165.73  0.000339  [Bot]          1\n",
              "6963   205.174.165.73  0.000577  [Bot]          1\n",
              "7590   205.174.165.73  0.029588  [Bot]          1\n",
              "8265   205.174.165.73  0.028822  [Bot]          1\n",
              "8913   205.174.165.73  0.031560  [Bot]          1\n",
              "9302   205.174.165.73  0.034515  [Bot]          1\n",
              "9584   205.174.165.73  0.035775  [Bot]          1\n",
              "9781   205.174.165.73  0.012501  [Bot]          1\n",
              "10108  205.174.165.73  0.005274  [Bot]          1\n",
              "10348  205.174.165.73  0.004628  [Bot]          1\n",
              "10768  205.174.165.73  0.005203  [Bot]          1\n",
              "11195  205.174.165.73  0.005204  [Bot]          1\n",
              "11566  205.174.165.73  0.005286  [Bot]          1\n",
              "12077  205.174.165.73  0.005304  [Bot]          1\n",
              "12178    52.7.235.158  0.000352  [Bot]          1\n",
              "12772  205.174.165.73  0.005287  [Bot]          1\n",
              "13301  205.174.165.73  0.005285  [Bot]          1\n",
              "13803  205.174.165.73  0.005288  [Bot]          1\n",
              "14106  205.174.165.73  0.005292  [Bot]          1\n",
              "14518  205.174.165.73  0.005289  [Bot]          1\n",
              "15027  205.174.165.73  0.005289  [Bot]          1\n",
              "15300  205.174.165.73  0.005292  [Bot]          1\n",
              "15798  205.174.165.73  0.005295  [Bot]          1\n",
              "15980  205.174.165.73  0.005298  [Bot]          1\n",
              "16058  205.174.165.73  0.005284  [Bot]          1\n",
              "16473  205.174.165.73  0.005288  [Bot]          1\n",
              "16763  205.174.165.73  0.005284  [Bot]          1\n",
              "16857  205.174.165.73  0.005288  [Bot]          1\n",
              "16974  205.174.165.73  0.005290  [Bot]          1\n",
              "17039  205.174.165.73  0.005290  [Bot]          1\n",
              "17124  205.174.165.73  0.005286  [Bot]          1\n",
              "17181  205.174.165.73  0.005285  [Bot]          1\n",
              "17221  205.174.165.73  0.005284  [Bot]          1\n",
              "17350  205.174.165.73  0.005286  [Bot]          1"
            ],
            "text/html": [
              "<div>\n",
              "<style scoped>\n",
              "    .dataframe tbody tr th:only-of-type {\n",
              "        vertical-align: middle;\n",
              "    }\n",
              "\n",
              "    .dataframe tbody tr th {\n",
              "        vertical-align: top;\n",
              "    }\n",
              "\n",
              "    .dataframe thead th {\n",
              "        text-align: right;\n",
              "    }\n",
              "</style>\n",
              "<table border=\"1\" class=\"dataframe\">\n",
              "  <thead>\n",
              "    <tr style=\"text-align: right;\">\n",
              "      <th></th>\n",
              "      <th>outer_ip</th>\n",
              "      <th>loss</th>\n",
              "      <th>Label</th>\n",
              "      <th>Num_Label</th>\n",
              "    </tr>\n",
              "  </thead>\n",
              "  <tbody>\n",
              "    <tr>\n",
              "      <th>2471</th>\n",
              "      <td>52.6.13.28</td>\n",
              "      <td>0.000340</td>\n",
              "      <td>[Bot]</td>\n",
              "      <td>1</td>\n",
              "    </tr>\n",
              "    <tr>\n",
              "      <th>2511</th>\n",
              "      <td>52.6.13.28</td>\n",
              "      <td>0.000005</td>\n",
              "      <td>[Bot]</td>\n",
              "      <td>1</td>\n",
              "    </tr>\n",
              "    <tr>\n",
              "      <th>5408</th>\n",
              "      <td>205.174.165.73</td>\n",
              "      <td>0.000023</td>\n",
              "      <td>[Bot]</td>\n",
              "      <td>1</td>\n",
              "    </tr>\n",
              "    <tr>\n",
              "      <th>5535</th>\n",
              "      <td>205.174.165.73</td>\n",
              "      <td>0.000362</td>\n",
              "      <td>[Bot]</td>\n",
              "      <td>1</td>\n",
              "    </tr>\n",
              "    <tr>\n",
              "      <th>6068</th>\n",
              "      <td>205.174.165.73</td>\n",
              "      <td>0.000335</td>\n",
              "      <td>[Bot]</td>\n",
              "      <td>1</td>\n",
              "    </tr>\n",
              "    <tr>\n",
              "      <th>6531</th>\n",
              "      <td>205.174.165.73</td>\n",
              "      <td>0.000339</td>\n",
              "      <td>[Bot]</td>\n",
              "      <td>1</td>\n",
              "    </tr>\n",
              "    <tr>\n",
              "      <th>6963</th>\n",
              "      <td>205.174.165.73</td>\n",
              "      <td>0.000577</td>\n",
              "      <td>[Bot]</td>\n",
              "      <td>1</td>\n",
              "    </tr>\n",
              "    <tr>\n",
              "      <th>7590</th>\n",
              "      <td>205.174.165.73</td>\n",
              "      <td>0.029588</td>\n",
              "      <td>[Bot]</td>\n",
              "      <td>1</td>\n",
              "    </tr>\n",
              "    <tr>\n",
              "      <th>8265</th>\n",
              "      <td>205.174.165.73</td>\n",
              "      <td>0.028822</td>\n",
              "      <td>[Bot]</td>\n",
              "      <td>1</td>\n",
              "    </tr>\n",
              "    <tr>\n",
              "      <th>8913</th>\n",
              "      <td>205.174.165.73</td>\n",
              "      <td>0.031560</td>\n",
              "      <td>[Bot]</td>\n",
              "      <td>1</td>\n",
              "    </tr>\n",
              "    <tr>\n",
              "      <th>9302</th>\n",
              "      <td>205.174.165.73</td>\n",
              "      <td>0.034515</td>\n",
              "      <td>[Bot]</td>\n",
              "      <td>1</td>\n",
              "    </tr>\n",
              "    <tr>\n",
              "      <th>9584</th>\n",
              "      <td>205.174.165.73</td>\n",
              "      <td>0.035775</td>\n",
              "      <td>[Bot]</td>\n",
              "      <td>1</td>\n",
              "    </tr>\n",
              "    <tr>\n",
              "      <th>9781</th>\n",
              "      <td>205.174.165.73</td>\n",
              "      <td>0.012501</td>\n",
              "      <td>[Bot]</td>\n",
              "      <td>1</td>\n",
              "    </tr>\n",
              "    <tr>\n",
              "      <th>10108</th>\n",
              "      <td>205.174.165.73</td>\n",
              "      <td>0.005274</td>\n",
              "      <td>[Bot]</td>\n",
              "      <td>1</td>\n",
              "    </tr>\n",
              "    <tr>\n",
              "      <th>10348</th>\n",
              "      <td>205.174.165.73</td>\n",
              "      <td>0.004628</td>\n",
              "      <td>[Bot]</td>\n",
              "      <td>1</td>\n",
              "    </tr>\n",
              "    <tr>\n",
              "      <th>10768</th>\n",
              "      <td>205.174.165.73</td>\n",
              "      <td>0.005203</td>\n",
              "      <td>[Bot]</td>\n",
              "      <td>1</td>\n",
              "    </tr>\n",
              "    <tr>\n",
              "      <th>11195</th>\n",
              "      <td>205.174.165.73</td>\n",
              "      <td>0.005204</td>\n",
              "      <td>[Bot]</td>\n",
              "      <td>1</td>\n",
              "    </tr>\n",
              "    <tr>\n",
              "      <th>11566</th>\n",
              "      <td>205.174.165.73</td>\n",
              "      <td>0.005286</td>\n",
              "      <td>[Bot]</td>\n",
              "      <td>1</td>\n",
              "    </tr>\n",
              "    <tr>\n",
              "      <th>12077</th>\n",
              "      <td>205.174.165.73</td>\n",
              "      <td>0.005304</td>\n",
              "      <td>[Bot]</td>\n",
              "      <td>1</td>\n",
              "    </tr>\n",
              "    <tr>\n",
              "      <th>12178</th>\n",
              "      <td>52.7.235.158</td>\n",
              "      <td>0.000352</td>\n",
              "      <td>[Bot]</td>\n",
              "      <td>1</td>\n",
              "    </tr>\n",
              "    <tr>\n",
              "      <th>12772</th>\n",
              "      <td>205.174.165.73</td>\n",
              "      <td>0.005287</td>\n",
              "      <td>[Bot]</td>\n",
              "      <td>1</td>\n",
              "    </tr>\n",
              "    <tr>\n",
              "      <th>13301</th>\n",
              "      <td>205.174.165.73</td>\n",
              "      <td>0.005285</td>\n",
              "      <td>[Bot]</td>\n",
              "      <td>1</td>\n",
              "    </tr>\n",
              "    <tr>\n",
              "      <th>13803</th>\n",
              "      <td>205.174.165.73</td>\n",
              "      <td>0.005288</td>\n",
              "      <td>[Bot]</td>\n",
              "      <td>1</td>\n",
              "    </tr>\n",
              "    <tr>\n",
              "      <th>14106</th>\n",
              "      <td>205.174.165.73</td>\n",
              "      <td>0.005292</td>\n",
              "      <td>[Bot]</td>\n",
              "      <td>1</td>\n",
              "    </tr>\n",
              "    <tr>\n",
              "      <th>14518</th>\n",
              "      <td>205.174.165.73</td>\n",
              "      <td>0.005289</td>\n",
              "      <td>[Bot]</td>\n",
              "      <td>1</td>\n",
              "    </tr>\n",
              "    <tr>\n",
              "      <th>15027</th>\n",
              "      <td>205.174.165.73</td>\n",
              "      <td>0.005289</td>\n",
              "      <td>[Bot]</td>\n",
              "      <td>1</td>\n",
              "    </tr>\n",
              "    <tr>\n",
              "      <th>15300</th>\n",
              "      <td>205.174.165.73</td>\n",
              "      <td>0.005292</td>\n",
              "      <td>[Bot]</td>\n",
              "      <td>1</td>\n",
              "    </tr>\n",
              "    <tr>\n",
              "      <th>15798</th>\n",
              "      <td>205.174.165.73</td>\n",
              "      <td>0.005295</td>\n",
              "      <td>[Bot]</td>\n",
              "      <td>1</td>\n",
              "    </tr>\n",
              "    <tr>\n",
              "      <th>15980</th>\n",
              "      <td>205.174.165.73</td>\n",
              "      <td>0.005298</td>\n",
              "      <td>[Bot]</td>\n",
              "      <td>1</td>\n",
              "    </tr>\n",
              "    <tr>\n",
              "      <th>16058</th>\n",
              "      <td>205.174.165.73</td>\n",
              "      <td>0.005284</td>\n",
              "      <td>[Bot]</td>\n",
              "      <td>1</td>\n",
              "    </tr>\n",
              "    <tr>\n",
              "      <th>16473</th>\n",
              "      <td>205.174.165.73</td>\n",
              "      <td>0.005288</td>\n",
              "      <td>[Bot]</td>\n",
              "      <td>1</td>\n",
              "    </tr>\n",
              "    <tr>\n",
              "      <th>16763</th>\n",
              "      <td>205.174.165.73</td>\n",
              "      <td>0.005284</td>\n",
              "      <td>[Bot]</td>\n",
              "      <td>1</td>\n",
              "    </tr>\n",
              "    <tr>\n",
              "      <th>16857</th>\n",
              "      <td>205.174.165.73</td>\n",
              "      <td>0.005288</td>\n",
              "      <td>[Bot]</td>\n",
              "      <td>1</td>\n",
              "    </tr>\n",
              "    <tr>\n",
              "      <th>16974</th>\n",
              "      <td>205.174.165.73</td>\n",
              "      <td>0.005290</td>\n",
              "      <td>[Bot]</td>\n",
              "      <td>1</td>\n",
              "    </tr>\n",
              "    <tr>\n",
              "      <th>17039</th>\n",
              "      <td>205.174.165.73</td>\n",
              "      <td>0.005290</td>\n",
              "      <td>[Bot]</td>\n",
              "      <td>1</td>\n",
              "    </tr>\n",
              "    <tr>\n",
              "      <th>17124</th>\n",
              "      <td>205.174.165.73</td>\n",
              "      <td>0.005286</td>\n",
              "      <td>[Bot]</td>\n",
              "      <td>1</td>\n",
              "    </tr>\n",
              "    <tr>\n",
              "      <th>17181</th>\n",
              "      <td>205.174.165.73</td>\n",
              "      <td>0.005285</td>\n",
              "      <td>[Bot]</td>\n",
              "      <td>1</td>\n",
              "    </tr>\n",
              "    <tr>\n",
              "      <th>17221</th>\n",
              "      <td>205.174.165.73</td>\n",
              "      <td>0.005284</td>\n",
              "      <td>[Bot]</td>\n",
              "      <td>1</td>\n",
              "    </tr>\n",
              "    <tr>\n",
              "      <th>17350</th>\n",
              "      <td>205.174.165.73</td>\n",
              "      <td>0.005286</td>\n",
              "      <td>[Bot]</td>\n",
              "      <td>1</td>\n",
              "    </tr>\n",
              "  </tbody>\n",
              "</table>\n",
              "</div>"
            ]
          },
          "metadata": {},
          "execution_count": 67
        }
      ]
    },
    {
      "cell_type": "code",
      "source": [
        "concat_result = pd.concat([\n",
        "    concat_result, result\n",
        "])"
      ],
      "metadata": {
        "id": "mKpYNjtshlkB"
      },
      "execution_count": 68,
      "outputs": []
    },
    {
      "cell_type": "code",
      "source": [
        "y_true = result['Num_Label'].values\n",
        "loss = result['loss'].values"
      ],
      "metadata": {
        "id": "InqStT-sKQmJ"
      },
      "execution_count": 69,
      "outputs": []
    },
    {
      "cell_type": "code",
      "source": [
        "bot_fp, bot_tp, _ = roc_curve(y_true, loss)\n",
        "roc_auc_score(y_true, loss)"
      ],
      "metadata": {
        "id": "in1gB3wxKQmK",
        "colab": {
          "base_uri": "https://localhost:8080/"
        },
        "outputId": "e77e5c3e-1471-4726-b4bc-b16b26148706"
      },
      "execution_count": 70,
      "outputs": [
        {
          "output_type": "execute_result",
          "data": {
            "text/plain": [
              "0.9621564244488598"
            ]
          },
          "metadata": {},
          "execution_count": 70
        }
      ]
    },
    {
      "cell_type": "code",
      "source": [
        "theta = best_f1(y_true, loss)"
      ],
      "metadata": {
        "id": "sbccFhwMKQmK",
        "colab": {
          "base_uri": "https://localhost:8080/"
        },
        "outputId": "34842be5-13c4-4813-ed55-bc445d8453c5"
      },
      "execution_count": 71,
      "outputs": [
        {
          "output_type": "stream",
          "name": "stdout",
          "text": [
            "theta :  0.005200000000000001\n",
            "accuracy :  0.9978139561640683\n",
            "recall :  0.7692307692307693\n",
            "precision:  0.5084745762711864\n",
            "f1-score :  0.6122448979591837\n"
          ]
        }
      ]
    },
    {
      "cell_type": "code",
      "source": [
        "_, axs = plt.subplots(2,1, figsize=(22,14))\n",
        "titles = ['benign', 'attack']\n",
        "\n",
        "for i in range(2):\n",
        "    axs[i].hist(result[result['Num_Label'] == i]['loss'], bins=200, range=(0,0.1))\n",
        "    axs[i].axvline(x=theta, color='r', linestyle='--')\n",
        "    axs[i].set_title(titles[i])\n"
      ],
      "metadata": {
        "id": "gO-MEiUrKQmK",
        "colab": {
          "base_uri": "https://localhost:8080/",
          "height": 825
        },
        "outputId": "a9a7f9a0-fc80-416a-d626-20dddb36c3e9"
      },
      "execution_count": 72,
      "outputs": [
        {
          "output_type": "display_data",
          "data": {
            "text/plain": [
              "<Figure size 1584x1008 with 2 Axes>"
            ],
            "image/png": "[encoded data removed]"
          },
          "metadata": {
            "needs_background": "light"
          }
        }
      ]
    },
    {
      "cell_type": "markdown",
      "source": [
        "## ROC 곡선 그리기"
      ],
      "metadata": {
        "id": "piVV2qQDQPyL"
      }
    },
    {
      "cell_type": "code",
      "source": [
        "plt.figure(figsize=(22,14))\n",
        "\n",
        "plt.plot(tues_fp, tues_tp, color='red', label='tuesday')\n",
        "plt.plot(wednes_fp, wednes_tp, color='blue', label='wednesday')\n",
        "plt.plot(fri_fp, fri_tp, color='green', label='friday')\n",
        "plt.plot(bot_fp, bot_tp, color='pink', label='Bot-attack')\n",
        "plt.plot([0, 1], [0, 1], color='black', linestyle='--')\n",
        "plt.xlabel('False Positive Rate')\n",
        "plt.ylabel('True Positive Rate')\n",
        "plt.title('IPOD_EXPAND')\n",
        "plt.legend()\n",
        "plt.show()"
      ],
      "metadata": {
        "id": "ZjA1ktZhKMSs",
        "colab": {
          "base_uri": "https://localhost:8080/",
          "height": 839
        },
        "outputId": "7a4bf553-6126-47b5-f98b-61bd0c5c2e51"
      },
      "execution_count": 73,
      "outputs": [
        {
          "output_type": "display_data",
          "data": {
            "text/plain": [
              "<Figure size 1584x1008 with 1 Axes>"
            ],
            "image/png": "[encoded data removed]"
          },
          "metadata": {
            "needs_background": "light"
          }
        }
      ]
    },
    {
      "cell_type": "code",
      "source": [
        "concat_result[concat_result['Num_Label']==1].describe()"
      ],
      "metadata": {
        "id": "Z7o-hnC-QoxV",
        "colab": {
          "base_uri": "https://localhost:8080/",
          "height": 300
        },
        "outputId": "e2a61721-a11d-4133-e554-27e76057bd62"
      },
      "execution_count": 74,
      "outputs": [
        {
          "output_type": "execute_result",
          "data": {
            "text/plain": [
              "              loss\n",
              "count   113.000000\n",
              "mean     35.176289\n",
              "std     177.818539\n",
              "min       0.000005\n",
              "25%       0.001440\n",
              "50%       0.005286\n",
              "75%       0.055132\n",
              "max    1190.266846"
            ],
            "text/html": [
              "<div>\n",
              "<style scoped>\n",
              "    .dataframe tbody tr th:only-of-type {\n",
              "        vertical-align: middle;\n",
              "    }\n",
              "\n",
              "    .dataframe tbody tr th {\n",
              "        vertical-align: top;\n",
              "    }\n",
              "\n",
              "    .dataframe thead th {\n",
              "        text-align: right;\n",
              "    }\n",
              "</style>\n",
              "<table border=\"1\" class=\"dataframe\">\n",
              "  <thead>\n",
              "    <tr style=\"text-align: right;\">\n",
              "      <th></th>\n",
              "      <th>loss</th>\n",
              "    </tr>\n",
              "  </thead>\n",
              "  <tbody>\n",
              "    <tr>\n",
              "      <th>count</th>\n",
              "      <td>113.000000</td>\n",
              "    </tr>\n",
              "    <tr>\n",
              "      <th>mean</th>\n",
              "      <td>35.176289</td>\n",
              "    </tr>\n",
              "    <tr>\n",
              "      <th>std</th>\n",
              "      <td>177.818539</td>\n",
              "    </tr>\n",
              "    <tr>\n",
              "      <th>min</th>\n",
              "      <td>0.000005</td>\n",
              "    </tr>\n",
              "    <tr>\n",
              "      <th>25%</th>\n",
              "      <td>0.001440</td>\n",
              "    </tr>\n",
              "    <tr>\n",
              "      <th>50%</th>\n",
              "      <td>0.005286</td>\n",
              "    </tr>\n",
              "    <tr>\n",
              "      <th>75%</th>\n",
              "      <td>0.055132</td>\n",
              "    </tr>\n",
              "    <tr>\n",
              "      <th>max</th>\n",
              "      <td>1190.266846</td>\n",
              "    </tr>\n",
              "  </tbody>\n",
              "</table>\n",
              "</div>"
            ]
          },
          "metadata": {},
          "execution_count": 74
        }
      ]
    },
    {
      "cell_type": "code",
      "source": [
        "y_true = concat_result['Num_Label'].values\n",
        "y_true = y_true.astype(np.int64)\n",
        "loss = concat_result['loss'].values"
      ],
      "metadata": {
        "id": "0cHJPfDEhuQj"
      },
      "execution_count": 75,
      "outputs": []
    },
    {
      "cell_type": "code",
      "source": [
        "y_true"
      ],
      "metadata": {
        "id": "jOvRxr1spblT",
        "colab": {
          "base_uri": "https://localhost:8080/"
        },
        "outputId": "e49b5a86-a5eb-41c2-95a5-e6c3122d8d86"
      },
      "execution_count": 76,
      "outputs": [
        {
          "output_type": "execute_result",
          "data": {
            "text/plain": [
              "array([0, 0, 0, ..., 0, 0, 0], dtype=int64)"
            ]
          },
          "metadata": {},
          "execution_count": 76
        }
      ]
    },
    {
      "cell_type": "code",
      "source": [
        "roc_auc_score(y_true, loss)"
      ],
      "metadata": {
        "id": "FjiCEoP4huQk",
        "colab": {
          "base_uri": "https://localhost:8080/"
        },
        "outputId": "2a40c4e8-736e-4be1-819d-610122807ada"
      },
      "execution_count": 77,
      "outputs": [
        {
          "output_type": "execute_result",
          "data": {
            "text/plain": [
              "0.9796452213026497"
            ]
          },
          "metadata": {},
          "execution_count": 77
        }
      ]
    },
    {
      "cell_type": "code",
      "source": [
        "theta = best_f1(y_true, loss)"
      ],
      "metadata": {
        "id": "2IjkXZbjhuQk",
        "colab": {
          "base_uri": "https://localhost:8080/"
        },
        "outputId": "60c10794-c6ed-4feb-dba2-43d7135d597a"
      },
      "execution_count": 78,
      "outputs": [
        {
          "output_type": "stream",
          "name": "stdout",
          "text": [
            "theta :  0.028299999999999884\n",
            "accuracy :  0.998993104564293\n",
            "recall :  0.34513274336283184\n",
            "precision:  0.5064935064935064\n",
            "f1-score :  0.41052631578947363\n"
          ]
        }
      ]
    },
    {
      "cell_type": "code",
      "source": [
        "_, axs = plt.subplots(2,1, figsize=(22,14))\n",
        "titles = ['benign', 'attack']\n",
        "\n",
        "for i in range(2):\n",
        "    axs[i].hist(concat_result[concat_result['Num_Label'] == i]['loss'], bins=200, range=(0,0.1))\n",
        "    axs[i].axvline(x=theta, color='r', linestyle='--')\n",
        "    axs[i].set_title(titles[i])\n"
      ],
      "metadata": {
        "id": "3oXwrTCHq3NL",
        "colab": {
          "base_uri": "https://localhost:8080/",
          "height": 825
        },
        "outputId": "9b05cf78-2532-4134-a912-a49d825f376b"
      },
      "execution_count": 79,
      "outputs": [
        {
          "output_type": "display_data",
          "data": {
            "text/plain": [
              "<Figure size 1584x1008 with 2 Axes>"
            ],
            "image/png": "[encoded data removed]"
          },
          "metadata": {
            "needs_background": "light"
          }
        }
      ]
    }
  ]
}