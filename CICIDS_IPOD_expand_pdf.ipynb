{
  "nbformat": 4,
  "nbformat_minor": 0,
  "metadata": {
    "colab": {
      "provenance": []
    },
    "kernelspec": {
      "name": "python3",
      "display_name": "Python 3"
    },
    "language_info": {
      "name": "python"
    },
    "widgets": {
      "application/vnd.jupyter.widget-state+json": {
        "ed3c7ee402b5488798c30e75e0c36d45": {
          "model_module": "@jupyter-widgets/controls",
          "model_name": "HBoxModel",
          "model_module_version": "1.5.0",
          "state": {
            "_dom_classes": [],
            "_model_module": "@jupyter-widgets/controls",
            "_model_module_version": "1.5.0",
            "_model_name": "HBoxModel",
            "_view_count": null,
            "_view_module": "@jupyter-widgets/controls",
            "_view_module_version": "1.5.0",
            "_view_name": "HBoxView",
            "box_style": "",
            "children": [
              "IPY_MODEL_aaf7227124414253bbfff02fcffeb76f",
              "IPY_MODEL_50222c193373494282b4547e90c924e2",
              "IPY_MODEL_4dc6b20522b14dee828af6e50200272e"
            ],
            "layout": "IPY_MODEL_61bfcf983d374257a60b8297d9f0b7ea"
          }
        },
        "aaf7227124414253bbfff02fcffeb76f": {
          "model_module": "@jupyter-widgets/controls",
          "model_name": "HTMLModel",
          "model_module_version": "1.5.0",
          "state": {
            "_dom_classes": [],
            "_model_module": "@jupyter-widgets/controls",
            "_model_module_version": "1.5.0",
            "_model_name": "HTMLModel",
            "_view_count": null,
            "_view_module": "@jupyter-widgets/controls",
            "_view_module_version": "1.5.0",
            "_view_name": "HTMLView",
            "description": "",
            "description_tooltip": null,
            "layout": "IPY_MODEL_8202dcb28e7f4f5ba75fde7c38819987",
            "placeholder": "​",
            "style": "IPY_MODEL_f2cedfff5db5420ca26a96688bb1d4d4",
            "value": "100%"
          }
        },
        "50222c193373494282b4547e90c924e2": {
          "model_module": "@jupyter-widgets/controls",
          "model_name": "FloatProgressModel",
          "model_module_version": "1.5.0",
          "state": {
            "_dom_classes": [],
            "_model_module": "@jupyter-widgets/controls",
            "_model_module_version": "1.5.0",
            "_model_name": "FloatProgressModel",
            "_view_count": null,
            "_view_module": "@jupyter-widgets/controls",
            "_view_module_version": "1.5.0",
            "_view_name": "ProgressView",
            "bar_style": "success",
            "description": "",
            "description_tooltip": null,
            "layout": "IPY_MODEL_36a4a7b0afd24a22b23e7d4f08c7bbfe",
            "max": 300,
            "min": 0,
            "orientation": "horizontal",
            "style": "IPY_MODEL_ec5b06c920eb475e9f4a3a5f6a16b7be",
            "value": 300
          }
        },
        "4dc6b20522b14dee828af6e50200272e": {
          "model_module": "@jupyter-widgets/controls",
          "model_name": "HTMLModel",
          "model_module_version": "1.5.0",
          "state": {
            "_dom_classes": [],
            "_model_module": "@jupyter-widgets/controls",
            "_model_module_version": "1.5.0",
            "_model_name": "HTMLModel",
            "_view_count": null,
            "_view_module": "@jupyter-widgets/controls",
            "_view_module_version": "1.5.0",
            "_view_name": "HTMLView",
            "description": "",
            "description_tooltip": null,
            "layout": "IPY_MODEL_e8fb4b7035f44ed38460122b2a81458b",
            "placeholder": "​",
            "style": "IPY_MODEL_42a13f8cfd034e79b78a7dccf856c705",
            "value": " 300/300 [08:38&lt;00:00,  1.84s/it, ae_loss=4.746224976115471e-06]"
          }
        },
        "61bfcf983d374257a60b8297d9f0b7ea": {
          "model_module": "@jupyter-widgets/base",
          "model_name": "LayoutModel",
          "model_module_version": "1.2.0",
          "state": {
            "_model_module": "@jupyter-widgets/base",
            "_model_module_version": "1.2.0",
            "_model_name": "LayoutModel",
            "_view_count": null,
            "_view_module": "@jupyter-widgets/base",
            "_view_module_version": "1.2.0",
            "_view_name": "LayoutView",
            "align_content": null,
            "align_items": null,
            "align_self": null,
            "border": null,
            "bottom": null,
            "display": null,
            "flex": null,
            "flex_flow": null,
            "grid_area": null,
            "grid_auto_columns": null,
            "grid_auto_flow": null,
            "grid_auto_rows": null,
            "grid_column": null,
            "grid_gap": null,
            "grid_row": null,
            "grid_template_areas": null,
            "grid_template_columns": null,
            "grid_template_rows": null,
            "height": null,
            "justify_content": null,
            "justify_items": null,
            "left": null,
            "margin": null,
            "max_height": null,
            "max_width": null,
            "min_height": null,
            "min_width": null,
            "object_fit": null,
            "object_position": null,
            "order": null,
            "overflow": null,
            "overflow_x": null,
            "overflow_y": null,
            "padding": null,
            "right": null,
            "top": null,
            "visibility": null,
            "width": null
          }
        },
        "8202dcb28e7f4f5ba75fde7c38819987": {
          "model_module": "@jupyter-widgets/base",
          "model_name": "LayoutModel",
          "model_module_version": "1.2.0",
          "state": {
            "_model_module": "@jupyter-widgets/base",
            "_model_module_version": "1.2.0",
            "_model_name": "LayoutModel",
            "_view_count": null,
            "_view_module": "@jupyter-widgets/base",
            "_view_module_version": "1.2.0",
            "_view_name": "LayoutView",
            "align_content": null,
            "align_items": null,
            "align_self": null,
            "border": null,
            "bottom": null,
            "display": null,
            "flex": null,
            "flex_flow": null,
            "grid_area": null,
            "grid_auto_columns": null,
            "grid_auto_flow": null,
            "grid_auto_rows": null,
            "grid_column": null,
            "grid_gap": null,
            "grid_row": null,
            "grid_template_areas": null,
            "grid_template_columns": null,
            "grid_template_rows": null,
            "height": null,
            "justify_content": null,
            "justify_items": null,
            "left": null,
            "margin": null,
            "max_height": null,
            "max_width": null,
            "min_height": null,
            "min_width": null,
            "object_fit": null,
            "object_position": null,
            "order": null,
            "overflow": null,
            "overflow_x": null,
            "overflow_y": null,
            "padding": null,
            "right": null,
            "top": null,
            "visibility": null,
            "width": null
          }
        },
        "f2cedfff5db5420ca26a96688bb1d4d4": {
          "model_module": "@jupyter-widgets/controls",
          "model_name": "DescriptionStyleModel",
          "model_module_version": "1.5.0",
          "state": {
            "_model_module": "@jupyter-widgets/controls",
            "_model_module_version": "1.5.0",
            "_model_name": "DescriptionStyleModel",
            "_view_count": null,
            "_view_module": "@jupyter-widgets/base",
            "_view_module_version": "1.2.0",
            "_view_name": "StyleView",
            "description_width": ""
          }
        },
        "36a4a7b0afd24a22b23e7d4f08c7bbfe": {
          "model_module": "@jupyter-widgets/base",
          "model_name": "LayoutModel",
          "model_module_version": "1.2.0",
          "state": {
            "_model_module": "@jupyter-widgets/base",
            "_model_module_version": "1.2.0",
            "_model_name": "LayoutModel",
            "_view_count": null,
            "_view_module": "@jupyter-widgets/base",
            "_view_module_version": "1.2.0",
            "_view_name": "LayoutView",
            "align_content": null,
            "align_items": null,
            "align_self": null,
            "border": null,
            "bottom": null,
            "display": null,
            "flex": null,
            "flex_flow": null,
            "grid_area": null,
            "grid_auto_columns": null,
            "grid_auto_flow": null,
            "grid_auto_rows": null,
            "grid_column": null,
            "grid_gap": null,
            "grid_row": null,
            "grid_template_areas": null,
            "grid_template_columns": null,
            "grid_template_rows": null,
            "height": null,
            "justify_content": null,
            "justify_items": null,
            "left": null,
            "margin": null,
            "max_height": null,
            "max_width": null,
            "min_height": null,
            "min_width": null,
            "object_fit": null,
            "object_position": null,
            "order": null,
            "overflow": null,
            "overflow_x": null,
            "overflow_y": null,
            "padding": null,
            "right": null,
            "top": null,
            "visibility": null,
            "width": null
          }
        },
        "ec5b06c920eb475e9f4a3a5f6a16b7be": {
          "model_module": "@jupyter-widgets/controls",
          "model_name": "ProgressStyleModel",
          "model_module_version": "1.5.0",
          "state": {
            "_model_module": "@jupyter-widgets/controls",
            "_model_module_version": "1.5.0",
            "_model_name": "ProgressStyleModel",
            "_view_count": null,
            "_view_module": "@jupyter-widgets/base",
            "_view_module_version": "1.2.0",
            "_view_name": "StyleView",
            "bar_color": null,
            "description_width": ""
          }
        },
        "e8fb4b7035f44ed38460122b2a81458b": {
          "model_module": "@jupyter-widgets/base",
          "model_name": "LayoutModel",
          "model_module_version": "1.2.0",
          "state": {
            "_model_module": "@jupyter-widgets/base",
            "_model_module_version": "1.2.0",
            "_model_name": "LayoutModel",
            "_view_count": null,
            "_view_module": "@jupyter-widgets/base",
            "_view_module_version": "1.2.0",
            "_view_name": "LayoutView",
            "align_content": null,
            "align_items": null,
            "align_self": null,
            "border": null,
            "bottom": null,
            "display": null,
            "flex": null,
            "flex_flow": null,
            "grid_area": null,
            "grid_auto_columns": null,
            "grid_auto_flow": null,
            "grid_auto_rows": null,
            "grid_column": null,
            "grid_gap": null,
            "grid_row": null,
            "grid_template_areas": null,
            "grid_template_columns": null,
            "grid_template_rows": null,
            "height": null,
            "justify_content": null,
            "justify_items": null,
            "left": null,
            "margin": null,
            "max_height": null,
            "max_width": null,
            "min_height": null,
            "min_width": null,
            "object_fit": null,
            "object_position": null,
            "order": null,
            "overflow": null,
            "overflow_x": null,
            "overflow_y": null,
            "padding": null,
            "right": null,
            "top": null,
            "visibility": null,
            "width": null
          }
        },
        "42a13f8cfd034e79b78a7dccf856c705": {
          "model_module": "@jupyter-widgets/controls",
          "model_name": "DescriptionStyleModel",
          "model_module_version": "1.5.0",
          "state": {
            "_model_module": "@jupyter-widgets/controls",
            "_model_module_version": "1.5.0",
            "_model_name": "DescriptionStyleModel",
            "_view_count": null,
            "_view_module": "@jupyter-widgets/base",
            "_view_module_version": "1.2.0",
            "_view_name": "StyleView",
            "description_width": ""
          }
        }
      }
    }
  },
  "cells": [
    {
      "cell_type": "code",
      "execution_count": 1,
      "metadata": {
        "id": "iSgw8nzszs6r"
      },
      "outputs": [],
      "source": [
        "import matplotlib.pyplot as plt \n",
        "import numpy as np \n",
        "import os \n",
        "import pandas as pd\n",
        "import seaborn as sns"
      ]
    },
    {
      "cell_type": "code",
      "source": [
        "files = []\n",
        "for dirname, _, filenames in os.walk('./data/raw'):\n",
        "    for filename in filenames:\n",
        "        files.append(os.path.join(dirname, filename))\n",
        "        print(os.path.join(dirname, filename))"
      ],
      "metadata": {
        "colab": {
          "base_uri": "https://localhost:8080/"
        },
        "id": "0A6T1MtMzwD1",
        "outputId": "7358a8b8-1fa2-4002-dd00-92a86d5cde5d"
      },
      "execution_count": 2,
      "outputs": [
        {
          "output_type": "stream",
          "name": "stdout",
          "text": [
            "./data/raw\\Friday-WorkingHours-Afternoon-DDos.pcap_ISCX.csv\n",
            "./data/raw\\Friday-WorkingHours-Afternoon-PortScan.pcap_ISCX.csv\n",
            "./data/raw\\Friday-WorkingHours-Morning.pcap_ISCX.csv\n",
            "./data/raw\\Monday-WorkingHours.pcap_ISCX.csv\n",
            "./data/raw\\Thursday-WorkingHours-Afternoon-Infilteration.pcap_ISCX.csv\n",
            "./data/raw\\Thursday-WorkingHours-Morning-WebAttacks.pcap_ISCX.csv\n",
            "./data/raw\\Tuesday-WorkingHours.pcap_ISCX.csv\n",
            "./data/raw\\Wednesday-workingHours.pcap_ISCX.csv\n"
          ]
        }
      ]
    },
    {
      "cell_type": "code",
      "source": [
        "files = [\n",
        "    [\n",
        "        # Train - 월요일\n",
        "        './data/raw\\Monday-WorkingHours.pcap_ISCX.csv'\n",
        "    ],\n",
        "    [\n",
        "        # Test - 화요일\n",
        "        './data/raw\\Tuesday-WorkingHours.pcap_ISCX.csv'\n",
        "    ],\n",
        "    [\n",
        "        # Test - 수요일\n",
        "        './data/raw\\Wednesday-workingHours.pcap_ISCX.csv'\n",
        "    ], \n",
        "    # 목요일은 에러로 인해 작동 X\n",
        "    [\n",
        "        # Test - 금요일\n",
        "        './data/raw\\Friday-WorkingHours-Afternoon-DDos.pcap_ISCX.csv',\n",
        "        './data/raw\\Friday-WorkingHours-Afternoon-PortScan.pcap_ISCX.csv',\n",
        "    ],\n",
        "    [\n",
        "        # Test - 금요일_Bot\n",
        "        './data/raw\\Friday-WorkingHours-Morning.pcap_ISCX.csv',\n",
        "    ],\n",
        "]"
      ],
      "metadata": {
        "id": "NPhAoRd1ySRN"
      },
      "execution_count": 3,
      "outputs": []
    },
    {
      "cell_type": "markdown",
      "source": [
        "# Train Data"
      ],
      "metadata": {
        "id": "6GPySwkk0eki"
      }
    },
    {
      "cell_type": "code",
      "source": [
        "from Utils import FlowReader"
      ],
      "metadata": {
        "id": "8PyFRVhs3Nyr"
      },
      "execution_count": 4,
      "outputs": []
    },
    {
      "cell_type": "code",
      "source": [
        "trainSet = FlowReader.read_csv(files[0])"
      ],
      "metadata": {
        "id": "q-mbUXCr0Lri"
      },
      "execution_count": 5,
      "outputs": []
    },
    {
      "cell_type": "markdown",
      "source": [
        "## 프로파일링"
      ],
      "metadata": {
        "id": "Em7hFAtP0c5Q"
      }
    },
    {
      "cell_type": "code",
      "source": [
        "from Utils import FlowProfiler"
      ],
      "metadata": {
        "id": "xAS6FIuS0DYl"
      },
      "execution_count": 6,
      "outputs": []
    },
    {
      "cell_type": "code",
      "source": [
        "FlowProfiler.UNIT_TIME=5"
      ],
      "metadata": {
        "id": "GdqRllnfaNLW"
      },
      "execution_count": 7,
      "outputs": []
    },
    {
      "cell_type": "code",
      "source": [
        "trainSet = FlowProfiler.preprocessing(trainSet, mode=\"expand\")"
      ],
      "metadata": {
        "id": "GRmkTpsQ6a1n"
      },
      "execution_count": 8,
      "outputs": []
    },
    {
      "cell_type": "code",
      "source": [
        "trainSet"
      ],
      "metadata": {
        "id": "_JtAoxi-89w6",
        "colab": {
          "base_uri": "https://localhost:8080/",
          "height": 444
        },
        "outputId": "34a7024a-ab90-490c-f4e4-951f733fe950"
      },
      "execution_count": 9,
      "outputs": [
        {
          "output_type": "execute_result",
          "data": {
            "text/plain": [
              "               Key_IP  Key_inner_port  Key_outer_port  Inner_port_freq  \\\n",
              "0       8.254.250.126           49188              80         1.000000   \n",
              "1       8.253.185.121           49486              80         1.000000   \n",
              "2        192.168.10.9              88            1029         0.359551   \n",
              "3        192.168.10.3             137             389         0.150000   \n",
              "4        69.31.33.224            1057              80         1.000000   \n",
              "...               ...             ...             ...              ...   \n",
              "47692   184.25.56.202            7173              80         1.000000   \n",
              "47693  184.50.238.170           56432              80         1.000000   \n",
              "47694    52.52.86.145           44944             443         1.000000   \n",
              "47695   54.236.177.89           55806             443         1.000000   \n",
              "47696   91.189.89.198             123             123         1.000000   \n",
              "\n",
              "       Outer_port_freq  Pst_per_flows  Card_inner_ip  Card_inner_port  \\\n",
              "0             1.000000       0.250000              1                1   \n",
              "1             1.000000       0.250000              1                1   \n",
              "2             0.033708       0.595506              1               12   \n",
              "3             0.450000       0.400000              4               14   \n",
              "4             1.000000       1.000000              1                1   \n",
              "...                ...            ...            ...              ...   \n",
              "47692         1.000000       1.000000              1                1   \n",
              "47693         1.000000       1.000000              1                1   \n",
              "47694         1.000000       1.000000              1                1   \n",
              "47695         1.000000       1.000000              1                1   \n",
              "47696         1.000000       1.000000              1                1   \n",
              "\n",
              "       Card_outer_port  Sum_inner_pkts  ...  Median_inner_bytes  \\\n",
              "0                    1               0  ...                 0.0   \n",
              "1                    1               0  ...                 0.0   \n",
              "2                   67             534  ...               280.0   \n",
              "3                    7              24  ...                 3.0   \n",
              "4                    1               5  ...                57.5   \n",
              "...                ...             ...  ...                 ...   \n",
              "47692                1               1  ...                 6.0   \n",
              "47693                1               1  ...                 6.0   \n",
              "47694                1              14  ...              2399.0   \n",
              "47695                1              15  ...               776.0   \n",
              "47696                1               1  ...                48.0   \n",
              "\n",
              "       Min_outer_pkts  Max_outer_pkts  Median_outer_pkts  Min_outer_bytes  \\\n",
              "0                   2               2                2.0             12.0   \n",
              "1                   2               2                2.0             12.0   \n",
              "2                   1              45                2.0              6.0   \n",
              "3                   1               6                2.0              6.0   \n",
              "4                   0               4                2.0              0.0   \n",
              "...               ...             ...                ...              ...   \n",
              "47692               1               1                1.0              6.0   \n",
              "47693               1               1                1.0              6.0   \n",
              "47694              13              13               13.0           4752.0   \n",
              "47695              13              13               13.0           5955.0   \n",
              "47696               1               1                1.0             48.0   \n",
              "\n",
              "       Max_outer_bytes  Median_outer_bytes   Min_dur   Max_dur  Median_dur  \n",
              "0                 12.0                12.0         1         4         1.0  \n",
              "1                 12.0                12.0         1         3         1.0  \n",
              "2              12254.0               204.0         3  83068408       740.0  \n",
              "3                300.0                12.0         0   3077743        48.0  \n",
              "4                191.0                95.5         4     40643     20323.5  \n",
              "...                ...                 ...       ...       ...         ...  \n",
              "47692              6.0                 6.0        42        42        42.0  \n",
              "47693              6.0                 6.0        42        42        42.0  \n",
              "47694           4752.0              4752.0  52656124  52656124  52656124.0  \n",
              "47695           5955.0              5955.0  51998174  51998174  51998174.0  \n",
              "47696             48.0                48.0     94265     94265     94265.0  \n",
              "\n",
              "[47697 rows x 40 columns]"
            ],
            "text/html": [
              "<div>\n",
              "<style scoped>\n",
              "    .dataframe tbody tr th:only-of-type {\n",
              "        vertical-align: middle;\n",
              "    }\n",
              "\n",
              "    .dataframe tbody tr th {\n",
              "        vertical-align: top;\n",
              "    }\n",
              "\n",
              "    .dataframe thead th {\n",
              "        text-align: right;\n",
              "    }\n",
              "</style>\n",
              "<table border=\"1\" class=\"dataframe\">\n",
              "  <thead>\n",
              "    <tr style=\"text-align: right;\">\n",
              "      <th></th>\n",
              "      <th>Key_IP</th>\n",
              "      <th>Key_inner_port</th>\n",
              "      <th>Key_outer_port</th>\n",
              "      <th>Inner_port_freq</th>\n",
              "      <th>Outer_port_freq</th>\n",
              "      <th>Pst_per_flows</th>\n",
              "      <th>Card_inner_ip</th>\n",
              "      <th>Card_inner_port</th>\n",
              "      <th>Card_outer_port</th>\n",
              "      <th>Sum_inner_pkts</th>\n",
              "      <th>...</th>\n",
              "      <th>Median_inner_bytes</th>\n",
              "      <th>Min_outer_pkts</th>\n",
              "      <th>Max_outer_pkts</th>\n",
              "      <th>Median_outer_pkts</th>\n",
              "      <th>Min_outer_bytes</th>\n",
              "      <th>Max_outer_bytes</th>\n",
              "      <th>Median_outer_bytes</th>\n",
              "      <th>Min_dur</th>\n",
              "      <th>Max_dur</th>\n",
              "      <th>Median_dur</th>\n",
              "    </tr>\n",
              "  </thead>\n",
              "  <tbody>\n",
              "    <tr>\n",
              "      <th>0</th>\n",
              "      <td>8.254.250.126</td>\n",
              "      <td>49188</td>\n",
              "      <td>80</td>\n",
              "      <td>1.000000</td>\n",
              "      <td>1.000000</td>\n",
              "      <td>0.250000</td>\n",
              "      <td>1</td>\n",
              "      <td>1</td>\n",
              "      <td>1</td>\n",
              "      <td>0</td>\n",
              "      <td>...</td>\n",
              "      <td>0.0</td>\n",
              "      <td>2</td>\n",
              "      <td>2</td>\n",
              "      <td>2.0</td>\n",
              "      <td>12.0</td>\n",
              "      <td>12.0</td>\n",
              "      <td>12.0</td>\n",
              "      <td>1</td>\n",
              "      <td>4</td>\n",
              "      <td>1.0</td>\n",
              "    </tr>\n",
              "    <tr>\n",
              "      <th>1</th>\n",
              "      <td>8.253.185.121</td>\n",
              "      <td>49486</td>\n",
              "      <td>80</td>\n",
              "      <td>1.000000</td>\n",
              "      <td>1.000000</td>\n",
              "      <td>0.250000</td>\n",
              "      <td>1</td>\n",
              "      <td>1</td>\n",
              "      <td>1</td>\n",
              "      <td>0</td>\n",
              "      <td>...</td>\n",
              "      <td>0.0</td>\n",
              "      <td>2</td>\n",
              "      <td>2</td>\n",
              "      <td>2.0</td>\n",
              "      <td>12.0</td>\n",
              "      <td>12.0</td>\n",
              "      <td>12.0</td>\n",
              "      <td>1</td>\n",
              "      <td>3</td>\n",
              "      <td>1.0</td>\n",
              "    </tr>\n",
              "    <tr>\n",
              "      <th>2</th>\n",
              "      <td>192.168.10.9</td>\n",
              "      <td>88</td>\n",
              "      <td>1029</td>\n",
              "      <td>0.359551</td>\n",
              "      <td>0.033708</td>\n",
              "      <td>0.595506</td>\n",
              "      <td>1</td>\n",
              "      <td>12</td>\n",
              "      <td>67</td>\n",
              "      <td>534</td>\n",
              "      <td>...</td>\n",
              "      <td>280.0</td>\n",
              "      <td>1</td>\n",
              "      <td>45</td>\n",
              "      <td>2.0</td>\n",
              "      <td>6.0</td>\n",
              "      <td>12254.0</td>\n",
              "      <td>204.0</td>\n",
              "      <td>3</td>\n",
              "      <td>83068408</td>\n",
              "      <td>740.0</td>\n",
              "    </tr>\n",
              "    <tr>\n",
              "      <th>3</th>\n",
              "      <td>192.168.10.3</td>\n",
              "      <td>137</td>\n",
              "      <td>389</td>\n",
              "      <td>0.150000</td>\n",
              "      <td>0.450000</td>\n",
              "      <td>0.400000</td>\n",
              "      <td>4</td>\n",
              "      <td>14</td>\n",
              "      <td>7</td>\n",
              "      <td>24</td>\n",
              "      <td>...</td>\n",
              "      <td>3.0</td>\n",
              "      <td>1</td>\n",
              "      <td>6</td>\n",
              "      <td>2.0</td>\n",
              "      <td>6.0</td>\n",
              "      <td>300.0</td>\n",
              "      <td>12.0</td>\n",
              "      <td>0</td>\n",
              "      <td>3077743</td>\n",
              "      <td>48.0</td>\n",
              "    </tr>\n",
              "    <tr>\n",
              "      <th>4</th>\n",
              "      <td>69.31.33.224</td>\n",
              "      <td>1057</td>\n",
              "      <td>80</td>\n",
              "      <td>1.000000</td>\n",
              "      <td>1.000000</td>\n",
              "      <td>1.000000</td>\n",
              "      <td>1</td>\n",
              "      <td>1</td>\n",
              "      <td>1</td>\n",
              "      <td>5</td>\n",
              "      <td>...</td>\n",
              "      <td>57.5</td>\n",
              "      <td>0</td>\n",
              "      <td>4</td>\n",
              "      <td>2.0</td>\n",
              "      <td>0.0</td>\n",
              "      <td>191.0</td>\n",
              "      <td>95.5</td>\n",
              "      <td>4</td>\n",
              "      <td>40643</td>\n",
              "      <td>20323.5</td>\n",
              "    </tr>\n",
              "    <tr>\n",
              "      <th>...</th>\n",
              "      <td>...</td>\n",
              "      <td>...</td>\n",
              "      <td>...</td>\n",
              "      <td>...</td>\n",
              "      <td>...</td>\n",
              "      <td>...</td>\n",
              "      <td>...</td>\n",
              "      <td>...</td>\n",
              "      <td>...</td>\n",
              "      <td>...</td>\n",
              "      <td>...</td>\n",
              "      <td>...</td>\n",
              "      <td>...</td>\n",
              "      <td>...</td>\n",
              "      <td>...</td>\n",
              "      <td>...</td>\n",
              "      <td>...</td>\n",
              "      <td>...</td>\n",
              "      <td>...</td>\n",
              "      <td>...</td>\n",
              "      <td>...</td>\n",
              "    </tr>\n",
              "    <tr>\n",
              "      <th>47692</th>\n",
              "      <td>184.25.56.202</td>\n",
              "      <td>7173</td>\n",
              "      <td>80</td>\n",
              "      <td>1.000000</td>\n",
              "      <td>1.000000</td>\n",
              "      <td>1.000000</td>\n",
              "      <td>1</td>\n",
              "      <td>1</td>\n",
              "      <td>1</td>\n",
              "      <td>1</td>\n",
              "      <td>...</td>\n",
              "      <td>6.0</td>\n",
              "      <td>1</td>\n",
              "      <td>1</td>\n",
              "      <td>1.0</td>\n",
              "      <td>6.0</td>\n",
              "      <td>6.0</td>\n",
              "      <td>6.0</td>\n",
              "      <td>42</td>\n",
              "      <td>42</td>\n",
              "      <td>42.0</td>\n",
              "    </tr>\n",
              "    <tr>\n",
              "      <th>47693</th>\n",
              "      <td>184.50.238.170</td>\n",
              "      <td>56432</td>\n",
              "      <td>80</td>\n",
              "      <td>1.000000</td>\n",
              "      <td>1.000000</td>\n",
              "      <td>1.000000</td>\n",
              "      <td>1</td>\n",
              "      <td>1</td>\n",
              "      <td>1</td>\n",
              "      <td>1</td>\n",
              "      <td>...</td>\n",
              "      <td>6.0</td>\n",
              "      <td>1</td>\n",
              "      <td>1</td>\n",
              "      <td>1.0</td>\n",
              "      <td>6.0</td>\n",
              "      <td>6.0</td>\n",
              "      <td>6.0</td>\n",
              "      <td>42</td>\n",
              "      <td>42</td>\n",
              "      <td>42.0</td>\n",
              "    </tr>\n",
              "    <tr>\n",
              "      <th>47694</th>\n",
              "      <td>52.52.86.145</td>\n",
              "      <td>44944</td>\n",
              "      <td>443</td>\n",
              "      <td>1.000000</td>\n",
              "      <td>1.000000</td>\n",
              "      <td>1.000000</td>\n",
              "      <td>1</td>\n",
              "      <td>1</td>\n",
              "      <td>1</td>\n",
              "      <td>14</td>\n",
              "      <td>...</td>\n",
              "      <td>2399.0</td>\n",
              "      <td>13</td>\n",
              "      <td>13</td>\n",
              "      <td>13.0</td>\n",
              "      <td>4752.0</td>\n",
              "      <td>4752.0</td>\n",
              "      <td>4752.0</td>\n",
              "      <td>52656124</td>\n",
              "      <td>52656124</td>\n",
              "      <td>52656124.0</td>\n",
              "    </tr>\n",
              "    <tr>\n",
              "      <th>47695</th>\n",
              "      <td>54.236.177.89</td>\n",
              "      <td>55806</td>\n",
              "      <td>443</td>\n",
              "      <td>1.000000</td>\n",
              "      <td>1.000000</td>\n",
              "      <td>1.000000</td>\n",
              "      <td>1</td>\n",
              "      <td>1</td>\n",
              "      <td>1</td>\n",
              "      <td>15</td>\n",
              "      <td>...</td>\n",
              "      <td>776.0</td>\n",
              "      <td>13</td>\n",
              "      <td>13</td>\n",
              "      <td>13.0</td>\n",
              "      <td>5955.0</td>\n",
              "      <td>5955.0</td>\n",
              "      <td>5955.0</td>\n",
              "      <td>51998174</td>\n",
              "      <td>51998174</td>\n",
              "      <td>51998174.0</td>\n",
              "    </tr>\n",
              "    <tr>\n",
              "      <th>47696</th>\n",
              "      <td>91.189.89.198</td>\n",
              "      <td>123</td>\n",
              "      <td>123</td>\n",
              "      <td>1.000000</td>\n",
              "      <td>1.000000</td>\n",
              "      <td>1.000000</td>\n",
              "      <td>1</td>\n",
              "      <td>1</td>\n",
              "      <td>1</td>\n",
              "      <td>1</td>\n",
              "      <td>...</td>\n",
              "      <td>48.0</td>\n",
              "      <td>1</td>\n",
              "      <td>1</td>\n",
              "      <td>1.0</td>\n",
              "      <td>48.0</td>\n",
              "      <td>48.0</td>\n",
              "      <td>48.0</td>\n",
              "      <td>94265</td>\n",
              "      <td>94265</td>\n",
              "      <td>94265.0</td>\n",
              "    </tr>\n",
              "  </tbody>\n",
              "</table>\n",
              "<p>47697 rows × 40 columns</p>\n",
              "</div>"
            ]
          },
          "metadata": {},
          "execution_count": 9
        }
      ]
    },
    {
      "cell_type": "markdown",
      "source": [
        "## 전처리"
      ],
      "metadata": {
        "id": "QyUHO1Fq2P-D"
      }
    },
    {
      "cell_type": "code",
      "source": [
        "from Utils import FlowPreProcessor"
      ],
      "metadata": {
        "id": "P64NPKzA2SQ8"
      },
      "execution_count": 10,
      "outputs": []
    },
    {
      "cell_type": "code",
      "source": [
        "fpp = FlowPreProcessor(mode=\"pdf\")"
      ],
      "metadata": {
        "id": "a9o34E1J2ZQh"
      },
      "execution_count": 11,
      "outputs": []
    },
    {
      "cell_type": "code",
      "source": [
        "trainX = fpp.fit_transform(trainSet)"
      ],
      "metadata": {
        "id": "97AcWt1qBJah"
      },
      "execution_count": 12,
      "outputs": []
    },
    {
      "cell_type": "code",
      "source": [
        "trainX.shape"
      ],
      "metadata": {
        "id": "Upait3SR5zRM",
        "colab": {
          "base_uri": "https://localhost:8080/"
        },
        "outputId": "664c2c77-ab90-4b53-b1a4-ac7095f7ec85"
      },
      "execution_count": 13,
      "outputs": [
        {
          "output_type": "execute_result",
          "data": {
            "text/plain": [
              "(47697, 39)"
            ]
          },
          "metadata": {},
          "execution_count": 13
        }
      ]
    },
    {
      "cell_type": "code",
      "source": [
        "trainX"
      ],
      "metadata": {
        "id": "fPs_OJWc6k6G",
        "colab": {
          "base_uri": "https://localhost:8080/"
        },
        "outputId": "4bf94144-03cf-4c6c-d1e3-a461914f9c5b"
      },
      "execution_count": 14,
      "outputs": [
        {
          "output_type": "execute_result",
          "data": {
            "text/plain": [
              "array([[2.0965679e-05, 1.2579407e-04, 2.7913705e-01, ..., 1.0000000e+00,\n",
              "        1.0000000e+00, 1.0000000e+00],\n",
              "       [2.0965679e-05, 1.2579407e-04, 2.7913705e-01, ..., 1.0000000e+00,\n",
              "        1.0000000e+00, 1.0000000e+00],\n",
              "       [7.5728036e-02, 7.5476448e-04, 2.0965679e-05, ..., 1.0000000e+00,\n",
              "        2.2894209e-03, 1.0000000e+00],\n",
              "       ...,\n",
              "       [4.4027925e-04, 6.2897037e-05, 9.8222113e-01, ..., 1.2411260e-04,\n",
              "        1.3354956e-03, 6.7845895e-04],\n",
              "       [6.2897037e-05, 1.2579407e-04, 9.8222113e-01, ..., 1.4893511e-04,\n",
              "        3.5295240e-03, 9.6922705e-04],\n",
              "       [5.8682937e-02, 8.6944669e-02, 7.9334132e-02, ..., 1.0000000e+00,\n",
              "        1.0000000e+00, 1.0000000e+00]], dtype=float32)"
            ]
          },
          "metadata": {},
          "execution_count": 14
        }
      ]
    },
    {
      "cell_type": "markdown",
      "source": [
        "# 학습하기"
      ],
      "metadata": {
        "id": "A1gzpZkb-GRe"
      }
    },
    {
      "cell_type": "code",
      "source": [
        "import torch\n",
        "\n",
        "import torch.nn as nn\n",
        "\n",
        "from tqdm.notebook import tqdm\n",
        "from torch.optim import Adam, SGD, AdamW\n",
        "from torch.optim.lr_scheduler import StepLR\n",
        "from torch.utils.data import DataLoader, Dataset"
      ],
      "metadata": {
        "id": "CHFTeuWL9vDe"
      },
      "execution_count": 15,
      "outputs": []
    },
    {
      "cell_type": "code",
      "source": [
        "device = 'cuda' if torch.cuda.is_available() else 'cpu'"
      ],
      "metadata": {
        "id": "iTMGhiBE-pw-"
      },
      "execution_count": 16,
      "outputs": []
    },
    {
      "cell_type": "code",
      "source": [
        "class FClayer(nn.Module):\n",
        "    def __init__(self, I, O, A='relu'):\n",
        "        super().__init__()\n",
        "        \n",
        "        self.linear = nn.Linear(I, O)\n",
        "        \n",
        "        if A == 'relu':\n",
        "            self.activation = nn.ReLU()\n",
        "        elif A == 'sigmoid':\n",
        "            self.activation = nn.Sigmoid()\n",
        "        else:\n",
        "            self.activation = nn.Identity()\n",
        "        \n",
        "    def forward(self, x):\n",
        "        x = self.linear(x)\n",
        "        x = self.activation(x)\n",
        "        \n",
        "        return x"
      ],
      "metadata": {
        "id": "XohJx0B1-qtj"
      },
      "execution_count": 17,
      "outputs": []
    },
    {
      "cell_type": "code",
      "source": [
        "class AE(nn.Module):\n",
        "    def __init__(self, num_features):\n",
        "        super().__init__()\n",
        "        \n",
        "        self.encoder = nn.Sequential(\n",
        "            FClayer(num_features, 128),\n",
        "            FClayer(128, 64),\n",
        "            FClayer(64,32),\n",
        "            FClayer(32, 16),\n",
        "            FClayer(16, 8),\n",
        "        )\n",
        "        \n",
        "        self.decoder = nn.Sequential(\n",
        "            FClayer(8, 16),\n",
        "            FClayer(16, 32),\n",
        "            FClayer(32, 64),\n",
        "            FClayer(64, 128),\n",
        "            FClayer(128, num_features, \n",
        "                    A='sigmoid'\n",
        "            ),\n",
        "        )\n",
        "    \n",
        "    def forward(self, x):\n",
        "        z = self.encoder(x)\n",
        "        x = self.decoder(z)\n",
        "        return x, z"
      ],
      "metadata": {
        "id": "3GTq5PPW-rhP"
      },
      "execution_count": 18,
      "outputs": []
    },
    {
      "cell_type": "code",
      "source": [
        "a = AE(trainX.shape[1])"
      ],
      "metadata": {
        "id": "StTOFXeS64WT"
      },
      "execution_count": 19,
      "outputs": []
    },
    {
      "cell_type": "code",
      "source": [
        "b = a(torch.tensor(trainX))"
      ],
      "metadata": {
        "id": "tXJq4jW669fy"
      },
      "execution_count": 20,
      "outputs": []
    },
    {
      "cell_type": "code",
      "source": [
        "trainSet"
      ],
      "metadata": {
        "id": "C0DG2jGq7g8i",
        "colab": {
          "base_uri": "https://localhost:8080/",
          "height": 444
        },
        "outputId": "05226bf0-2160-4f84-f5a0-c0754a8be95a"
      },
      "execution_count": 21,
      "outputs": [
        {
          "output_type": "execute_result",
          "data": {
            "text/plain": [
              "               Key_IP  Key_inner_port  Key_outer_port  Inner_port_freq  \\\n",
              "0       8.254.250.126           49188              80         1.000000   \n",
              "1       8.253.185.121           49486              80         1.000000   \n",
              "2        192.168.10.9              88            1029         0.359551   \n",
              "3        192.168.10.3             137             389         0.150000   \n",
              "4        69.31.33.224            1057              80         1.000000   \n",
              "...               ...             ...             ...              ...   \n",
              "47692   184.25.56.202            7173              80         1.000000   \n",
              "47693  184.50.238.170           56432              80         1.000000   \n",
              "47694    52.52.86.145           44944             443         1.000000   \n",
              "47695   54.236.177.89           55806             443         1.000000   \n",
              "47696   91.189.89.198             123             123         1.000000   \n",
              "\n",
              "       Outer_port_freq  Pst_per_flows  Card_inner_ip  Card_inner_port  \\\n",
              "0             1.000000       0.250000              1                1   \n",
              "1             1.000000       0.250000              1                1   \n",
              "2             0.033708       0.595506              1               12   \n",
              "3             0.450000       0.400000              4               14   \n",
              "4             1.000000       1.000000              1                1   \n",
              "...                ...            ...            ...              ...   \n",
              "47692         1.000000       1.000000              1                1   \n",
              "47693         1.000000       1.000000              1                1   \n",
              "47694         1.000000       1.000000              1                1   \n",
              "47695         1.000000       1.000000              1                1   \n",
              "47696         1.000000       1.000000              1                1   \n",
              "\n",
              "       Card_outer_port  Sum_inner_pkts  ...  Median_inner_bytes  \\\n",
              "0                    1               0  ...                 0.0   \n",
              "1                    1               0  ...                 0.0   \n",
              "2                   67             534  ...               280.0   \n",
              "3                    7              24  ...                 3.0   \n",
              "4                    1               5  ...                57.5   \n",
              "...                ...             ...  ...                 ...   \n",
              "47692                1               1  ...                 6.0   \n",
              "47693                1               1  ...                 6.0   \n",
              "47694                1              14  ...              2399.0   \n",
              "47695                1              15  ...               776.0   \n",
              "47696                1               1  ...                48.0   \n",
              "\n",
              "       Min_outer_pkts  Max_outer_pkts  Median_outer_pkts  Min_outer_bytes  \\\n",
              "0                   2               2                2.0             12.0   \n",
              "1                   2               2                2.0             12.0   \n",
              "2                   1              45                2.0              6.0   \n",
              "3                   1               6                2.0              6.0   \n",
              "4                   0               4                2.0              0.0   \n",
              "...               ...             ...                ...              ...   \n",
              "47692               1               1                1.0              6.0   \n",
              "47693               1               1                1.0              6.0   \n",
              "47694              13              13               13.0           4752.0   \n",
              "47695              13              13               13.0           5955.0   \n",
              "47696               1               1                1.0             48.0   \n",
              "\n",
              "       Max_outer_bytes  Median_outer_bytes   Min_dur   Max_dur  Median_dur  \n",
              "0                 12.0                12.0         1         4         1.0  \n",
              "1                 12.0                12.0         1         3         1.0  \n",
              "2              12254.0               204.0         3  83068408       740.0  \n",
              "3                300.0                12.0         0   3077743        48.0  \n",
              "4                191.0                95.5         4     40643     20323.5  \n",
              "...                ...                 ...       ...       ...         ...  \n",
              "47692              6.0                 6.0        42        42        42.0  \n",
              "47693              6.0                 6.0        42        42        42.0  \n",
              "47694           4752.0              4752.0  52656124  52656124  52656124.0  \n",
              "47695           5955.0              5955.0  51998174  51998174  51998174.0  \n",
              "47696             48.0                48.0     94265     94265     94265.0  \n",
              "\n",
              "[47697 rows x 40 columns]"
            ],
            "text/html": [
              "<div>\n",
              "<style scoped>\n",
              "    .dataframe tbody tr th:only-of-type {\n",
              "        vertical-align: middle;\n",
              "    }\n",
              "\n",
              "    .dataframe tbody tr th {\n",
              "        vertical-align: top;\n",
              "    }\n",
              "\n",
              "    .dataframe thead th {\n",
              "        text-align: right;\n",
              "    }\n",
              "</style>\n",
              "<table border=\"1\" class=\"dataframe\">\n",
              "  <thead>\n",
              "    <tr style=\"text-align: right;\">\n",
              "      <th></th>\n",
              "      <th>Key_IP</th>\n",
              "      <th>Key_inner_port</th>\n",
              "      <th>Key_outer_port</th>\n",
              "      <th>Inner_port_freq</th>\n",
              "      <th>Outer_port_freq</th>\n",
              "      <th>Pst_per_flows</th>\n",
              "      <th>Card_inner_ip</th>\n",
              "      <th>Card_inner_port</th>\n",
              "      <th>Card_outer_port</th>\n",
              "      <th>Sum_inner_pkts</th>\n",
              "      <th>...</th>\n",
              "      <th>Median_inner_bytes</th>\n",
              "      <th>Min_outer_pkts</th>\n",
              "      <th>Max_outer_pkts</th>\n",
              "      <th>Median_outer_pkts</th>\n",
              "      <th>Min_outer_bytes</th>\n",
              "      <th>Max_outer_bytes</th>\n",
              "      <th>Median_outer_bytes</th>\n",
              "      <th>Min_dur</th>\n",
              "      <th>Max_dur</th>\n",
              "      <th>Median_dur</th>\n",
              "    </tr>\n",
              "  </thead>\n",
              "  <tbody>\n",
              "    <tr>\n",
              "      <th>0</th>\n",
              "      <td>8.254.250.126</td>\n",
              "      <td>49188</td>\n",
              "      <td>80</td>\n",
              "      <td>1.000000</td>\n",
              "      <td>1.000000</td>\n",
              "      <td>0.250000</td>\n",
              "      <td>1</td>\n",
              "      <td>1</td>\n",
              "      <td>1</td>\n",
              "      <td>0</td>\n",
              "      <td>...</td>\n",
              "      <td>0.0</td>\n",
              "      <td>2</td>\n",
              "      <td>2</td>\n",
              "      <td>2.0</td>\n",
              "      <td>12.0</td>\n",
              "      <td>12.0</td>\n",
              "      <td>12.0</td>\n",
              "      <td>1</td>\n",
              "      <td>4</td>\n",
              "      <td>1.0</td>\n",
              "    </tr>\n",
              "    <tr>\n",
              "      <th>1</th>\n",
              "      <td>8.253.185.121</td>\n",
              "      <td>49486</td>\n",
              "      <td>80</td>\n",
              "      <td>1.000000</td>\n",
              "      <td>1.000000</td>\n",
              "      <td>0.250000</td>\n",
              "      <td>1</td>\n",
              "      <td>1</td>\n",
              "      <td>1</td>\n",
              "      <td>0</td>\n",
              "      <td>...</td>\n",
              "      <td>0.0</td>\n",
              "      <td>2</td>\n",
              "      <td>2</td>\n",
              "      <td>2.0</td>\n",
              "      <td>12.0</td>\n",
              "      <td>12.0</td>\n",
              "      <td>12.0</td>\n",
              "      <td>1</td>\n",
              "      <td>3</td>\n",
              "      <td>1.0</td>\n",
              "    </tr>\n",
              "    <tr>\n",
              "      <th>2</th>\n",
              "      <td>192.168.10.9</td>\n",
              "      <td>88</td>\n",
              "      <td>1029</td>\n",
              "      <td>0.359551</td>\n",
              "      <td>0.033708</td>\n",
              "      <td>0.595506</td>\n",
              "      <td>1</td>\n",
              "      <td>12</td>\n",
              "      <td>67</td>\n",
              "      <td>534</td>\n",
              "      <td>...</td>\n",
              "      <td>280.0</td>\n",
              "      <td>1</td>\n",
              "      <td>45</td>\n",
              "      <td>2.0</td>\n",
              "      <td>6.0</td>\n",
              "      <td>12254.0</td>\n",
              "      <td>204.0</td>\n",
              "      <td>3</td>\n",
              "      <td>83068408</td>\n",
              "      <td>740.0</td>\n",
              "    </tr>\n",
              "    <tr>\n",
              "      <th>3</th>\n",
              "      <td>192.168.10.3</td>\n",
              "      <td>137</td>\n",
              "      <td>389</td>\n",
              "      <td>0.150000</td>\n",
              "      <td>0.450000</td>\n",
              "      <td>0.400000</td>\n",
              "      <td>4</td>\n",
              "      <td>14</td>\n",
              "      <td>7</td>\n",
              "      <td>24</td>\n",
              "      <td>...</td>\n",
              "      <td>3.0</td>\n",
              "      <td>1</td>\n",
              "      <td>6</td>\n",
              "      <td>2.0</td>\n",
              "      <td>6.0</td>\n",
              "      <td>300.0</td>\n",
              "      <td>12.0</td>\n",
              "      <td>0</td>\n",
              "      <td>3077743</td>\n",
              "      <td>48.0</td>\n",
              "    </tr>\n",
              "    <tr>\n",
              "      <th>4</th>\n",
              "      <td>69.31.33.224</td>\n",
              "      <td>1057</td>\n",
              "      <td>80</td>\n",
              "      <td>1.000000</td>\n",
              "      <td>1.000000</td>\n",
              "      <td>1.000000</td>\n",
              "      <td>1</td>\n",
              "      <td>1</td>\n",
              "      <td>1</td>\n",
              "      <td>5</td>\n",
              "      <td>...</td>\n",
              "      <td>57.5</td>\n",
              "      <td>0</td>\n",
              "      <td>4</td>\n",
              "      <td>2.0</td>\n",
              "      <td>0.0</td>\n",
              "      <td>191.0</td>\n",
              "      <td>95.5</td>\n",
              "      <td>4</td>\n",
              "      <td>40643</td>\n",
              "      <td>20323.5</td>\n",
              "    </tr>\n",
              "    <tr>\n",
              "      <th>...</th>\n",
              "      <td>...</td>\n",
              "      <td>...</td>\n",
              "      <td>...</td>\n",
              "      <td>...</td>\n",
              "      <td>...</td>\n",
              "      <td>...</td>\n",
              "      <td>...</td>\n",
              "      <td>...</td>\n",
              "      <td>...</td>\n",
              "      <td>...</td>\n",
              "      <td>...</td>\n",
              "      <td>...</td>\n",
              "      <td>...</td>\n",
              "      <td>...</td>\n",
              "      <td>...</td>\n",
              "      <td>...</td>\n",
              "      <td>...</td>\n",
              "      <td>...</td>\n",
              "      <td>...</td>\n",
              "      <td>...</td>\n",
              "      <td>...</td>\n",
              "    </tr>\n",
              "    <tr>\n",
              "      <th>47692</th>\n",
              "      <td>184.25.56.202</td>\n",
              "      <td>7173</td>\n",
              "      <td>80</td>\n",
              "      <td>1.000000</td>\n",
              "      <td>1.000000</td>\n",
              "      <td>1.000000</td>\n",
              "      <td>1</td>\n",
              "      <td>1</td>\n",
              "      <td>1</td>\n",
              "      <td>1</td>\n",
              "      <td>...</td>\n",
              "      <td>6.0</td>\n",
              "      <td>1</td>\n",
              "      <td>1</td>\n",
              "      <td>1.0</td>\n",
              "      <td>6.0</td>\n",
              "      <td>6.0</td>\n",
              "      <td>6.0</td>\n",
              "      <td>42</td>\n",
              "      <td>42</td>\n",
              "      <td>42.0</td>\n",
              "    </tr>\n",
              "    <tr>\n",
              "      <th>47693</th>\n",
              "      <td>184.50.238.170</td>\n",
              "      <td>56432</td>\n",
              "      <td>80</td>\n",
              "      <td>1.000000</td>\n",
              "      <td>1.000000</td>\n",
              "      <td>1.000000</td>\n",
              "      <td>1</td>\n",
              "      <td>1</td>\n",
              "      <td>1</td>\n",
              "      <td>1</td>\n",
              "      <td>...</td>\n",
              "      <td>6.0</td>\n",
              "      <td>1</td>\n",
              "      <td>1</td>\n",
              "      <td>1.0</td>\n",
              "      <td>6.0</td>\n",
              "      <td>6.0</td>\n",
              "      <td>6.0</td>\n",
              "      <td>42</td>\n",
              "      <td>42</td>\n",
              "      <td>42.0</td>\n",
              "    </tr>\n",
              "    <tr>\n",
              "      <th>47694</th>\n",
              "      <td>52.52.86.145</td>\n",
              "      <td>44944</td>\n",
              "      <td>443</td>\n",
              "      <td>1.000000</td>\n",
              "      <td>1.000000</td>\n",
              "      <td>1.000000</td>\n",
              "      <td>1</td>\n",
              "      <td>1</td>\n",
              "      <td>1</td>\n",
              "      <td>14</td>\n",
              "      <td>...</td>\n",
              "      <td>2399.0</td>\n",
              "      <td>13</td>\n",
              "      <td>13</td>\n",
              "      <td>13.0</td>\n",
              "      <td>4752.0</td>\n",
              "      <td>4752.0</td>\n",
              "      <td>4752.0</td>\n",
              "      <td>52656124</td>\n",
              "      <td>52656124</td>\n",
              "      <td>52656124.0</td>\n",
              "    </tr>\n",
              "    <tr>\n",
              "      <th>47695</th>\n",
              "      <td>54.236.177.89</td>\n",
              "      <td>55806</td>\n",
              "      <td>443</td>\n",
              "      <td>1.000000</td>\n",
              "      <td>1.000000</td>\n",
              "      <td>1.000000</td>\n",
              "      <td>1</td>\n",
              "      <td>1</td>\n",
              "      <td>1</td>\n",
              "      <td>15</td>\n",
              "      <td>...</td>\n",
              "      <td>776.0</td>\n",
              "      <td>13</td>\n",
              "      <td>13</td>\n",
              "      <td>13.0</td>\n",
              "      <td>5955.0</td>\n",
              "      <td>5955.0</td>\n",
              "      <td>5955.0</td>\n",
              "      <td>51998174</td>\n",
              "      <td>51998174</td>\n",
              "      <td>51998174.0</td>\n",
              "    </tr>\n",
              "    <tr>\n",
              "      <th>47696</th>\n",
              "      <td>91.189.89.198</td>\n",
              "      <td>123</td>\n",
              "      <td>123</td>\n",
              "      <td>1.000000</td>\n",
              "      <td>1.000000</td>\n",
              "      <td>1.000000</td>\n",
              "      <td>1</td>\n",
              "      <td>1</td>\n",
              "      <td>1</td>\n",
              "      <td>1</td>\n",
              "      <td>...</td>\n",
              "      <td>48.0</td>\n",
              "      <td>1</td>\n",
              "      <td>1</td>\n",
              "      <td>1.0</td>\n",
              "      <td>48.0</td>\n",
              "      <td>48.0</td>\n",
              "      <td>48.0</td>\n",
              "      <td>94265</td>\n",
              "      <td>94265</td>\n",
              "      <td>94265.0</td>\n",
              "    </tr>\n",
              "  </tbody>\n",
              "</table>\n",
              "<p>47697 rows × 40 columns</p>\n",
              "</div>"
            ]
          },
          "metadata": {},
          "execution_count": 21
        }
      ]
    },
    {
      "cell_type": "code",
      "source": [
        "b[0].shape"
      ],
      "metadata": {
        "id": "MZpnwgRv7Mj9",
        "colab": {
          "base_uri": "https://localhost:8080/"
        },
        "outputId": "9dde795a-fa05-47c2-f93b-64abcb0dc9ea"
      },
      "execution_count": 22,
      "outputs": [
        {
          "output_type": "execute_result",
          "data": {
            "text/plain": [
              "torch.Size([47697, 39])"
            ]
          },
          "metadata": {},
          "execution_count": 22
        }
      ]
    },
    {
      "cell_type": "code",
      "source": [
        "class FlowDataset(Dataset):\n",
        "    def __init__(self, data):\n",
        "        self.data = data\n",
        "        \n",
        "    def __len__(self):\n",
        "        return len(self.data)\n",
        "    \n",
        "    def __getitem__(self, idx):\n",
        "        return self.data[idx]\n"
      ],
      "metadata": {
        "id": "JIXNK2iE-sUX"
      },
      "execution_count": 23,
      "outputs": []
    },
    {
      "cell_type": "code",
      "source": [
        "def train_fn(trainX, batch_size=128, epoch=300, model_path=\"./models/ipod_model_expand_pdf.pt\"):\n",
        "    ae = AE(trainX.shape[1])\n",
        "    ae.to(device)\n",
        "    \n",
        "    ae_loss_fn = nn.MSELoss()\n",
        "    # ae_optim = SGD(ae.parameters(), lr = 1e-1, momentum=0.9)\n",
        "    ae_optim = AdamW(ae.parameters(), lr = 1e-3, weight_decay=1e-11)\n",
        "    ae_sched= StepLR(ae_optim, step_size=75, gamma=0.5)\n",
        "    \n",
        "    dataloader = DataLoader(\n",
        "        FlowDataset(trainX), \n",
        "        batch_size=batch_size, \n",
        "        shuffle=True\n",
        "    )\n",
        "    \n",
        "    best_loss = 1.\n",
        "\n",
        "    with tqdm(range(epoch)) as pbar:\n",
        "        for _ in pbar:\n",
        "            ae_epoch_loss = 0\n",
        "            data_count = 0\n",
        "                        \n",
        "            for X in dataloader:\n",
        "                X = X.to(device)\n",
        "\n",
        "                # 오토 인코더 학습 \n",
        "                O, _ = ae(X)\n",
        "                \n",
        "                ae_loss = ae_loss_fn(O, X)\n",
        "                ae_optim.zero_grad()\n",
        "                ae_loss.backward()\n",
        "                ae_optim.step()                \n",
        "                \n",
        "                # loss 출력하기 \n",
        "                \n",
        "                ae_epoch_loss += ae_loss.item()\n",
        "                data_count += len(X)\n",
        "\n",
        "                pbar.set_postfix( \n",
        "                     ae_loss=f\"{ae_epoch_loss / data_count}\",\n",
        "                )\n",
        "\n",
        "            now_loss = ae_epoch_loss / data_count\n",
        "            if best_loss > now_loss:\n",
        "                best_loss = now_loss\n",
        "                torch.save(ae.state_dict(), model_path)\n",
        "\n",
        "            ae_sched.step()\n",
        "    print(best_loss)\n",
        "    model_state_dict = torch.load(model_path, map_location=device)\n",
        "    ae.load_state_dict(model_state_dict)\n",
        "    return ae"
      ],
      "metadata": {
        "id": "bOy6cqls-tqg"
      },
      "execution_count": 24,
      "outputs": []
    },
    {
      "cell_type": "code",
      "source": [
        "model = train_fn(trainX)"
      ],
      "metadata": {
        "id": "9n-1zOE7-utl",
        "colab": {
          "base_uri": "https://localhost:8080/",
          "height": 67,
          "referenced_widgets": [
            "ed3c7ee402b5488798c30e75e0c36d45",
            "aaf7227124414253bbfff02fcffeb76f",
            "50222c193373494282b4547e90c924e2",
            "4dc6b20522b14dee828af6e50200272e",
            "61bfcf983d374257a60b8297d9f0b7ea",
            "8202dcb28e7f4f5ba75fde7c38819987",
            "f2cedfff5db5420ca26a96688bb1d4d4",
            "36a4a7b0afd24a22b23e7d4f08c7bbfe",
            "ec5b06c920eb475e9f4a3a5f6a16b7be",
            "e8fb4b7035f44ed38460122b2a81458b",
            "42a13f8cfd034e79b78a7dccf856c705"
          ]
        },
        "outputId": "45a22e4a-5f77-40c1-8261-ede96dbf3b77"
      },
      "execution_count": 25,
      "outputs": [
        {
          "output_type": "display_data",
          "data": {
            "text/plain": [
              "  0%|          | 0/300 [00:00<?, ?it/s]"
            ],
            "application/vnd.jupyter.widget-view+json": {
              "version_major": 2,
              "version_minor": 0,
              "model_id": "ed3c7ee402b5488798c30e75e0c36d45"
            }
          },
          "metadata": {}
        },
        {
          "output_type": "stream",
          "name": "stdout",
          "text": [
            "4.746224976115471e-06\n"
          ]
        }
      ]
    },
    {
      "cell_type": "markdown",
      "source": [
        "# 테스트하기"
      ],
      "metadata": {
        "id": "fnVmX2dPHl-U"
      }
    },
    {
      "cell_type": "code",
      "source": [
        "def test_fn(model, testX):\n",
        "    dataloader = DataLoader(FlowDataset(testX), batch_size= 512, shuffle=False)\n",
        "    model.to(device)\n",
        "    pred = []\n",
        "    loss_fn = nn.MSELoss()\n",
        "    model.eval()\n",
        "    dist_fn = nn.CosineSimilarity(dim=1)\n",
        "    with torch.no_grad():\n",
        "        for X in (dataloader):\n",
        "            X = X.to(device)\n",
        "            O,_  = model(X)\n",
        "            # dist = dist_fn(X,O)\n",
        "            dist = torch.square(X-O).mean(-1)\n",
        "            pred.extend(dist.cpu().tolist())\n",
        "    return pred\n",
        "    "
      ],
      "metadata": {
        "id": "gFNnI2-2-wxk"
      },
      "execution_count": 26,
      "outputs": []
    },
    {
      "cell_type": "code",
      "source": [
        "def labelEncoding(x):\n",
        "    if len(x) == 1:\n",
        "        if x[0] == 'BENIGN':\n",
        "            return 0\n",
        "        else:\n",
        "            return 1\n",
        "    else:\n",
        "        return 1\n",
        "\n"
      ],
      "metadata": {
        "id": "prpKJWOqKsTZ"
      },
      "execution_count": 27,
      "outputs": []
    },
    {
      "cell_type": "code",
      "source": [
        "from sklearn.metrics import roc_auc_score, roc_curve, f1_score, precision_score, recall_score, accuracy_score"
      ],
      "metadata": {
        "id": "PJDbF7aHKweK"
      },
      "execution_count": 28,
      "outputs": []
    },
    {
      "cell_type": "code",
      "source": [
        "def testSetLoader(files):\n",
        "    testSet = FlowReader.read_csv(files)\n",
        "    testSet = FlowProfiler.preprocessing(testSet, mode=\"expand\")\n",
        "    return testSet"
      ],
      "metadata": {
        "id": "igXOiAFzmRIw"
      },
      "execution_count": 29,
      "outputs": []
    },
    {
      "cell_type": "code",
      "source": [
        "def result_fn(testSet, loss):\n",
        "    result = pd.DataFrame({\n",
        "        'outer_ip' : testSet['Key_IP'],\n",
        "        'loss' : loss,\n",
        "        'Label' : testSet['Label'],\n",
        "        'Num_Label' : testSet['Label'].apply(\n",
        "            labelEncoding\n",
        "            # lambda x : len(x)\n",
        "        )\n",
        "    })\n",
        "    return result"
      ],
      "metadata": {
        "id": "lEYTGDfUIcVd"
      },
      "execution_count": 30,
      "outputs": []
    },
    {
      "cell_type": "code",
      "source": [
        "def best_f1(y_true, loss):\n",
        "    theta = 0.0001\n",
        "    best_theta = 0\n",
        "    best_f1 = 0\n",
        "    while theta <= 1:\n",
        "        predict = np.where(loss>theta, 1, 0)\n",
        "        now_f1 = f1_score(y_true, predict)\n",
        "        if best_f1 < now_f1:\n",
        "            best_f1 = now_f1\n",
        "            best_theta = theta\n",
        "        \n",
        "        theta += 0.0001\n",
        "\n",
        "    predict = np.where(loss>best_theta, 1, 0)\n",
        "    print(\"theta : \", best_theta)\n",
        "    print(\"accuracy : \", accuracy_score(y_true, predict))\n",
        "    print(\"recall : \", recall_score(y_true, predict))\n",
        "    print(\"precision: \", precision_score(y_true, predict))\n",
        "    print(\"f1-score : \", f1_score(y_true, predict))\n",
        "\n",
        "    return best_theta"
      ],
      "metadata": {
        "id": "8frWHl5DvDP-"
      },
      "execution_count": 31,
      "outputs": []
    },
    {
      "cell_type": "code",
      "source": [
        "concat_result = pd.DataFrame(columns=['outer_ip', 'loss', 'Label', 'Num_Label'])"
      ],
      "metadata": {
        "id": "qevzK1HTg8IR"
      },
      "execution_count": 32,
      "outputs": []
    },
    {
      "cell_type": "markdown",
      "source": [
        "## 화요일"
      ],
      "metadata": {
        "id": "Fqz42U0fIou5"
      }
    },
    {
      "cell_type": "code",
      "source": [
        "testSet = testSetLoader(files[1])"
      ],
      "metadata": {
        "id": "2n9q0Z09_3hF"
      },
      "execution_count": 33,
      "outputs": []
    },
    {
      "cell_type": "code",
      "source": [
        "testX = fpp.transform(testSet)"
      ],
      "metadata": {
        "id": "ALv8w9fIAAx7"
      },
      "execution_count": 34,
      "outputs": []
    },
    {
      "cell_type": "code",
      "source": [
        "loss = test_fn(model, testX)"
      ],
      "metadata": {
        "id": "i6ifhqZdAvoU"
      },
      "execution_count": 35,
      "outputs": []
    },
    {
      "cell_type": "code",
      "source": [
        "result = result_fn(testSet, loss)"
      ],
      "metadata": {
        "id": "hlbCl-xZIXbo"
      },
      "execution_count": 36,
      "outputs": []
    },
    {
      "cell_type": "code",
      "source": [
        "result[result['Num_Label']==1]"
      ],
      "metadata": {
        "id": "i9P6D4UKFiNo",
        "colab": {
          "base_uri": "https://localhost:8080/",
          "height": 959
        },
        "outputId": "56074f7b-9ad5-4226-f09d-ebcf86a0dde8"
      },
      "execution_count": 37,
      "outputs": [
        {
          "output_type": "execute_result",
          "data": {
            "text/plain": [
              "         outer_ip      loss                  Label  Num_Label\n",
              "2120   172.16.0.1  0.052441          [FTP-Patator]          1\n",
              "2143   172.16.0.1  0.000194          [FTP-Patator]          1\n",
              "2529   172.16.0.1  0.000595          [FTP-Patator]          1\n",
              "2951   172.16.0.1  0.132954          [FTP-Patator]          1\n",
              "3946   172.16.0.1  0.051443          [FTP-Patator]          1\n",
              "4002   172.16.0.1  0.138374          [FTP-Patator]          1\n",
              "5133   172.16.0.1  0.135996          [FTP-Patator]          1\n",
              "5796   172.16.0.1  0.136677          [FTP-Patator]          1\n",
              "5838   172.16.0.1  0.132954          [FTP-Patator]          1\n",
              "7054   172.16.0.1  0.135996          [FTP-Patator]          1\n",
              "7130   172.16.0.1  0.051493          [FTP-Patator]          1\n",
              "8252   172.16.0.1  0.137677          [FTP-Patator]          1\n",
              "8327   172.16.0.1  0.136373          [FTP-Patator]          1\n",
              "9473   172.16.0.1  0.137677          [FTP-Patator]          1\n",
              "9564   172.16.0.1  0.136722          [FTP-Patator]          1\n",
              "23355  172.16.0.1  0.078501          [SSH-Patator]          1\n",
              "23581  172.16.0.1  0.041022  [SSH-Patator, BENIGN]          1\n",
              "24350  172.16.0.1  0.050665          [SSH-Patator]          1\n",
              "24352  172.16.0.1  0.090062  [SSH-Patator, BENIGN]          1\n",
              "25367  172.16.0.1  0.136246          [SSH-Patator]          1\n",
              "25814  172.16.0.1  0.136170          [SSH-Patator]          1\n",
              "25826  172.16.0.1  0.134578          [SSH-Patator]          1\n",
              "26765  172.16.0.1  0.136217          [SSH-Patator]          1\n",
              "27418  172.16.0.1  0.051444          [SSH-Patator]          1\n",
              "27432  172.16.0.1  0.136149          [SSH-Patator]          1\n",
              "28332  172.16.0.1  0.136754          [SSH-Patator]          1\n",
              "28854  172.16.0.1  0.136213          [SSH-Patator]          1\n",
              "28929  172.16.0.1  0.051447          [SSH-Patator]          1\n",
              "29693  172.16.0.1  0.144796          [SSH-Patator]          1"
            ],
            "text/html": [
              "<div>\n",
              "<style scoped>\n",
              "    .dataframe tbody tr th:only-of-type {\n",
              "        vertical-align: middle;\n",
              "    }\n",
              "\n",
              "    .dataframe tbody tr th {\n",
              "        vertical-align: top;\n",
              "    }\n",
              "\n",
              "    .dataframe thead th {\n",
              "        text-align: right;\n",
              "    }\n",
              "</style>\n",
              "<table border=\"1\" class=\"dataframe\">\n",
              "  <thead>\n",
              "    <tr style=\"text-align: right;\">\n",
              "      <th></th>\n",
              "      <th>outer_ip</th>\n",
              "      <th>loss</th>\n",
              "      <th>Label</th>\n",
              "      <th>Num_Label</th>\n",
              "    </tr>\n",
              "  </thead>\n",
              "  <tbody>\n",
              "    <tr>\n",
              "      <th>2120</th>\n",
              "      <td>172.16.0.1</td>\n",
              "      <td>0.052441</td>\n",
              "      <td>[FTP-Patator]</td>\n",
              "      <td>1</td>\n",
              "    </tr>\n",
              "    <tr>\n",
              "      <th>2143</th>\n",
              "      <td>172.16.0.1</td>\n",
              "      <td>0.000194</td>\n",
              "      <td>[FTP-Patator]</td>\n",
              "      <td>1</td>\n",
              "    </tr>\n",
              "    <tr>\n",
              "      <th>2529</th>\n",
              "      <td>172.16.0.1</td>\n",
              "      <td>0.000595</td>\n",
              "      <td>[FTP-Patator]</td>\n",
              "      <td>1</td>\n",
              "    </tr>\n",
              "    <tr>\n",
              "      <th>2951</th>\n",
              "      <td>172.16.0.1</td>\n",
              "      <td>0.132954</td>\n",
              "      <td>[FTP-Patator]</td>\n",
              "      <td>1</td>\n",
              "    </tr>\n",
              "    <tr>\n",
              "      <th>3946</th>\n",
              "      <td>172.16.0.1</td>\n",
              "      <td>0.051443</td>\n",
              "      <td>[FTP-Patator]</td>\n",
              "      <td>1</td>\n",
              "    </tr>\n",
              "    <tr>\n",
              "      <th>4002</th>\n",
              "      <td>172.16.0.1</td>\n",
              "      <td>0.138374</td>\n",
              "      <td>[FTP-Patator]</td>\n",
              "      <td>1</td>\n",
              "    </tr>\n",
              "    <tr>\n",
              "      <th>5133</th>\n",
              "      <td>172.16.0.1</td>\n",
              "      <td>0.135996</td>\n",
              "      <td>[FTP-Patator]</td>\n",
              "      <td>1</td>\n",
              "    </tr>\n",
              "    <tr>\n",
              "      <th>5796</th>\n",
              "      <td>172.16.0.1</td>\n",
              "      <td>0.136677</td>\n",
              "      <td>[FTP-Patator]</td>\n",
              "      <td>1</td>\n",
              "    </tr>\n",
              "    <tr>\n",
              "      <th>5838</th>\n",
              "      <td>172.16.0.1</td>\n",
              "      <td>0.132954</td>\n",
              "      <td>[FTP-Patator]</td>\n",
              "      <td>1</td>\n",
              "    </tr>\n",
              "    <tr>\n",
              "      <th>7054</th>\n",
              "      <td>172.16.0.1</td>\n",
              "      <td>0.135996</td>\n",
              "      <td>[FTP-Patator]</td>\n",
              "      <td>1</td>\n",
              "    </tr>\n",
              "    <tr>\n",
              "      <th>7130</th>\n",
              "      <td>172.16.0.1</td>\n",
              "      <td>0.051493</td>\n",
              "      <td>[FTP-Patator]</td>\n",
              "      <td>1</td>\n",
              "    </tr>\n",
              "    <tr>\n",
              "      <th>8252</th>\n",
              "      <td>172.16.0.1</td>\n",
              "      <td>0.137677</td>\n",
              "      <td>[FTP-Patator]</td>\n",
              "      <td>1</td>\n",
              "    </tr>\n",
              "    <tr>\n",
              "      <th>8327</th>\n",
              "      <td>172.16.0.1</td>\n",
              "      <td>0.136373</td>\n",
              "      <td>[FTP-Patator]</td>\n",
              "      <td>1</td>\n",
              "    </tr>\n",
              "    <tr>\n",
              "      <th>9473</th>\n",
              "      <td>172.16.0.1</td>\n",
              "      <td>0.137677</td>\n",
              "      <td>[FTP-Patator]</td>\n",
              "      <td>1</td>\n",
              "    </tr>\n",
              "    <tr>\n",
              "      <th>9564</th>\n",
              "      <td>172.16.0.1</td>\n",
              "      <td>0.136722</td>\n",
              "      <td>[FTP-Patator]</td>\n",
              "      <td>1</td>\n",
              "    </tr>\n",
              "    <tr>\n",
              "      <th>23355</th>\n",
              "      <td>172.16.0.1</td>\n",
              "      <td>0.078501</td>\n",
              "      <td>[SSH-Patator]</td>\n",
              "      <td>1</td>\n",
              "    </tr>\n",
              "    <tr>\n",
              "      <th>23581</th>\n",
              "      <td>172.16.0.1</td>\n",
              "      <td>0.041022</td>\n",
              "      <td>[SSH-Patator, BENIGN]</td>\n",
              "      <td>1</td>\n",
              "    </tr>\n",
              "    <tr>\n",
              "      <th>24350</th>\n",
              "      <td>172.16.0.1</td>\n",
              "      <td>0.050665</td>\n",
              "      <td>[SSH-Patator]</td>\n",
              "      <td>1</td>\n",
              "    </tr>\n",
              "    <tr>\n",
              "      <th>24352</th>\n",
              "      <td>172.16.0.1</td>\n",
              "      <td>0.090062</td>\n",
              "      <td>[SSH-Patator, BENIGN]</td>\n",
              "      <td>1</td>\n",
              "    </tr>\n",
              "    <tr>\n",
              "      <th>25367</th>\n",
              "      <td>172.16.0.1</td>\n",
              "      <td>0.136246</td>\n",
              "      <td>[SSH-Patator]</td>\n",
              "      <td>1</td>\n",
              "    </tr>\n",
              "    <tr>\n",
              "      <th>25814</th>\n",
              "      <td>172.16.0.1</td>\n",
              "      <td>0.136170</td>\n",
              "      <td>[SSH-Patator]</td>\n",
              "      <td>1</td>\n",
              "    </tr>\n",
              "    <tr>\n",
              "      <th>25826</th>\n",
              "      <td>172.16.0.1</td>\n",
              "      <td>0.134578</td>\n",
              "      <td>[SSH-Patator]</td>\n",
              "      <td>1</td>\n",
              "    </tr>\n",
              "    <tr>\n",
              "      <th>26765</th>\n",
              "      <td>172.16.0.1</td>\n",
              "      <td>0.136217</td>\n",
              "      <td>[SSH-Patator]</td>\n",
              "      <td>1</td>\n",
              "    </tr>\n",
              "    <tr>\n",
              "      <th>27418</th>\n",
              "      <td>172.16.0.1</td>\n",
              "      <td>0.051444</td>\n",
              "      <td>[SSH-Patator]</td>\n",
              "      <td>1</td>\n",
              "    </tr>\n",
              "    <tr>\n",
              "      <th>27432</th>\n",
              "      <td>172.16.0.1</td>\n",
              "      <td>0.136149</td>\n",
              "      <td>[SSH-Patator]</td>\n",
              "      <td>1</td>\n",
              "    </tr>\n",
              "    <tr>\n",
              "      <th>28332</th>\n",
              "      <td>172.16.0.1</td>\n",
              "      <td>0.136754</td>\n",
              "      <td>[SSH-Patator]</td>\n",
              "      <td>1</td>\n",
              "    </tr>\n",
              "    <tr>\n",
              "      <th>28854</th>\n",
              "      <td>172.16.0.1</td>\n",
              "      <td>0.136213</td>\n",
              "      <td>[SSH-Patator]</td>\n",
              "      <td>1</td>\n",
              "    </tr>\n",
              "    <tr>\n",
              "      <th>28929</th>\n",
              "      <td>172.16.0.1</td>\n",
              "      <td>0.051447</td>\n",
              "      <td>[SSH-Patator]</td>\n",
              "      <td>1</td>\n",
              "    </tr>\n",
              "    <tr>\n",
              "      <th>29693</th>\n",
              "      <td>172.16.0.1</td>\n",
              "      <td>0.144796</td>\n",
              "      <td>[SSH-Patator]</td>\n",
              "      <td>1</td>\n",
              "    </tr>\n",
              "  </tbody>\n",
              "</table>\n",
              "</div>"
            ]
          },
          "metadata": {},
          "execution_count": 37
        }
      ]
    },
    {
      "cell_type": "code",
      "source": [
        "concat_result = pd.concat([\n",
        "    concat_result, result\n",
        "])"
      ],
      "metadata": {
        "id": "e1a621JahRLN"
      },
      "execution_count": 38,
      "outputs": []
    },
    {
      "cell_type": "code",
      "source": [
        "y_true = result['Num_Label'].values\n",
        "loss = result['loss'].values"
      ],
      "metadata": {
        "id": "BaHQCL8ZIU6i"
      },
      "execution_count": 39,
      "outputs": []
    },
    {
      "cell_type": "code",
      "source": [
        "tues_fp, tues_tp, _ = roc_curve(y_true, loss)\n",
        "roc_auc_score(y_true, loss)"
      ],
      "metadata": {
        "id": "SZAAFwu4cUyh",
        "colab": {
          "base_uri": "https://localhost:8080/"
        },
        "outputId": "5860cbd3-23a1-4d21-fe7e-e8f9baaded4d"
      },
      "execution_count": 40,
      "outputs": [
        {
          "output_type": "execute_result",
          "data": {
            "text/plain": [
              "0.9920971163710479"
            ]
          },
          "metadata": {},
          "execution_count": 40
        }
      ]
    },
    {
      "cell_type": "code",
      "source": [
        "theta = best_f1(y_true, loss)"
      ],
      "metadata": {
        "id": "UPtJpSf4vbmk",
        "colab": {
          "base_uri": "https://localhost:8080/"
        },
        "outputId": "b058f660-adf4-40fe-fb5b-16333e561f73"
      },
      "execution_count": 41,
      "outputs": [
        {
          "output_type": "stream",
          "name": "stdout",
          "text": [
            "theta :  0.12980000000000202\n",
            "accuracy :  0.9985044080604534\n",
            "recall :  0.6206896551724138\n",
            "precision:  0.28125\n",
            "f1-score :  0.3870967741935484\n"
          ]
        }
      ]
    },
    {
      "cell_type": "code",
      "source": [
        "_, axs = plt.subplots(2,1, figsize=(22,14))\n",
        "titles = ['benign', 'attack']\n",
        "\n",
        "for i in range(2):\n",
        "    axs[i].hist(result[result['Num_Label'] == i]['loss'], bins=200, range=(0,0.1))\n",
        "    axs[i].axvline(x=theta, color='r', linestyle='--')\n",
        "    axs[i].set_title(titles[i])\n"
      ],
      "metadata": {
        "id": "8Fquja89cybg",
        "colab": {
          "base_uri": "https://localhost:8080/",
          "height": 825
        },
        "outputId": "0f95bb72-49dd-4bff-a562-f0b9c83ba6d3"
      },
      "execution_count": 42,
      "outputs": [
        {
          "output_type": "display_data",
          "data": {
            "text/plain": [
              "<Figure size 1584x1008 with 2 Axes>"
            ],
            "image/png": "[encoded data removed]"
          },
          "metadata": {
            "needs_background": "light"
          }
        }
      ]
    },
    {
      "cell_type": "markdown",
      "source": [
        "## 수요일"
      ],
      "metadata": {
        "id": "FZDwNMGOImED"
      }
    },
    {
      "cell_type": "code",
      "source": [
        "testSet = testSetLoader(files[2])"
      ],
      "metadata": {
        "id": "YuGb5u_JIlSj"
      },
      "execution_count": 43,
      "outputs": []
    },
    {
      "cell_type": "code",
      "source": [
        "testX = fpp.transform(testSet)"
      ],
      "metadata": {
        "id": "z0BatnDmIlSk"
      },
      "execution_count": 44,
      "outputs": []
    },
    {
      "cell_type": "code",
      "source": [
        "loss = test_fn(model, testX)"
      ],
      "metadata": {
        "id": "iQKJPCg_IlSk"
      },
      "execution_count": 45,
      "outputs": []
    },
    {
      "cell_type": "code",
      "source": [
        "result = result_fn(testSet, loss)"
      ],
      "metadata": {
        "id": "ieCTbcg6IlSk"
      },
      "execution_count": 46,
      "outputs": []
    },
    {
      "cell_type": "code",
      "source": [
        "result[result['Num_Label']==1]"
      ],
      "metadata": {
        "id": "8plR9q6NIlSk",
        "colab": {
          "base_uri": "https://localhost:8080/",
          "height": 896
        },
        "outputId": "c26c3c87-a540-4832-cfe4-b50efe42c172"
      },
      "execution_count": 47,
      "outputs": [
        {
          "output_type": "execute_result",
          "data": {
            "text/plain": [
              "         outer_ip      loss                       Label  Num_Label\n",
              "1721   172.16.0.1  0.000129             [DoS slowloris]          1\n",
              "1748   172.16.0.1  0.000280     [DoS slowloris, BENIGN]          1\n",
              "5575   172.16.0.1  0.116110             [DoS slowloris]          1\n",
              "5751   172.16.0.1  0.000081     [DoS slowloris, BENIGN]          1\n",
              "6592   172.16.0.1  0.062883     [DoS slowloris, BENIGN]          1\n",
              "7043   172.16.0.1  0.065316     [DoS slowloris, BENIGN]          1\n",
              "7689   172.16.0.1  0.077389             [DoS slowloris]          1\n",
              "8116   172.16.0.1  0.063598     [DoS slowloris, BENIGN]          1\n",
              "8581   172.16.0.1  0.047635     [DoS slowloris, BENIGN]          1\n",
              "9177   172.16.0.1  0.064244  [DoS Slowhttptest, BENIGN]          1\n",
              "9552   172.16.0.1  0.064223  [DoS Slowhttptest, BENIGN]          1\n",
              "10085  172.16.0.1  0.072922  [DoS Slowhttptest, BENIGN]          1\n",
              "10856  172.16.0.1  0.079111  [DoS Slowhttptest, BENIGN]          1\n",
              "11344  172.16.0.1  0.085019  [DoS Slowhttptest, BENIGN]          1\n",
              "11643  172.16.0.1  0.255338          [DoS Hulk, BENIGN]          1\n",
              "11848  172.16.0.1  0.175887          [DoS Hulk, BENIGN]          1\n",
              "12258  172.16.0.1  0.203344                  [DoS Hulk]          1\n",
              "12667  172.16.0.1  0.203622                  [DoS Hulk]          1\n",
              "13590  172.16.0.1  0.050312                  [DoS Hulk]          1\n",
              "14077  172.16.0.1  0.000225                  [DoS Hulk]          1\n",
              "14642  172.16.0.1  0.195054     [DoS GoldenEye, BENIGN]          1\n",
              "15012  172.16.0.1  0.115152     [DoS GoldenEye, BENIGN]          1\n",
              "30241  172.16.0.1  0.144038        [BENIGN, Heartbleed]          1\n",
              "30616  172.16.0.1  0.159304                [Heartbleed]          1\n",
              "31066  172.16.0.1  0.164933                [Heartbleed]          1\n",
              "31583  172.16.0.1  0.229636                [Heartbleed]          1\n",
              "31986  172.16.0.1  0.237123                [Heartbleed]          1"
            ],
            "text/html": [
              "<div>\n",
              "<style scoped>\n",
              "    .dataframe tbody tr th:only-of-type {\n",
              "        vertical-align: middle;\n",
              "    }\n",
              "\n",
              "    .dataframe tbody tr th {\n",
              "        vertical-align: top;\n",
              "    }\n",
              "\n",
              "    .dataframe thead th {\n",
              "        text-align: right;\n",
              "    }\n",
              "</style>\n",
              "<table border=\"1\" class=\"dataframe\">\n",
              "  <thead>\n",
              "    <tr style=\"text-align: right;\">\n",
              "      <th></th>\n",
              "      <th>outer_ip</th>\n",
              "      <th>loss</th>\n",
              "      <th>Label</th>\n",
              "      <th>Num_Label</th>\n",
              "    </tr>\n",
              "  </thead>\n",
              "  <tbody>\n",
              "    <tr>\n",
              "      <th>1721</th>\n",
              "      <td>172.16.0.1</td>\n",
              "      <td>0.000129</td>\n",
              "      <td>[DoS slowloris]</td>\n",
              "      <td>1</td>\n",
              "    </tr>\n",
              "    <tr>\n",
              "      <th>1748</th>\n",
              "      <td>172.16.0.1</td>\n",
              "      <td>0.000280</td>\n",
              "      <td>[DoS slowloris, BENIGN]</td>\n",
              "      <td>1</td>\n",
              "    </tr>\n",
              "    <tr>\n",
              "      <th>5575</th>\n",
              "      <td>172.16.0.1</td>\n",
              "      <td>0.116110</td>\n",
              "      <td>[DoS slowloris]</td>\n",
              "      <td>1</td>\n",
              "    </tr>\n",
              "    <tr>\n",
              "      <th>5751</th>\n",
              "      <td>172.16.0.1</td>\n",
              "      <td>0.000081</td>\n",
              "      <td>[DoS slowloris, BENIGN]</td>\n",
              "      <td>1</td>\n",
              "    </tr>\n",
              "    <tr>\n",
              "      <th>6592</th>\n",
              "      <td>172.16.0.1</td>\n",
              "      <td>0.062883</td>\n",
              "      <td>[DoS slowloris, BENIGN]</td>\n",
              "      <td>1</td>\n",
              "    </tr>\n",
              "    <tr>\n",
              "      <th>7043</th>\n",
              "      <td>172.16.0.1</td>\n",
              "      <td>0.065316</td>\n",
              "      <td>[DoS slowloris, BENIGN]</td>\n",
              "      <td>1</td>\n",
              "    </tr>\n",
              "    <tr>\n",
              "      <th>7689</th>\n",
              "      <td>172.16.0.1</td>\n",
              "      <td>0.077389</td>\n",
              "      <td>[DoS slowloris]</td>\n",
              "      <td>1</td>\n",
              "    </tr>\n",
              "    <tr>\n",
              "      <th>8116</th>\n",
              "      <td>172.16.0.1</td>\n",
              "      <td>0.063598</td>\n",
              "      <td>[DoS slowloris, BENIGN]</td>\n",
              "      <td>1</td>\n",
              "    </tr>\n",
              "    <tr>\n",
              "      <th>8581</th>\n",
              "      <td>172.16.0.1</td>\n",
              "      <td>0.047635</td>\n",
              "      <td>[DoS slowloris, BENIGN]</td>\n",
              "      <td>1</td>\n",
              "    </tr>\n",
              "    <tr>\n",
              "      <th>9177</th>\n",
              "      <td>172.16.0.1</td>\n",
              "      <td>0.064244</td>\n",
              "      <td>[DoS Slowhttptest, BENIGN]</td>\n",
              "      <td>1</td>\n",
              "    </tr>\n",
              "    <tr>\n",
              "      <th>9552</th>\n",
              "      <td>172.16.0.1</td>\n",
              "      <td>0.064223</td>\n",
              "      <td>[DoS Slowhttptest, BENIGN]</td>\n",
              "      <td>1</td>\n",
              "    </tr>\n",
              "    <tr>\n",
              "      <th>10085</th>\n",
              "      <td>172.16.0.1</td>\n",
              "      <td>0.072922</td>\n",
              "      <td>[DoS Slowhttptest, BENIGN]</td>\n",
              "      <td>1</td>\n",
              "    </tr>\n",
              "    <tr>\n",
              "      <th>10856</th>\n",
              "      <td>172.16.0.1</td>\n",
              "      <td>0.079111</td>\n",
              "      <td>[DoS Slowhttptest, BENIGN]</td>\n",
              "      <td>1</td>\n",
              "    </tr>\n",
              "    <tr>\n",
              "      <th>11344</th>\n",
              "      <td>172.16.0.1</td>\n",
              "      <td>0.085019</td>\n",
              "      <td>[DoS Slowhttptest, BENIGN]</td>\n",
              "      <td>1</td>\n",
              "    </tr>\n",
              "    <tr>\n",
              "      <th>11643</th>\n",
              "      <td>172.16.0.1</td>\n",
              "      <td>0.255338</td>\n",
              "      <td>[DoS Hulk, BENIGN]</td>\n",
              "      <td>1</td>\n",
              "    </tr>\n",
              "    <tr>\n",
              "      <th>11848</th>\n",
              "      <td>172.16.0.1</td>\n",
              "      <td>0.175887</td>\n",
              "      <td>[DoS Hulk, BENIGN]</td>\n",
              "      <td>1</td>\n",
              "    </tr>\n",
              "    <tr>\n",
              "      <th>12258</th>\n",
              "      <td>172.16.0.1</td>\n",
              "      <td>0.203344</td>\n",
              "      <td>[DoS Hulk]</td>\n",
              "      <td>1</td>\n",
              "    </tr>\n",
              "    <tr>\n",
              "      <th>12667</th>\n",
              "      <td>172.16.0.1</td>\n",
              "      <td>0.203622</td>\n",
              "      <td>[DoS Hulk]</td>\n",
              "      <td>1</td>\n",
              "    </tr>\n",
              "    <tr>\n",
              "      <th>13590</th>\n",
              "      <td>172.16.0.1</td>\n",
              "      <td>0.050312</td>\n",
              "      <td>[DoS Hulk]</td>\n",
              "      <td>1</td>\n",
              "    </tr>\n",
              "    <tr>\n",
              "      <th>14077</th>\n",
              "      <td>172.16.0.1</td>\n",
              "      <td>0.000225</td>\n",
              "      <td>[DoS Hulk]</td>\n",
              "      <td>1</td>\n",
              "    </tr>\n",
              "    <tr>\n",
              "      <th>14642</th>\n",
              "      <td>172.16.0.1</td>\n",
              "      <td>0.195054</td>\n",
              "      <td>[DoS GoldenEye, BENIGN]</td>\n",
              "      <td>1</td>\n",
              "    </tr>\n",
              "    <tr>\n",
              "      <th>15012</th>\n",
              "      <td>172.16.0.1</td>\n",
              "      <td>0.115152</td>\n",
              "      <td>[DoS GoldenEye, BENIGN]</td>\n",
              "      <td>1</td>\n",
              "    </tr>\n",
              "    <tr>\n",
              "      <th>30241</th>\n",
              "      <td>172.16.0.1</td>\n",
              "      <td>0.144038</td>\n",
              "      <td>[BENIGN, Heartbleed]</td>\n",
              "      <td>1</td>\n",
              "    </tr>\n",
              "    <tr>\n",
              "      <th>30616</th>\n",
              "      <td>172.16.0.1</td>\n",
              "      <td>0.159304</td>\n",
              "      <td>[Heartbleed]</td>\n",
              "      <td>1</td>\n",
              "    </tr>\n",
              "    <tr>\n",
              "      <th>31066</th>\n",
              "      <td>172.16.0.1</td>\n",
              "      <td>0.164933</td>\n",
              "      <td>[Heartbleed]</td>\n",
              "      <td>1</td>\n",
              "    </tr>\n",
              "    <tr>\n",
              "      <th>31583</th>\n",
              "      <td>172.16.0.1</td>\n",
              "      <td>0.229636</td>\n",
              "      <td>[Heartbleed]</td>\n",
              "      <td>1</td>\n",
              "    </tr>\n",
              "    <tr>\n",
              "      <th>31986</th>\n",
              "      <td>172.16.0.1</td>\n",
              "      <td>0.237123</td>\n",
              "      <td>[Heartbleed]</td>\n",
              "      <td>1</td>\n",
              "    </tr>\n",
              "  </tbody>\n",
              "</table>\n",
              "</div>"
            ]
          },
          "metadata": {},
          "execution_count": 47
        }
      ]
    },
    {
      "cell_type": "code",
      "source": [
        "concat_result = pd.concat([\n",
        "    concat_result, result\n",
        "])"
      ],
      "metadata": {
        "id": "kEm2WtaZhhbC"
      },
      "execution_count": 48,
      "outputs": []
    },
    {
      "cell_type": "code",
      "source": [
        "y_true = result['Num_Label'].values\n",
        "loss = result['loss'].values"
      ],
      "metadata": {
        "id": "KX8lLqBOIlSk"
      },
      "execution_count": 49,
      "outputs": []
    },
    {
      "cell_type": "code",
      "source": [
        "wednes_fp, wednes_tp, _ = roc_curve(y_true, loss)\n",
        "roc_auc_score(y_true, loss)"
      ],
      "metadata": {
        "id": "f5_QUi31IlSk",
        "colab": {
          "base_uri": "https://localhost:8080/"
        },
        "outputId": "7867d5df-df0b-4a53-d037-092ff43cb4c5"
      },
      "execution_count": 50,
      "outputs": [
        {
          "output_type": "execute_result",
          "data": {
            "text/plain": [
              "0.9705895450576302"
            ]
          },
          "metadata": {},
          "execution_count": 50
        }
      ]
    },
    {
      "cell_type": "code",
      "source": [
        "theta = best_f1(y_true, loss)"
      ],
      "metadata": {
        "id": "jhCSgsrDIlSk",
        "colab": {
          "base_uri": "https://localhost:8080/"
        },
        "outputId": "ab5dee61-3801-41ee-c234-36dd7055cbb8"
      },
      "execution_count": 51,
      "outputs": [
        {
          "output_type": "stream",
          "name": "stdout",
          "text": [
            "theta :  0.15849999999999886\n",
            "accuracy :  0.9990858038396239\n",
            "recall :  0.3333333333333333\n",
            "precision:  0.34615384615384615\n",
            "f1-score :  0.33962264150943394\n"
          ]
        }
      ]
    },
    {
      "cell_type": "code",
      "source": [
        "_, axs = plt.subplots(2,1, figsize=(22,14))\n",
        "titles = ['benign', 'attack']\n",
        "\n",
        "for i in range(2):\n",
        "    axs[i].hist(result[result['Num_Label'] == i]['loss'], bins=200, range=(0,0.1))\n",
        "    axs[i].axvline(x=theta, color='r', linestyle='--')\n",
        "    axs[i].set_title(titles[i])\n"
      ],
      "metadata": {
        "id": "A1DEcik4IlSl",
        "colab": {
          "base_uri": "https://localhost:8080/",
          "height": 825
        },
        "outputId": "3b46d821-1c41-4245-c739-2861b070536b"
      },
      "execution_count": 52,
      "outputs": [
        {
          "output_type": "display_data",
          "data": {
            "text/plain": [
              "<Figure size 1584x1008 with 2 Axes>"
            ],
            "image/png": "[encoded data removed]"
          },
          "metadata": {
            "needs_background": "light"
          }
        }
      ]
    },
    {
      "cell_type": "markdown",
      "source": [
        "## 금요일 \n",
        "- 목요일은 이유를 알 수 없는 에러로 인해 스킵"
      ],
      "metadata": {
        "id": "NWmFu44yJe8w"
      }
    },
    {
      "cell_type": "code",
      "source": [
        "testSet = testSetLoader(files[3])"
      ],
      "metadata": {
        "id": "_w9HUH10JBmG"
      },
      "execution_count": 53,
      "outputs": []
    },
    {
      "cell_type": "code",
      "source": [
        "testX = fpp.transform(testSet)"
      ],
      "metadata": {
        "id": "4FDGTVa0JBmG"
      },
      "execution_count": 54,
      "outputs": []
    },
    {
      "cell_type": "code",
      "source": [
        "loss = test_fn(model, testX)"
      ],
      "metadata": {
        "id": "n3o47y1lJBmG"
      },
      "execution_count": 55,
      "outputs": []
    },
    {
      "cell_type": "code",
      "source": [
        "result = result_fn(testSet, loss)"
      ],
      "metadata": {
        "id": "qInl_y7YJBmG"
      },
      "execution_count": 56,
      "outputs": []
    },
    {
      "cell_type": "code",
      "source": [
        "result[result['Num_Label']==1]"
      ],
      "metadata": {
        "id": "hjqQfJSLJBmG",
        "colab": {
          "base_uri": "https://localhost:8080/",
          "height": 614
        },
        "outputId": "c99ca5ff-734e-48df-b365-1cb3b8b6905a"
      },
      "execution_count": 57,
      "outputs": [
        {
          "output_type": "execute_result",
          "data": {
            "text/plain": [
              "            outer_ip      loss               Label  Num_Label\n",
              "1656      172.16.0.1  0.188190              [DDoS]          1\n",
              "1984      172.16.0.1  0.188359              [DDoS]          1\n",
              "2247      172.16.0.1  0.187876              [DDoS]          1\n",
              "2288   192.168.10.50  0.091902      [BENIGN, DDoS]          1\n",
              "2480      172.16.0.1  0.188318              [DDoS]          1\n",
              "2928      172.16.0.1  0.156274      [DDoS, BENIGN]          1\n",
              "5849      172.16.0.1  0.000277          [PortScan]          1\n",
              "9213      172.16.0.1  0.000129          [PortScan]          1\n",
              "9452      172.16.0.1  0.000215          [PortScan]          1\n",
              "9742      172.16.0.1  0.000225          [PortScan]          1\n",
              "10918     172.16.0.1  0.056710          [PortScan]          1\n",
              "11004     172.16.0.1  0.024772          [PortScan]          1\n",
              "14065     172.16.0.1  0.076777  [PortScan, BENIGN]          1\n",
              "14234     172.16.0.1  0.094650          [PortScan]          1\n",
              "15004     172.16.0.1  0.000480          [PortScan]          1\n",
              "15394     172.16.0.1  0.082418          [PortScan]          1\n",
              "15549     172.16.0.1  0.048337          [PortScan]          1\n",
              "16657     172.16.0.1  0.080053          [PortScan]          1"
            ],
            "text/html": [
              "<div>\n",
              "<style scoped>\n",
              "    .dataframe tbody tr th:only-of-type {\n",
              "        vertical-align: middle;\n",
              "    }\n",
              "\n",
              "    .dataframe tbody tr th {\n",
              "        vertical-align: top;\n",
              "    }\n",
              "\n",
              "    .dataframe thead th {\n",
              "        text-align: right;\n",
              "    }\n",
              "</style>\n",
              "<table border=\"1\" class=\"dataframe\">\n",
              "  <thead>\n",
              "    <tr style=\"text-align: right;\">\n",
              "      <th></th>\n",
              "      <th>outer_ip</th>\n",
              "      <th>loss</th>\n",
              "      <th>Label</th>\n",
              "      <th>Num_Label</th>\n",
              "    </tr>\n",
              "  </thead>\n",
              "  <tbody>\n",
              "    <tr>\n",
              "      <th>1656</th>\n",
              "      <td>172.16.0.1</td>\n",
              "      <td>0.188190</td>\n",
              "      <td>[DDoS]</td>\n",
              "      <td>1</td>\n",
              "    </tr>\n",
              "    <tr>\n",
              "      <th>1984</th>\n",
              "      <td>172.16.0.1</td>\n",
              "      <td>0.188359</td>\n",
              "      <td>[DDoS]</td>\n",
              "      <td>1</td>\n",
              "    </tr>\n",
              "    <tr>\n",
              "      <th>2247</th>\n",
              "      <td>172.16.0.1</td>\n",
              "      <td>0.187876</td>\n",
              "      <td>[DDoS]</td>\n",
              "      <td>1</td>\n",
              "    </tr>\n",
              "    <tr>\n",
              "      <th>2288</th>\n",
              "      <td>192.168.10.50</td>\n",
              "      <td>0.091902</td>\n",
              "      <td>[BENIGN, DDoS]</td>\n",
              "      <td>1</td>\n",
              "    </tr>\n",
              "    <tr>\n",
              "      <th>2480</th>\n",
              "      <td>172.16.0.1</td>\n",
              "      <td>0.188318</td>\n",
              "      <td>[DDoS]</td>\n",
              "      <td>1</td>\n",
              "    </tr>\n",
              "    <tr>\n",
              "      <th>2928</th>\n",
              "      <td>172.16.0.1</td>\n",
              "      <td>0.156274</td>\n",
              "      <td>[DDoS, BENIGN]</td>\n",
              "      <td>1</td>\n",
              "    </tr>\n",
              "    <tr>\n",
              "      <th>5849</th>\n",
              "      <td>172.16.0.1</td>\n",
              "      <td>0.000277</td>\n",
              "      <td>[PortScan]</td>\n",
              "      <td>1</td>\n",
              "    </tr>\n",
              "    <tr>\n",
              "      <th>9213</th>\n",
              "      <td>172.16.0.1</td>\n",
              "      <td>0.000129</td>\n",
              "      <td>[PortScan]</td>\n",
              "      <td>1</td>\n",
              "    </tr>\n",
              "    <tr>\n",
              "      <th>9452</th>\n",
              "      <td>172.16.0.1</td>\n",
              "      <td>0.000215</td>\n",
              "      <td>[PortScan]</td>\n",
              "      <td>1</td>\n",
              "    </tr>\n",
              "    <tr>\n",
              "      <th>9742</th>\n",
              "      <td>172.16.0.1</td>\n",
              "      <td>0.000225</td>\n",
              "      <td>[PortScan]</td>\n",
              "      <td>1</td>\n",
              "    </tr>\n",
              "    <tr>\n",
              "      <th>10918</th>\n",
              "      <td>172.16.0.1</td>\n",
              "      <td>0.056710</td>\n",
              "      <td>[PortScan]</td>\n",
              "      <td>1</td>\n",
              "    </tr>\n",
              "    <tr>\n",
              "      <th>11004</th>\n",
              "      <td>172.16.0.1</td>\n",
              "      <td>0.024772</td>\n",
              "      <td>[PortScan]</td>\n",
              "      <td>1</td>\n",
              "    </tr>\n",
              "    <tr>\n",
              "      <th>14065</th>\n",
              "      <td>172.16.0.1</td>\n",
              "      <td>0.076777</td>\n",
              "      <td>[PortScan, BENIGN]</td>\n",
              "      <td>1</td>\n",
              "    </tr>\n",
              "    <tr>\n",
              "      <th>14234</th>\n",
              "      <td>172.16.0.1</td>\n",
              "      <td>0.094650</td>\n",
              "      <td>[PortScan]</td>\n",
              "      <td>1</td>\n",
              "    </tr>\n",
              "    <tr>\n",
              "      <th>15004</th>\n",
              "      <td>172.16.0.1</td>\n",
              "      <td>0.000480</td>\n",
              "      <td>[PortScan]</td>\n",
              "      <td>1</td>\n",
              "    </tr>\n",
              "    <tr>\n",
              "      <th>15394</th>\n",
              "      <td>172.16.0.1</td>\n",
              "      <td>0.082418</td>\n",
              "      <td>[PortScan]</td>\n",
              "      <td>1</td>\n",
              "    </tr>\n",
              "    <tr>\n",
              "      <th>15549</th>\n",
              "      <td>172.16.0.1</td>\n",
              "      <td>0.048337</td>\n",
              "      <td>[PortScan]</td>\n",
              "      <td>1</td>\n",
              "    </tr>\n",
              "    <tr>\n",
              "      <th>16657</th>\n",
              "      <td>172.16.0.1</td>\n",
              "      <td>0.080053</td>\n",
              "      <td>[PortScan]</td>\n",
              "      <td>1</td>\n",
              "    </tr>\n",
              "  </tbody>\n",
              "</table>\n",
              "</div>"
            ]
          },
          "metadata": {},
          "execution_count": 57
        }
      ]
    },
    {
      "cell_type": "code",
      "source": [
        "concat_result = pd.concat([\n",
        "    concat_result, result\n",
        "])"
      ],
      "metadata": {
        "id": "ciNP4oKthi67"
      },
      "execution_count": 58,
      "outputs": []
    },
    {
      "cell_type": "code",
      "source": [
        "y_true = result['Num_Label'].values\n",
        "loss = result['loss'].values"
      ],
      "metadata": {
        "id": "IPhE7PIGJBmG"
      },
      "execution_count": 59,
      "outputs": []
    },
    {
      "cell_type": "code",
      "source": [
        "fri_fp, fri_tp, _ = roc_curve(y_true, loss)\n",
        "roc_auc_score(y_true, loss)"
      ],
      "metadata": {
        "id": "LWPgbp7oJBmH",
        "colab": {
          "base_uri": "https://localhost:8080/"
        },
        "outputId": "663077d7-20ad-4fb4-a65e-0ce675b2cd76"
      },
      "execution_count": 60,
      "outputs": [
        {
          "output_type": "execute_result",
          "data": {
            "text/plain": [
              "0.9626230761877449"
            ]
          },
          "metadata": {},
          "execution_count": 60
        }
      ]
    },
    {
      "cell_type": "code",
      "source": [
        "theta = best_f1(y_true, loss)"
      ],
      "metadata": {
        "id": "_QboepSlJBmH",
        "colab": {
          "base_uri": "https://localhost:8080/"
        },
        "outputId": "36998983-6a9d-44b9-86ac-b6e35445da2f"
      },
      "execution_count": 61,
      "outputs": [
        {
          "output_type": "stream",
          "name": "stdout",
          "text": [
            "theta :  0.1526999999999995\n",
            "accuracy :  0.999197845642583\n",
            "recall :  0.2777777777777778\n",
            "precision:  0.8333333333333334\n",
            "f1-score :  0.4166666666666667\n"
          ]
        }
      ]
    },
    {
      "cell_type": "code",
      "source": [
        "_, axs = plt.subplots(2,1, figsize=(22,14))\n",
        "titles = ['benign', 'attack']\n",
        "\n",
        "for i in range(2):\n",
        "    axs[i].hist(result[result['Num_Label'] == i]['loss'], bins=200, range=(0,0.1))\n",
        "    axs[i].axvline(x=theta, color='r', linestyle='--')\n",
        "    axs[i].set_title(titles[i])\n"
      ],
      "metadata": {
        "id": "-55ovTJlJBmH",
        "colab": {
          "base_uri": "https://localhost:8080/",
          "height": 825
        },
        "outputId": "c3a5c1c9-ae23-4162-b23a-eff26ed8e9dd"
      },
      "execution_count": 62,
      "outputs": [
        {
          "output_type": "display_data",
          "data": {
            "text/plain": [
              "<Figure size 1584x1008 with 2 Axes>"
            ],
            "image/png": "[encoded data removed]"
          },
          "metadata": {
            "needs_background": "light"
          }
        }
      ]
    },
    {
      "cell_type": "markdown",
      "source": [
        "## 금요일 BOT"
      ],
      "metadata": {
        "id": "Cxvtbbd9KMyz"
      }
    },
    {
      "cell_type": "code",
      "source": [
        "testSet = testSetLoader(files[4])"
      ],
      "metadata": {
        "id": "IIuxOv3IKQmJ"
      },
      "execution_count": 63,
      "outputs": []
    },
    {
      "cell_type": "code",
      "source": [
        "testX = fpp.transform(testSet)"
      ],
      "metadata": {
        "id": "q41OYsXmKQmJ"
      },
      "execution_count": 64,
      "outputs": []
    },
    {
      "cell_type": "code",
      "source": [
        "loss = test_fn(model, testX)"
      ],
      "metadata": {
        "id": "ycNG6t4jKQmJ"
      },
      "execution_count": 65,
      "outputs": []
    },
    {
      "cell_type": "code",
      "source": [
        "result = result_fn(testSet, loss)"
      ],
      "metadata": {
        "id": "Y54pmX2EKQmJ"
      },
      "execution_count": 66,
      "outputs": []
    },
    {
      "cell_type": "code",
      "source": [
        "result[result['Num_Label']==1]"
      ],
      "metadata": {
        "id": "Y0L1XkOjKQmJ",
        "colab": {
          "base_uri": "https://localhost:8080/",
          "height": 1000
        },
        "outputId": "41e35f45-be09-4b18-f774-ca95fa133e9f"
      },
      "execution_count": 67,
      "outputs": [
        {
          "output_type": "execute_result",
          "data": {
            "text/plain": [
              "             outer_ip      loss  Label  Num_Label\n",
              "2471       52.6.13.28  0.000131  [Bot]          1\n",
              "2511       52.6.13.28  0.000087  [Bot]          1\n",
              "5408   205.174.165.73  0.000463  [Bot]          1\n",
              "5535   205.174.165.73  0.000181  [Bot]          1\n",
              "6068   205.174.165.73  0.000165  [Bot]          1\n",
              "6531   205.174.165.73  0.000199  [Bot]          1\n",
              "6963   205.174.165.73  0.000125  [Bot]          1\n",
              "7590   205.174.165.73  0.095068  [Bot]          1\n",
              "8265   205.174.165.73  0.061480  [Bot]          1\n",
              "8913   205.174.165.73  0.061406  [Bot]          1\n",
              "9302   205.174.165.73  0.102198  [Bot]          1\n",
              "9584   205.174.165.73  0.095065  [Bot]          1\n",
              "9781   205.174.165.73  0.000130  [Bot]          1\n",
              "10108  205.174.165.73  0.000126  [Bot]          1\n",
              "10348  205.174.165.73  0.000145  [Bot]          1\n",
              "10768  205.174.165.73  0.061602  [Bot]          1\n",
              "11195  205.174.165.73  0.061602  [Bot]          1\n",
              "11566  205.174.165.73  0.061623  [Bot]          1\n",
              "12077  205.174.165.73  0.061616  [Bot]          1\n",
              "12178    52.7.235.158  0.000123  [Bot]          1\n",
              "12772  205.174.165.73  0.061623  [Bot]          1\n",
              "13301  205.174.165.73  0.061624  [Bot]          1\n",
              "13803  205.174.165.73  0.061623  [Bot]          1\n",
              "14106  205.174.165.73  0.061621  [Bot]          1\n",
              "14518  205.174.165.73  0.061622  [Bot]          1\n",
              "15027  205.174.165.73  0.061622  [Bot]          1\n",
              "15300  205.174.165.73  0.061621  [Bot]          1\n",
              "15798  205.174.165.73  0.061620  [Bot]          1\n",
              "15980  205.174.165.73  0.061618  [Bot]          1\n",
              "16058  205.174.165.73  0.061624  [Bot]          1\n",
              "16473  205.174.165.73  0.061622  [Bot]          1\n",
              "16763  205.174.165.73  0.061624  [Bot]          1\n",
              "16857  205.174.165.73  0.061622  [Bot]          1\n",
              "16974  205.174.165.73  0.061621  [Bot]          1\n",
              "17039  205.174.165.73  0.061621  [Bot]          1\n",
              "17124  205.174.165.73  0.061622  [Bot]          1\n",
              "17181  205.174.165.73  0.061623  [Bot]          1\n",
              "17221  205.174.165.73  0.061623  [Bot]          1\n",
              "17350  205.174.165.73  0.061623  [Bot]          1"
            ],
            "text/html": [
              "<div>\n",
              "<style scoped>\n",
              "    .dataframe tbody tr th:only-of-type {\n",
              "        vertical-align: middle;\n",
              "    }\n",
              "\n",
              "    .dataframe tbody tr th {\n",
              "        vertical-align: top;\n",
              "    }\n",
              "\n",
              "    .dataframe thead th {\n",
              "        text-align: right;\n",
              "    }\n",
              "</style>\n",
              "<table border=\"1\" class=\"dataframe\">\n",
              "  <thead>\n",
              "    <tr style=\"text-align: right;\">\n",
              "      <th></th>\n",
              "      <th>outer_ip</th>\n",
              "      <th>loss</th>\n",
              "      <th>Label</th>\n",
              "      <th>Num_Label</th>\n",
              "    </tr>\n",
              "  </thead>\n",
              "  <tbody>\n",
              "    <tr>\n",
              "      <th>2471</th>\n",
              "      <td>52.6.13.28</td>\n",
              "      <td>0.000131</td>\n",
              "      <td>[Bot]</td>\n",
              "      <td>1</td>\n",
              "    </tr>\n",
              "    <tr>\n",
              "      <th>2511</th>\n",
              "      <td>52.6.13.28</td>\n",
              "      <td>0.000087</td>\n",
              "      <td>[Bot]</td>\n",
              "      <td>1</td>\n",
              "    </tr>\n",
              "    <tr>\n",
              "      <th>5408</th>\n",
              "      <td>205.174.165.73</td>\n",
              "      <td>0.000463</td>\n",
              "      <td>[Bot]</td>\n",
              "      <td>1</td>\n",
              "    </tr>\n",
              "    <tr>\n",
              "      <th>5535</th>\n",
              "      <td>205.174.165.73</td>\n",
              "      <td>0.000181</td>\n",
              "      <td>[Bot]</td>\n",
              "      <td>1</td>\n",
              "    </tr>\n",
              "    <tr>\n",
              "      <th>6068</th>\n",
              "      <td>205.174.165.73</td>\n",
              "      <td>0.000165</td>\n",
              "      <td>[Bot]</td>\n",
              "      <td>1</td>\n",
              "    </tr>\n",
              "    <tr>\n",
              "      <th>6531</th>\n",
              "      <td>205.174.165.73</td>\n",
              "      <td>0.000199</td>\n",
              "      <td>[Bot]</td>\n",
              "      <td>1</td>\n",
              "    </tr>\n",
              "    <tr>\n",
              "      <th>6963</th>\n",
              "      <td>205.174.165.73</td>\n",
              "      <td>0.000125</td>\n",
              "      <td>[Bot]</td>\n",
              "      <td>1</td>\n",
              "    </tr>\n",
              "    <tr>\n",
              "      <th>7590</th>\n",
              "      <td>205.174.165.73</td>\n",
              "      <td>0.095068</td>\n",
              "      <td>[Bot]</td>\n",
              "      <td>1</td>\n",
              "    </tr>\n",
              "    <tr>\n",
              "      <th>8265</th>\n",
              "      <td>205.174.165.73</td>\n",
              "      <td>0.061480</td>\n",
              "      <td>[Bot]</td>\n",
              "      <td>1</td>\n",
              "    </tr>\n",
              "    <tr>\n",
              "      <th>8913</th>\n",
              "      <td>205.174.165.73</td>\n",
              "      <td>0.061406</td>\n",
              "      <td>[Bot]</td>\n",
              "      <td>1</td>\n",
              "    </tr>\n",
              "    <tr>\n",
              "      <th>9302</th>\n",
              "      <td>205.174.165.73</td>\n",
              "      <td>0.102198</td>\n",
              "      <td>[Bot]</td>\n",
              "      <td>1</td>\n",
              "    </tr>\n",
              "    <tr>\n",
              "      <th>9584</th>\n",
              "      <td>205.174.165.73</td>\n",
              "      <td>0.095065</td>\n",
              "      <td>[Bot]</td>\n",
              "      <td>1</td>\n",
              "    </tr>\n",
              "    <tr>\n",
              "      <th>9781</th>\n",
              "      <td>205.174.165.73</td>\n",
              "      <td>0.000130</td>\n",
              "      <td>[Bot]</td>\n",
              "      <td>1</td>\n",
              "    </tr>\n",
              "    <tr>\n",
              "      <th>10108</th>\n",
              "      <td>205.174.165.73</td>\n",
              "      <td>0.000126</td>\n",
              "      <td>[Bot]</td>\n",
              "      <td>1</td>\n",
              "    </tr>\n",
              "    <tr>\n",
              "      <th>10348</th>\n",
              "      <td>205.174.165.73</td>\n",
              "      <td>0.000145</td>\n",
              "      <td>[Bot]</td>\n",
              "      <td>1</td>\n",
              "    </tr>\n",
              "    <tr>\n",
              "      <th>10768</th>\n",
              "      <td>205.174.165.73</td>\n",
              "      <td>0.061602</td>\n",
              "      <td>[Bot]</td>\n",
              "      <td>1</td>\n",
              "    </tr>\n",
              "    <tr>\n",
              "      <th>11195</th>\n",
              "      <td>205.174.165.73</td>\n",
              "      <td>0.061602</td>\n",
              "      <td>[Bot]</td>\n",
              "      <td>1</td>\n",
              "    </tr>\n",
              "    <tr>\n",
              "      <th>11566</th>\n",
              "      <td>205.174.165.73</td>\n",
              "      <td>0.061623</td>\n",
              "      <td>[Bot]</td>\n",
              "      <td>1</td>\n",
              "    </tr>\n",
              "    <tr>\n",
              "      <th>12077</th>\n",
              "      <td>205.174.165.73</td>\n",
              "      <td>0.061616</td>\n",
              "      <td>[Bot]</td>\n",
              "      <td>1</td>\n",
              "    </tr>\n",
              "    <tr>\n",
              "      <th>12178</th>\n",
              "      <td>52.7.235.158</td>\n",
              "      <td>0.000123</td>\n",
              "      <td>[Bot]</td>\n",
              "      <td>1</td>\n",
              "    </tr>\n",
              "    <tr>\n",
              "      <th>12772</th>\n",
              "      <td>205.174.165.73</td>\n",
              "      <td>0.061623</td>\n",
              "      <td>[Bot]</td>\n",
              "      <td>1</td>\n",
              "    </tr>\n",
              "    <tr>\n",
              "      <th>13301</th>\n",
              "      <td>205.174.165.73</td>\n",
              "      <td>0.061624</td>\n",
              "      <td>[Bot]</td>\n",
              "      <td>1</td>\n",
              "    </tr>\n",
              "    <tr>\n",
              "      <th>13803</th>\n",
              "      <td>205.174.165.73</td>\n",
              "      <td>0.061623</td>\n",
              "      <td>[Bot]</td>\n",
              "      <td>1</td>\n",
              "    </tr>\n",
              "    <tr>\n",
              "      <th>14106</th>\n",
              "      <td>205.174.165.73</td>\n",
              "      <td>0.061621</td>\n",
              "      <td>[Bot]</td>\n",
              "      <td>1</td>\n",
              "    </tr>\n",
              "    <tr>\n",
              "      <th>14518</th>\n",
              "      <td>205.174.165.73</td>\n",
              "      <td>0.061622</td>\n",
              "      <td>[Bot]</td>\n",
              "      <td>1</td>\n",
              "    </tr>\n",
              "    <tr>\n",
              "      <th>15027</th>\n",
              "      <td>205.174.165.73</td>\n",
              "      <td>0.061622</td>\n",
              "      <td>[Bot]</td>\n",
              "      <td>1</td>\n",
              "    </tr>\n",
              "    <tr>\n",
              "      <th>15300</th>\n",
              "      <td>205.174.165.73</td>\n",
              "      <td>0.061621</td>\n",
              "      <td>[Bot]</td>\n",
              "      <td>1</td>\n",
              "    </tr>\n",
              "    <tr>\n",
              "      <th>15798</th>\n",
              "      <td>205.174.165.73</td>\n",
              "      <td>0.061620</td>\n",
              "      <td>[Bot]</td>\n",
              "      <td>1</td>\n",
              "    </tr>\n",
              "    <tr>\n",
              "      <th>15980</th>\n",
              "      <td>205.174.165.73</td>\n",
              "      <td>0.061618</td>\n",
              "      <td>[Bot]</td>\n",
              "      <td>1</td>\n",
              "    </tr>\n",
              "    <tr>\n",
              "      <th>16058</th>\n",
              "      <td>205.174.165.73</td>\n",
              "      <td>0.061624</td>\n",
              "      <td>[Bot]</td>\n",
              "      <td>1</td>\n",
              "    </tr>\n",
              "    <tr>\n",
              "      <th>16473</th>\n",
              "      <td>205.174.165.73</td>\n",
              "      <td>0.061622</td>\n",
              "      <td>[Bot]</td>\n",
              "      <td>1</td>\n",
              "    </tr>\n",
              "    <tr>\n",
              "      <th>16763</th>\n",
              "      <td>205.174.165.73</td>\n",
              "      <td>0.061624</td>\n",
              "      <td>[Bot]</td>\n",
              "      <td>1</td>\n",
              "    </tr>\n",
              "    <tr>\n",
              "      <th>16857</th>\n",
              "      <td>205.174.165.73</td>\n",
              "      <td>0.061622</td>\n",
              "      <td>[Bot]</td>\n",
              "      <td>1</td>\n",
              "    </tr>\n",
              "    <tr>\n",
              "      <th>16974</th>\n",
              "      <td>205.174.165.73</td>\n",
              "      <td>0.061621</td>\n",
              "      <td>[Bot]</td>\n",
              "      <td>1</td>\n",
              "    </tr>\n",
              "    <tr>\n",
              "      <th>17039</th>\n",
              "      <td>205.174.165.73</td>\n",
              "      <td>0.061621</td>\n",
              "      <td>[Bot]</td>\n",
              "      <td>1</td>\n",
              "    </tr>\n",
              "    <tr>\n",
              "      <th>17124</th>\n",
              "      <td>205.174.165.73</td>\n",
              "      <td>0.061622</td>\n",
              "      <td>[Bot]</td>\n",
              "      <td>1</td>\n",
              "    </tr>\n",
              "    <tr>\n",
              "      <th>17181</th>\n",
              "      <td>205.174.165.73</td>\n",
              "      <td>0.061623</td>\n",
              "      <td>[Bot]</td>\n",
              "      <td>1</td>\n",
              "    </tr>\n",
              "    <tr>\n",
              "      <th>17221</th>\n",
              "      <td>205.174.165.73</td>\n",
              "      <td>0.061623</td>\n",
              "      <td>[Bot]</td>\n",
              "      <td>1</td>\n",
              "    </tr>\n",
              "    <tr>\n",
              "      <th>17350</th>\n",
              "      <td>205.174.165.73</td>\n",
              "      <td>0.061623</td>\n",
              "      <td>[Bot]</td>\n",
              "      <td>1</td>\n",
              "    </tr>\n",
              "  </tbody>\n",
              "</table>\n",
              "</div>"
            ]
          },
          "metadata": {},
          "execution_count": 67
        }
      ]
    },
    {
      "cell_type": "code",
      "source": [
        "concat_result = pd.concat([\n",
        "    concat_result, result\n",
        "])"
      ],
      "metadata": {
        "id": "mKpYNjtshlkB"
      },
      "execution_count": 68,
      "outputs": []
    },
    {
      "cell_type": "code",
      "source": [
        "y_true = result['Num_Label'].values\n",
        "loss = result['loss'].values"
      ],
      "metadata": {
        "id": "InqStT-sKQmJ"
      },
      "execution_count": 69,
      "outputs": []
    },
    {
      "cell_type": "code",
      "source": [
        "bot_fp, bot_tp, _ = roc_curve(y_true, loss)\n",
        "roc_auc_score(y_true, loss)"
      ],
      "metadata": {
        "id": "in1gB3wxKQmK",
        "colab": {
          "base_uri": "https://localhost:8080/"
        },
        "outputId": "6d00e20d-af35-4672-a8ff-7ba2771f86a0"
      },
      "execution_count": 70,
      "outputs": [
        {
          "output_type": "execute_result",
          "data": {
            "text/plain": [
              "0.9436411912196045"
            ]
          },
          "metadata": {},
          "execution_count": 70
        }
      ]
    },
    {
      "cell_type": "code",
      "source": [
        "theta = best_f1(y_true, loss)"
      ],
      "metadata": {
        "id": "sbccFhwMKQmK",
        "colab": {
          "base_uri": "https://localhost:8080/"
        },
        "outputId": "9f50ac7f-9169-4d11-9bbb-50e8f8427fb7"
      },
      "execution_count": 71,
      "outputs": [
        {
          "output_type": "stream",
          "name": "stdout",
          "text": [
            "theta :  0.05990000000000069\n",
            "accuracy :  0.9966058793073692\n",
            "recall :  0.717948717948718\n",
            "precision:  0.3684210526315789\n",
            "f1-score :  0.48695652173913045\n"
          ]
        }
      ]
    },
    {
      "cell_type": "code",
      "source": [
        "_, axs = plt.subplots(2,1, figsize=(22,14))\n",
        "titles = ['benign', 'attack']\n",
        "\n",
        "for i in range(2):\n",
        "    axs[i].hist(result[result['Num_Label'] == i]['loss'], bins=200, range=(0,0.1))\n",
        "    axs[i].axvline(x=theta, color='r', linestyle='--')\n",
        "    axs[i].set_title(titles[i])\n"
      ],
      "metadata": {
        "id": "gO-MEiUrKQmK",
        "colab": {
          "base_uri": "https://localhost:8080/",
          "height": 825
        },
        "outputId": "2bb52b45-0ad1-4afd-def2-de848f82304a"
      },
      "execution_count": 72,
      "outputs": [
        {
          "output_type": "display_data",
          "data": {
            "text/plain": [
              "<Figure size 1584x1008 with 2 Axes>"
            ],
            "image/png": "[encoded data removed]"
          },
          "metadata": {
            "needs_background": "light"
          }
        }
      ]
    },
    {
      "cell_type": "markdown",
      "source": [
        "## ROC 곡선 그리기"
      ],
      "metadata": {
        "id": "piVV2qQDQPyL"
      }
    },
    {
      "cell_type": "code",
      "source": [
        "plt.figure(figsize=(22,14))\n",
        "\n",
        "plt.plot(tues_fp, tues_tp, color='red', label='tuesday')\n",
        "plt.plot(wednes_fp, wednes_tp, color='blue', label='wednesday')\n",
        "plt.plot(fri_fp, fri_tp, color='green', label='friday')\n",
        "plt.plot(bot_fp, bot_tp, color='pink', label='Bot-attack')\n",
        "plt.plot([0, 1], [0, 1], color='black', linestyle='--')\n",
        "plt.xlabel('False Positive Rate')\n",
        "plt.ylabel('True Positive Rate')\n",
        "plt.title('IPOD_EXPAND_PDF')\n",
        "plt.legend()\n",
        "plt.show()"
      ],
      "metadata": {
        "id": "ZjA1ktZhKMSs",
        "colab": {
          "base_uri": "https://localhost:8080/",
          "height": 839
        },
        "outputId": "0b3fea8e-dafa-485f-8d46-0c3c6dd9cd3d"
      },
      "execution_count": 73,
      "outputs": [
        {
          "output_type": "display_data",
          "data": {
            "text/plain": [
              "<Figure size 1584x1008 with 1 Axes>"
            ],
            "image/png": "[encoded data removed]"
          },
          "metadata": {
            "needs_background": "light"
          }
        }
      ]
    },
    {
      "cell_type": "code",
      "source": [
        "concat_result[concat_result['Num_Label']==1].describe()"
      ],
      "metadata": {
        "id": "Z7o-hnC-QoxV",
        "colab": {
          "base_uri": "https://localhost:8080/",
          "height": 300
        },
        "outputId": "e07ac083-34fe-4405-c344-7055878dc5cf"
      },
      "execution_count": 74,
      "outputs": [
        {
          "output_type": "execute_result",
          "data": {
            "text/plain": [
              "             loss\n",
              "count  113.000000\n",
              "mean     0.081514\n",
              "std      0.061616\n",
              "min      0.000081\n",
              "25%      0.051443\n",
              "50%      0.061624\n",
              "75%      0.135996\n",
              "max      0.255338"
            ],
            "text/html": [
              "<div>\n",
              "<style scoped>\n",
              "    .dataframe tbody tr th:only-of-type {\n",
              "        vertical-align: middle;\n",
              "    }\n",
              "\n",
              "    .dataframe tbody tr th {\n",
              "        vertical-align: top;\n",
              "    }\n",
              "\n",
              "    .dataframe thead th {\n",
              "        text-align: right;\n",
              "    }\n",
              "</style>\n",
              "<table border=\"1\" class=\"dataframe\">\n",
              "  <thead>\n",
              "    <tr style=\"text-align: right;\">\n",
              "      <th></th>\n",
              "      <th>loss</th>\n",
              "    </tr>\n",
              "  </thead>\n",
              "  <tbody>\n",
              "    <tr>\n",
              "      <th>count</th>\n",
              "      <td>113.000000</td>\n",
              "    </tr>\n",
              "    <tr>\n",
              "      <th>mean</th>\n",
              "      <td>0.081514</td>\n",
              "    </tr>\n",
              "    <tr>\n",
              "      <th>std</th>\n",
              "      <td>0.061616</td>\n",
              "    </tr>\n",
              "    <tr>\n",
              "      <th>min</th>\n",
              "      <td>0.000081</td>\n",
              "    </tr>\n",
              "    <tr>\n",
              "      <th>25%</th>\n",
              "      <td>0.051443</td>\n",
              "    </tr>\n",
              "    <tr>\n",
              "      <th>50%</th>\n",
              "      <td>0.061624</td>\n",
              "    </tr>\n",
              "    <tr>\n",
              "      <th>75%</th>\n",
              "      <td>0.135996</td>\n",
              "    </tr>\n",
              "    <tr>\n",
              "      <th>max</th>\n",
              "      <td>0.255338</td>\n",
              "    </tr>\n",
              "  </tbody>\n",
              "</table>\n",
              "</div>"
            ]
          },
          "metadata": {},
          "execution_count": 74
        }
      ]
    },
    {
      "cell_type": "code",
      "source": [
        "y_true = concat_result['Num_Label'].values\n",
        "y_true = y_true.astype(np.int64)\n",
        "loss = concat_result['loss'].values"
      ],
      "metadata": {
        "id": "0cHJPfDEhuQj"
      },
      "execution_count": 75,
      "outputs": []
    },
    {
      "cell_type": "code",
      "source": [
        "y_true"
      ],
      "metadata": {
        "id": "jOvRxr1spblT",
        "colab": {
          "base_uri": "https://localhost:8080/"
        },
        "outputId": "5d7e5cde-7ae4-4a5b-fbbe-5b159ed37c5c"
      },
      "execution_count": 76,
      "outputs": [
        {
          "output_type": "execute_result",
          "data": {
            "text/plain": [
              "array([0, 0, 0, ..., 0, 0, 0], dtype=int64)"
            ]
          },
          "metadata": {},
          "execution_count": 76
        }
      ]
    },
    {
      "cell_type": "code",
      "source": [
        "roc_auc_score(y_true, loss)"
      ],
      "metadata": {
        "id": "FjiCEoP4huQk",
        "colab": {
          "base_uri": "https://localhost:8080/"
        },
        "outputId": "f0d8bd6b-3dc2-421d-c205-991559add419"
      },
      "execution_count": 77,
      "outputs": [
        {
          "output_type": "execute_result",
          "data": {
            "text/plain": [
              "0.9657893165006977"
            ]
          },
          "metadata": {},
          "execution_count": 77
        }
      ]
    },
    {
      "cell_type": "code",
      "source": [
        "theta = best_f1(y_true, loss)"
      ],
      "metadata": {
        "id": "2IjkXZbjhuQk",
        "colab": {
          "base_uri": "https://localhost:8080/"
        },
        "outputId": "534edf06-312a-4270-dbcf-4f414c049f8b"
      },
      "execution_count": 78,
      "outputs": [
        {
          "output_type": "stream",
          "name": "stdout",
          "text": [
            "theta :  0.061200000000000726\n",
            "accuracy :  0.9967815306608651\n",
            "recall :  0.6991150442477876\n",
            "precision:  0.19602977667493796\n",
            "f1-score :  0.30620155038759694\n"
          ]
        }
      ]
    },
    {
      "cell_type": "code",
      "source": [
        "_, axs = plt.subplots(2,1, figsize=(22,14))\n",
        "titles = ['benign', 'attack']\n",
        "\n",
        "for i in range(2):\n",
        "    axs[i].hist(concat_result[concat_result['Num_Label'] == i]['loss'], bins=200, range=(0,0.1))\n",
        "    axs[i].axvline(x=theta, color='r', linestyle='--')\n",
        "    axs[i].set_title(titles[i])\n"
      ],
      "metadata": {
        "id": "3oXwrTCHq3NL",
        "colab": {
          "base_uri": "https://localhost:8080/",
          "height": 825
        },
        "outputId": "2c92ef90-5c30-42fa-9060-228d5d47cbe6"
      },
      "execution_count": 79,
      "outputs": [
        {
          "output_type": "display_data",
          "data": {
            "text/plain": [
              "<Figure size 1584x1008 with 2 Axes>"
            ],
            "image/png": "[encoded data removed]"
          },
          "metadata": {
            "needs_background": "light"
          }
        }
      ]
    }
  ]
}