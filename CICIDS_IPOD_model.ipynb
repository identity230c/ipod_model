{
  "nbformat": 4,
  "nbformat_minor": 0,
  "metadata": {
    "colab": {
      "provenance": []
    },
    "kernelspec": {
      "name": "python3",
      "display_name": "Python 3"
    },
    "language_info": {
      "name": "python"
    },
    "widgets": {
      "application/vnd.jupyter.widget-state+json": {
        "855975e2582445aab1c6c2762724d8d3": {
          "model_module": "@jupyter-widgets/controls",
          "model_name": "HBoxModel",
          "model_module_version": "1.5.0",
          "state": {
            "_dom_classes": [],
            "_model_module": "@jupyter-widgets/controls",
            "_model_module_version": "1.5.0",
            "_model_name": "HBoxModel",
            "_view_count": null,
            "_view_module": "@jupyter-widgets/controls",
            "_view_module_version": "1.5.0",
            "_view_name": "HBoxView",
            "box_style": "",
            "children": [
              "IPY_MODEL_ef45c153fccb4f6ea5b75e1c6c15032c",
              "IPY_MODEL_b8324a18fa794f50ad1bd45e0b52c142",
              "IPY_MODEL_92722e394ab644009e4537142d201cb8"
            ],
            "layout": "IPY_MODEL_1e286edc411844df9c8dbc68fc0f41a2"
          }
        },
        "ef45c153fccb4f6ea5b75e1c6c15032c": {
          "model_module": "@jupyter-widgets/controls",
          "model_name": "HTMLModel",
          "model_module_version": "1.5.0",
          "state": {
            "_dom_classes": [],
            "_model_module": "@jupyter-widgets/controls",
            "_model_module_version": "1.5.0",
            "_model_name": "HTMLModel",
            "_view_count": null,
            "_view_module": "@jupyter-widgets/controls",
            "_view_module_version": "1.5.0",
            "_view_name": "HTMLView",
            "description": "",
            "description_tooltip": null,
            "layout": "IPY_MODEL_d4ffe3ae0f504da3bfd92f80e1d3ce1c",
            "placeholder": "​",
            "style": "IPY_MODEL_4e225653df244881961aa75c3bbb1c5a",
            "value": "100%"
          }
        },
        "b8324a18fa794f50ad1bd45e0b52c142": {
          "model_module": "@jupyter-widgets/controls",
          "model_name": "FloatProgressModel",
          "model_module_version": "1.5.0",
          "state": {
            "_dom_classes": [],
            "_model_module": "@jupyter-widgets/controls",
            "_model_module_version": "1.5.0",
            "_model_name": "FloatProgressModel",
            "_view_count": null,
            "_view_module": "@jupyter-widgets/controls",
            "_view_module_version": "1.5.0",
            "_view_name": "ProgressView",
            "bar_style": "success",
            "description": "",
            "description_tooltip": null,
            "layout": "IPY_MODEL_d0092d0e44644091a0bc2af90a68b6e6",
            "max": 300,
            "min": 0,
            "orientation": "horizontal",
            "style": "IPY_MODEL_368f2e7f12f146dda6a1e76cf84257cd",
            "value": 300
          }
        },
        "92722e394ab644009e4537142d201cb8": {
          "model_module": "@jupyter-widgets/controls",
          "model_name": "HTMLModel",
          "model_module_version": "1.5.0",
          "state": {
            "_dom_classes": [],
            "_model_module": "@jupyter-widgets/controls",
            "_model_module_version": "1.5.0",
            "_model_name": "HTMLModel",
            "_view_count": null,
            "_view_module": "@jupyter-widgets/controls",
            "_view_module_version": "1.5.0",
            "_view_name": "HTMLView",
            "description": "",
            "description_tooltip": null,
            "layout": "IPY_MODEL_b5687e2ca9d84513b9912d9f9efe22dc",
            "placeholder": "​",
            "style": "IPY_MODEL_f4ab1efddb3d4e2d901d87d4d6fa0501",
            "value": " 300/300 [08:27&lt;00:00,  1.64s/it, ae_loss=3.6834801922418956e-07]"
          }
        },
        "1e286edc411844df9c8dbc68fc0f41a2": {
          "model_module": "@jupyter-widgets/base",
          "model_name": "LayoutModel",
          "model_module_version": "1.2.0",
          "state": {
            "_model_module": "@jupyter-widgets/base",
            "_model_module_version": "1.2.0",
            "_model_name": "LayoutModel",
            "_view_count": null,
            "_view_module": "@jupyter-widgets/base",
            "_view_module_version": "1.2.0",
            "_view_name": "LayoutView",
            "align_content": null,
            "align_items": null,
            "align_self": null,
            "border": null,
            "bottom": null,
            "display": null,
            "flex": null,
            "flex_flow": null,
            "grid_area": null,
            "grid_auto_columns": null,
            "grid_auto_flow": null,
            "grid_auto_rows": null,
            "grid_column": null,
            "grid_gap": null,
            "grid_row": null,
            "grid_template_areas": null,
            "grid_template_columns": null,
            "grid_template_rows": null,
            "height": null,
            "justify_content": null,
            "justify_items": null,
            "left": null,
            "margin": null,
            "max_height": null,
            "max_width": null,
            "min_height": null,
            "min_width": null,
            "object_fit": null,
            "object_position": null,
            "order": null,
            "overflow": null,
            "overflow_x": null,
            "overflow_y": null,
            "padding": null,
            "right": null,
            "top": null,
            "visibility": null,
            "width": null
          }
        },
        "d4ffe3ae0f504da3bfd92f80e1d3ce1c": {
          "model_module": "@jupyter-widgets/base",
          "model_name": "LayoutModel",
          "model_module_version": "1.2.0",
          "state": {
            "_model_module": "@jupyter-widgets/base",
            "_model_module_version": "1.2.0",
            "_model_name": "LayoutModel",
            "_view_count": null,
            "_view_module": "@jupyter-widgets/base",
            "_view_module_version": "1.2.0",
            "_view_name": "LayoutView",
            "align_content": null,
            "align_items": null,
            "align_self": null,
            "border": null,
            "bottom": null,
            "display": null,
            "flex": null,
            "flex_flow": null,
            "grid_area": null,
            "grid_auto_columns": null,
            "grid_auto_flow": null,
            "grid_auto_rows": null,
            "grid_column": null,
            "grid_gap": null,
            "grid_row": null,
            "grid_template_areas": null,
            "grid_template_columns": null,
            "grid_template_rows": null,
            "height": null,
            "justify_content": null,
            "justify_items": null,
            "left": null,
            "margin": null,
            "max_height": null,
            "max_width": null,
            "min_height": null,
            "min_width": null,
            "object_fit": null,
            "object_position": null,
            "order": null,
            "overflow": null,
            "overflow_x": null,
            "overflow_y": null,
            "padding": null,
            "right": null,
            "top": null,
            "visibility": null,
            "width": null
          }
        },
        "4e225653df244881961aa75c3bbb1c5a": {
          "model_module": "@jupyter-widgets/controls",
          "model_name": "DescriptionStyleModel",
          "model_module_version": "1.5.0",
          "state": {
            "_model_module": "@jupyter-widgets/controls",
            "_model_module_version": "1.5.0",
            "_model_name": "DescriptionStyleModel",
            "_view_count": null,
            "_view_module": "@jupyter-widgets/base",
            "_view_module_version": "1.2.0",
            "_view_name": "StyleView",
            "description_width": ""
          }
        },
        "d0092d0e44644091a0bc2af90a68b6e6": {
          "model_module": "@jupyter-widgets/base",
          "model_name": "LayoutModel",
          "model_module_version": "1.2.0",
          "state": {
            "_model_module": "@jupyter-widgets/base",
            "_model_module_version": "1.2.0",
            "_model_name": "LayoutModel",
            "_view_count": null,
            "_view_module": "@jupyter-widgets/base",
            "_view_module_version": "1.2.0",
            "_view_name": "LayoutView",
            "align_content": null,
            "align_items": null,
            "align_self": null,
            "border": null,
            "bottom": null,
            "display": null,
            "flex": null,
            "flex_flow": null,
            "grid_area": null,
            "grid_auto_columns": null,
            "grid_auto_flow": null,
            "grid_auto_rows": null,
            "grid_column": null,
            "grid_gap": null,
            "grid_row": null,
            "grid_template_areas": null,
            "grid_template_columns": null,
            "grid_template_rows": null,
            "height": null,
            "justify_content": null,
            "justify_items": null,
            "left": null,
            "margin": null,
            "max_height": null,
            "max_width": null,
            "min_height": null,
            "min_width": null,
            "object_fit": null,
            "object_position": null,
            "order": null,
            "overflow": null,
            "overflow_x": null,
            "overflow_y": null,
            "padding": null,
            "right": null,
            "top": null,
            "visibility": null,
            "width": null
          }
        },
        "368f2e7f12f146dda6a1e76cf84257cd": {
          "model_module": "@jupyter-widgets/controls",
          "model_name": "ProgressStyleModel",
          "model_module_version": "1.5.0",
          "state": {
            "_model_module": "@jupyter-widgets/controls",
            "_model_module_version": "1.5.0",
            "_model_name": "ProgressStyleModel",
            "_view_count": null,
            "_view_module": "@jupyter-widgets/base",
            "_view_module_version": "1.2.0",
            "_view_name": "StyleView",
            "bar_color": null,
            "description_width": ""
          }
        },
        "b5687e2ca9d84513b9912d9f9efe22dc": {
          "model_module": "@jupyter-widgets/base",
          "model_name": "LayoutModel",
          "model_module_version": "1.2.0",
          "state": {
            "_model_module": "@jupyter-widgets/base",
            "_model_module_version": "1.2.0",
            "_model_name": "LayoutModel",
            "_view_count": null,
            "_view_module": "@jupyter-widgets/base",
            "_view_module_version": "1.2.0",
            "_view_name": "LayoutView",
            "align_content": null,
            "align_items": null,
            "align_self": null,
            "border": null,
            "bottom": null,
            "display": null,
            "flex": null,
            "flex_flow": null,
            "grid_area": null,
            "grid_auto_columns": null,
            "grid_auto_flow": null,
            "grid_auto_rows": null,
            "grid_column": null,
            "grid_gap": null,
            "grid_row": null,
            "grid_template_areas": null,
            "grid_template_columns": null,
            "grid_template_rows": null,
            "height": null,
            "justify_content": null,
            "justify_items": null,
            "left": null,
            "margin": null,
            "max_height": null,
            "max_width": null,
            "min_height": null,
            "min_width": null,
            "object_fit": null,
            "object_position": null,
            "order": null,
            "overflow": null,
            "overflow_x": null,
            "overflow_y": null,
            "padding": null,
            "right": null,
            "top": null,
            "visibility": null,
            "width": null
          }
        },
        "f4ab1efddb3d4e2d901d87d4d6fa0501": {
          "model_module": "@jupyter-widgets/controls",
          "model_name": "DescriptionStyleModel",
          "model_module_version": "1.5.0",
          "state": {
            "_model_module": "@jupyter-widgets/controls",
            "_model_module_version": "1.5.0",
            "_model_name": "DescriptionStyleModel",
            "_view_count": null,
            "_view_module": "@jupyter-widgets/base",
            "_view_module_version": "1.2.0",
            "_view_name": "StyleView",
            "description_width": ""
          }
        }
      }
    }
  },
  "cells": [
    {
      "cell_type": "code",
      "execution_count": 1,
      "metadata": {
        "id": "iSgw8nzszs6r"
      },
      "outputs": [],
      "source": [
        "import matplotlib.pyplot as plt \n",
        "import numpy as np \n",
        "import os \n",
        "import pandas as pd\n",
        "import seaborn as sns"
      ]
    },
    {
      "cell_type": "code",
      "source": [
        "files = []\n",
        "for dirname, _, filenames in os.walk('./data/raw'):\n",
        "    for filename in filenames:\n",
        "        files.append(os.path.join(dirname, filename))\n",
        "        print(os.path.join(dirname, filename))"
      ],
      "metadata": {
        "colab": {
          "base_uri": "https://localhost:8080/"
        },
        "id": "0A6T1MtMzwD1",
        "outputId": "e4d5ade7-f73d-4a18-bba5-152b9925c93f"
      },
      "execution_count": 2,
      "outputs": [
        {
          "output_type": "stream",
          "name": "stdout",
          "text": [
            "./data/raw\\Friday-WorkingHours-Afternoon-DDos.pcap_ISCX.csv\n",
            "./data/raw\\Friday-WorkingHours-Afternoon-PortScan.pcap_ISCX.csv\n",
            "./data/raw\\Friday-WorkingHours-Morning.pcap_ISCX.csv\n",
            "./data/raw\\Monday-WorkingHours.pcap_ISCX.csv\n",
            "./data/raw\\Thursday-WorkingHours-Afternoon-Infilteration.pcap_ISCX.csv\n",
            "./data/raw\\Thursday-WorkingHours-Morning-WebAttacks.pcap_ISCX.csv\n",
            "./data/raw\\Tuesday-WorkingHours.pcap_ISCX.csv\n",
            "./data/raw\\Wednesday-workingHours.pcap_ISCX.csv\n"
          ]
        }
      ]
    },
    {
      "cell_type": "code",
      "source": [
        "files = [\n",
        "    [\n",
        "        # Train - 월요일\n",
        "        './data/raw\\Monday-WorkingHours.pcap_ISCX.csv'\n",
        "    ],\n",
        "    [\n",
        "        # Test - 화요일\n",
        "        './data/raw\\Tuesday-WorkingHours.pcap_ISCX.csv'\n",
        "    ],\n",
        "    [\n",
        "        # Test - 수요일\n",
        "        './data/raw\\Wednesday-workingHours.pcap_ISCX.csv'\n",
        "    ], \n",
        "    # 목요일은 에러로 인해 작동 X\n",
        "    [\n",
        "        # Test - 금요일\n",
        "        './data/raw\\Friday-WorkingHours-Afternoon-DDos.pcap_ISCX.csv',\n",
        "        './data/raw\\Friday-WorkingHours-Afternoon-PortScan.pcap_ISCX.csv',\n",
        "    ],\n",
        "    [\n",
        "        # Test - 금요일_Bot\n",
        "        './data/raw\\Friday-WorkingHours-Morning.pcap_ISCX.csv',\n",
        "    ],\n",
        "]"
      ],
      "metadata": {
        "id": "NPhAoRd1ySRN"
      },
      "execution_count": 3,
      "outputs": []
    },
    {
      "cell_type": "markdown",
      "source": [
        "# Train Data"
      ],
      "metadata": {
        "id": "6GPySwkk0eki"
      }
    },
    {
      "cell_type": "code",
      "source": [
        "from Utils import FlowReader"
      ],
      "metadata": {
        "id": "8PyFRVhs3Nyr"
      },
      "execution_count": 4,
      "outputs": []
    },
    {
      "cell_type": "code",
      "source": [
        "trainSet = FlowReader.read_csv(files[0])"
      ],
      "metadata": {
        "id": "q-mbUXCr0Lri"
      },
      "execution_count": 5,
      "outputs": []
    },
    {
      "cell_type": "markdown",
      "source": [
        "## 프로파일링"
      ],
      "metadata": {
        "id": "Em7hFAtP0c5Q"
      }
    },
    {
      "cell_type": "code",
      "source": [
        "from Utils import FlowProfiler"
      ],
      "metadata": {
        "id": "xAS6FIuS0DYl"
      },
      "execution_count": 6,
      "outputs": []
    },
    {
      "cell_type": "code",
      "source": [
        "FlowProfiler.UNIT_TIME=5"
      ],
      "metadata": {
        "id": "GdqRllnfaNLW"
      },
      "execution_count": 7,
      "outputs": []
    },
    {
      "cell_type": "code",
      "source": [
        "trainSet = FlowProfiler.preprocessing(trainSet, mode=\"default\")"
      ],
      "metadata": {
        "id": "GRmkTpsQ6a1n"
      },
      "execution_count": 8,
      "outputs": []
    },
    {
      "cell_type": "code",
      "source": [
        "trainSet"
      ],
      "metadata": {
        "colab": {
          "base_uri": "https://localhost:8080/",
          "height": 444
        },
        "id": "_JtAoxi-89w6",
        "outputId": "7ddf6ef0-0685-4131-aea8-73a884a59e70"
      },
      "execution_count": 9,
      "outputs": [
        {
          "output_type": "execute_result",
          "data": {
            "text/plain": [
              "               Key_IP  Key_inner_port  Key_outer_port  Inner_port_freq  \\\n",
              "0       8.254.250.126           49188              80         1.000000   \n",
              "1       8.253.185.121           49486              80         1.000000   \n",
              "2        192.168.10.9              88            1029         0.359551   \n",
              "3        192.168.10.3             137             389         0.150000   \n",
              "4        69.31.33.224            1057              80         1.000000   \n",
              "...               ...             ...             ...              ...   \n",
              "47692   184.25.56.202            7173              80         1.000000   \n",
              "47693  184.50.238.170           56432              80         1.000000   \n",
              "47694    52.52.86.145           44944             443         1.000000   \n",
              "47695   54.236.177.89           55806             443         1.000000   \n",
              "47696   91.189.89.198             123             123         1.000000   \n",
              "\n",
              "       Outer_port_freq  Pst_per_flows  Card_inner_ip  Card_inner_port  \\\n",
              "0             1.000000       0.250000              1                1   \n",
              "1             1.000000       0.250000              1                1   \n",
              "2             0.033708       0.595506              1               12   \n",
              "3             0.450000       0.400000              4               14   \n",
              "4             1.000000       1.000000              1                1   \n",
              "...                ...            ...            ...              ...   \n",
              "47692         1.000000       1.000000              1                1   \n",
              "47693         1.000000       1.000000              1                1   \n",
              "47694         1.000000       1.000000              1                1   \n",
              "47695         1.000000       1.000000              1                1   \n",
              "47696         1.000000       1.000000              1                1   \n",
              "\n",
              "       Card_outer_port  Sum_inner_pkts  ...  Sum_outer_pkts  Avg_outer_pkts  \\\n",
              "0                    1               0  ...               8        2.000000   \n",
              "1                    1               0  ...               8        2.000000   \n",
              "2                   67             534  ...             634        7.123596   \n",
              "3                    7              24  ...              54        2.700000   \n",
              "4                    1               5  ...               4        2.000000   \n",
              "...                ...             ...  ...             ...             ...   \n",
              "47692                1               1  ...               1        1.000000   \n",
              "47693                1               1  ...               1        1.000000   \n",
              "47694                1              14  ...              13       13.000000   \n",
              "47695                1              15  ...              13       13.000000   \n",
              "47696                1               1  ...               1        1.000000   \n",
              "\n",
              "       Std_outer_pkts  Sum_outer_bytes  Avg_outer_bytes  Std_outer_bytes  \\\n",
              "0            0.000000             48.0        12.000000         0.000000   \n",
              "1            0.000000             48.0        12.000000         0.000000   \n",
              "2            9.254999         126316.0      1419.280899      2412.947843   \n",
              "3            1.625455            880.0        44.000000        89.865396   \n",
              "4            2.828427            191.0        95.500000       135.057395   \n",
              "...               ...              ...              ...              ...   \n",
              "47692        0.000000              6.0         6.000000         0.000000   \n",
              "47693        0.000000              6.0         6.000000         0.000000   \n",
              "47694        0.000000           4752.0      4752.000000         0.000000   \n",
              "47695        0.000000           5955.0      5955.000000         0.000000   \n",
              "47696        0.000000             48.0        48.000000         0.000000   \n",
              "\n",
              "         Sum_dur       Avg_dur       Std_dur     Label  \n",
              "0              7  1.750000e+00  1.500000e+00  [BENIGN]  \n",
              "1              6  1.500000e+00  1.000000e+00  [BENIGN]  \n",
              "2      501301496  5.632601e+06  1.611198e+07  [BENIGN]  \n",
              "3        6093478  3.046739e+05  9.377045e+05  [BENIGN]  \n",
              "4          40647  2.032350e+04  2.873611e+04  [BENIGN]  \n",
              "...          ...           ...           ...       ...  \n",
              "47692         42  4.200000e+01  0.000000e+00  [BENIGN]  \n",
              "47693         42  4.200000e+01  0.000000e+00  [BENIGN]  \n",
              "47694   52656124  5.265612e+07  0.000000e+00  [BENIGN]  \n",
              "47695   51998174  5.199817e+07  0.000000e+00  [BENIGN]  \n",
              "47696      94265  9.426500e+04  0.000000e+00  [BENIGN]  \n",
              "\n",
              "[47697 rows x 25 columns]"
            ],
            "text/html": [
              "<div>\n",
              "<style scoped>\n",
              "    .dataframe tbody tr th:only-of-type {\n",
              "        vertical-align: middle;\n",
              "    }\n",
              "\n",
              "    .dataframe tbody tr th {\n",
              "        vertical-align: top;\n",
              "    }\n",
              "\n",
              "    .dataframe thead th {\n",
              "        text-align: right;\n",
              "    }\n",
              "</style>\n",
              "<table border=\"1\" class=\"dataframe\">\n",
              "  <thead>\n",
              "    <tr style=\"text-align: right;\">\n",
              "      <th></th>\n",
              "      <th>Key_IP</th>\n",
              "      <th>Key_inner_port</th>\n",
              "      <th>Key_outer_port</th>\n",
              "      <th>Inner_port_freq</th>\n",
              "      <th>Outer_port_freq</th>\n",
              "      <th>Pst_per_flows</th>\n",
              "      <th>Card_inner_ip</th>\n",
              "      <th>Card_inner_port</th>\n",
              "      <th>Card_outer_port</th>\n",
              "      <th>Sum_inner_pkts</th>\n",
              "      <th>...</th>\n",
              "      <th>Sum_outer_pkts</th>\n",
              "      <th>Avg_outer_pkts</th>\n",
              "      <th>Std_outer_pkts</th>\n",
              "      <th>Sum_outer_bytes</th>\n",
              "      <th>Avg_outer_bytes</th>\n",
              "      <th>Std_outer_bytes</th>\n",
              "      <th>Sum_dur</th>\n",
              "      <th>Avg_dur</th>\n",
              "      <th>Std_dur</th>\n",
              "      <th>Label</th>\n",
              "    </tr>\n",
              "  </thead>\n",
              "  <tbody>\n",
              "    <tr>\n",
              "      <th>0</th>\n",
              "      <td>8.254.250.126</td>\n",
              "      <td>49188</td>\n",
              "      <td>80</td>\n",
              "      <td>1.000000</td>\n",
              "      <td>1.000000</td>\n",
              "      <td>0.250000</td>\n",
              "      <td>1</td>\n",
              "      <td>1</td>\n",
              "      <td>1</td>\n",
              "      <td>0</td>\n",
              "      <td>...</td>\n",
              "      <td>8</td>\n",
              "      <td>2.000000</td>\n",
              "      <td>0.000000</td>\n",
              "      <td>48.0</td>\n",
              "      <td>12.000000</td>\n",
              "      <td>0.000000</td>\n",
              "      <td>7</td>\n",
              "      <td>1.750000e+00</td>\n",
              "      <td>1.500000e+00</td>\n",
              "      <td>[BENIGN]</td>\n",
              "    </tr>\n",
              "    <tr>\n",
              "      <th>1</th>\n",
              "      <td>8.253.185.121</td>\n",
              "      <td>49486</td>\n",
              "      <td>80</td>\n",
              "      <td>1.000000</td>\n",
              "      <td>1.000000</td>\n",
              "      <td>0.250000</td>\n",
              "      <td>1</td>\n",
              "      <td>1</td>\n",
              "      <td>1</td>\n",
              "      <td>0</td>\n",
              "      <td>...</td>\n",
              "      <td>8</td>\n",
              "      <td>2.000000</td>\n",
              "      <td>0.000000</td>\n",
              "      <td>48.0</td>\n",
              "      <td>12.000000</td>\n",
              "      <td>0.000000</td>\n",
              "      <td>6</td>\n",
              "      <td>1.500000e+00</td>\n",
              "      <td>1.000000e+00</td>\n",
              "      <td>[BENIGN]</td>\n",
              "    </tr>\n",
              "    <tr>\n",
              "      <th>2</th>\n",
              "      <td>192.168.10.9</td>\n",
              "      <td>88</td>\n",
              "      <td>1029</td>\n",
              "      <td>0.359551</td>\n",
              "      <td>0.033708</td>\n",
              "      <td>0.595506</td>\n",
              "      <td>1</td>\n",
              "      <td>12</td>\n",
              "      <td>67</td>\n",
              "      <td>534</td>\n",
              "      <td>...</td>\n",
              "      <td>634</td>\n",
              "      <td>7.123596</td>\n",
              "      <td>9.254999</td>\n",
              "      <td>126316.0</td>\n",
              "      <td>1419.280899</td>\n",
              "      <td>2412.947843</td>\n",
              "      <td>501301496</td>\n",
              "      <td>5.632601e+06</td>\n",
              "      <td>1.611198e+07</td>\n",
              "      <td>[BENIGN]</td>\n",
              "    </tr>\n",
              "    <tr>\n",
              "      <th>3</th>\n",
              "      <td>192.168.10.3</td>\n",
              "      <td>137</td>\n",
              "      <td>389</td>\n",
              "      <td>0.150000</td>\n",
              "      <td>0.450000</td>\n",
              "      <td>0.400000</td>\n",
              "      <td>4</td>\n",
              "      <td>14</td>\n",
              "      <td>7</td>\n",
              "      <td>24</td>\n",
              "      <td>...</td>\n",
              "      <td>54</td>\n",
              "      <td>2.700000</td>\n",
              "      <td>1.625455</td>\n",
              "      <td>880.0</td>\n",
              "      <td>44.000000</td>\n",
              "      <td>89.865396</td>\n",
              "      <td>6093478</td>\n",
              "      <td>3.046739e+05</td>\n",
              "      <td>9.377045e+05</td>\n",
              "      <td>[BENIGN]</td>\n",
              "    </tr>\n",
              "    <tr>\n",
              "      <th>4</th>\n",
              "      <td>69.31.33.224</td>\n",
              "      <td>1057</td>\n",
              "      <td>80</td>\n",
              "      <td>1.000000</td>\n",
              "      <td>1.000000</td>\n",
              "      <td>1.000000</td>\n",
              "      <td>1</td>\n",
              "      <td>1</td>\n",
              "      <td>1</td>\n",
              "      <td>5</td>\n",
              "      <td>...</td>\n",
              "      <td>4</td>\n",
              "      <td>2.000000</td>\n",
              "      <td>2.828427</td>\n",
              "      <td>191.0</td>\n",
              "      <td>95.500000</td>\n",
              "      <td>135.057395</td>\n",
              "      <td>40647</td>\n",
              "      <td>2.032350e+04</td>\n",
              "      <td>2.873611e+04</td>\n",
              "      <td>[BENIGN]</td>\n",
              "    </tr>\n",
              "    <tr>\n",
              "      <th>...</th>\n",
              "      <td>...</td>\n",
              "      <td>...</td>\n",
              "      <td>...</td>\n",
              "      <td>...</td>\n",
              "      <td>...</td>\n",
              "      <td>...</td>\n",
              "      <td>...</td>\n",
              "      <td>...</td>\n",
              "      <td>...</td>\n",
              "      <td>...</td>\n",
              "      <td>...</td>\n",
              "      <td>...</td>\n",
              "      <td>...</td>\n",
              "      <td>...</td>\n",
              "      <td>...</td>\n",
              "      <td>...</td>\n",
              "      <td>...</td>\n",
              "      <td>...</td>\n",
              "      <td>...</td>\n",
              "      <td>...</td>\n",
              "      <td>...</td>\n",
              "    </tr>\n",
              "    <tr>\n",
              "      <th>47692</th>\n",
              "      <td>184.25.56.202</td>\n",
              "      <td>7173</td>\n",
              "      <td>80</td>\n",
              "      <td>1.000000</td>\n",
              "      <td>1.000000</td>\n",
              "      <td>1.000000</td>\n",
              "      <td>1</td>\n",
              "      <td>1</td>\n",
              "      <td>1</td>\n",
              "      <td>1</td>\n",
              "      <td>...</td>\n",
              "      <td>1</td>\n",
              "      <td>1.000000</td>\n",
              "      <td>0.000000</td>\n",
              "      <td>6.0</td>\n",
              "      <td>6.000000</td>\n",
              "      <td>0.000000</td>\n",
              "      <td>42</td>\n",
              "      <td>4.200000e+01</td>\n",
              "      <td>0.000000e+00</td>\n",
              "      <td>[BENIGN]</td>\n",
              "    </tr>\n",
              "    <tr>\n",
              "      <th>47693</th>\n",
              "      <td>184.50.238.170</td>\n",
              "      <td>56432</td>\n",
              "      <td>80</td>\n",
              "      <td>1.000000</td>\n",
              "      <td>1.000000</td>\n",
              "      <td>1.000000</td>\n",
              "      <td>1</td>\n",
              "      <td>1</td>\n",
              "      <td>1</td>\n",
              "      <td>1</td>\n",
              "      <td>...</td>\n",
              "      <td>1</td>\n",
              "      <td>1.000000</td>\n",
              "      <td>0.000000</td>\n",
              "      <td>6.0</td>\n",
              "      <td>6.000000</td>\n",
              "      <td>0.000000</td>\n",
              "      <td>42</td>\n",
              "      <td>4.200000e+01</td>\n",
              "      <td>0.000000e+00</td>\n",
              "      <td>[BENIGN]</td>\n",
              "    </tr>\n",
              "    <tr>\n",
              "      <th>47694</th>\n",
              "      <td>52.52.86.145</td>\n",
              "      <td>44944</td>\n",
              "      <td>443</td>\n",
              "      <td>1.000000</td>\n",
              "      <td>1.000000</td>\n",
              "      <td>1.000000</td>\n",
              "      <td>1</td>\n",
              "      <td>1</td>\n",
              "      <td>1</td>\n",
              "      <td>14</td>\n",
              "      <td>...</td>\n",
              "      <td>13</td>\n",
              "      <td>13.000000</td>\n",
              "      <td>0.000000</td>\n",
              "      <td>4752.0</td>\n",
              "      <td>4752.000000</td>\n",
              "      <td>0.000000</td>\n",
              "      <td>52656124</td>\n",
              "      <td>5.265612e+07</td>\n",
              "      <td>0.000000e+00</td>\n",
              "      <td>[BENIGN]</td>\n",
              "    </tr>\n",
              "    <tr>\n",
              "      <th>47695</th>\n",
              "      <td>54.236.177.89</td>\n",
              "      <td>55806</td>\n",
              "      <td>443</td>\n",
              "      <td>1.000000</td>\n",
              "      <td>1.000000</td>\n",
              "      <td>1.000000</td>\n",
              "      <td>1</td>\n",
              "      <td>1</td>\n",
              "      <td>1</td>\n",
              "      <td>15</td>\n",
              "      <td>...</td>\n",
              "      <td>13</td>\n",
              "      <td>13.000000</td>\n",
              "      <td>0.000000</td>\n",
              "      <td>5955.0</td>\n",
              "      <td>5955.000000</td>\n",
              "      <td>0.000000</td>\n",
              "      <td>51998174</td>\n",
              "      <td>5.199817e+07</td>\n",
              "      <td>0.000000e+00</td>\n",
              "      <td>[BENIGN]</td>\n",
              "    </tr>\n",
              "    <tr>\n",
              "      <th>47696</th>\n",
              "      <td>91.189.89.198</td>\n",
              "      <td>123</td>\n",
              "      <td>123</td>\n",
              "      <td>1.000000</td>\n",
              "      <td>1.000000</td>\n",
              "      <td>1.000000</td>\n",
              "      <td>1</td>\n",
              "      <td>1</td>\n",
              "      <td>1</td>\n",
              "      <td>1</td>\n",
              "      <td>...</td>\n",
              "      <td>1</td>\n",
              "      <td>1.000000</td>\n",
              "      <td>0.000000</td>\n",
              "      <td>48.0</td>\n",
              "      <td>48.000000</td>\n",
              "      <td>0.000000</td>\n",
              "      <td>94265</td>\n",
              "      <td>9.426500e+04</td>\n",
              "      <td>0.000000e+00</td>\n",
              "      <td>[BENIGN]</td>\n",
              "    </tr>\n",
              "  </tbody>\n",
              "</table>\n",
              "<p>47697 rows × 25 columns</p>\n",
              "</div>"
            ]
          },
          "metadata": {},
          "execution_count": 9
        }
      ]
    },
    {
      "cell_type": "markdown",
      "source": [
        "## 전처리"
      ],
      "metadata": {
        "id": "QyUHO1Fq2P-D"
      }
    },
    {
      "cell_type": "code",
      "source": [
        "from Utils import FlowPreProcessor"
      ],
      "metadata": {
        "id": "P64NPKzA2SQ8"
      },
      "execution_count": 10,
      "outputs": []
    },
    {
      "cell_type": "code",
      "source": [
        "fpp = FlowPreProcessor(mode=\"minmax\")"
      ],
      "metadata": {
        "id": "a9o34E1J2ZQh"
      },
      "execution_count": 11,
      "outputs": []
    },
    {
      "cell_type": "code",
      "source": [
        "trainX = fpp.fit_transform(trainSet)"
      ],
      "metadata": {
        "id": "97AcWt1qBJah"
      },
      "execution_count": 12,
      "outputs": []
    },
    {
      "cell_type": "code",
      "source": [
        "trainX.shape"
      ],
      "metadata": {
        "colab": {
          "base_uri": "https://localhost:8080/"
        },
        "id": "Upait3SR5zRM",
        "outputId": "9e02bbf4-441c-41b8-c3d3-692480fea54e"
      },
      "execution_count": 13,
      "outputs": [
        {
          "output_type": "execute_result",
          "data": {
            "text/plain": [
              "(47697, 24)"
            ]
          },
          "metadata": {},
          "execution_count": 13
        }
      ]
    },
    {
      "cell_type": "code",
      "source": [
        "trainX"
      ],
      "metadata": {
        "colab": {
          "base_uri": "https://localhost:8080/"
        },
        "id": "fPs_OJWc6k6G",
        "outputId": "1b57705c-188a-4441-9187-fa2efd87290c"
      },
      "execution_count": 14,
      "outputs": [
        {
          "output_type": "execute_result",
          "data": {
            "text/plain": [
              "array([[2.09656791e-05, 1.25794075e-04, 2.79137045e-01, ...,\n",
              "        2.83241819e-10, 1.45833425e-08, 1.76791168e-08],\n",
              "       [2.09656791e-05, 1.25794075e-04, 2.79137045e-01, ...,\n",
              "        2.42778686e-10, 1.25000081e-08, 1.17860779e-08],\n",
              "       [7.57280365e-02, 7.54764478e-04, 2.09656791e-05, ...,\n",
              "        2.02842206e-02, 4.69383709e-02, 1.89897075e-01],\n",
              "       ...,\n",
              "       [4.40279255e-04, 6.28970374e-05, 9.82221127e-01, ...,\n",
              "        2.13063089e-03, 4.38801318e-01, 0.00000000e+00],\n",
              "       [6.28970374e-05, 1.25794075e-04, 9.82221127e-01, ...,\n",
              "        2.10400810e-03, 4.33318377e-01, 0.00000000e+00],\n",
              "       [5.86829372e-02, 8.69446695e-02, 7.93341324e-02, ...,\n",
              "        3.81425548e-06, 7.85542128e-04, 0.00000000e+00]], dtype=float32)"
            ]
          },
          "metadata": {},
          "execution_count": 14
        }
      ]
    },
    {
      "cell_type": "markdown",
      "source": [
        "# 학습하기"
      ],
      "metadata": {
        "id": "A1gzpZkb-GRe"
      }
    },
    {
      "cell_type": "code",
      "source": [
        "import torch\n",
        "\n",
        "import torch.nn as nn\n",
        "\n",
        "from tqdm.notebook import tqdm\n",
        "from torch.optim import Adam, SGD, AdamW\n",
        "from torch.optim.lr_scheduler import StepLR\n",
        "from torch.utils.data import DataLoader, Dataset"
      ],
      "metadata": {
        "id": "CHFTeuWL9vDe"
      },
      "execution_count": 15,
      "outputs": []
    },
    {
      "cell_type": "code",
      "source": [
        "device = 'cuda' if torch.cuda.is_available() else 'cpu'"
      ],
      "metadata": {
        "id": "iTMGhiBE-pw-"
      },
      "execution_count": 16,
      "outputs": []
    },
    {
      "cell_type": "code",
      "source": [
        "class FClayer(nn.Module):\n",
        "    def __init__(self, I, O, A='relu'):\n",
        "        super().__init__()\n",
        "        \n",
        "        self.linear = nn.Linear(I, O)\n",
        "        \n",
        "        if A == 'relu':\n",
        "            self.activation = nn.ReLU()\n",
        "        elif A == 'sigmoid':\n",
        "            self.activation = nn.Sigmoid()\n",
        "        else:\n",
        "            self.activation = nn.Identity()\n",
        "        \n",
        "    def forward(self, x):\n",
        "        x = self.linear(x)\n",
        "        x = self.activation(x)\n",
        "        \n",
        "        return x"
      ],
      "metadata": {
        "id": "XohJx0B1-qtj"
      },
      "execution_count": 17,
      "outputs": []
    },
    {
      "cell_type": "code",
      "source": [
        "class AE(nn.Module):\n",
        "    def __init__(self, num_features):\n",
        "        super().__init__()\n",
        "        \n",
        "        self.encoder = nn.Sequential(\n",
        "            FClayer(num_features, 128),\n",
        "            FClayer(128, 64),\n",
        "            FClayer(64,32),\n",
        "            FClayer(32, 16),\n",
        "            FClayer(16, 8),\n",
        "        )\n",
        "        \n",
        "        self.decoder = nn.Sequential(\n",
        "            FClayer(8, 16),\n",
        "            FClayer(16, 32),\n",
        "            FClayer(32, 64),\n",
        "            FClayer(64, 128),\n",
        "            FClayer(128, num_features, \n",
        "                    A='sigmoid'\n",
        "            ),\n",
        "        )\n",
        "    \n",
        "    def forward(self, x):\n",
        "        z = self.encoder(x)\n",
        "        x = self.decoder(z)\n",
        "        return x, z"
      ],
      "metadata": {
        "id": "3GTq5PPW-rhP"
      },
      "execution_count": 18,
      "outputs": []
    },
    {
      "cell_type": "code",
      "source": [
        "a = AE(trainX.shape[1])"
      ],
      "metadata": {
        "id": "StTOFXeS64WT"
      },
      "execution_count": 19,
      "outputs": []
    },
    {
      "cell_type": "code",
      "source": [
        "b = a(torch.tensor(trainX))"
      ],
      "metadata": {
        "id": "tXJq4jW669fy"
      },
      "execution_count": 20,
      "outputs": []
    },
    {
      "cell_type": "code",
      "source": [
        "trainSet"
      ],
      "metadata": {
        "colab": {
          "base_uri": "https://localhost:8080/",
          "height": 444
        },
        "id": "C0DG2jGq7g8i",
        "outputId": "d0b38249-9834-43ec-b1e0-37b9ac3db9f0"
      },
      "execution_count": 21,
      "outputs": [
        {
          "output_type": "execute_result",
          "data": {
            "text/plain": [
              "               Key_IP  Key_inner_port  Key_outer_port  Inner_port_freq  \\\n",
              "0       8.254.250.126           49188              80         1.000000   \n",
              "1       8.253.185.121           49486              80         1.000000   \n",
              "2        192.168.10.9              88            1029         0.359551   \n",
              "3        192.168.10.3             137             389         0.150000   \n",
              "4        69.31.33.224            1057              80         1.000000   \n",
              "...               ...             ...             ...              ...   \n",
              "47692   184.25.56.202            7173              80         1.000000   \n",
              "47693  184.50.238.170           56432              80         1.000000   \n",
              "47694    52.52.86.145           44944             443         1.000000   \n",
              "47695   54.236.177.89           55806             443         1.000000   \n",
              "47696   91.189.89.198             123             123         1.000000   \n",
              "\n",
              "       Outer_port_freq  Pst_per_flows  Card_inner_ip  Card_inner_port  \\\n",
              "0             1.000000       0.250000              1                1   \n",
              "1             1.000000       0.250000              1                1   \n",
              "2             0.033708       0.595506              1               12   \n",
              "3             0.450000       0.400000              4               14   \n",
              "4             1.000000       1.000000              1                1   \n",
              "...                ...            ...            ...              ...   \n",
              "47692         1.000000       1.000000              1                1   \n",
              "47693         1.000000       1.000000              1                1   \n",
              "47694         1.000000       1.000000              1                1   \n",
              "47695         1.000000       1.000000              1                1   \n",
              "47696         1.000000       1.000000              1                1   \n",
              "\n",
              "       Card_outer_port  Sum_inner_pkts  ...  Sum_outer_pkts  Avg_outer_pkts  \\\n",
              "0                    1               0  ...               8        2.000000   \n",
              "1                    1               0  ...               8        2.000000   \n",
              "2                   67             534  ...             634        7.123596   \n",
              "3                    7              24  ...              54        2.700000   \n",
              "4                    1               5  ...               4        2.000000   \n",
              "...                ...             ...  ...             ...             ...   \n",
              "47692                1               1  ...               1        1.000000   \n",
              "47693                1               1  ...               1        1.000000   \n",
              "47694                1              14  ...              13       13.000000   \n",
              "47695                1              15  ...              13       13.000000   \n",
              "47696                1               1  ...               1        1.000000   \n",
              "\n",
              "       Std_outer_pkts  Sum_outer_bytes  Avg_outer_bytes  Std_outer_bytes  \\\n",
              "0            0.000000             48.0        12.000000         0.000000   \n",
              "1            0.000000             48.0        12.000000         0.000000   \n",
              "2            9.254999         126316.0      1419.280899      2412.947843   \n",
              "3            1.625455            880.0        44.000000        89.865396   \n",
              "4            2.828427            191.0        95.500000       135.057395   \n",
              "...               ...              ...              ...              ...   \n",
              "47692        0.000000              6.0         6.000000         0.000000   \n",
              "47693        0.000000              6.0         6.000000         0.000000   \n",
              "47694        0.000000           4752.0      4752.000000         0.000000   \n",
              "47695        0.000000           5955.0      5955.000000         0.000000   \n",
              "47696        0.000000             48.0        48.000000         0.000000   \n",
              "\n",
              "         Sum_dur       Avg_dur       Std_dur     Label  \n",
              "0              7  1.750000e+00  1.500000e+00  [BENIGN]  \n",
              "1              6  1.500000e+00  1.000000e+00  [BENIGN]  \n",
              "2      501301496  5.632601e+06  1.611198e+07  [BENIGN]  \n",
              "3        6093478  3.046739e+05  9.377045e+05  [BENIGN]  \n",
              "4          40647  2.032350e+04  2.873611e+04  [BENIGN]  \n",
              "...          ...           ...           ...       ...  \n",
              "47692         42  4.200000e+01  0.000000e+00  [BENIGN]  \n",
              "47693         42  4.200000e+01  0.000000e+00  [BENIGN]  \n",
              "47694   52656124  5.265612e+07  0.000000e+00  [BENIGN]  \n",
              "47695   51998174  5.199817e+07  0.000000e+00  [BENIGN]  \n",
              "47696      94265  9.426500e+04  0.000000e+00  [BENIGN]  \n",
              "\n",
              "[47697 rows x 25 columns]"
            ],
            "text/html": [
              "<div>\n",
              "<style scoped>\n",
              "    .dataframe tbody tr th:only-of-type {\n",
              "        vertical-align: middle;\n",
              "    }\n",
              "\n",
              "    .dataframe tbody tr th {\n",
              "        vertical-align: top;\n",
              "    }\n",
              "\n",
              "    .dataframe thead th {\n",
              "        text-align: right;\n",
              "    }\n",
              "</style>\n",
              "<table border=\"1\" class=\"dataframe\">\n",
              "  <thead>\n",
              "    <tr style=\"text-align: right;\">\n",
              "      <th></th>\n",
              "      <th>Key_IP</th>\n",
              "      <th>Key_inner_port</th>\n",
              "      <th>Key_outer_port</th>\n",
              "      <th>Inner_port_freq</th>\n",
              "      <th>Outer_port_freq</th>\n",
              "      <th>Pst_per_flows</th>\n",
              "      <th>Card_inner_ip</th>\n",
              "      <th>Card_inner_port</th>\n",
              "      <th>Card_outer_port</th>\n",
              "      <th>Sum_inner_pkts</th>\n",
              "      <th>...</th>\n",
              "      <th>Sum_outer_pkts</th>\n",
              "      <th>Avg_outer_pkts</th>\n",
              "      <th>Std_outer_pkts</th>\n",
              "      <th>Sum_outer_bytes</th>\n",
              "      <th>Avg_outer_bytes</th>\n",
              "      <th>Std_outer_bytes</th>\n",
              "      <th>Sum_dur</th>\n",
              "      <th>Avg_dur</th>\n",
              "      <th>Std_dur</th>\n",
              "      <th>Label</th>\n",
              "    </tr>\n",
              "  </thead>\n",
              "  <tbody>\n",
              "    <tr>\n",
              "      <th>0</th>\n",
              "      <td>8.254.250.126</td>\n",
              "      <td>49188</td>\n",
              "      <td>80</td>\n",
              "      <td>1.000000</td>\n",
              "      <td>1.000000</td>\n",
              "      <td>0.250000</td>\n",
              "      <td>1</td>\n",
              "      <td>1</td>\n",
              "      <td>1</td>\n",
              "      <td>0</td>\n",
              "      <td>...</td>\n",
              "      <td>8</td>\n",
              "      <td>2.000000</td>\n",
              "      <td>0.000000</td>\n",
              "      <td>48.0</td>\n",
              "      <td>12.000000</td>\n",
              "      <td>0.000000</td>\n",
              "      <td>7</td>\n",
              "      <td>1.750000e+00</td>\n",
              "      <td>1.500000e+00</td>\n",
              "      <td>[BENIGN]</td>\n",
              "    </tr>\n",
              "    <tr>\n",
              "      <th>1</th>\n",
              "      <td>8.253.185.121</td>\n",
              "      <td>49486</td>\n",
              "      <td>80</td>\n",
              "      <td>1.000000</td>\n",
              "      <td>1.000000</td>\n",
              "      <td>0.250000</td>\n",
              "      <td>1</td>\n",
              "      <td>1</td>\n",
              "      <td>1</td>\n",
              "      <td>0</td>\n",
              "      <td>...</td>\n",
              "      <td>8</td>\n",
              "      <td>2.000000</td>\n",
              "      <td>0.000000</td>\n",
              "      <td>48.0</td>\n",
              "      <td>12.000000</td>\n",
              "      <td>0.000000</td>\n",
              "      <td>6</td>\n",
              "      <td>1.500000e+00</td>\n",
              "      <td>1.000000e+00</td>\n",
              "      <td>[BENIGN]</td>\n",
              "    </tr>\n",
              "    <tr>\n",
              "      <th>2</th>\n",
              "      <td>192.168.10.9</td>\n",
              "      <td>88</td>\n",
              "      <td>1029</td>\n",
              "      <td>0.359551</td>\n",
              "      <td>0.033708</td>\n",
              "      <td>0.595506</td>\n",
              "      <td>1</td>\n",
              "      <td>12</td>\n",
              "      <td>67</td>\n",
              "      <td>534</td>\n",
              "      <td>...</td>\n",
              "      <td>634</td>\n",
              "      <td>7.123596</td>\n",
              "      <td>9.254999</td>\n",
              "      <td>126316.0</td>\n",
              "      <td>1419.280899</td>\n",
              "      <td>2412.947843</td>\n",
              "      <td>501301496</td>\n",
              "      <td>5.632601e+06</td>\n",
              "      <td>1.611198e+07</td>\n",
              "      <td>[BENIGN]</td>\n",
              "    </tr>\n",
              "    <tr>\n",
              "      <th>3</th>\n",
              "      <td>192.168.10.3</td>\n",
              "      <td>137</td>\n",
              "      <td>389</td>\n",
              "      <td>0.150000</td>\n",
              "      <td>0.450000</td>\n",
              "      <td>0.400000</td>\n",
              "      <td>4</td>\n",
              "      <td>14</td>\n",
              "      <td>7</td>\n",
              "      <td>24</td>\n",
              "      <td>...</td>\n",
              "      <td>54</td>\n",
              "      <td>2.700000</td>\n",
              "      <td>1.625455</td>\n",
              "      <td>880.0</td>\n",
              "      <td>44.000000</td>\n",
              "      <td>89.865396</td>\n",
              "      <td>6093478</td>\n",
              "      <td>3.046739e+05</td>\n",
              "      <td>9.377045e+05</td>\n",
              "      <td>[BENIGN]</td>\n",
              "    </tr>\n",
              "    <tr>\n",
              "      <th>4</th>\n",
              "      <td>69.31.33.224</td>\n",
              "      <td>1057</td>\n",
              "      <td>80</td>\n",
              "      <td>1.000000</td>\n",
              "      <td>1.000000</td>\n",
              "      <td>1.000000</td>\n",
              "      <td>1</td>\n",
              "      <td>1</td>\n",
              "      <td>1</td>\n",
              "      <td>5</td>\n",
              "      <td>...</td>\n",
              "      <td>4</td>\n",
              "      <td>2.000000</td>\n",
              "      <td>2.828427</td>\n",
              "      <td>191.0</td>\n",
              "      <td>95.500000</td>\n",
              "      <td>135.057395</td>\n",
              "      <td>40647</td>\n",
              "      <td>2.032350e+04</td>\n",
              "      <td>2.873611e+04</td>\n",
              "      <td>[BENIGN]</td>\n",
              "    </tr>\n",
              "    <tr>\n",
              "      <th>...</th>\n",
              "      <td>...</td>\n",
              "      <td>...</td>\n",
              "      <td>...</td>\n",
              "      <td>...</td>\n",
              "      <td>...</td>\n",
              "      <td>...</td>\n",
              "      <td>...</td>\n",
              "      <td>...</td>\n",
              "      <td>...</td>\n",
              "      <td>...</td>\n",
              "      <td>...</td>\n",
              "      <td>...</td>\n",
              "      <td>...</td>\n",
              "      <td>...</td>\n",
              "      <td>...</td>\n",
              "      <td>...</td>\n",
              "      <td>...</td>\n",
              "      <td>...</td>\n",
              "      <td>...</td>\n",
              "      <td>...</td>\n",
              "      <td>...</td>\n",
              "    </tr>\n",
              "    <tr>\n",
              "      <th>47692</th>\n",
              "      <td>184.25.56.202</td>\n",
              "      <td>7173</td>\n",
              "      <td>80</td>\n",
              "      <td>1.000000</td>\n",
              "      <td>1.000000</td>\n",
              "      <td>1.000000</td>\n",
              "      <td>1</td>\n",
              "      <td>1</td>\n",
              "      <td>1</td>\n",
              "      <td>1</td>\n",
              "      <td>...</td>\n",
              "      <td>1</td>\n",
              "      <td>1.000000</td>\n",
              "      <td>0.000000</td>\n",
              "      <td>6.0</td>\n",
              "      <td>6.000000</td>\n",
              "      <td>0.000000</td>\n",
              "      <td>42</td>\n",
              "      <td>4.200000e+01</td>\n",
              "      <td>0.000000e+00</td>\n",
              "      <td>[BENIGN]</td>\n",
              "    </tr>\n",
              "    <tr>\n",
              "      <th>47693</th>\n",
              "      <td>184.50.238.170</td>\n",
              "      <td>56432</td>\n",
              "      <td>80</td>\n",
              "      <td>1.000000</td>\n",
              "      <td>1.000000</td>\n",
              "      <td>1.000000</td>\n",
              "      <td>1</td>\n",
              "      <td>1</td>\n",
              "      <td>1</td>\n",
              "      <td>1</td>\n",
              "      <td>...</td>\n",
              "      <td>1</td>\n",
              "      <td>1.000000</td>\n",
              "      <td>0.000000</td>\n",
              "      <td>6.0</td>\n",
              "      <td>6.000000</td>\n",
              "      <td>0.000000</td>\n",
              "      <td>42</td>\n",
              "      <td>4.200000e+01</td>\n",
              "      <td>0.000000e+00</td>\n",
              "      <td>[BENIGN]</td>\n",
              "    </tr>\n",
              "    <tr>\n",
              "      <th>47694</th>\n",
              "      <td>52.52.86.145</td>\n",
              "      <td>44944</td>\n",
              "      <td>443</td>\n",
              "      <td>1.000000</td>\n",
              "      <td>1.000000</td>\n",
              "      <td>1.000000</td>\n",
              "      <td>1</td>\n",
              "      <td>1</td>\n",
              "      <td>1</td>\n",
              "      <td>14</td>\n",
              "      <td>...</td>\n",
              "      <td>13</td>\n",
              "      <td>13.000000</td>\n",
              "      <td>0.000000</td>\n",
              "      <td>4752.0</td>\n",
              "      <td>4752.000000</td>\n",
              "      <td>0.000000</td>\n",
              "      <td>52656124</td>\n",
              "      <td>5.265612e+07</td>\n",
              "      <td>0.000000e+00</td>\n",
              "      <td>[BENIGN]</td>\n",
              "    </tr>\n",
              "    <tr>\n",
              "      <th>47695</th>\n",
              "      <td>54.236.177.89</td>\n",
              "      <td>55806</td>\n",
              "      <td>443</td>\n",
              "      <td>1.000000</td>\n",
              "      <td>1.000000</td>\n",
              "      <td>1.000000</td>\n",
              "      <td>1</td>\n",
              "      <td>1</td>\n",
              "      <td>1</td>\n",
              "      <td>15</td>\n",
              "      <td>...</td>\n",
              "      <td>13</td>\n",
              "      <td>13.000000</td>\n",
              "      <td>0.000000</td>\n",
              "      <td>5955.0</td>\n",
              "      <td>5955.000000</td>\n",
              "      <td>0.000000</td>\n",
              "      <td>51998174</td>\n",
              "      <td>5.199817e+07</td>\n",
              "      <td>0.000000e+00</td>\n",
              "      <td>[BENIGN]</td>\n",
              "    </tr>\n",
              "    <tr>\n",
              "      <th>47696</th>\n",
              "      <td>91.189.89.198</td>\n",
              "      <td>123</td>\n",
              "      <td>123</td>\n",
              "      <td>1.000000</td>\n",
              "      <td>1.000000</td>\n",
              "      <td>1.000000</td>\n",
              "      <td>1</td>\n",
              "      <td>1</td>\n",
              "      <td>1</td>\n",
              "      <td>1</td>\n",
              "      <td>...</td>\n",
              "      <td>1</td>\n",
              "      <td>1.000000</td>\n",
              "      <td>0.000000</td>\n",
              "      <td>48.0</td>\n",
              "      <td>48.000000</td>\n",
              "      <td>0.000000</td>\n",
              "      <td>94265</td>\n",
              "      <td>9.426500e+04</td>\n",
              "      <td>0.000000e+00</td>\n",
              "      <td>[BENIGN]</td>\n",
              "    </tr>\n",
              "  </tbody>\n",
              "</table>\n",
              "<p>47697 rows × 25 columns</p>\n",
              "</div>"
            ]
          },
          "metadata": {},
          "execution_count": 21
        }
      ]
    },
    {
      "cell_type": "code",
      "source": [
        "b[0].shape"
      ],
      "metadata": {
        "colab": {
          "base_uri": "https://localhost:8080/"
        },
        "id": "MZpnwgRv7Mj9",
        "outputId": "2215f55a-dd1a-4352-8172-ef5b0849bbfc"
      },
      "execution_count": 22,
      "outputs": [
        {
          "output_type": "execute_result",
          "data": {
            "text/plain": [
              "torch.Size([47697, 24])"
            ]
          },
          "metadata": {},
          "execution_count": 22
        }
      ]
    },
    {
      "cell_type": "code",
      "source": [
        "class FlowDataset(Dataset):\n",
        "    def __init__(self, data):\n",
        "        self.data = data\n",
        "        \n",
        "    def __len__(self):\n",
        "        return len(self.data)\n",
        "    \n",
        "    def __getitem__(self, idx):\n",
        "        return self.data[idx]\n"
      ],
      "metadata": {
        "id": "JIXNK2iE-sUX"
      },
      "execution_count": 23,
      "outputs": []
    },
    {
      "cell_type": "code",
      "source": [
        "def train_fn(trainX, batch_size=128, epoch=300, model_path=\"./models/ipod_model.pt\"):\n",
        "    ae = AE(trainX.shape[1])\n",
        "    ae.to(device)\n",
        "    \n",
        "    ae_loss_fn = nn.MSELoss()\n",
        "    # ae_optim = SGD(ae.parameters(), lr = 1e-1, momentum=0.9)\n",
        "    ae_optim = AdamW(ae.parameters(), lr = 1e-3, weight_decay=1e-11)\n",
        "    ae_sched= StepLR(ae_optim, step_size=75, gamma=0.5)\n",
        "    \n",
        "    dataloader = DataLoader(\n",
        "        FlowDataset(trainX), \n",
        "        batch_size=batch_size, \n",
        "        shuffle=True\n",
        "    )\n",
        "    \n",
        "    best_loss = 1.\n",
        "\n",
        "    with tqdm(range(epoch)) as pbar:\n",
        "        for _ in pbar:\n",
        "            ae_epoch_loss = 0\n",
        "            data_count = 0\n",
        "                        \n",
        "            for X in dataloader:\n",
        "                X = X.to(device)\n",
        "\n",
        "                # 오토 인코더 학습 \n",
        "                O, _ = ae(X)\n",
        "                \n",
        "                ae_loss = ae_loss_fn(O, X)\n",
        "                ae_optim.zero_grad()\n",
        "                ae_loss.backward()\n",
        "                ae_optim.step()                \n",
        "                \n",
        "                # loss 출력하기 \n",
        "                \n",
        "                ae_epoch_loss += ae_loss.item()\n",
        "                data_count += len(X)\n",
        "\n",
        "                pbar.set_postfix( \n",
        "                     ae_loss=f\"{ae_epoch_loss / data_count}\",\n",
        "                )\n",
        "\n",
        "            now_loss = ae_epoch_loss / data_count\n",
        "            if best_loss > now_loss:\n",
        "                best_loss = now_loss\n",
        "                torch.save(ae.state_dict(), model_path)\n",
        "\n",
        "            ae_sched.step()\n",
        "    print(best_loss)\n",
        "    model_state_dict = torch.load(model_path, map_location=device)\n",
        "    ae.load_state_dict(model_state_dict)\n",
        "    return ae"
      ],
      "metadata": {
        "id": "bOy6cqls-tqg"
      },
      "execution_count": 24,
      "outputs": []
    },
    {
      "cell_type": "code",
      "source": [
        "model = train_fn(trainX)"
      ],
      "metadata": {
        "colab": {
          "base_uri": "https://localhost:8080/",
          "height": 67,
          "referenced_widgets": [
            "855975e2582445aab1c6c2762724d8d3",
            "ef45c153fccb4f6ea5b75e1c6c15032c",
            "b8324a18fa794f50ad1bd45e0b52c142",
            "92722e394ab644009e4537142d201cb8",
            "1e286edc411844df9c8dbc68fc0f41a2",
            "d4ffe3ae0f504da3bfd92f80e1d3ce1c",
            "4e225653df244881961aa75c3bbb1c5a",
            "d0092d0e44644091a0bc2af90a68b6e6",
            "368f2e7f12f146dda6a1e76cf84257cd",
            "b5687e2ca9d84513b9912d9f9efe22dc",
            "f4ab1efddb3d4e2d901d87d4d6fa0501"
          ]
        },
        "id": "9n-1zOE7-utl",
        "outputId": "ab5cf91f-e207-484d-f2f6-15f96b191733"
      },
      "execution_count": 25,
      "outputs": [
        {
          "output_type": "display_data",
          "data": {
            "text/plain": [
              "  0%|          | 0/300 [00:00<?, ?it/s]"
            ],
            "application/vnd.jupyter.widget-view+json": {
              "version_major": 2,
              "version_minor": 0,
              "model_id": "855975e2582445aab1c6c2762724d8d3"
            }
          },
          "metadata": {}
        },
        {
          "output_type": "stream",
          "name": "stdout",
          "text": [
            "3.6834801922418956e-07\n"
          ]
        }
      ]
    },
    {
      "cell_type": "markdown",
      "source": [
        "# 테스트하기"
      ],
      "metadata": {
        "id": "fnVmX2dPHl-U"
      }
    },
    {
      "cell_type": "code",
      "source": [
        "def test_fn(model, testX):\n",
        "    dataloader = DataLoader(FlowDataset(testX), batch_size= 512, shuffle=False)\n",
        "    model.to(device)\n",
        "    pred = []\n",
        "    loss_fn = nn.MSELoss()\n",
        "    model.eval()\n",
        "    dist_fn = nn.CosineSimilarity(dim=1)\n",
        "    with torch.no_grad():\n",
        "        for X in (dataloader):\n",
        "            X = X.to(device)\n",
        "            O,_  = model(X)\n",
        "            # dist = dist_fn(X,O)\n",
        "            dist = torch.square(X-O).mean(-1)\n",
        "            pred.extend(dist.cpu().tolist())\n",
        "    return pred\n",
        "    "
      ],
      "metadata": {
        "id": "gFNnI2-2-wxk"
      },
      "execution_count": 26,
      "outputs": []
    },
    {
      "cell_type": "code",
      "source": [
        "def labelEncoding(x):\n",
        "    if len(x) == 1:\n",
        "        if x[0] == 'BENIGN':\n",
        "            return 0\n",
        "        else:\n",
        "            return 1\n",
        "    else:\n",
        "        return 1\n",
        "\n"
      ],
      "metadata": {
        "id": "prpKJWOqKsTZ"
      },
      "execution_count": 27,
      "outputs": []
    },
    {
      "cell_type": "code",
      "source": [
        "from sklearn.metrics import roc_auc_score, roc_curve, f1_score, precision_score, recall_score, accuracy_score"
      ],
      "metadata": {
        "id": "PJDbF7aHKweK"
      },
      "execution_count": 28,
      "outputs": []
    },
    {
      "cell_type": "code",
      "source": [
        "def testSetLoader(files):\n",
        "    testSet = FlowReader.read_csv(files)\n",
        "    testSet = FlowProfiler.preprocessing(testSet, mode=\"default\")\n",
        "    return testSet"
      ],
      "metadata": {
        "id": "igXOiAFzmRIw"
      },
      "execution_count": 29,
      "outputs": []
    },
    {
      "cell_type": "code",
      "source": [
        "def result_fn(testSet, loss):\n",
        "    result = pd.DataFrame({\n",
        "        'outer_ip' : testSet['Key_IP'],\n",
        "        'loss' : loss,\n",
        "        'Label' : testSet['Label'],\n",
        "        'Num_Label' : testSet['Label'].apply(\n",
        "            labelEncoding\n",
        "            # lambda x : len(x)\n",
        "        )\n",
        "    })\n",
        "    return result"
      ],
      "metadata": {
        "id": "lEYTGDfUIcVd"
      },
      "execution_count": 30,
      "outputs": []
    },
    {
      "cell_type": "code",
      "source": [
        "def best_f1(y_true, loss):\n",
        "    theta = 0.0001\n",
        "    best_theta = 0\n",
        "    best_f1 = 0\n",
        "    while theta <= 1:\n",
        "        predict = np.where(loss>theta, 1, 0)\n",
        "        now_f1 = f1_score(y_true, predict)\n",
        "        if best_f1 < now_f1:\n",
        "            best_f1 = now_f1\n",
        "            best_theta = theta\n",
        "        \n",
        "        theta += 0.0001\n",
        "\n",
        "    predict = np.where(loss>best_theta, 1, 0)\n",
        "    print(\"theta : \", best_theta)\n",
        "    print(\"accuracy : \", accuracy_score(y_true, predict))\n",
        "    print(\"recall : \", recall_score(y_true, predict))\n",
        "    print(\"precision: \", precision_score(y_true, predict))\n",
        "    print(\"f1-score : \", f1_score(y_true, predict))\n",
        "\n",
        "    return best_theta"
      ],
      "metadata": {
        "id": "8frWHl5DvDP-"
      },
      "execution_count": 31,
      "outputs": []
    },
    {
      "cell_type": "code",
      "source": [
        "concat_result = pd.DataFrame(columns=['outer_ip', 'loss', 'Label', 'Num_Label'])"
      ],
      "metadata": {
        "id": "qevzK1HTg8IR"
      },
      "execution_count": 32,
      "outputs": []
    },
    {
      "cell_type": "markdown",
      "source": [
        "## 화요일"
      ],
      "metadata": {
        "id": "Fqz42U0fIou5"
      }
    },
    {
      "cell_type": "code",
      "source": [
        "testSet = testSetLoader(files[1])"
      ],
      "metadata": {
        "id": "2n9q0Z09_3hF"
      },
      "execution_count": 33,
      "outputs": []
    },
    {
      "cell_type": "code",
      "source": [
        "testX = fpp.transform(testSet)"
      ],
      "metadata": {
        "id": "ALv8w9fIAAx7"
      },
      "execution_count": 34,
      "outputs": []
    },
    {
      "cell_type": "code",
      "source": [
        "loss = test_fn(model, testX)"
      ],
      "metadata": {
        "id": "i6ifhqZdAvoU"
      },
      "execution_count": 35,
      "outputs": []
    },
    {
      "cell_type": "code",
      "source": [
        "result = result_fn(testSet, loss)"
      ],
      "metadata": {
        "id": "hlbCl-xZIXbo"
      },
      "execution_count": 36,
      "outputs": []
    },
    {
      "cell_type": "code",
      "source": [
        "result[result['Num_Label']==1]"
      ],
      "metadata": {
        "colab": {
          "base_uri": "https://localhost:8080/",
          "height": 959
        },
        "id": "i9P6D4UKFiNo",
        "outputId": "aad9eef4-3836-4a1d-a84b-a3da2f874337"
      },
      "execution_count": 37,
      "outputs": [
        {
          "output_type": "execute_result",
          "data": {
            "text/plain": [
              "         outer_ip      loss                  Label  Num_Label\n",
              "2120   172.16.0.1  0.001427          [FTP-Patator]          1\n",
              "2143   172.16.0.1  0.000056          [FTP-Patator]          1\n",
              "2529   172.16.0.1  0.001095          [FTP-Patator]          1\n",
              "2951   172.16.0.1  0.001790          [FTP-Patator]          1\n",
              "3946   172.16.0.1  0.001779          [FTP-Patator]          1\n",
              "4002   172.16.0.1  0.001810          [FTP-Patator]          1\n",
              "5133   172.16.0.1  0.001780          [FTP-Patator]          1\n",
              "5796   172.16.0.1  0.001775          [FTP-Patator]          1\n",
              "5838   172.16.0.1  0.001784          [FTP-Patator]          1\n",
              "7054   172.16.0.1  0.001787          [FTP-Patator]          1\n",
              "7130   172.16.0.1  0.001797          [FTP-Patator]          1\n",
              "8252   172.16.0.1  0.001800          [FTP-Patator]          1\n",
              "8327   172.16.0.1  0.001766          [FTP-Patator]          1\n",
              "9473   172.16.0.1  0.001804          [FTP-Patator]          1\n",
              "9564   172.16.0.1  0.001786          [FTP-Patator]          1\n",
              "23355  172.16.0.1  0.001008          [SSH-Patator]          1\n",
              "23581  172.16.0.1  0.077357  [SSH-Patator, BENIGN]          1\n",
              "24350  172.16.0.1  0.003047          [SSH-Patator]          1\n",
              "24352  172.16.0.1  0.062982  [SSH-Patator, BENIGN]          1\n",
              "25367  172.16.0.1  0.002791          [SSH-Patator]          1\n",
              "25814  172.16.0.1  0.003113          [SSH-Patator]          1\n",
              "25826  172.16.0.1  0.002937          [SSH-Patator]          1\n",
              "26765  172.16.0.1  0.003141          [SSH-Patator]          1\n",
              "27418  172.16.0.1  0.003148          [SSH-Patator]          1\n",
              "27432  172.16.0.1  0.003095          [SSH-Patator]          1\n",
              "28332  172.16.0.1  0.003231          [SSH-Patator]          1\n",
              "28854  172.16.0.1  0.003057          [SSH-Patator]          1\n",
              "28929  172.16.0.1  0.003294          [SSH-Patator]          1\n",
              "29693  172.16.0.1  0.003088          [SSH-Patator]          1"
            ],
            "text/html": [
              "<div>\n",
              "<style scoped>\n",
              "    .dataframe tbody tr th:only-of-type {\n",
              "        vertical-align: middle;\n",
              "    }\n",
              "\n",
              "    .dataframe tbody tr th {\n",
              "        vertical-align: top;\n",
              "    }\n",
              "\n",
              "    .dataframe thead th {\n",
              "        text-align: right;\n",
              "    }\n",
              "</style>\n",
              "<table border=\"1\" class=\"dataframe\">\n",
              "  <thead>\n",
              "    <tr style=\"text-align: right;\">\n",
              "      <th></th>\n",
              "      <th>outer_ip</th>\n",
              "      <th>loss</th>\n",
              "      <th>Label</th>\n",
              "      <th>Num_Label</th>\n",
              "    </tr>\n",
              "  </thead>\n",
              "  <tbody>\n",
              "    <tr>\n",
              "      <th>2120</th>\n",
              "      <td>172.16.0.1</td>\n",
              "      <td>0.001427</td>\n",
              "      <td>[FTP-Patator]</td>\n",
              "      <td>1</td>\n",
              "    </tr>\n",
              "    <tr>\n",
              "      <th>2143</th>\n",
              "      <td>172.16.0.1</td>\n",
              "      <td>0.000056</td>\n",
              "      <td>[FTP-Patator]</td>\n",
              "      <td>1</td>\n",
              "    </tr>\n",
              "    <tr>\n",
              "      <th>2529</th>\n",
              "      <td>172.16.0.1</td>\n",
              "      <td>0.001095</td>\n",
              "      <td>[FTP-Patator]</td>\n",
              "      <td>1</td>\n",
              "    </tr>\n",
              "    <tr>\n",
              "      <th>2951</th>\n",
              "      <td>172.16.0.1</td>\n",
              "      <td>0.001790</td>\n",
              "      <td>[FTP-Patator]</td>\n",
              "      <td>1</td>\n",
              "    </tr>\n",
              "    <tr>\n",
              "      <th>3946</th>\n",
              "      <td>172.16.0.1</td>\n",
              "      <td>0.001779</td>\n",
              "      <td>[FTP-Patator]</td>\n",
              "      <td>1</td>\n",
              "    </tr>\n",
              "    <tr>\n",
              "      <th>4002</th>\n",
              "      <td>172.16.0.1</td>\n",
              "      <td>0.001810</td>\n",
              "      <td>[FTP-Patator]</td>\n",
              "      <td>1</td>\n",
              "    </tr>\n",
              "    <tr>\n",
              "      <th>5133</th>\n",
              "      <td>172.16.0.1</td>\n",
              "      <td>0.001780</td>\n",
              "      <td>[FTP-Patator]</td>\n",
              "      <td>1</td>\n",
              "    </tr>\n",
              "    <tr>\n",
              "      <th>5796</th>\n",
              "      <td>172.16.0.1</td>\n",
              "      <td>0.001775</td>\n",
              "      <td>[FTP-Patator]</td>\n",
              "      <td>1</td>\n",
              "    </tr>\n",
              "    <tr>\n",
              "      <th>5838</th>\n",
              "      <td>172.16.0.1</td>\n",
              "      <td>0.001784</td>\n",
              "      <td>[FTP-Patator]</td>\n",
              "      <td>1</td>\n",
              "    </tr>\n",
              "    <tr>\n",
              "      <th>7054</th>\n",
              "      <td>172.16.0.1</td>\n",
              "      <td>0.001787</td>\n",
              "      <td>[FTP-Patator]</td>\n",
              "      <td>1</td>\n",
              "    </tr>\n",
              "    <tr>\n",
              "      <th>7130</th>\n",
              "      <td>172.16.0.1</td>\n",
              "      <td>0.001797</td>\n",
              "      <td>[FTP-Patator]</td>\n",
              "      <td>1</td>\n",
              "    </tr>\n",
              "    <tr>\n",
              "      <th>8252</th>\n",
              "      <td>172.16.0.1</td>\n",
              "      <td>0.001800</td>\n",
              "      <td>[FTP-Patator]</td>\n",
              "      <td>1</td>\n",
              "    </tr>\n",
              "    <tr>\n",
              "      <th>8327</th>\n",
              "      <td>172.16.0.1</td>\n",
              "      <td>0.001766</td>\n",
              "      <td>[FTP-Patator]</td>\n",
              "      <td>1</td>\n",
              "    </tr>\n",
              "    <tr>\n",
              "      <th>9473</th>\n",
              "      <td>172.16.0.1</td>\n",
              "      <td>0.001804</td>\n",
              "      <td>[FTP-Patator]</td>\n",
              "      <td>1</td>\n",
              "    </tr>\n",
              "    <tr>\n",
              "      <th>9564</th>\n",
              "      <td>172.16.0.1</td>\n",
              "      <td>0.001786</td>\n",
              "      <td>[FTP-Patator]</td>\n",
              "      <td>1</td>\n",
              "    </tr>\n",
              "    <tr>\n",
              "      <th>23355</th>\n",
              "      <td>172.16.0.1</td>\n",
              "      <td>0.001008</td>\n",
              "      <td>[SSH-Patator]</td>\n",
              "      <td>1</td>\n",
              "    </tr>\n",
              "    <tr>\n",
              "      <th>23581</th>\n",
              "      <td>172.16.0.1</td>\n",
              "      <td>0.077357</td>\n",
              "      <td>[SSH-Patator, BENIGN]</td>\n",
              "      <td>1</td>\n",
              "    </tr>\n",
              "    <tr>\n",
              "      <th>24350</th>\n",
              "      <td>172.16.0.1</td>\n",
              "      <td>0.003047</td>\n",
              "      <td>[SSH-Patator]</td>\n",
              "      <td>1</td>\n",
              "    </tr>\n",
              "    <tr>\n",
              "      <th>24352</th>\n",
              "      <td>172.16.0.1</td>\n",
              "      <td>0.062982</td>\n",
              "      <td>[SSH-Patator, BENIGN]</td>\n",
              "      <td>1</td>\n",
              "    </tr>\n",
              "    <tr>\n",
              "      <th>25367</th>\n",
              "      <td>172.16.0.1</td>\n",
              "      <td>0.002791</td>\n",
              "      <td>[SSH-Patator]</td>\n",
              "      <td>1</td>\n",
              "    </tr>\n",
              "    <tr>\n",
              "      <th>25814</th>\n",
              "      <td>172.16.0.1</td>\n",
              "      <td>0.003113</td>\n",
              "      <td>[SSH-Patator]</td>\n",
              "      <td>1</td>\n",
              "    </tr>\n",
              "    <tr>\n",
              "      <th>25826</th>\n",
              "      <td>172.16.0.1</td>\n",
              "      <td>0.002937</td>\n",
              "      <td>[SSH-Patator]</td>\n",
              "      <td>1</td>\n",
              "    </tr>\n",
              "    <tr>\n",
              "      <th>26765</th>\n",
              "      <td>172.16.0.1</td>\n",
              "      <td>0.003141</td>\n",
              "      <td>[SSH-Patator]</td>\n",
              "      <td>1</td>\n",
              "    </tr>\n",
              "    <tr>\n",
              "      <th>27418</th>\n",
              "      <td>172.16.0.1</td>\n",
              "      <td>0.003148</td>\n",
              "      <td>[SSH-Patator]</td>\n",
              "      <td>1</td>\n",
              "    </tr>\n",
              "    <tr>\n",
              "      <th>27432</th>\n",
              "      <td>172.16.0.1</td>\n",
              "      <td>0.003095</td>\n",
              "      <td>[SSH-Patator]</td>\n",
              "      <td>1</td>\n",
              "    </tr>\n",
              "    <tr>\n",
              "      <th>28332</th>\n",
              "      <td>172.16.0.1</td>\n",
              "      <td>0.003231</td>\n",
              "      <td>[SSH-Patator]</td>\n",
              "      <td>1</td>\n",
              "    </tr>\n",
              "    <tr>\n",
              "      <th>28854</th>\n",
              "      <td>172.16.0.1</td>\n",
              "      <td>0.003057</td>\n",
              "      <td>[SSH-Patator]</td>\n",
              "      <td>1</td>\n",
              "    </tr>\n",
              "    <tr>\n",
              "      <th>28929</th>\n",
              "      <td>172.16.0.1</td>\n",
              "      <td>0.003294</td>\n",
              "      <td>[SSH-Patator]</td>\n",
              "      <td>1</td>\n",
              "    </tr>\n",
              "    <tr>\n",
              "      <th>29693</th>\n",
              "      <td>172.16.0.1</td>\n",
              "      <td>0.003088</td>\n",
              "      <td>[SSH-Patator]</td>\n",
              "      <td>1</td>\n",
              "    </tr>\n",
              "  </tbody>\n",
              "</table>\n",
              "</div>"
            ]
          },
          "metadata": {},
          "execution_count": 37
        }
      ]
    },
    {
      "cell_type": "code",
      "source": [
        "concat_result = pd.concat([\n",
        "    concat_result, result\n",
        "])"
      ],
      "metadata": {
        "id": "e1a621JahRLN"
      },
      "execution_count": 38,
      "outputs": []
    },
    {
      "cell_type": "code",
      "source": [
        "y_true = result['Num_Label'].values\n",
        "loss = result['loss'].values"
      ],
      "metadata": {
        "id": "BaHQCL8ZIU6i"
      },
      "execution_count": 39,
      "outputs": []
    },
    {
      "cell_type": "code",
      "source": [
        "tues_fp, tues_tp, _ = roc_curve(y_true, loss)\n",
        "roc_auc_score(y_true, loss)"
      ],
      "metadata": {
        "colab": {
          "base_uri": "https://localhost:8080/"
        },
        "id": "SZAAFwu4cUyh",
        "outputId": "3532cb22-909c-4b31-ac45-17acb4767c50"
      },
      "execution_count": 40,
      "outputs": [
        {
          "output_type": "execute_result",
          "data": {
            "text/plain": [
              "0.9893906865856518"
            ]
          },
          "metadata": {},
          "execution_count": 40
        }
      ]
    },
    {
      "cell_type": "code",
      "source": [
        "theta = best_f1(y_true, loss)"
      ],
      "metadata": {
        "colab": {
          "base_uri": "https://localhost:8080/"
        },
        "id": "UPtJpSf4vbmk",
        "outputId": "5a613da4-cb5b-4596-eade-8042b15f0b36"
      },
      "execution_count": 41,
      "outputs": [
        {
          "output_type": "stream",
          "name": "stdout",
          "text": [
            "theta :  0.0017000000000000006\n",
            "accuracy :  0.9934666246851386\n",
            "recall :  0.8620689655172413\n",
            "precision:  0.09259259259259259\n",
            "f1-score :  0.16722408026755853\n"
          ]
        }
      ]
    },
    {
      "cell_type": "code",
      "source": [
        "_, axs = plt.subplots(2,1, figsize=(22,14))\n",
        "titles = ['benign', 'attack']\n",
        "\n",
        "for i in range(2):\n",
        "    axs[i].hist(result[result['Num_Label'] == i]['loss'], bins=200, range=(0,0.1))\n",
        "    axs[i].axvline(x=theta, color='r', linestyle='--')\n",
        "    axs[i].set_title(titles[i])\n"
      ],
      "metadata": {
        "colab": {
          "base_uri": "https://localhost:8080/",
          "height": 825
        },
        "id": "8Fquja89cybg",
        "outputId": "dd80f7f5-8041-40d9-f673-fb6c6be8bbf3"
      },
      "execution_count": 46,
      "outputs": [
        {
          "output_type": "display_data",
          "data": {
            "text/plain": [
              "<Figure size 1584x1008 with 2 Axes>"
            ],
            "image/png": "[encoded data removed]"
          },
          "metadata": {
            "needs_background": "light"
          }
        }
      ]
    },
    {
      "cell_type": "markdown",
      "source": [
        "## 수요일"
      ],
      "metadata": {
        "id": "FZDwNMGOImED"
      }
    },
    {
      "cell_type": "code",
      "source": [
        "testSet = testSetLoader(files[2])"
      ],
      "metadata": {
        "id": "YuGb5u_JIlSj"
      },
      "execution_count": 47,
      "outputs": []
    },
    {
      "cell_type": "code",
      "source": [
        "testX = fpp.transform(testSet)"
      ],
      "metadata": {
        "id": "z0BatnDmIlSk"
      },
      "execution_count": 48,
      "outputs": []
    },
    {
      "cell_type": "code",
      "source": [
        "loss = test_fn(model, testX)"
      ],
      "metadata": {
        "id": "iQKJPCg_IlSk"
      },
      "execution_count": 49,
      "outputs": []
    },
    {
      "cell_type": "code",
      "source": [
        "result = result_fn(testSet, loss)"
      ],
      "metadata": {
        "id": "ieCTbcg6IlSk"
      },
      "execution_count": 50,
      "outputs": []
    },
    {
      "cell_type": "code",
      "source": [
        "result[result['Num_Label']==1]"
      ],
      "metadata": {
        "colab": {
          "base_uri": "https://localhost:8080/",
          "height": 896
        },
        "outputId": "e08d308e-73f8-4a30-fe98-b835b6360d05",
        "id": "8plR9q6NIlSk"
      },
      "execution_count": 51,
      "outputs": [
        {
          "output_type": "execute_result",
          "data": {
            "text/plain": [
              "         outer_ip         loss                       Label  Num_Label\n",
              "1721   172.16.0.1     0.000056             [DoS slowloris]          1\n",
              "1748   172.16.0.1     0.000327     [DoS slowloris, BENIGN]          1\n",
              "5575   172.16.0.1     0.025812             [DoS slowloris]          1\n",
              "5751   172.16.0.1     0.000250     [DoS slowloris, BENIGN]          1\n",
              "6592   172.16.0.1     0.470904     [DoS slowloris, BENIGN]          1\n",
              "7043   172.16.0.1     0.597582     [DoS slowloris, BENIGN]          1\n",
              "7689   172.16.0.1     0.453287             [DoS slowloris]          1\n",
              "8116   172.16.0.1     0.501822     [DoS slowloris, BENIGN]          1\n",
              "8581   172.16.0.1     0.077229     [DoS slowloris, BENIGN]          1\n",
              "9177   172.16.0.1     0.640153  [DoS Slowhttptest, BENIGN]          1\n",
              "9552   172.16.0.1     0.502095  [DoS Slowhttptest, BENIGN]          1\n",
              "10085  172.16.0.1     0.573251  [DoS Slowhttptest, BENIGN]          1\n",
              "10856  172.16.0.1     0.495760  [DoS Slowhttptest, BENIGN]          1\n",
              "11344  172.16.0.1     0.083242  [DoS Slowhttptest, BENIGN]          1\n",
              "11643  172.16.0.1   448.717346          [DoS Hulk, BENIGN]          1\n",
              "11848  172.16.0.1  1934.080811          [DoS Hulk, BENIGN]          1\n",
              "12258  172.16.0.1  1913.982788                  [DoS Hulk]          1\n",
              "12667  172.16.0.1  1410.502930                  [DoS Hulk]          1\n",
              "13590  172.16.0.1     0.318282                  [DoS Hulk]          1\n",
              "14077  172.16.0.1     0.001123                  [DoS Hulk]          1\n",
              "14642  172.16.0.1     6.743860     [DoS GoldenEye, BENIGN]          1\n",
              "15012  172.16.0.1     2.865030     [DoS GoldenEye, BENIGN]          1\n",
              "30241  172.16.0.1     2.652948        [BENIGN, Heartbleed]          1\n",
              "30616  172.16.0.1     2.407162                [Heartbleed]          1\n",
              "31066  172.16.0.1     3.308124                [Heartbleed]          1\n",
              "31583  172.16.0.1     2.387457                [Heartbleed]          1\n",
              "31986  172.16.0.1     2.707152                [Heartbleed]          1"
            ],
            "text/html": [
              "<div>\n",
              "<style scoped>\n",
              "    .dataframe tbody tr th:only-of-type {\n",
              "        vertical-align: middle;\n",
              "    }\n",
              "\n",
              "    .dataframe tbody tr th {\n",
              "        vertical-align: top;\n",
              "    }\n",
              "\n",
              "    .dataframe thead th {\n",
              "        text-align: right;\n",
              "    }\n",
              "</style>\n",
              "<table border=\"1\" class=\"dataframe\">\n",
              "  <thead>\n",
              "    <tr style=\"text-align: right;\">\n",
              "      <th></th>\n",
              "      <th>outer_ip</th>\n",
              "      <th>loss</th>\n",
              "      <th>Label</th>\n",
              "      <th>Num_Label</th>\n",
              "    </tr>\n",
              "  </thead>\n",
              "  <tbody>\n",
              "    <tr>\n",
              "      <th>1721</th>\n",
              "      <td>172.16.0.1</td>\n",
              "      <td>0.000056</td>\n",
              "      <td>[DoS slowloris]</td>\n",
              "      <td>1</td>\n",
              "    </tr>\n",
              "    <tr>\n",
              "      <th>1748</th>\n",
              "      <td>172.16.0.1</td>\n",
              "      <td>0.000327</td>\n",
              "      <td>[DoS slowloris, BENIGN]</td>\n",
              "      <td>1</td>\n",
              "    </tr>\n",
              "    <tr>\n",
              "      <th>5575</th>\n",
              "      <td>172.16.0.1</td>\n",
              "      <td>0.025812</td>\n",
              "      <td>[DoS slowloris]</td>\n",
              "      <td>1</td>\n",
              "    </tr>\n",
              "    <tr>\n",
              "      <th>5751</th>\n",
              "      <td>172.16.0.1</td>\n",
              "      <td>0.000250</td>\n",
              "      <td>[DoS slowloris, BENIGN]</td>\n",
              "      <td>1</td>\n",
              "    </tr>\n",
              "    <tr>\n",
              "      <th>6592</th>\n",
              "      <td>172.16.0.1</td>\n",
              "      <td>0.470904</td>\n",
              "      <td>[DoS slowloris, BENIGN]</td>\n",
              "      <td>1</td>\n",
              "    </tr>\n",
              "    <tr>\n",
              "      <th>7043</th>\n",
              "      <td>172.16.0.1</td>\n",
              "      <td>0.597582</td>\n",
              "      <td>[DoS slowloris, BENIGN]</td>\n",
              "      <td>1</td>\n",
              "    </tr>\n",
              "    <tr>\n",
              "      <th>7689</th>\n",
              "      <td>172.16.0.1</td>\n",
              "      <td>0.453287</td>\n",
              "      <td>[DoS slowloris]</td>\n",
              "      <td>1</td>\n",
              "    </tr>\n",
              "    <tr>\n",
              "      <th>8116</th>\n",
              "      <td>172.16.0.1</td>\n",
              "      <td>0.501822</td>\n",
              "      <td>[DoS slowloris, BENIGN]</td>\n",
              "      <td>1</td>\n",
              "    </tr>\n",
              "    <tr>\n",
              "      <th>8581</th>\n",
              "      <td>172.16.0.1</td>\n",
              "      <td>0.077229</td>\n",
              "      <td>[DoS slowloris, BENIGN]</td>\n",
              "      <td>1</td>\n",
              "    </tr>\n",
              "    <tr>\n",
              "      <th>9177</th>\n",
              "      <td>172.16.0.1</td>\n",
              "      <td>0.640153</td>\n",
              "      <td>[DoS Slowhttptest, BENIGN]</td>\n",
              "      <td>1</td>\n",
              "    </tr>\n",
              "    <tr>\n",
              "      <th>9552</th>\n",
              "      <td>172.16.0.1</td>\n",
              "      <td>0.502095</td>\n",
              "      <td>[DoS Slowhttptest, BENIGN]</td>\n",
              "      <td>1</td>\n",
              "    </tr>\n",
              "    <tr>\n",
              "      <th>10085</th>\n",
              "      <td>172.16.0.1</td>\n",
              "      <td>0.573251</td>\n",
              "      <td>[DoS Slowhttptest, BENIGN]</td>\n",
              "      <td>1</td>\n",
              "    </tr>\n",
              "    <tr>\n",
              "      <th>10856</th>\n",
              "      <td>172.16.0.1</td>\n",
              "      <td>0.495760</td>\n",
              "      <td>[DoS Slowhttptest, BENIGN]</td>\n",
              "      <td>1</td>\n",
              "    </tr>\n",
              "    <tr>\n",
              "      <th>11344</th>\n",
              "      <td>172.16.0.1</td>\n",
              "      <td>0.083242</td>\n",
              "      <td>[DoS Slowhttptest, BENIGN]</td>\n",
              "      <td>1</td>\n",
              "    </tr>\n",
              "    <tr>\n",
              "      <th>11643</th>\n",
              "      <td>172.16.0.1</td>\n",
              "      <td>448.717346</td>\n",
              "      <td>[DoS Hulk, BENIGN]</td>\n",
              "      <td>1</td>\n",
              "    </tr>\n",
              "    <tr>\n",
              "      <th>11848</th>\n",
              "      <td>172.16.0.1</td>\n",
              "      <td>1934.080811</td>\n",
              "      <td>[DoS Hulk, BENIGN]</td>\n",
              "      <td>1</td>\n",
              "    </tr>\n",
              "    <tr>\n",
              "      <th>12258</th>\n",
              "      <td>172.16.0.1</td>\n",
              "      <td>1913.982788</td>\n",
              "      <td>[DoS Hulk]</td>\n",
              "      <td>1</td>\n",
              "    </tr>\n",
              "    <tr>\n",
              "      <th>12667</th>\n",
              "      <td>172.16.0.1</td>\n",
              "      <td>1410.502930</td>\n",
              "      <td>[DoS Hulk]</td>\n",
              "      <td>1</td>\n",
              "    </tr>\n",
              "    <tr>\n",
              "      <th>13590</th>\n",
              "      <td>172.16.0.1</td>\n",
              "      <td>0.318282</td>\n",
              "      <td>[DoS Hulk]</td>\n",
              "      <td>1</td>\n",
              "    </tr>\n",
              "    <tr>\n",
              "      <th>14077</th>\n",
              "      <td>172.16.0.1</td>\n",
              "      <td>0.001123</td>\n",
              "      <td>[DoS Hulk]</td>\n",
              "      <td>1</td>\n",
              "    </tr>\n",
              "    <tr>\n",
              "      <th>14642</th>\n",
              "      <td>172.16.0.1</td>\n",
              "      <td>6.743860</td>\n",
              "      <td>[DoS GoldenEye, BENIGN]</td>\n",
              "      <td>1</td>\n",
              "    </tr>\n",
              "    <tr>\n",
              "      <th>15012</th>\n",
              "      <td>172.16.0.1</td>\n",
              "      <td>2.865030</td>\n",
              "      <td>[DoS GoldenEye, BENIGN]</td>\n",
              "      <td>1</td>\n",
              "    </tr>\n",
              "    <tr>\n",
              "      <th>30241</th>\n",
              "      <td>172.16.0.1</td>\n",
              "      <td>2.652948</td>\n",
              "      <td>[BENIGN, Heartbleed]</td>\n",
              "      <td>1</td>\n",
              "    </tr>\n",
              "    <tr>\n",
              "      <th>30616</th>\n",
              "      <td>172.16.0.1</td>\n",
              "      <td>2.407162</td>\n",
              "      <td>[Heartbleed]</td>\n",
              "      <td>1</td>\n",
              "    </tr>\n",
              "    <tr>\n",
              "      <th>31066</th>\n",
              "      <td>172.16.0.1</td>\n",
              "      <td>3.308124</td>\n",
              "      <td>[Heartbleed]</td>\n",
              "      <td>1</td>\n",
              "    </tr>\n",
              "    <tr>\n",
              "      <th>31583</th>\n",
              "      <td>172.16.0.1</td>\n",
              "      <td>2.387457</td>\n",
              "      <td>[Heartbleed]</td>\n",
              "      <td>1</td>\n",
              "    </tr>\n",
              "    <tr>\n",
              "      <th>31986</th>\n",
              "      <td>172.16.0.1</td>\n",
              "      <td>2.707152</td>\n",
              "      <td>[Heartbleed]</td>\n",
              "      <td>1</td>\n",
              "    </tr>\n",
              "  </tbody>\n",
              "</table>\n",
              "</div>"
            ]
          },
          "metadata": {},
          "execution_count": 51
        }
      ]
    },
    {
      "cell_type": "code",
      "source": [
        "concat_result = pd.concat([\n",
        "    concat_result, result\n",
        "])"
      ],
      "metadata": {
        "id": "kEm2WtaZhhbC"
      },
      "execution_count": 52,
      "outputs": []
    },
    {
      "cell_type": "code",
      "source": [
        "y_true = result['Num_Label'].values\n",
        "loss = result['loss'].values"
      ],
      "metadata": {
        "id": "KX8lLqBOIlSk"
      },
      "execution_count": 53,
      "outputs": []
    },
    {
      "cell_type": "code",
      "source": [
        "wednes_fp, wednes_tp, _ = roc_curve(y_true, loss)\n",
        "roc_auc_score(y_true, loss)"
      ],
      "metadata": {
        "colab": {
          "base_uri": "https://localhost:8080/"
        },
        "outputId": "376b483a-96ef-453b-bc85-d7e4fbf8c9fd",
        "id": "f5_QUi31IlSk"
      },
      "execution_count": 54,
      "outputs": [
        {
          "output_type": "execute_result",
          "data": {
            "text/plain": [
              "0.9905756820650438"
            ]
          },
          "metadata": {},
          "execution_count": 54
        }
      ]
    },
    {
      "cell_type": "code",
      "source": [
        "theta = best_f1(y_true, loss)"
      ],
      "metadata": {
        "colab": {
          "base_uri": "https://localhost:8080/"
        },
        "outputId": "8b3989b6-a27d-47e8-f4d4-d470a5c4452e",
        "id": "jhCSgsrDIlSk"
      },
      "execution_count": 55,
      "outputs": [
        {
          "output_type": "stream",
          "name": "stdout",
          "text": [
            "theta :  0.07470000000000111\n",
            "accuracy :  0.999712681206739\n",
            "recall :  0.8148148148148148\n",
            "precision:  0.7857142857142857\n",
            "f1-score :  0.7999999999999999\n"
          ]
        }
      ]
    },
    {
      "cell_type": "code",
      "source": [
        "_, axs = plt.subplots(2,1, figsize=(22,14))\n",
        "titles = ['benign', 'attack']\n",
        "\n",
        "for i in range(2):\n",
        "    axs[i].hist(result[result['Num_Label'] == i]['loss'], bins=200, range=(0,0.1))\n",
        "    axs[i].axvline(x=theta, color='r', linestyle='--')\n",
        "    axs[i].set_title(titles[i])\n"
      ],
      "metadata": {
        "colab": {
          "base_uri": "https://localhost:8080/",
          "height": 825
        },
        "outputId": "5902acc9-3304-484a-dddf-da2b816cda93",
        "id": "A1DEcik4IlSl"
      },
      "execution_count": 56,
      "outputs": [
        {
          "output_type": "display_data",
          "data": {
            "text/plain": [
              "<Figure size 1584x1008 with 2 Axes>"
            ],
            "image/png": "[encoded data removed]"
          },
          "metadata": {
            "needs_background": "light"
          }
        }
      ]
    },
    {
      "cell_type": "markdown",
      "source": [
        "## 금요일 \n",
        "- 목요일은 이유를 알 수 없는 에러로 인해 스킵"
      ],
      "metadata": {
        "id": "NWmFu44yJe8w"
      }
    },
    {
      "cell_type": "code",
      "source": [
        "testSet = testSetLoader(files[3])"
      ],
      "metadata": {
        "id": "_w9HUH10JBmG"
      },
      "execution_count": 57,
      "outputs": []
    },
    {
      "cell_type": "code",
      "source": [
        "testX = fpp.transform(testSet)"
      ],
      "metadata": {
        "id": "4FDGTVa0JBmG"
      },
      "execution_count": 58,
      "outputs": []
    },
    {
      "cell_type": "code",
      "source": [
        "loss = test_fn(model, testX)"
      ],
      "metadata": {
        "id": "n3o47y1lJBmG"
      },
      "execution_count": 59,
      "outputs": []
    },
    {
      "cell_type": "code",
      "source": [
        "result = result_fn(testSet, loss)"
      ],
      "metadata": {
        "id": "qInl_y7YJBmG"
      },
      "execution_count": 60,
      "outputs": []
    },
    {
      "cell_type": "code",
      "source": [
        "result[result['Num_Label']==1]"
      ],
      "metadata": {
        "colab": {
          "base_uri": "https://localhost:8080/",
          "height": 614
        },
        "outputId": "3851a26b-8594-431d-e555-0a9890ba1f0e",
        "id": "hjqQfJSLJBmG"
      },
      "execution_count": 61,
      "outputs": [
        {
          "output_type": "execute_result",
          "data": {
            "text/plain": [
              "            outer_ip        loss               Label  Num_Label\n",
              "1656      172.16.0.1  112.466858              [DDoS]          1\n",
              "1984      172.16.0.1  214.203125              [DDoS]          1\n",
              "2247      172.16.0.1  185.380966              [DDoS]          1\n",
              "2288   192.168.10.50    4.768892      [BENIGN, DDoS]          1\n",
              "2480      172.16.0.1  179.045944              [DDoS]          1\n",
              "2928      172.16.0.1    4.414249      [DDoS, BENIGN]          1\n",
              "5849      172.16.0.1    0.006057          [PortScan]          1\n",
              "9213      172.16.0.1    0.000056          [PortScan]          1\n",
              "9452      172.16.0.1    0.007280          [PortScan]          1\n",
              "9742      172.16.0.1    0.006034          [PortScan]          1\n",
              "10918     172.16.0.1    0.003275          [PortScan]          1\n",
              "11004     172.16.0.1    0.002944          [PortScan]          1\n",
              "14065     172.16.0.1    1.197550  [PortScan, BENIGN]          1\n",
              "14234     172.16.0.1    1.314360          [PortScan]          1\n",
              "15004     172.16.0.1    0.017000          [PortScan]          1\n",
              "15394     172.16.0.1    0.038150          [PortScan]          1\n",
              "15549     172.16.0.1    0.065198          [PortScan]          1\n",
              "16657     172.16.0.1    0.038157          [PortScan]          1"
            ],
            "text/html": [
              "<div>\n",
              "<style scoped>\n",
              "    .dataframe tbody tr th:only-of-type {\n",
              "        vertical-align: middle;\n",
              "    }\n",
              "\n",
              "    .dataframe tbody tr th {\n",
              "        vertical-align: top;\n",
              "    }\n",
              "\n",
              "    .dataframe thead th {\n",
              "        text-align: right;\n",
              "    }\n",
              "</style>\n",
              "<table border=\"1\" class=\"dataframe\">\n",
              "  <thead>\n",
              "    <tr style=\"text-align: right;\">\n",
              "      <th></th>\n",
              "      <th>outer_ip</th>\n",
              "      <th>loss</th>\n",
              "      <th>Label</th>\n",
              "      <th>Num_Label</th>\n",
              "    </tr>\n",
              "  </thead>\n",
              "  <tbody>\n",
              "    <tr>\n",
              "      <th>1656</th>\n",
              "      <td>172.16.0.1</td>\n",
              "      <td>112.466858</td>\n",
              "      <td>[DDoS]</td>\n",
              "      <td>1</td>\n",
              "    </tr>\n",
              "    <tr>\n",
              "      <th>1984</th>\n",
              "      <td>172.16.0.1</td>\n",
              "      <td>214.203125</td>\n",
              "      <td>[DDoS]</td>\n",
              "      <td>1</td>\n",
              "    </tr>\n",
              "    <tr>\n",
              "      <th>2247</th>\n",
              "      <td>172.16.0.1</td>\n",
              "      <td>185.380966</td>\n",
              "      <td>[DDoS]</td>\n",
              "      <td>1</td>\n",
              "    </tr>\n",
              "    <tr>\n",
              "      <th>2288</th>\n",
              "      <td>192.168.10.50</td>\n",
              "      <td>4.768892</td>\n",
              "      <td>[BENIGN, DDoS]</td>\n",
              "      <td>1</td>\n",
              "    </tr>\n",
              "    <tr>\n",
              "      <th>2480</th>\n",
              "      <td>172.16.0.1</td>\n",
              "      <td>179.045944</td>\n",
              "      <td>[DDoS]</td>\n",
              "      <td>1</td>\n",
              "    </tr>\n",
              "    <tr>\n",
              "      <th>2928</th>\n",
              "      <td>172.16.0.1</td>\n",
              "      <td>4.414249</td>\n",
              "      <td>[DDoS, BENIGN]</td>\n",
              "      <td>1</td>\n",
              "    </tr>\n",
              "    <tr>\n",
              "      <th>5849</th>\n",
              "      <td>172.16.0.1</td>\n",
              "      <td>0.006057</td>\n",
              "      <td>[PortScan]</td>\n",
              "      <td>1</td>\n",
              "    </tr>\n",
              "    <tr>\n",
              "      <th>9213</th>\n",
              "      <td>172.16.0.1</td>\n",
              "      <td>0.000056</td>\n",
              "      <td>[PortScan]</td>\n",
              "      <td>1</td>\n",
              "    </tr>\n",
              "    <tr>\n",
              "      <th>9452</th>\n",
              "      <td>172.16.0.1</td>\n",
              "      <td>0.007280</td>\n",
              "      <td>[PortScan]</td>\n",
              "      <td>1</td>\n",
              "    </tr>\n",
              "    <tr>\n",
              "      <th>9742</th>\n",
              "      <td>172.16.0.1</td>\n",
              "      <td>0.006034</td>\n",
              "      <td>[PortScan]</td>\n",
              "      <td>1</td>\n",
              "    </tr>\n",
              "    <tr>\n",
              "      <th>10918</th>\n",
              "      <td>172.16.0.1</td>\n",
              "      <td>0.003275</td>\n",
              "      <td>[PortScan]</td>\n",
              "      <td>1</td>\n",
              "    </tr>\n",
              "    <tr>\n",
              "      <th>11004</th>\n",
              "      <td>172.16.0.1</td>\n",
              "      <td>0.002944</td>\n",
              "      <td>[PortScan]</td>\n",
              "      <td>1</td>\n",
              "    </tr>\n",
              "    <tr>\n",
              "      <th>14065</th>\n",
              "      <td>172.16.0.1</td>\n",
              "      <td>1.197550</td>\n",
              "      <td>[PortScan, BENIGN]</td>\n",
              "      <td>1</td>\n",
              "    </tr>\n",
              "    <tr>\n",
              "      <th>14234</th>\n",
              "      <td>172.16.0.1</td>\n",
              "      <td>1.314360</td>\n",
              "      <td>[PortScan]</td>\n",
              "      <td>1</td>\n",
              "    </tr>\n",
              "    <tr>\n",
              "      <th>15004</th>\n",
              "      <td>172.16.0.1</td>\n",
              "      <td>0.017000</td>\n",
              "      <td>[PortScan]</td>\n",
              "      <td>1</td>\n",
              "    </tr>\n",
              "    <tr>\n",
              "      <th>15394</th>\n",
              "      <td>172.16.0.1</td>\n",
              "      <td>0.038150</td>\n",
              "      <td>[PortScan]</td>\n",
              "      <td>1</td>\n",
              "    </tr>\n",
              "    <tr>\n",
              "      <th>15549</th>\n",
              "      <td>172.16.0.1</td>\n",
              "      <td>0.065198</td>\n",
              "      <td>[PortScan]</td>\n",
              "      <td>1</td>\n",
              "    </tr>\n",
              "    <tr>\n",
              "      <th>16657</th>\n",
              "      <td>172.16.0.1</td>\n",
              "      <td>0.038157</td>\n",
              "      <td>[PortScan]</td>\n",
              "      <td>1</td>\n",
              "    </tr>\n",
              "  </tbody>\n",
              "</table>\n",
              "</div>"
            ]
          },
          "metadata": {},
          "execution_count": 61
        }
      ]
    },
    {
      "cell_type": "code",
      "source": [
        "concat_result = pd.concat([\n",
        "    concat_result, result\n",
        "])"
      ],
      "metadata": {
        "id": "ciNP4oKthi67"
      },
      "execution_count": 62,
      "outputs": []
    },
    {
      "cell_type": "code",
      "source": [
        "y_true = result['Num_Label'].values\n",
        "loss = result['loss'].values"
      ],
      "metadata": {
        "id": "IPhE7PIGJBmG"
      },
      "execution_count": 63,
      "outputs": []
    },
    {
      "cell_type": "code",
      "source": [
        "fri_fp, fri_tp, _ = roc_curve(y_true, loss)\n",
        "roc_auc_score(y_true, loss)"
      ],
      "metadata": {
        "colab": {
          "base_uri": "https://localhost:8080/"
        },
        "outputId": "850dac1d-7182-4226-f74d-6040df41da8d",
        "id": "LWPgbp7oJBmH"
      },
      "execution_count": 64,
      "outputs": [
        {
          "output_type": "execute_result",
          "data": {
            "text/plain": [
              "0.991100277220151"
            ]
          },
          "metadata": {},
          "execution_count": 64
        }
      ]
    },
    {
      "cell_type": "code",
      "source": [
        "theta = best_f1(y_true, loss)"
      ],
      "metadata": {
        "colab": {
          "base_uri": "https://localhost:8080/"
        },
        "outputId": "25162ecb-1adc-471e-c253-6ad89c089268",
        "id": "_QboepSlJBmH"
      },
      "execution_count": 65,
      "outputs": [
        {
          "output_type": "stream",
          "name": "stdout",
          "text": [
            "theta :  0.014599999999999967\n",
            "accuracy :  0.9992551423823984\n",
            "recall :  0.6666666666666666\n",
            "precision:  0.631578947368421\n",
            "f1-score :  0.6486486486486486\n"
          ]
        }
      ]
    },
    {
      "cell_type": "code",
      "source": [
        "_, axs = plt.subplots(2,1, figsize=(22,14))\n",
        "titles = ['benign', 'attack']\n",
        "\n",
        "for i in range(2):\n",
        "    axs[i].hist(result[result['Num_Label'] == i]['loss'], bins=200, range=(0,0.1))\n",
        "    axs[i].axvline(x=theta, color='r', linestyle='--')\n",
        "    axs[i].set_title(titles[i])\n"
      ],
      "metadata": {
        "colab": {
          "base_uri": "https://localhost:8080/",
          "height": 825
        },
        "outputId": "04d04315-1511-4f81-a16a-11f97163cddc",
        "id": "-55ovTJlJBmH"
      },
      "execution_count": 66,
      "outputs": [
        {
          "output_type": "display_data",
          "data": {
            "text/plain": [
              "<Figure size 1584x1008 with 2 Axes>"
            ],
            "image/png": "[encoded data removed]"
          },
          "metadata": {
            "needs_background": "light"
          }
        }
      ]
    },
    {
      "cell_type": "markdown",
      "source": [
        "## 금요일 BOT"
      ],
      "metadata": {
        "id": "Cxvtbbd9KMyz"
      }
    },
    {
      "cell_type": "code",
      "source": [
        "testSet = testSetLoader(files[4])"
      ],
      "metadata": {
        "id": "IIuxOv3IKQmJ"
      },
      "execution_count": 67,
      "outputs": []
    },
    {
      "cell_type": "code",
      "source": [
        "testX = fpp.transform(testSet)"
      ],
      "metadata": {
        "id": "q41OYsXmKQmJ"
      },
      "execution_count": 68,
      "outputs": []
    },
    {
      "cell_type": "code",
      "source": [
        "loss = test_fn(model, testX)"
      ],
      "metadata": {
        "id": "ycNG6t4jKQmJ"
      },
      "execution_count": 69,
      "outputs": []
    },
    {
      "cell_type": "code",
      "source": [
        "result = result_fn(testSet, loss)"
      ],
      "metadata": {
        "id": "Y54pmX2EKQmJ"
      },
      "execution_count": 70,
      "outputs": []
    },
    {
      "cell_type": "code",
      "source": [
        "result[result['Num_Label']==1]"
      ],
      "metadata": {
        "colab": {
          "base_uri": "https://localhost:8080/",
          "height": 1000
        },
        "outputId": "22a26a72-8929-4d43-9979-917a9a0d5475",
        "id": "Y0L1XkOjKQmJ"
      },
      "execution_count": 71,
      "outputs": [
        {
          "output_type": "execute_result",
          "data": {
            "text/plain": [
              "             outer_ip      loss  Label  Num_Label\n",
              "2471       52.6.13.28  0.000150  [Bot]          1\n",
              "2511       52.6.13.28  0.000017  [Bot]          1\n",
              "5408   205.174.165.73  0.000660  [Bot]          1\n",
              "5535   205.174.165.73  0.000714  [Bot]          1\n",
              "6068   205.174.165.73  0.000554  [Bot]          1\n",
              "6531   205.174.165.73  0.000387  [Bot]          1\n",
              "6963   205.174.165.73  0.001072  [Bot]          1\n",
              "7590   205.174.165.73  0.004827  [Bot]          1\n",
              "8265   205.174.165.73  0.003978  [Bot]          1\n",
              "8913   205.174.165.73  0.006935  [Bot]          1\n",
              "9302   205.174.165.73  0.010340  [Bot]          1\n",
              "9584   205.174.165.73  0.012395  [Bot]          1\n",
              "9781   205.174.165.73  0.004607  [Bot]          1\n",
              "10108  205.174.165.73  0.004469  [Bot]          1\n",
              "10348  205.174.165.73  0.005582  [Bot]          1\n",
              "10768  205.174.165.73  0.005069  [Bot]          1\n",
              "11195  205.174.165.73  0.005053  [Bot]          1\n",
              "11566  205.174.165.73  0.005048  [Bot]          1\n",
              "12077  205.174.165.73  0.005064  [Bot]          1\n",
              "12178    52.7.235.158  0.000132  [Bot]          1\n",
              "12772  205.174.165.73  0.005054  [Bot]          1\n",
              "13301  205.174.165.73  0.005041  [Bot]          1\n",
              "13803  205.174.165.73  0.005051  [Bot]          1\n",
              "14106  205.174.165.73  0.005038  [Bot]          1\n",
              "14518  205.174.165.73  0.005052  [Bot]          1\n",
              "15027  205.174.165.73  0.005053  [Bot]          1\n",
              "15300  205.174.165.73  0.005058  [Bot]          1\n",
              "15798  205.174.165.73  0.005047  [Bot]          1\n",
              "15980  205.174.165.73  0.005045  [Bot]          1\n",
              "16058  205.174.165.73  0.005038  [Bot]          1\n",
              "16473  205.174.165.73  0.005035  [Bot]          1\n",
              "16763  205.174.165.73  0.005042  [Bot]          1\n",
              "16857  205.174.165.73  0.005045  [Bot]          1\n",
              "16974  205.174.165.73  0.005044  [Bot]          1\n",
              "17039  205.174.165.73  0.005045  [Bot]          1\n",
              "17124  205.174.165.73  0.005040  [Bot]          1\n",
              "17181  205.174.165.73  0.005034  [Bot]          1\n",
              "17221  205.174.165.73  0.005040  [Bot]          1\n",
              "17350  205.174.165.73  0.005042  [Bot]          1"
            ],
            "text/html": [
              "<div>\n",
              "<style scoped>\n",
              "    .dataframe tbody tr th:only-of-type {\n",
              "        vertical-align: middle;\n",
              "    }\n",
              "\n",
              "    .dataframe tbody tr th {\n",
              "        vertical-align: top;\n",
              "    }\n",
              "\n",
              "    .dataframe thead th {\n",
              "        text-align: right;\n",
              "    }\n",
              "</style>\n",
              "<table border=\"1\" class=\"dataframe\">\n",
              "  <thead>\n",
              "    <tr style=\"text-align: right;\">\n",
              "      <th></th>\n",
              "      <th>outer_ip</th>\n",
              "      <th>loss</th>\n",
              "      <th>Label</th>\n",
              "      <th>Num_Label</th>\n",
              "    </tr>\n",
              "  </thead>\n",
              "  <tbody>\n",
              "    <tr>\n",
              "      <th>2471</th>\n",
              "      <td>52.6.13.28</td>\n",
              "      <td>0.000150</td>\n",
              "      <td>[Bot]</td>\n",
              "      <td>1</td>\n",
              "    </tr>\n",
              "    <tr>\n",
              "      <th>2511</th>\n",
              "      <td>52.6.13.28</td>\n",
              "      <td>0.000017</td>\n",
              "      <td>[Bot]</td>\n",
              "      <td>1</td>\n",
              "    </tr>\n",
              "    <tr>\n",
              "      <th>5408</th>\n",
              "      <td>205.174.165.73</td>\n",
              "      <td>0.000660</td>\n",
              "      <td>[Bot]</td>\n",
              "      <td>1</td>\n",
              "    </tr>\n",
              "    <tr>\n",
              "      <th>5535</th>\n",
              "      <td>205.174.165.73</td>\n",
              "      <td>0.000714</td>\n",
              "      <td>[Bot]</td>\n",
              "      <td>1</td>\n",
              "    </tr>\n",
              "    <tr>\n",
              "      <th>6068</th>\n",
              "      <td>205.174.165.73</td>\n",
              "      <td>0.000554</td>\n",
              "      <td>[Bot]</td>\n",
              "      <td>1</td>\n",
              "    </tr>\n",
              "    <tr>\n",
              "      <th>6531</th>\n",
              "      <td>205.174.165.73</td>\n",
              "      <td>0.000387</td>\n",
              "      <td>[Bot]</td>\n",
              "      <td>1</td>\n",
              "    </tr>\n",
              "    <tr>\n",
              "      <th>6963</th>\n",
              "      <td>205.174.165.73</td>\n",
              "      <td>0.001072</td>\n",
              "      <td>[Bot]</td>\n",
              "      <td>1</td>\n",
              "    </tr>\n",
              "    <tr>\n",
              "      <th>7590</th>\n",
              "      <td>205.174.165.73</td>\n",
              "      <td>0.004827</td>\n",
              "      <td>[Bot]</td>\n",
              "      <td>1</td>\n",
              "    </tr>\n",
              "    <tr>\n",
              "      <th>8265</th>\n",
              "      <td>205.174.165.73</td>\n",
              "      <td>0.003978</td>\n",
              "      <td>[Bot]</td>\n",
              "      <td>1</td>\n",
              "    </tr>\n",
              "    <tr>\n",
              "      <th>8913</th>\n",
              "      <td>205.174.165.73</td>\n",
              "      <td>0.006935</td>\n",
              "      <td>[Bot]</td>\n",
              "      <td>1</td>\n",
              "    </tr>\n",
              "    <tr>\n",
              "      <th>9302</th>\n",
              "      <td>205.174.165.73</td>\n",
              "      <td>0.010340</td>\n",
              "      <td>[Bot]</td>\n",
              "      <td>1</td>\n",
              "    </tr>\n",
              "    <tr>\n",
              "      <th>9584</th>\n",
              "      <td>205.174.165.73</td>\n",
              "      <td>0.012395</td>\n",
              "      <td>[Bot]</td>\n",
              "      <td>1</td>\n",
              "    </tr>\n",
              "    <tr>\n",
              "      <th>9781</th>\n",
              "      <td>205.174.165.73</td>\n",
              "      <td>0.004607</td>\n",
              "      <td>[Bot]</td>\n",
              "      <td>1</td>\n",
              "    </tr>\n",
              "    <tr>\n",
              "      <th>10108</th>\n",
              "      <td>205.174.165.73</td>\n",
              "      <td>0.004469</td>\n",
              "      <td>[Bot]</td>\n",
              "      <td>1</td>\n",
              "    </tr>\n",
              "    <tr>\n",
              "      <th>10348</th>\n",
              "      <td>205.174.165.73</td>\n",
              "      <td>0.005582</td>\n",
              "      <td>[Bot]</td>\n",
              "      <td>1</td>\n",
              "    </tr>\n",
              "    <tr>\n",
              "      <th>10768</th>\n",
              "      <td>205.174.165.73</td>\n",
              "      <td>0.005069</td>\n",
              "      <td>[Bot]</td>\n",
              "      <td>1</td>\n",
              "    </tr>\n",
              "    <tr>\n",
              "      <th>11195</th>\n",
              "      <td>205.174.165.73</td>\n",
              "      <td>0.005053</td>\n",
              "      <td>[Bot]</td>\n",
              "      <td>1</td>\n",
              "    </tr>\n",
              "    <tr>\n",
              "      <th>11566</th>\n",
              "      <td>205.174.165.73</td>\n",
              "      <td>0.005048</td>\n",
              "      <td>[Bot]</td>\n",
              "      <td>1</td>\n",
              "    </tr>\n",
              "    <tr>\n",
              "      <th>12077</th>\n",
              "      <td>205.174.165.73</td>\n",
              "      <td>0.005064</td>\n",
              "      <td>[Bot]</td>\n",
              "      <td>1</td>\n",
              "    </tr>\n",
              "    <tr>\n",
              "      <th>12178</th>\n",
              "      <td>52.7.235.158</td>\n",
              "      <td>0.000132</td>\n",
              "      <td>[Bot]</td>\n",
              "      <td>1</td>\n",
              "    </tr>\n",
              "    <tr>\n",
              "      <th>12772</th>\n",
              "      <td>205.174.165.73</td>\n",
              "      <td>0.005054</td>\n",
              "      <td>[Bot]</td>\n",
              "      <td>1</td>\n",
              "    </tr>\n",
              "    <tr>\n",
              "      <th>13301</th>\n",
              "      <td>205.174.165.73</td>\n",
              "      <td>0.005041</td>\n",
              "      <td>[Bot]</td>\n",
              "      <td>1</td>\n",
              "    </tr>\n",
              "    <tr>\n",
              "      <th>13803</th>\n",
              "      <td>205.174.165.73</td>\n",
              "      <td>0.005051</td>\n",
              "      <td>[Bot]</td>\n",
              "      <td>1</td>\n",
              "    </tr>\n",
              "    <tr>\n",
              "      <th>14106</th>\n",
              "      <td>205.174.165.73</td>\n",
              "      <td>0.005038</td>\n",
              "      <td>[Bot]</td>\n",
              "      <td>1</td>\n",
              "    </tr>\n",
              "    <tr>\n",
              "      <th>14518</th>\n",
              "      <td>205.174.165.73</td>\n",
              "      <td>0.005052</td>\n",
              "      <td>[Bot]</td>\n",
              "      <td>1</td>\n",
              "    </tr>\n",
              "    <tr>\n",
              "      <th>15027</th>\n",
              "      <td>205.174.165.73</td>\n",
              "      <td>0.005053</td>\n",
              "      <td>[Bot]</td>\n",
              "      <td>1</td>\n",
              "    </tr>\n",
              "    <tr>\n",
              "      <th>15300</th>\n",
              "      <td>205.174.165.73</td>\n",
              "      <td>0.005058</td>\n",
              "      <td>[Bot]</td>\n",
              "      <td>1</td>\n",
              "    </tr>\n",
              "    <tr>\n",
              "      <th>15798</th>\n",
              "      <td>205.174.165.73</td>\n",
              "      <td>0.005047</td>\n",
              "      <td>[Bot]</td>\n",
              "      <td>1</td>\n",
              "    </tr>\n",
              "    <tr>\n",
              "      <th>15980</th>\n",
              "      <td>205.174.165.73</td>\n",
              "      <td>0.005045</td>\n",
              "      <td>[Bot]</td>\n",
              "      <td>1</td>\n",
              "    </tr>\n",
              "    <tr>\n",
              "      <th>16058</th>\n",
              "      <td>205.174.165.73</td>\n",
              "      <td>0.005038</td>\n",
              "      <td>[Bot]</td>\n",
              "      <td>1</td>\n",
              "    </tr>\n",
              "    <tr>\n",
              "      <th>16473</th>\n",
              "      <td>205.174.165.73</td>\n",
              "      <td>0.005035</td>\n",
              "      <td>[Bot]</td>\n",
              "      <td>1</td>\n",
              "    </tr>\n",
              "    <tr>\n",
              "      <th>16763</th>\n",
              "      <td>205.174.165.73</td>\n",
              "      <td>0.005042</td>\n",
              "      <td>[Bot]</td>\n",
              "      <td>1</td>\n",
              "    </tr>\n",
              "    <tr>\n",
              "      <th>16857</th>\n",
              "      <td>205.174.165.73</td>\n",
              "      <td>0.005045</td>\n",
              "      <td>[Bot]</td>\n",
              "      <td>1</td>\n",
              "    </tr>\n",
              "    <tr>\n",
              "      <th>16974</th>\n",
              "      <td>205.174.165.73</td>\n",
              "      <td>0.005044</td>\n",
              "      <td>[Bot]</td>\n",
              "      <td>1</td>\n",
              "    </tr>\n",
              "    <tr>\n",
              "      <th>17039</th>\n",
              "      <td>205.174.165.73</td>\n",
              "      <td>0.005045</td>\n",
              "      <td>[Bot]</td>\n",
              "      <td>1</td>\n",
              "    </tr>\n",
              "    <tr>\n",
              "      <th>17124</th>\n",
              "      <td>205.174.165.73</td>\n",
              "      <td>0.005040</td>\n",
              "      <td>[Bot]</td>\n",
              "      <td>1</td>\n",
              "    </tr>\n",
              "    <tr>\n",
              "      <th>17181</th>\n",
              "      <td>205.174.165.73</td>\n",
              "      <td>0.005034</td>\n",
              "      <td>[Bot]</td>\n",
              "      <td>1</td>\n",
              "    </tr>\n",
              "    <tr>\n",
              "      <th>17221</th>\n",
              "      <td>205.174.165.73</td>\n",
              "      <td>0.005040</td>\n",
              "      <td>[Bot]</td>\n",
              "      <td>1</td>\n",
              "    </tr>\n",
              "    <tr>\n",
              "      <th>17350</th>\n",
              "      <td>205.174.165.73</td>\n",
              "      <td>0.005042</td>\n",
              "      <td>[Bot]</td>\n",
              "      <td>1</td>\n",
              "    </tr>\n",
              "  </tbody>\n",
              "</table>\n",
              "</div>"
            ]
          },
          "metadata": {},
          "execution_count": 71
        }
      ]
    },
    {
      "cell_type": "code",
      "source": [
        "concat_result = pd.concat([\n",
        "    concat_result, result\n",
        "])"
      ],
      "metadata": {
        "id": "mKpYNjtshlkB"
      },
      "execution_count": 72,
      "outputs": []
    },
    {
      "cell_type": "code",
      "source": [
        "y_true = result['Num_Label'].values\n",
        "loss = result['loss'].values"
      ],
      "metadata": {
        "id": "InqStT-sKQmJ"
      },
      "execution_count": 73,
      "outputs": []
    },
    {
      "cell_type": "code",
      "source": [
        "bot_fp, bot_tp, _ = roc_curve(y_true, loss)\n",
        "roc_auc_score(y_true, loss)"
      ],
      "metadata": {
        "colab": {
          "base_uri": "https://localhost:8080/"
        },
        "outputId": "6939b70e-5fde-44a2-f3f2-4498ebea7b4f",
        "id": "in1gB3wxKQmK"
      },
      "execution_count": 74,
      "outputs": [
        {
          "output_type": "execute_result",
          "data": {
            "text/plain": [
              "0.9808475849181568"
            ]
          },
          "metadata": {},
          "execution_count": 74
        }
      ]
    },
    {
      "cell_type": "code",
      "source": [
        "theta = best_f1(y_true, loss)"
      ],
      "metadata": {
        "colab": {
          "base_uri": "https://localhost:8080/"
        },
        "outputId": "03762305-1861-4714-c229-87db6cf9cbb3",
        "id": "sbccFhwMKQmK"
      },
      "execution_count": 75,
      "outputs": [
        {
          "output_type": "stream",
          "name": "stdout",
          "text": [
            "theta :  0.0043999999999999985\n",
            "accuracy :  0.9971236265316689\n",
            "recall :  0.7692307692307693\n",
            "precision:  0.4225352112676056\n",
            "f1-score :  0.5454545454545455\n"
          ]
        }
      ]
    },
    {
      "cell_type": "code",
      "source": [
        "_, axs = plt.subplots(2,1, figsize=(22,14))\n",
        "titles = ['benign', 'attack']\n",
        "\n",
        "for i in range(2):\n",
        "    axs[i].hist(result[result['Num_Label'] == i]['loss'], bins=200, range=(0,0.1))\n",
        "    axs[i].axvline(x=theta, color='r', linestyle='--')\n",
        "    axs[i].set_title(titles[i])\n"
      ],
      "metadata": {
        "colab": {
          "base_uri": "https://localhost:8080/",
          "height": 825
        },
        "outputId": "a2ffd241-38a3-40b9-96b1-67dce35de273",
        "id": "gO-MEiUrKQmK"
      },
      "execution_count": 76,
      "outputs": [
        {
          "output_type": "display_data",
          "data": {
            "text/plain": [
              "<Figure size 1584x1008 with 2 Axes>"
            ],
            "image/png": "[encoded data removed]"
          },
          "metadata": {
            "needs_background": "light"
          }
        }
      ]
    },
    {
      "cell_type": "markdown",
      "source": [
        "## ROC 곡선 그리기"
      ],
      "metadata": {
        "id": "piVV2qQDQPyL"
      }
    },
    {
      "cell_type": "code",
      "source": [
        "plt.figure(figsize=(22,14))\n",
        "\n",
        "plt.plot(tues_fp, tues_tp, color='red', label='tuesday')\n",
        "plt.plot(wednes_fp, wednes_tp, color='blue', label='wednesday')\n",
        "plt.plot(fri_fp, fri_tp, color='green', label='friday')\n",
        "plt.plot(bot_fp, bot_tp, color='pink', label='Bot-attack')\n",
        "plt.plot([0, 1], [0, 1], color='black', linestyle='--')\n",
        "plt.xlabel('False Positive Rate')\n",
        "plt.ylabel('True Positive Rate')\n",
        "plt.title('IPOD')\n",
        "plt.legend()\n",
        "plt.show()"
      ],
      "metadata": {
        "colab": {
          "base_uri": "https://localhost:8080/",
          "height": 839
        },
        "id": "ZjA1ktZhKMSs",
        "outputId": "efc03520-f0f2-4262-826a-f6218d03f6ac"
      },
      "execution_count": 77,
      "outputs": [
        {
          "output_type": "display_data",
          "data": {
            "text/plain": [
              "<Figure size 1584x1008 with 1 Axes>"
            ],
            "image/png": "[encoded data removed]"
          },
          "metadata": {
            "needs_background": "light"
          }
        }
      ]
    },
    {
      "cell_type": "code",
      "source": [
        "concat_result[concat_result['Num_Label']==1].describe()"
      ],
      "metadata": {
        "id": "Z7o-hnC-QoxV",
        "colab": {
          "base_uri": "https://localhost:8080/",
          "height": 300
        },
        "outputId": "c35cec0f-332e-4d97-ca9b-180b55176aea"
      },
      "execution_count": 78,
      "outputs": [
        {
          "output_type": "execute_result",
          "data": {
            "text/plain": [
              "              loss\n",
              "count   113.000000\n",
              "mean     56.977390\n",
              "std     288.980849\n",
              "min       0.000017\n",
              "25%       0.001810\n",
              "50%       0.005045\n",
              "75%       0.083242\n",
              "max    1934.080811"
            ],
            "text/html": [
              "<div>\n",
              "<style scoped>\n",
              "    .dataframe tbody tr th:only-of-type {\n",
              "        vertical-align: middle;\n",
              "    }\n",
              "\n",
              "    .dataframe tbody tr th {\n",
              "        vertical-align: top;\n",
              "    }\n",
              "\n",
              "    .dataframe thead th {\n",
              "        text-align: right;\n",
              "    }\n",
              "</style>\n",
              "<table border=\"1\" class=\"dataframe\">\n",
              "  <thead>\n",
              "    <tr style=\"text-align: right;\">\n",
              "      <th></th>\n",
              "      <th>loss</th>\n",
              "    </tr>\n",
              "  </thead>\n",
              "  <tbody>\n",
              "    <tr>\n",
              "      <th>count</th>\n",
              "      <td>113.000000</td>\n",
              "    </tr>\n",
              "    <tr>\n",
              "      <th>mean</th>\n",
              "      <td>56.977390</td>\n",
              "    </tr>\n",
              "    <tr>\n",
              "      <th>std</th>\n",
              "      <td>288.980849</td>\n",
              "    </tr>\n",
              "    <tr>\n",
              "      <th>min</th>\n",
              "      <td>0.000017</td>\n",
              "    </tr>\n",
              "    <tr>\n",
              "      <th>25%</th>\n",
              "      <td>0.001810</td>\n",
              "    </tr>\n",
              "    <tr>\n",
              "      <th>50%</th>\n",
              "      <td>0.005045</td>\n",
              "    </tr>\n",
              "    <tr>\n",
              "      <th>75%</th>\n",
              "      <td>0.083242</td>\n",
              "    </tr>\n",
              "    <tr>\n",
              "      <th>max</th>\n",
              "      <td>1934.080811</td>\n",
              "    </tr>\n",
              "  </tbody>\n",
              "</table>\n",
              "</div>"
            ]
          },
          "metadata": {},
          "execution_count": 78
        }
      ]
    },
    {
      "cell_type": "code",
      "source": [
        "y_true = concat_result['Num_Label'].values\n",
        "y_true = y_true.astype(np.int64)\n",
        "loss = concat_result['loss'].values"
      ],
      "metadata": {
        "id": "0cHJPfDEhuQj"
      },
      "execution_count": 79,
      "outputs": []
    },
    {
      "cell_type": "code",
      "source": [
        "roc_auc_score(y_true, loss)"
      ],
      "metadata": {
        "colab": {
          "base_uri": "https://localhost:8080/"
        },
        "outputId": "67ae86d3-3668-459a-dc8c-00f7aec3989b",
        "id": "FjiCEoP4huQk"
      },
      "execution_count": 81,
      "outputs": [
        {
          "output_type": "execute_result",
          "data": {
            "text/plain": [
              "0.9875484209050888"
            ]
          },
          "metadata": {},
          "execution_count": 81
        }
      ]
    },
    {
      "cell_type": "code",
      "source": [
        "theta = best_f1(y_true, loss)"
      ],
      "metadata": {
        "colab": {
          "base_uri": "https://localhost:8080/"
        },
        "outputId": "82646873-719a-48e8-a10b-785651f713bc",
        "id": "2IjkXZbjhuQk"
      },
      "execution_count": 82,
      "outputs": [
        {
          "output_type": "stream",
          "name": "stdout",
          "text": [
            "theta :  0.03419999999999995\n",
            "accuracy :  0.9990919960802999\n",
            "recall :  0.30973451327433627\n",
            "precision:  0.603448275862069\n",
            "f1-score :  0.40935672514619875\n"
          ]
        }
      ]
    },
    {
      "cell_type": "code",
      "source": [
        "_, axs = plt.subplots(2,1, figsize=(22,14))\n",
        "titles = ['benign', 'attack']\n",
        "\n",
        "for i in range(2):\n",
        "    axs[i].hist(concat_result[concat_result['Num_Label'] == i]['loss'], bins=200, range=(0,0.1))\n",
        "    axs[i].axvline(x=theta, color='r', linestyle='--')\n",
        "    axs[i].set_title(titles[i])\n"
      ],
      "metadata": {
        "colab": {
          "base_uri": "https://localhost:8080/",
          "height": 825
        },
        "id": "3oXwrTCHq3NL",
        "outputId": "c75dd2c5-c613-4e2f-a1eb-1f33e4011c57"
      },
      "execution_count": 83,
      "outputs": [
        {
          "output_type": "display_data",
          "data": {
            "text/plain": [
              "<Figure size 1584x1008 with 2 Axes>"
            ],
            "image/png": "[encoded data removed]"
          },
          "metadata": {
            "needs_background": "light"
          }
        }
      ]
    }
  ]
}