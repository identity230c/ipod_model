{
  "nbformat": 4,
  "nbformat_minor": 0,
  "metadata": {
    "colab": {
      "provenance": []
    },
    "kernelspec": {
      "name": "python3",
      "display_name": "Python 3"
    },
    "language_info": {
      "name": "python"
    },
    "widgets": {
      "application/vnd.jupyter.widget-state+json": {
        "e982df4707a045dbbf159e6278d22c84": {
          "model_module": "@jupyter-widgets/controls",
          "model_name": "HBoxModel",
          "model_module_version": "1.5.0",
          "state": {
            "_dom_classes": [],
            "_model_module": "@jupyter-widgets/controls",
            "_model_module_version": "1.5.0",
            "_model_name": "HBoxModel",
            "_view_count": null,
            "_view_module": "@jupyter-widgets/controls",
            "_view_module_version": "1.5.0",
            "_view_name": "HBoxView",
            "box_style": "",
            "children": [
              "IPY_MODEL_b7f5424a3edc4c559434ed20b8c6691b",
              "IPY_MODEL_4caa3b0894b84f728892dc244b2017a9",
              "IPY_MODEL_fba2a34c6c584456a0db1bf6d2628d7c"
            ],
            "layout": "IPY_MODEL_273538ae6563418bac4e0c6beb5f1e20"
          }
        },
        "b7f5424a3edc4c559434ed20b8c6691b": {
          "model_module": "@jupyter-widgets/controls",
          "model_name": "HTMLModel",
          "model_module_version": "1.5.0",
          "state": {
            "_dom_classes": [],
            "_model_module": "@jupyter-widgets/controls",
            "_model_module_version": "1.5.0",
            "_model_name": "HTMLModel",
            "_view_count": null,
            "_view_module": "@jupyter-widgets/controls",
            "_view_module_version": "1.5.0",
            "_view_name": "HTMLView",
            "description": "",
            "description_tooltip": null,
            "layout": "IPY_MODEL_d45e7dc6f16d4e02b058b5344f68b13c",
            "placeholder": "​",
            "style": "IPY_MODEL_aa6fdf7e17664cc586d0b9422ea3c9e3",
            "value": "100%"
          }
        },
        "4caa3b0894b84f728892dc244b2017a9": {
          "model_module": "@jupyter-widgets/controls",
          "model_name": "FloatProgressModel",
          "model_module_version": "1.5.0",
          "state": {
            "_dom_classes": [],
            "_model_module": "@jupyter-widgets/controls",
            "_model_module_version": "1.5.0",
            "_model_name": "FloatProgressModel",
            "_view_count": null,
            "_view_module": "@jupyter-widgets/controls",
            "_view_module_version": "1.5.0",
            "_view_name": "ProgressView",
            "bar_style": "success",
            "description": "",
            "description_tooltip": null,
            "layout": "IPY_MODEL_321791e4e54948329de2e94b9de70b91",
            "max": 300,
            "min": 0,
            "orientation": "horizontal",
            "style": "IPY_MODEL_0aedc86ad1e74a4c9d7442335365d9a3",
            "value": 300
          }
        },
        "fba2a34c6c584456a0db1bf6d2628d7c": {
          "model_module": "@jupyter-widgets/controls",
          "model_name": "HTMLModel",
          "model_module_version": "1.5.0",
          "state": {
            "_dom_classes": [],
            "_model_module": "@jupyter-widgets/controls",
            "_model_module_version": "1.5.0",
            "_model_name": "HTMLModel",
            "_view_count": null,
            "_view_module": "@jupyter-widgets/controls",
            "_view_module_version": "1.5.0",
            "_view_name": "HTMLView",
            "description": "",
            "description_tooltip": null,
            "layout": "IPY_MODEL_e68de993ae4945bda67eaca79109fdca",
            "placeholder": "​",
            "style": "IPY_MODEL_37ea8695b5ea4dd0896035fd5355e1a5",
            "value": " 300/300 [08:34&lt;00:00,  1.71s/it, ae_loss=1.4811665146620048e-07]"
          }
        },
        "273538ae6563418bac4e0c6beb5f1e20": {
          "model_module": "@jupyter-widgets/base",
          "model_name": "LayoutModel",
          "model_module_version": "1.2.0",
          "state": {
            "_model_module": "@jupyter-widgets/base",
            "_model_module_version": "1.2.0",
            "_model_name": "LayoutModel",
            "_view_count": null,
            "_view_module": "@jupyter-widgets/base",
            "_view_module_version": "1.2.0",
            "_view_name": "LayoutView",
            "align_content": null,
            "align_items": null,
            "align_self": null,
            "border": null,
            "bottom": null,
            "display": null,
            "flex": null,
            "flex_flow": null,
            "grid_area": null,
            "grid_auto_columns": null,
            "grid_auto_flow": null,
            "grid_auto_rows": null,
            "grid_column": null,
            "grid_gap": null,
            "grid_row": null,
            "grid_template_areas": null,
            "grid_template_columns": null,
            "grid_template_rows": null,
            "height": null,
            "justify_content": null,
            "justify_items": null,
            "left": null,
            "margin": null,
            "max_height": null,
            "max_width": null,
            "min_height": null,
            "min_width": null,
            "object_fit": null,
            "object_position": null,
            "order": null,
            "overflow": null,
            "overflow_x": null,
            "overflow_y": null,
            "padding": null,
            "right": null,
            "top": null,
            "visibility": null,
            "width": null
          }
        },
        "d45e7dc6f16d4e02b058b5344f68b13c": {
          "model_module": "@jupyter-widgets/base",
          "model_name": "LayoutModel",
          "model_module_version": "1.2.0",
          "state": {
            "_model_module": "@jupyter-widgets/base",
            "_model_module_version": "1.2.0",
            "_model_name": "LayoutModel",
            "_view_count": null,
            "_view_module": "@jupyter-widgets/base",
            "_view_module_version": "1.2.0",
            "_view_name": "LayoutView",
            "align_content": null,
            "align_items": null,
            "align_self": null,
            "border": null,
            "bottom": null,
            "display": null,
            "flex": null,
            "flex_flow": null,
            "grid_area": null,
            "grid_auto_columns": null,
            "grid_auto_flow": null,
            "grid_auto_rows": null,
            "grid_column": null,
            "grid_gap": null,
            "grid_row": null,
            "grid_template_areas": null,
            "grid_template_columns": null,
            "grid_template_rows": null,
            "height": null,
            "justify_content": null,
            "justify_items": null,
            "left": null,
            "margin": null,
            "max_height": null,
            "max_width": null,
            "min_height": null,
            "min_width": null,
            "object_fit": null,
            "object_position": null,
            "order": null,
            "overflow": null,
            "overflow_x": null,
            "overflow_y": null,
            "padding": null,
            "right": null,
            "top": null,
            "visibility": null,
            "width": null
          }
        },
        "aa6fdf7e17664cc586d0b9422ea3c9e3": {
          "model_module": "@jupyter-widgets/controls",
          "model_name": "DescriptionStyleModel",
          "model_module_version": "1.5.0",
          "state": {
            "_model_module": "@jupyter-widgets/controls",
            "_model_module_version": "1.5.0",
            "_model_name": "DescriptionStyleModel",
            "_view_count": null,
            "_view_module": "@jupyter-widgets/base",
            "_view_module_version": "1.2.0",
            "_view_name": "StyleView",
            "description_width": ""
          }
        },
        "321791e4e54948329de2e94b9de70b91": {
          "model_module": "@jupyter-widgets/base",
          "model_name": "LayoutModel",
          "model_module_version": "1.2.0",
          "state": {
            "_model_module": "@jupyter-widgets/base",
            "_model_module_version": "1.2.0",
            "_model_name": "LayoutModel",
            "_view_count": null,
            "_view_module": "@jupyter-widgets/base",
            "_view_module_version": "1.2.0",
            "_view_name": "LayoutView",
            "align_content": null,
            "align_items": null,
            "align_self": null,
            "border": null,
            "bottom": null,
            "display": null,
            "flex": null,
            "flex_flow": null,
            "grid_area": null,
            "grid_auto_columns": null,
            "grid_auto_flow": null,
            "grid_auto_rows": null,
            "grid_column": null,
            "grid_gap": null,
            "grid_row": null,
            "grid_template_areas": null,
            "grid_template_columns": null,
            "grid_template_rows": null,
            "height": null,
            "justify_content": null,
            "justify_items": null,
            "left": null,
            "margin": null,
            "max_height": null,
            "max_width": null,
            "min_height": null,
            "min_width": null,
            "object_fit": null,
            "object_position": null,
            "order": null,
            "overflow": null,
            "overflow_x": null,
            "overflow_y": null,
            "padding": null,
            "right": null,
            "top": null,
            "visibility": null,
            "width": null
          }
        },
        "0aedc86ad1e74a4c9d7442335365d9a3": {
          "model_module": "@jupyter-widgets/controls",
          "model_name": "ProgressStyleModel",
          "model_module_version": "1.5.0",
          "state": {
            "_model_module": "@jupyter-widgets/controls",
            "_model_module_version": "1.5.0",
            "_model_name": "ProgressStyleModel",
            "_view_count": null,
            "_view_module": "@jupyter-widgets/base",
            "_view_module_version": "1.2.0",
            "_view_name": "StyleView",
            "bar_color": null,
            "description_width": ""
          }
        },
        "e68de993ae4945bda67eaca79109fdca": {
          "model_module": "@jupyter-widgets/base",
          "model_name": "LayoutModel",
          "model_module_version": "1.2.0",
          "state": {
            "_model_module": "@jupyter-widgets/base",
            "_model_module_version": "1.2.0",
            "_model_name": "LayoutModel",
            "_view_count": null,
            "_view_module": "@jupyter-widgets/base",
            "_view_module_version": "1.2.0",
            "_view_name": "LayoutView",
            "align_content": null,
            "align_items": null,
            "align_self": null,
            "border": null,
            "bottom": null,
            "display": null,
            "flex": null,
            "flex_flow": null,
            "grid_area": null,
            "grid_auto_columns": null,
            "grid_auto_flow": null,
            "grid_auto_rows": null,
            "grid_column": null,
            "grid_gap": null,
            "grid_row": null,
            "grid_template_areas": null,
            "grid_template_columns": null,
            "grid_template_rows": null,
            "height": null,
            "justify_content": null,
            "justify_items": null,
            "left": null,
            "margin": null,
            "max_height": null,
            "max_width": null,
            "min_height": null,
            "min_width": null,
            "object_fit": null,
            "object_position": null,
            "order": null,
            "overflow": null,
            "overflow_x": null,
            "overflow_y": null,
            "padding": null,
            "right": null,
            "top": null,
            "visibility": null,
            "width": null
          }
        },
        "37ea8695b5ea4dd0896035fd5355e1a5": {
          "model_module": "@jupyter-widgets/controls",
          "model_name": "DescriptionStyleModel",
          "model_module_version": "1.5.0",
          "state": {
            "_model_module": "@jupyter-widgets/controls",
            "_model_module_version": "1.5.0",
            "_model_name": "DescriptionStyleModel",
            "_view_count": null,
            "_view_module": "@jupyter-widgets/base",
            "_view_module_version": "1.2.0",
            "_view_name": "StyleView",
            "description_width": ""
          }
        }
      }
    }
  },
  "cells": [
    {
      "cell_type": "code",
      "execution_count": null,
      "metadata": {
        "id": "iSgw8nzszs6r"
      },
      "outputs": [],
      "source": [
        "import matplotlib.pyplot as plt \n",
        "import numpy as np \n",
        "import os \n",
        "import pandas as pd\n",
        "import seaborn as sns"
      ]
    },
    {
      "cell_type": "code",
      "source": [
        "files = []\n",
        "for dirname, _, filenames in os.walk('./data/raw'):\n",
        "    for filename in filenames:\n",
        "        files.append(os.path.join(dirname, filename))\n",
        "        print(os.path.join(dirname, filename))"
      ],
      "metadata": {
        "colab": {
          "base_uri": "https://localhost:8080/"
        },
        "id": "0A6T1MtMzwD1",
        "outputId": "0ab07565-aea1-4408-9570-2d947d935718"
      },
      "execution_count": null,
      "outputs": [
        {
          "output_type": "stream",
          "name": "stdout",
          "text": [
            "./data/raw\\Friday-WorkingHours-Afternoon-DDos.pcap_ISCX.csv\n",
            "./data/raw\\Friday-WorkingHours-Afternoon-PortScan.pcap_ISCX.csv\n",
            "./data/raw\\Friday-WorkingHours-Morning.pcap_ISCX.csv\n",
            "./data/raw\\Monday-WorkingHours.pcap_ISCX.csv\n",
            "./data/raw\\Thursday-WorkingHours-Afternoon-Infilteration.pcap_ISCX.csv\n",
            "./data/raw\\Thursday-WorkingHours-Morning-WebAttacks.pcap_ISCX.csv\n",
            "./data/raw\\Tuesday-WorkingHours.pcap_ISCX.csv\n",
            "./data/raw\\Wednesday-workingHours.pcap_ISCX.csv\n"
          ]
        }
      ]
    },
    {
      "cell_type": "code",
      "source": [
        "files = [\n",
        "    [\n",
        "        # Train - 월요일\n",
        "        './data/raw\\Monday-WorkingHours.pcap_ISCX.csv'\n",
        "    ],\n",
        "    [\n",
        "        # Test - 화요일\n",
        "        './data/raw\\Tuesday-WorkingHours.pcap_ISCX.csv'\n",
        "    ],\n",
        "    [\n",
        "        # Test - 수요일\n",
        "        './data/raw\\Wednesday-workingHours.pcap_ISCX.csv'\n",
        "    ], \n",
        "    # 목요일은 에러로 인해 작동 X\n",
        "    [\n",
        "        # Test - 금요일\n",
        "        './data/raw\\Friday-WorkingHours-Afternoon-DDos.pcap_ISCX.csv',\n",
        "        './data/raw\\Friday-WorkingHours-Afternoon-PortScan.pcap_ISCX.csv',\n",
        "    ],\n",
        "    [\n",
        "        # Test - 금요일_Bot\n",
        "        './data/raw\\Friday-WorkingHours-Morning.pcap_ISCX.csv',\n",
        "    ],\n",
        "]"
      ],
      "metadata": {
        "id": "NPhAoRd1ySRN"
      },
      "execution_count": null,
      "outputs": []
    },
    {
      "cell_type": "markdown",
      "source": [
        "# Train Data"
      ],
      "metadata": {
        "id": "6GPySwkk0eki"
      }
    },
    {
      "cell_type": "code",
      "source": [
        "from Utils import FlowReader"
      ],
      "metadata": {
        "id": "8PyFRVhs3Nyr"
      },
      "execution_count": null,
      "outputs": []
    },
    {
      "cell_type": "code",
      "source": [
        "trainSet = FlowReader.read_csv(files[0])"
      ],
      "metadata": {
        "id": "q-mbUXCr0Lri"
      },
      "execution_count": null,
      "outputs": []
    },
    {
      "cell_type": "markdown",
      "source": [
        "## 프로파일링"
      ],
      "metadata": {
        "id": "Em7hFAtP0c5Q"
      }
    },
    {
      "cell_type": "code",
      "source": [
        "from Utils import FlowProfiler"
      ],
      "metadata": {
        "id": "xAS6FIuS0DYl"
      },
      "execution_count": null,
      "outputs": []
    },
    {
      "cell_type": "code",
      "source": [
        "FlowProfiler.UNIT_TIME=5"
      ],
      "metadata": {
        "id": "GdqRllnfaNLW"
      },
      "execution_count": null,
      "outputs": []
    },
    {
      "cell_type": "code",
      "source": [
        "trainSet = FlowProfiler.preprocessing(trainSet, mode=\"default\")"
      ],
      "metadata": {
        "id": "GRmkTpsQ6a1n"
      },
      "execution_count": null,
      "outputs": []
    },
    {
      "cell_type": "code",
      "source": [
        "trainSet"
      ],
      "metadata": {
        "colab": {
          "base_uri": "https://localhost:8080/",
          "height": 444
        },
        "id": "_JtAoxi-89w6",
        "outputId": "1f5c3ecc-d719-4bf0-b869-a2bfe7c1d0a5"
      },
      "execution_count": null,
      "outputs": [
        {
          "output_type": "execute_result",
          "data": {
            "text/plain": [
              "               Key_IP  Key_inner_port  Key_outer_port  Inner_port_freq  \\\n",
              "0       8.254.250.126           49188              80         1.000000   \n",
              "1       8.253.185.121           49486              80         1.000000   \n",
              "2        192.168.10.9              88            1029         0.359551   \n",
              "3        192.168.10.3             137             389         0.150000   \n",
              "4        69.31.33.224            1057              80         1.000000   \n",
              "...               ...             ...             ...              ...   \n",
              "47692   184.25.56.202            7173              80         1.000000   \n",
              "47693  184.50.238.170           56432              80         1.000000   \n",
              "47694    52.52.86.145           44944             443         1.000000   \n",
              "47695   54.236.177.89           55806             443         1.000000   \n",
              "47696   91.189.89.198             123             123         1.000000   \n",
              "\n",
              "       Outer_port_freq  Pst_per_flows  Card_inner_ip  Card_inner_port  \\\n",
              "0             1.000000       0.250000              1                1   \n",
              "1             1.000000       0.250000              1                1   \n",
              "2             0.033708       0.595506              1               12   \n",
              "3             0.450000       0.400000              4               14   \n",
              "4             1.000000       1.000000              1                1   \n",
              "...                ...            ...            ...              ...   \n",
              "47692         1.000000       1.000000              1                1   \n",
              "47693         1.000000       1.000000              1                1   \n",
              "47694         1.000000       1.000000              1                1   \n",
              "47695         1.000000       1.000000              1                1   \n",
              "47696         1.000000       1.000000              1                1   \n",
              "\n",
              "       Card_outer_port  Sum_inner_pkts  ...  Sum_outer_pkts  Avg_outer_pkts  \\\n",
              "0                    1               0  ...               8        2.000000   \n",
              "1                    1               0  ...               8        2.000000   \n",
              "2                   67             534  ...             634        7.123596   \n",
              "3                    7              24  ...              54        2.700000   \n",
              "4                    1               5  ...               4        2.000000   \n",
              "...                ...             ...  ...             ...             ...   \n",
              "47692                1               1  ...               1        1.000000   \n",
              "47693                1               1  ...               1        1.000000   \n",
              "47694                1              14  ...              13       13.000000   \n",
              "47695                1              15  ...              13       13.000000   \n",
              "47696                1               1  ...               1        1.000000   \n",
              "\n",
              "       Std_outer_pkts  Sum_outer_bytes  Avg_outer_bytes  Std_outer_bytes  \\\n",
              "0            0.000000             48.0        12.000000         0.000000   \n",
              "1            0.000000             48.0        12.000000         0.000000   \n",
              "2            9.254999         126316.0      1419.280899      2412.947843   \n",
              "3            1.625455            880.0        44.000000        89.865396   \n",
              "4            2.828427            191.0        95.500000       135.057395   \n",
              "...               ...              ...              ...              ...   \n",
              "47692        0.000000              6.0         6.000000         0.000000   \n",
              "47693        0.000000              6.0         6.000000         0.000000   \n",
              "47694        0.000000           4752.0      4752.000000         0.000000   \n",
              "47695        0.000000           5955.0      5955.000000         0.000000   \n",
              "47696        0.000000             48.0        48.000000         0.000000   \n",
              "\n",
              "         Sum_dur       Avg_dur       Std_dur     Label  \n",
              "0              7  1.750000e+00  1.500000e+00  [BENIGN]  \n",
              "1              6  1.500000e+00  1.000000e+00  [BENIGN]  \n",
              "2      501301496  5.632601e+06  1.611198e+07  [BENIGN]  \n",
              "3        6093478  3.046739e+05  9.377045e+05  [BENIGN]  \n",
              "4          40647  2.032350e+04  2.873611e+04  [BENIGN]  \n",
              "...          ...           ...           ...       ...  \n",
              "47692         42  4.200000e+01  0.000000e+00  [BENIGN]  \n",
              "47693         42  4.200000e+01  0.000000e+00  [BENIGN]  \n",
              "47694   52656124  5.265612e+07  0.000000e+00  [BENIGN]  \n",
              "47695   51998174  5.199817e+07  0.000000e+00  [BENIGN]  \n",
              "47696      94265  9.426500e+04  0.000000e+00  [BENIGN]  \n",
              "\n",
              "[47697 rows x 25 columns]"
            ],
            "text/html": [
              "<div>\n",
              "<style scoped>\n",
              "    .dataframe tbody tr th:only-of-type {\n",
              "        vertical-align: middle;\n",
              "    }\n",
              "\n",
              "    .dataframe tbody tr th {\n",
              "        vertical-align: top;\n",
              "    }\n",
              "\n",
              "    .dataframe thead th {\n",
              "        text-align: right;\n",
              "    }\n",
              "</style>\n",
              "<table border=\"1\" class=\"dataframe\">\n",
              "  <thead>\n",
              "    <tr style=\"text-align: right;\">\n",
              "      <th></th>\n",
              "      <th>Key_IP</th>\n",
              "      <th>Key_inner_port</th>\n",
              "      <th>Key_outer_port</th>\n",
              "      <th>Inner_port_freq</th>\n",
              "      <th>Outer_port_freq</th>\n",
              "      <th>Pst_per_flows</th>\n",
              "      <th>Card_inner_ip</th>\n",
              "      <th>Card_inner_port</th>\n",
              "      <th>Card_outer_port</th>\n",
              "      <th>Sum_inner_pkts</th>\n",
              "      <th>...</th>\n",
              "      <th>Sum_outer_pkts</th>\n",
              "      <th>Avg_outer_pkts</th>\n",
              "      <th>Std_outer_pkts</th>\n",
              "      <th>Sum_outer_bytes</th>\n",
              "      <th>Avg_outer_bytes</th>\n",
              "      <th>Std_outer_bytes</th>\n",
              "      <th>Sum_dur</th>\n",
              "      <th>Avg_dur</th>\n",
              "      <th>Std_dur</th>\n",
              "      <th>Label</th>\n",
              "    </tr>\n",
              "  </thead>\n",
              "  <tbody>\n",
              "    <tr>\n",
              "      <th>0</th>\n",
              "      <td>8.254.250.126</td>\n",
              "      <td>49188</td>\n",
              "      <td>80</td>\n",
              "      <td>1.000000</td>\n",
              "      <td>1.000000</td>\n",
              "      <td>0.250000</td>\n",
              "      <td>1</td>\n",
              "      <td>1</td>\n",
              "      <td>1</td>\n",
              "      <td>0</td>\n",
              "      <td>...</td>\n",
              "      <td>8</td>\n",
              "      <td>2.000000</td>\n",
              "      <td>0.000000</td>\n",
              "      <td>48.0</td>\n",
              "      <td>12.000000</td>\n",
              "      <td>0.000000</td>\n",
              "      <td>7</td>\n",
              "      <td>1.750000e+00</td>\n",
              "      <td>1.500000e+00</td>\n",
              "      <td>[BENIGN]</td>\n",
              "    </tr>\n",
              "    <tr>\n",
              "      <th>1</th>\n",
              "      <td>8.253.185.121</td>\n",
              "      <td>49486</td>\n",
              "      <td>80</td>\n",
              "      <td>1.000000</td>\n",
              "      <td>1.000000</td>\n",
              "      <td>0.250000</td>\n",
              "      <td>1</td>\n",
              "      <td>1</td>\n",
              "      <td>1</td>\n",
              "      <td>0</td>\n",
              "      <td>...</td>\n",
              "      <td>8</td>\n",
              "      <td>2.000000</td>\n",
              "      <td>0.000000</td>\n",
              "      <td>48.0</td>\n",
              "      <td>12.000000</td>\n",
              "      <td>0.000000</td>\n",
              "      <td>6</td>\n",
              "      <td>1.500000e+00</td>\n",
              "      <td>1.000000e+00</td>\n",
              "      <td>[BENIGN]</td>\n",
              "    </tr>\n",
              "    <tr>\n",
              "      <th>2</th>\n",
              "      <td>192.168.10.9</td>\n",
              "      <td>88</td>\n",
              "      <td>1029</td>\n",
              "      <td>0.359551</td>\n",
              "      <td>0.033708</td>\n",
              "      <td>0.595506</td>\n",
              "      <td>1</td>\n",
              "      <td>12</td>\n",
              "      <td>67</td>\n",
              "      <td>534</td>\n",
              "      <td>...</td>\n",
              "      <td>634</td>\n",
              "      <td>7.123596</td>\n",
              "      <td>9.254999</td>\n",
              "      <td>126316.0</td>\n",
              "      <td>1419.280899</td>\n",
              "      <td>2412.947843</td>\n",
              "      <td>501301496</td>\n",
              "      <td>5.632601e+06</td>\n",
              "      <td>1.611198e+07</td>\n",
              "      <td>[BENIGN]</td>\n",
              "    </tr>\n",
              "    <tr>\n",
              "      <th>3</th>\n",
              "      <td>192.168.10.3</td>\n",
              "      <td>137</td>\n",
              "      <td>389</td>\n",
              "      <td>0.150000</td>\n",
              "      <td>0.450000</td>\n",
              "      <td>0.400000</td>\n",
              "      <td>4</td>\n",
              "      <td>14</td>\n",
              "      <td>7</td>\n",
              "      <td>24</td>\n",
              "      <td>...</td>\n",
              "      <td>54</td>\n",
              "      <td>2.700000</td>\n",
              "      <td>1.625455</td>\n",
              "      <td>880.0</td>\n",
              "      <td>44.000000</td>\n",
              "      <td>89.865396</td>\n",
              "      <td>6093478</td>\n",
              "      <td>3.046739e+05</td>\n",
              "      <td>9.377045e+05</td>\n",
              "      <td>[BENIGN]</td>\n",
              "    </tr>\n",
              "    <tr>\n",
              "      <th>4</th>\n",
              "      <td>69.31.33.224</td>\n",
              "      <td>1057</td>\n",
              "      <td>80</td>\n",
              "      <td>1.000000</td>\n",
              "      <td>1.000000</td>\n",
              "      <td>1.000000</td>\n",
              "      <td>1</td>\n",
              "      <td>1</td>\n",
              "      <td>1</td>\n",
              "      <td>5</td>\n",
              "      <td>...</td>\n",
              "      <td>4</td>\n",
              "      <td>2.000000</td>\n",
              "      <td>2.828427</td>\n",
              "      <td>191.0</td>\n",
              "      <td>95.500000</td>\n",
              "      <td>135.057395</td>\n",
              "      <td>40647</td>\n",
              "      <td>2.032350e+04</td>\n",
              "      <td>2.873611e+04</td>\n",
              "      <td>[BENIGN]</td>\n",
              "    </tr>\n",
              "    <tr>\n",
              "      <th>...</th>\n",
              "      <td>...</td>\n",
              "      <td>...</td>\n",
              "      <td>...</td>\n",
              "      <td>...</td>\n",
              "      <td>...</td>\n",
              "      <td>...</td>\n",
              "      <td>...</td>\n",
              "      <td>...</td>\n",
              "      <td>...</td>\n",
              "      <td>...</td>\n",
              "      <td>...</td>\n",
              "      <td>...</td>\n",
              "      <td>...</td>\n",
              "      <td>...</td>\n",
              "      <td>...</td>\n",
              "      <td>...</td>\n",
              "      <td>...</td>\n",
              "      <td>...</td>\n",
              "      <td>...</td>\n",
              "      <td>...</td>\n",
              "      <td>...</td>\n",
              "    </tr>\n",
              "    <tr>\n",
              "      <th>47692</th>\n",
              "      <td>184.25.56.202</td>\n",
              "      <td>7173</td>\n",
              "      <td>80</td>\n",
              "      <td>1.000000</td>\n",
              "      <td>1.000000</td>\n",
              "      <td>1.000000</td>\n",
              "      <td>1</td>\n",
              "      <td>1</td>\n",
              "      <td>1</td>\n",
              "      <td>1</td>\n",
              "      <td>...</td>\n",
              "      <td>1</td>\n",
              "      <td>1.000000</td>\n",
              "      <td>0.000000</td>\n",
              "      <td>6.0</td>\n",
              "      <td>6.000000</td>\n",
              "      <td>0.000000</td>\n",
              "      <td>42</td>\n",
              "      <td>4.200000e+01</td>\n",
              "      <td>0.000000e+00</td>\n",
              "      <td>[BENIGN]</td>\n",
              "    </tr>\n",
              "    <tr>\n",
              "      <th>47693</th>\n",
              "      <td>184.50.238.170</td>\n",
              "      <td>56432</td>\n",
              "      <td>80</td>\n",
              "      <td>1.000000</td>\n",
              "      <td>1.000000</td>\n",
              "      <td>1.000000</td>\n",
              "      <td>1</td>\n",
              "      <td>1</td>\n",
              "      <td>1</td>\n",
              "      <td>1</td>\n",
              "      <td>...</td>\n",
              "      <td>1</td>\n",
              "      <td>1.000000</td>\n",
              "      <td>0.000000</td>\n",
              "      <td>6.0</td>\n",
              "      <td>6.000000</td>\n",
              "      <td>0.000000</td>\n",
              "      <td>42</td>\n",
              "      <td>4.200000e+01</td>\n",
              "      <td>0.000000e+00</td>\n",
              "      <td>[BENIGN]</td>\n",
              "    </tr>\n",
              "    <tr>\n",
              "      <th>47694</th>\n",
              "      <td>52.52.86.145</td>\n",
              "      <td>44944</td>\n",
              "      <td>443</td>\n",
              "      <td>1.000000</td>\n",
              "      <td>1.000000</td>\n",
              "      <td>1.000000</td>\n",
              "      <td>1</td>\n",
              "      <td>1</td>\n",
              "      <td>1</td>\n",
              "      <td>14</td>\n",
              "      <td>...</td>\n",
              "      <td>13</td>\n",
              "      <td>13.000000</td>\n",
              "      <td>0.000000</td>\n",
              "      <td>4752.0</td>\n",
              "      <td>4752.000000</td>\n",
              "      <td>0.000000</td>\n",
              "      <td>52656124</td>\n",
              "      <td>5.265612e+07</td>\n",
              "      <td>0.000000e+00</td>\n",
              "      <td>[BENIGN]</td>\n",
              "    </tr>\n",
              "    <tr>\n",
              "      <th>47695</th>\n",
              "      <td>54.236.177.89</td>\n",
              "      <td>55806</td>\n",
              "      <td>443</td>\n",
              "      <td>1.000000</td>\n",
              "      <td>1.000000</td>\n",
              "      <td>1.000000</td>\n",
              "      <td>1</td>\n",
              "      <td>1</td>\n",
              "      <td>1</td>\n",
              "      <td>15</td>\n",
              "      <td>...</td>\n",
              "      <td>13</td>\n",
              "      <td>13.000000</td>\n",
              "      <td>0.000000</td>\n",
              "      <td>5955.0</td>\n",
              "      <td>5955.000000</td>\n",
              "      <td>0.000000</td>\n",
              "      <td>51998174</td>\n",
              "      <td>5.199817e+07</td>\n",
              "      <td>0.000000e+00</td>\n",
              "      <td>[BENIGN]</td>\n",
              "    </tr>\n",
              "    <tr>\n",
              "      <th>47696</th>\n",
              "      <td>91.189.89.198</td>\n",
              "      <td>123</td>\n",
              "      <td>123</td>\n",
              "      <td>1.000000</td>\n",
              "      <td>1.000000</td>\n",
              "      <td>1.000000</td>\n",
              "      <td>1</td>\n",
              "      <td>1</td>\n",
              "      <td>1</td>\n",
              "      <td>1</td>\n",
              "      <td>...</td>\n",
              "      <td>1</td>\n",
              "      <td>1.000000</td>\n",
              "      <td>0.000000</td>\n",
              "      <td>48.0</td>\n",
              "      <td>48.000000</td>\n",
              "      <td>0.000000</td>\n",
              "      <td>94265</td>\n",
              "      <td>9.426500e+04</td>\n",
              "      <td>0.000000e+00</td>\n",
              "      <td>[BENIGN]</td>\n",
              "    </tr>\n",
              "  </tbody>\n",
              "</table>\n",
              "<p>47697 rows × 25 columns</p>\n",
              "</div>"
            ]
          },
          "metadata": {},
          "execution_count": 528
        }
      ]
    },
    {
      "cell_type": "markdown",
      "source": [
        "## 전처리"
      ],
      "metadata": {
        "id": "QyUHO1Fq2P-D"
      }
    },
    {
      "cell_type": "code",
      "source": [
        "from Utils import FlowPreProcessor"
      ],
      "metadata": {
        "id": "P64NPKzA2SQ8"
      },
      "execution_count": null,
      "outputs": []
    },
    {
      "cell_type": "code",
      "source": [
        "fpp = FlowPreProcessor(mode=\"minmax\")"
      ],
      "metadata": {
        "id": "a9o34E1J2ZQh"
      },
      "execution_count": null,
      "outputs": []
    },
    {
      "cell_type": "code",
      "source": [
        "trainX = fpp.fit_transform(trainSet)"
      ],
      "metadata": {
        "id": "97AcWt1qBJah"
      },
      "execution_count": null,
      "outputs": []
    },
    {
      "cell_type": "code",
      "source": [
        "trainX.shape"
      ],
      "metadata": {
        "colab": {
          "base_uri": "https://localhost:8080/"
        },
        "id": "Upait3SR5zRM",
        "outputId": "39f10e0a-708b-46e6-e5ab-222bbb39613c"
      },
      "execution_count": null,
      "outputs": [
        {
          "output_type": "execute_result",
          "data": {
            "text/plain": [
              "(47697, 24)"
            ]
          },
          "metadata": {},
          "execution_count": 532
        }
      ]
    },
    {
      "cell_type": "code",
      "source": [
        "trainX"
      ],
      "metadata": {
        "colab": {
          "base_uri": "https://localhost:8080/"
        },
        "id": "fPs_OJWc6k6G",
        "outputId": "57a3d267-cab0-41dd-dece-b1f359ff7d95"
      },
      "execution_count": null,
      "outputs": [
        {
          "output_type": "execute_result",
          "data": {
            "text/plain": [
              "array([[2.09656791e-05, 1.25794075e-04, 2.79137045e-01, ...,\n",
              "        2.83241819e-10, 1.45833425e-08, 1.76791168e-08],\n",
              "       [2.09656791e-05, 1.25794075e-04, 2.79137045e-01, ...,\n",
              "        2.42778686e-10, 1.25000081e-08, 1.17860779e-08],\n",
              "       [7.57280365e-02, 7.54764478e-04, 2.09656791e-05, ...,\n",
              "        2.02842206e-02, 4.69383709e-02, 1.89897075e-01],\n",
              "       ...,\n",
              "       [4.40279255e-04, 6.28970374e-05, 9.82221127e-01, ...,\n",
              "        2.13063089e-03, 4.38801318e-01, 0.00000000e+00],\n",
              "       [6.28970374e-05, 1.25794075e-04, 9.82221127e-01, ...,\n",
              "        2.10400810e-03, 4.33318377e-01, 0.00000000e+00],\n",
              "       [5.86829372e-02, 8.69446695e-02, 7.93341324e-02, ...,\n",
              "        3.81425548e-06, 7.85542128e-04, 0.00000000e+00]], dtype=float32)"
            ]
          },
          "metadata": {},
          "execution_count": 533
        }
      ]
    },
    {
      "cell_type": "markdown",
      "source": [
        "# 학습하기"
      ],
      "metadata": {
        "id": "A1gzpZkb-GRe"
      }
    },
    {
      "cell_type": "code",
      "source": [
        "import torch\n",
        "\n",
        "import torch.nn as nn\n",
        "\n",
        "from tqdm.notebook import tqdm\n",
        "from torch.optim import Adam, SGD, AdamW\n",
        "from torch.optim.lr_scheduler import StepLR\n",
        "from torch.utils.data import DataLoader, Dataset"
      ],
      "metadata": {
        "id": "CHFTeuWL9vDe"
      },
      "execution_count": null,
      "outputs": []
    },
    {
      "cell_type": "code",
      "source": [
        "device = 'cuda' if torch.cuda.is_available() else 'cpu'"
      ],
      "metadata": {
        "id": "iTMGhiBE-pw-"
      },
      "execution_count": null,
      "outputs": []
    },
    {
      "cell_type": "code",
      "source": [
        "class FClayer(nn.Module):\n",
        "    def __init__(self, I, O, A='relu'):\n",
        "        super().__init__()\n",
        "        \n",
        "        self.linear = nn.Linear(I, O)\n",
        "        \n",
        "        if A == 'relu':\n",
        "            self.activation = nn.ReLU()\n",
        "        elif A == 'sigmoid':\n",
        "            self.activation = nn.Sigmoid()\n",
        "        else:\n",
        "            self.activation = nn.Identity()\n",
        "        \n",
        "    def forward(self, x):\n",
        "        x = self.linear(x)\n",
        "        x = self.activation(x)\n",
        "        \n",
        "        return x"
      ],
      "metadata": {
        "id": "XohJx0B1-qtj"
      },
      "execution_count": null,
      "outputs": []
    },
    {
      "cell_type": "code",
      "source": [
        "class AE(nn.Module):\n",
        "    def __init__(self, num_features):\n",
        "        super().__init__()\n",
        "        \n",
        "        self.encoder = nn.Sequential(\n",
        "            FClayer(num_features, 128),\n",
        "            FClayer(128, 64),\n",
        "            FClayer(64,32),\n",
        "            FClayer(32, 16),\n",
        "            FClayer(16, 8),\n",
        "        )\n",
        "        \n",
        "        self.decoder = nn.Sequential(\n",
        "            FClayer(8, 16),\n",
        "            FClayer(16, 32),\n",
        "            FClayer(32, 64),\n",
        "            FClayer(64, 128),\n",
        "            FClayer(128, num_features, \n",
        "                    A='sigmoid'\n",
        "            ),\n",
        "        )\n",
        "    \n",
        "    def forward(self, x):\n",
        "        z = self.encoder(x)\n",
        "        x = self.decoder(z)\n",
        "        return x, z"
      ],
      "metadata": {
        "id": "3GTq5PPW-rhP"
      },
      "execution_count": null,
      "outputs": []
    },
    {
      "cell_type": "code",
      "source": [
        "a = AE(trainX.shape[1])"
      ],
      "metadata": {
        "id": "StTOFXeS64WT"
      },
      "execution_count": null,
      "outputs": []
    },
    {
      "cell_type": "code",
      "source": [
        "b = a(torch.tensor(trainX))"
      ],
      "metadata": {
        "id": "tXJq4jW669fy"
      },
      "execution_count": null,
      "outputs": []
    },
    {
      "cell_type": "code",
      "source": [
        "trainSet"
      ],
      "metadata": {
        "colab": {
          "base_uri": "https://localhost:8080/",
          "height": 444
        },
        "id": "C0DG2jGq7g8i",
        "outputId": "e5534d1b-b9ed-47c8-a54e-c90161a9667f"
      },
      "execution_count": null,
      "outputs": [
        {
          "output_type": "execute_result",
          "data": {
            "text/plain": [
              "               Key_IP  Key_inner_port  Key_outer_port  Inner_port_freq  \\\n",
              "0       8.254.250.126           49188              80         1.000000   \n",
              "1       8.253.185.121           49486              80         1.000000   \n",
              "2        192.168.10.9              88            1029         0.359551   \n",
              "3        192.168.10.3             137             389         0.150000   \n",
              "4        69.31.33.224            1057              80         1.000000   \n",
              "...               ...             ...             ...              ...   \n",
              "47692   184.25.56.202            7173              80         1.000000   \n",
              "47693  184.50.238.170           56432              80         1.000000   \n",
              "47694    52.52.86.145           44944             443         1.000000   \n",
              "47695   54.236.177.89           55806             443         1.000000   \n",
              "47696   91.189.89.198             123             123         1.000000   \n",
              "\n",
              "       Outer_port_freq  Pst_per_flows  Card_inner_ip  Card_inner_port  \\\n",
              "0             1.000000       0.250000              1                1   \n",
              "1             1.000000       0.250000              1                1   \n",
              "2             0.033708       0.595506              1               12   \n",
              "3             0.450000       0.400000              4               14   \n",
              "4             1.000000       1.000000              1                1   \n",
              "...                ...            ...            ...              ...   \n",
              "47692         1.000000       1.000000              1                1   \n",
              "47693         1.000000       1.000000              1                1   \n",
              "47694         1.000000       1.000000              1                1   \n",
              "47695         1.000000       1.000000              1                1   \n",
              "47696         1.000000       1.000000              1                1   \n",
              "\n",
              "       Card_outer_port  Sum_inner_pkts  ...  Sum_outer_pkts  Avg_outer_pkts  \\\n",
              "0                    1               0  ...               8        2.000000   \n",
              "1                    1               0  ...               8        2.000000   \n",
              "2                   67             534  ...             634        7.123596   \n",
              "3                    7              24  ...              54        2.700000   \n",
              "4                    1               5  ...               4        2.000000   \n",
              "...                ...             ...  ...             ...             ...   \n",
              "47692                1               1  ...               1        1.000000   \n",
              "47693                1               1  ...               1        1.000000   \n",
              "47694                1              14  ...              13       13.000000   \n",
              "47695                1              15  ...              13       13.000000   \n",
              "47696                1               1  ...               1        1.000000   \n",
              "\n",
              "       Std_outer_pkts  Sum_outer_bytes  Avg_outer_bytes  Std_outer_bytes  \\\n",
              "0            0.000000             48.0        12.000000         0.000000   \n",
              "1            0.000000             48.0        12.000000         0.000000   \n",
              "2            9.254999         126316.0      1419.280899      2412.947843   \n",
              "3            1.625455            880.0        44.000000        89.865396   \n",
              "4            2.828427            191.0        95.500000       135.057395   \n",
              "...               ...              ...              ...              ...   \n",
              "47692        0.000000              6.0         6.000000         0.000000   \n",
              "47693        0.000000              6.0         6.000000         0.000000   \n",
              "47694        0.000000           4752.0      4752.000000         0.000000   \n",
              "47695        0.000000           5955.0      5955.000000         0.000000   \n",
              "47696        0.000000             48.0        48.000000         0.000000   \n",
              "\n",
              "         Sum_dur       Avg_dur       Std_dur     Label  \n",
              "0              7  1.750000e+00  1.500000e+00  [BENIGN]  \n",
              "1              6  1.500000e+00  1.000000e+00  [BENIGN]  \n",
              "2      501301496  5.632601e+06  1.611198e+07  [BENIGN]  \n",
              "3        6093478  3.046739e+05  9.377045e+05  [BENIGN]  \n",
              "4          40647  2.032350e+04  2.873611e+04  [BENIGN]  \n",
              "...          ...           ...           ...       ...  \n",
              "47692         42  4.200000e+01  0.000000e+00  [BENIGN]  \n",
              "47693         42  4.200000e+01  0.000000e+00  [BENIGN]  \n",
              "47694   52656124  5.265612e+07  0.000000e+00  [BENIGN]  \n",
              "47695   51998174  5.199817e+07  0.000000e+00  [BENIGN]  \n",
              "47696      94265  9.426500e+04  0.000000e+00  [BENIGN]  \n",
              "\n",
              "[47697 rows x 25 columns]"
            ],
            "text/html": [
              "<div>\n",
              "<style scoped>\n",
              "    .dataframe tbody tr th:only-of-type {\n",
              "        vertical-align: middle;\n",
              "    }\n",
              "\n",
              "    .dataframe tbody tr th {\n",
              "        vertical-align: top;\n",
              "    }\n",
              "\n",
              "    .dataframe thead th {\n",
              "        text-align: right;\n",
              "    }\n",
              "</style>\n",
              "<table border=\"1\" class=\"dataframe\">\n",
              "  <thead>\n",
              "    <tr style=\"text-align: right;\">\n",
              "      <th></th>\n",
              "      <th>Key_IP</th>\n",
              "      <th>Key_inner_port</th>\n",
              "      <th>Key_outer_port</th>\n",
              "      <th>Inner_port_freq</th>\n",
              "      <th>Outer_port_freq</th>\n",
              "      <th>Pst_per_flows</th>\n",
              "      <th>Card_inner_ip</th>\n",
              "      <th>Card_inner_port</th>\n",
              "      <th>Card_outer_port</th>\n",
              "      <th>Sum_inner_pkts</th>\n",
              "      <th>...</th>\n",
              "      <th>Sum_outer_pkts</th>\n",
              "      <th>Avg_outer_pkts</th>\n",
              "      <th>Std_outer_pkts</th>\n",
              "      <th>Sum_outer_bytes</th>\n",
              "      <th>Avg_outer_bytes</th>\n",
              "      <th>Std_outer_bytes</th>\n",
              "      <th>Sum_dur</th>\n",
              "      <th>Avg_dur</th>\n",
              "      <th>Std_dur</th>\n",
              "      <th>Label</th>\n",
              "    </tr>\n",
              "  </thead>\n",
              "  <tbody>\n",
              "    <tr>\n",
              "      <th>0</th>\n",
              "      <td>8.254.250.126</td>\n",
              "      <td>49188</td>\n",
              "      <td>80</td>\n",
              "      <td>1.000000</td>\n",
              "      <td>1.000000</td>\n",
              "      <td>0.250000</td>\n",
              "      <td>1</td>\n",
              "      <td>1</td>\n",
              "      <td>1</td>\n",
              "      <td>0</td>\n",
              "      <td>...</td>\n",
              "      <td>8</td>\n",
              "      <td>2.000000</td>\n",
              "      <td>0.000000</td>\n",
              "      <td>48.0</td>\n",
              "      <td>12.000000</td>\n",
              "      <td>0.000000</td>\n",
              "      <td>7</td>\n",
              "      <td>1.750000e+00</td>\n",
              "      <td>1.500000e+00</td>\n",
              "      <td>[BENIGN]</td>\n",
              "    </tr>\n",
              "    <tr>\n",
              "      <th>1</th>\n",
              "      <td>8.253.185.121</td>\n",
              "      <td>49486</td>\n",
              "      <td>80</td>\n",
              "      <td>1.000000</td>\n",
              "      <td>1.000000</td>\n",
              "      <td>0.250000</td>\n",
              "      <td>1</td>\n",
              "      <td>1</td>\n",
              "      <td>1</td>\n",
              "      <td>0</td>\n",
              "      <td>...</td>\n",
              "      <td>8</td>\n",
              "      <td>2.000000</td>\n",
              "      <td>0.000000</td>\n",
              "      <td>48.0</td>\n",
              "      <td>12.000000</td>\n",
              "      <td>0.000000</td>\n",
              "      <td>6</td>\n",
              "      <td>1.500000e+00</td>\n",
              "      <td>1.000000e+00</td>\n",
              "      <td>[BENIGN]</td>\n",
              "    </tr>\n",
              "    <tr>\n",
              "      <th>2</th>\n",
              "      <td>192.168.10.9</td>\n",
              "      <td>88</td>\n",
              "      <td>1029</td>\n",
              "      <td>0.359551</td>\n",
              "      <td>0.033708</td>\n",
              "      <td>0.595506</td>\n",
              "      <td>1</td>\n",
              "      <td>12</td>\n",
              "      <td>67</td>\n",
              "      <td>534</td>\n",
              "      <td>...</td>\n",
              "      <td>634</td>\n",
              "      <td>7.123596</td>\n",
              "      <td>9.254999</td>\n",
              "      <td>126316.0</td>\n",
              "      <td>1419.280899</td>\n",
              "      <td>2412.947843</td>\n",
              "      <td>501301496</td>\n",
              "      <td>5.632601e+06</td>\n",
              "      <td>1.611198e+07</td>\n",
              "      <td>[BENIGN]</td>\n",
              "    </tr>\n",
              "    <tr>\n",
              "      <th>3</th>\n",
              "      <td>192.168.10.3</td>\n",
              "      <td>137</td>\n",
              "      <td>389</td>\n",
              "      <td>0.150000</td>\n",
              "      <td>0.450000</td>\n",
              "      <td>0.400000</td>\n",
              "      <td>4</td>\n",
              "      <td>14</td>\n",
              "      <td>7</td>\n",
              "      <td>24</td>\n",
              "      <td>...</td>\n",
              "      <td>54</td>\n",
              "      <td>2.700000</td>\n",
              "      <td>1.625455</td>\n",
              "      <td>880.0</td>\n",
              "      <td>44.000000</td>\n",
              "      <td>89.865396</td>\n",
              "      <td>6093478</td>\n",
              "      <td>3.046739e+05</td>\n",
              "      <td>9.377045e+05</td>\n",
              "      <td>[BENIGN]</td>\n",
              "    </tr>\n",
              "    <tr>\n",
              "      <th>4</th>\n",
              "      <td>69.31.33.224</td>\n",
              "      <td>1057</td>\n",
              "      <td>80</td>\n",
              "      <td>1.000000</td>\n",
              "      <td>1.000000</td>\n",
              "      <td>1.000000</td>\n",
              "      <td>1</td>\n",
              "      <td>1</td>\n",
              "      <td>1</td>\n",
              "      <td>5</td>\n",
              "      <td>...</td>\n",
              "      <td>4</td>\n",
              "      <td>2.000000</td>\n",
              "      <td>2.828427</td>\n",
              "      <td>191.0</td>\n",
              "      <td>95.500000</td>\n",
              "      <td>135.057395</td>\n",
              "      <td>40647</td>\n",
              "      <td>2.032350e+04</td>\n",
              "      <td>2.873611e+04</td>\n",
              "      <td>[BENIGN]</td>\n",
              "    </tr>\n",
              "    <tr>\n",
              "      <th>...</th>\n",
              "      <td>...</td>\n",
              "      <td>...</td>\n",
              "      <td>...</td>\n",
              "      <td>...</td>\n",
              "      <td>...</td>\n",
              "      <td>...</td>\n",
              "      <td>...</td>\n",
              "      <td>...</td>\n",
              "      <td>...</td>\n",
              "      <td>...</td>\n",
              "      <td>...</td>\n",
              "      <td>...</td>\n",
              "      <td>...</td>\n",
              "      <td>...</td>\n",
              "      <td>...</td>\n",
              "      <td>...</td>\n",
              "      <td>...</td>\n",
              "      <td>...</td>\n",
              "      <td>...</td>\n",
              "      <td>...</td>\n",
              "      <td>...</td>\n",
              "    </tr>\n",
              "    <tr>\n",
              "      <th>47692</th>\n",
              "      <td>184.25.56.202</td>\n",
              "      <td>7173</td>\n",
              "      <td>80</td>\n",
              "      <td>1.000000</td>\n",
              "      <td>1.000000</td>\n",
              "      <td>1.000000</td>\n",
              "      <td>1</td>\n",
              "      <td>1</td>\n",
              "      <td>1</td>\n",
              "      <td>1</td>\n",
              "      <td>...</td>\n",
              "      <td>1</td>\n",
              "      <td>1.000000</td>\n",
              "      <td>0.000000</td>\n",
              "      <td>6.0</td>\n",
              "      <td>6.000000</td>\n",
              "      <td>0.000000</td>\n",
              "      <td>42</td>\n",
              "      <td>4.200000e+01</td>\n",
              "      <td>0.000000e+00</td>\n",
              "      <td>[BENIGN]</td>\n",
              "    </tr>\n",
              "    <tr>\n",
              "      <th>47693</th>\n",
              "      <td>184.50.238.170</td>\n",
              "      <td>56432</td>\n",
              "      <td>80</td>\n",
              "      <td>1.000000</td>\n",
              "      <td>1.000000</td>\n",
              "      <td>1.000000</td>\n",
              "      <td>1</td>\n",
              "      <td>1</td>\n",
              "      <td>1</td>\n",
              "      <td>1</td>\n",
              "      <td>...</td>\n",
              "      <td>1</td>\n",
              "      <td>1.000000</td>\n",
              "      <td>0.000000</td>\n",
              "      <td>6.0</td>\n",
              "      <td>6.000000</td>\n",
              "      <td>0.000000</td>\n",
              "      <td>42</td>\n",
              "      <td>4.200000e+01</td>\n",
              "      <td>0.000000e+00</td>\n",
              "      <td>[BENIGN]</td>\n",
              "    </tr>\n",
              "    <tr>\n",
              "      <th>47694</th>\n",
              "      <td>52.52.86.145</td>\n",
              "      <td>44944</td>\n",
              "      <td>443</td>\n",
              "      <td>1.000000</td>\n",
              "      <td>1.000000</td>\n",
              "      <td>1.000000</td>\n",
              "      <td>1</td>\n",
              "      <td>1</td>\n",
              "      <td>1</td>\n",
              "      <td>14</td>\n",
              "      <td>...</td>\n",
              "      <td>13</td>\n",
              "      <td>13.000000</td>\n",
              "      <td>0.000000</td>\n",
              "      <td>4752.0</td>\n",
              "      <td>4752.000000</td>\n",
              "      <td>0.000000</td>\n",
              "      <td>52656124</td>\n",
              "      <td>5.265612e+07</td>\n",
              "      <td>0.000000e+00</td>\n",
              "      <td>[BENIGN]</td>\n",
              "    </tr>\n",
              "    <tr>\n",
              "      <th>47695</th>\n",
              "      <td>54.236.177.89</td>\n",
              "      <td>55806</td>\n",
              "      <td>443</td>\n",
              "      <td>1.000000</td>\n",
              "      <td>1.000000</td>\n",
              "      <td>1.000000</td>\n",
              "      <td>1</td>\n",
              "      <td>1</td>\n",
              "      <td>1</td>\n",
              "      <td>15</td>\n",
              "      <td>...</td>\n",
              "      <td>13</td>\n",
              "      <td>13.000000</td>\n",
              "      <td>0.000000</td>\n",
              "      <td>5955.0</td>\n",
              "      <td>5955.000000</td>\n",
              "      <td>0.000000</td>\n",
              "      <td>51998174</td>\n",
              "      <td>5.199817e+07</td>\n",
              "      <td>0.000000e+00</td>\n",
              "      <td>[BENIGN]</td>\n",
              "    </tr>\n",
              "    <tr>\n",
              "      <th>47696</th>\n",
              "      <td>91.189.89.198</td>\n",
              "      <td>123</td>\n",
              "      <td>123</td>\n",
              "      <td>1.000000</td>\n",
              "      <td>1.000000</td>\n",
              "      <td>1.000000</td>\n",
              "      <td>1</td>\n",
              "      <td>1</td>\n",
              "      <td>1</td>\n",
              "      <td>1</td>\n",
              "      <td>...</td>\n",
              "      <td>1</td>\n",
              "      <td>1.000000</td>\n",
              "      <td>0.000000</td>\n",
              "      <td>48.0</td>\n",
              "      <td>48.000000</td>\n",
              "      <td>0.000000</td>\n",
              "      <td>94265</td>\n",
              "      <td>9.426500e+04</td>\n",
              "      <td>0.000000e+00</td>\n",
              "      <td>[BENIGN]</td>\n",
              "    </tr>\n",
              "  </tbody>\n",
              "</table>\n",
              "<p>47697 rows × 25 columns</p>\n",
              "</div>"
            ]
          },
          "metadata": {},
          "execution_count": 540
        }
      ]
    },
    {
      "cell_type": "code",
      "source": [
        "b[0].shape"
      ],
      "metadata": {
        "colab": {
          "base_uri": "https://localhost:8080/"
        },
        "id": "MZpnwgRv7Mj9",
        "outputId": "5ede8b15-82d1-47bf-a9f6-fdbe5b518945"
      },
      "execution_count": null,
      "outputs": [
        {
          "output_type": "execute_result",
          "data": {
            "text/plain": [
              "torch.Size([47697, 24])"
            ]
          },
          "metadata": {},
          "execution_count": 541
        }
      ]
    },
    {
      "cell_type": "code",
      "source": [
        "class FlowDataset(Dataset):\n",
        "    def __init__(self, data):\n",
        "        self.data = data\n",
        "        \n",
        "    def __len__(self):\n",
        "        return len(self.data)\n",
        "    \n",
        "    def __getitem__(self, idx):\n",
        "        return self.data[idx]\n"
      ],
      "metadata": {
        "id": "JIXNK2iE-sUX"
      },
      "execution_count": null,
      "outputs": []
    },
    {
      "cell_type": "code",
      "source": [
        "def train_fn(trainX, batch_size=128, epoch=300, model_path=\"./models/ipod_model.pt\"):\n",
        "    ae = AE(trainX.shape[1])\n",
        "    ae.to(device)\n",
        "    \n",
        "    ae_loss_fn = nn.MSELoss()\n",
        "    # ae_optim = SGD(ae.parameters(), lr = 1e-1, momentum=0.9)\n",
        "    ae_optim = AdamW(ae.parameters(), lr = 1e-3, weight_decay=1e-11)\n",
        "    ae_sched= StepLR(ae_optim, step_size=75, gamma=0.5)\n",
        "    \n",
        "    dataloader = DataLoader(\n",
        "        FlowDataset(trainX), \n",
        "        batch_size=batch_size, \n",
        "        shuffle=True\n",
        "    )\n",
        "    \n",
        "    best_loss = 1.\n",
        "\n",
        "    with tqdm(range(epoch)) as pbar:\n",
        "        for _ in pbar:\n",
        "            ae_epoch_loss = 0\n",
        "            data_count = 0\n",
        "                        \n",
        "            for X in dataloader:\n",
        "                X = X.to(device)\n",
        "\n",
        "                # 오토 인코더 학습 \n",
        "                O, _ = ae(X)\n",
        "                \n",
        "                ae_loss = ae_loss_fn(O, X)\n",
        "                ae_optim.zero_grad()\n",
        "                ae_loss.backward()\n",
        "                ae_optim.step()                \n",
        "                \n",
        "                # loss 출력하기 \n",
        "                \n",
        "                ae_epoch_loss += ae_loss.item()\n",
        "                data_count += len(X)\n",
        "\n",
        "                pbar.set_postfix( \n",
        "                     ae_loss=f\"{ae_epoch_loss / data_count}\",\n",
        "                )\n",
        "\n",
        "            now_loss = ae_epoch_loss / data_count\n",
        "            if best_loss > now_loss:\n",
        "                best_loss = now_loss\n",
        "                torch.save(ae.state_dict(), model_path)\n",
        "\n",
        "            ae_sched.step()\n",
        "    print(best_loss)\n",
        "    model_state_dict = torch.load(model_path, map_location=device)\n",
        "    ae.load_state_dict(model_state_dict)\n",
        "    return ae"
      ],
      "metadata": {
        "id": "bOy6cqls-tqg"
      },
      "execution_count": null,
      "outputs": []
    },
    {
      "cell_type": "code",
      "source": [
        "model = train_fn(trainX)"
      ],
      "metadata": {
        "colab": {
          "base_uri": "https://localhost:8080/",
          "height": 67,
          "referenced_widgets": [
            "e982df4707a045dbbf159e6278d22c84",
            "b7f5424a3edc4c559434ed20b8c6691b",
            "4caa3b0894b84f728892dc244b2017a9",
            "fba2a34c6c584456a0db1bf6d2628d7c",
            "273538ae6563418bac4e0c6beb5f1e20",
            "d45e7dc6f16d4e02b058b5344f68b13c",
            "aa6fdf7e17664cc586d0b9422ea3c9e3",
            "321791e4e54948329de2e94b9de70b91",
            "0aedc86ad1e74a4c9d7442335365d9a3",
            "e68de993ae4945bda67eaca79109fdca",
            "37ea8695b5ea4dd0896035fd5355e1a5"
          ]
        },
        "id": "9n-1zOE7-utl",
        "outputId": "b4727284-0bcc-49fb-b864-14c808f60bee"
      },
      "execution_count": null,
      "outputs": [
        {
          "output_type": "display_data",
          "data": {
            "text/plain": [
              "  0%|          | 0/300 [00:00<?, ?it/s]"
            ],
            "application/vnd.jupyter.widget-view+json": {
              "version_major": 2,
              "version_minor": 0,
              "model_id": "e982df4707a045dbbf159e6278d22c84"
            }
          },
          "metadata": {}
        },
        {
          "output_type": "stream",
          "name": "stdout",
          "text": [
            "1.4811665146620048e-07\n"
          ]
        }
      ]
    },
    {
      "cell_type": "markdown",
      "source": [
        "# 테스트하기"
      ],
      "metadata": {
        "id": "fnVmX2dPHl-U"
      }
    },
    {
      "cell_type": "code",
      "source": [
        "def test_fn(model, testX):\n",
        "    dataloader = DataLoader(FlowDataset(testX), batch_size= 512, shuffle=False)\n",
        "    model.to(device)\n",
        "    pred = []\n",
        "    loss_fn = nn.MSELoss()\n",
        "    model.eval()\n",
        "    dist_fn = nn.CosineSimilarity(dim=1)\n",
        "    with torch.no_grad():\n",
        "        for X in (dataloader):\n",
        "            X = X.to(device)\n",
        "            O,_  = model(X)\n",
        "            # dist = dist_fn(X,O)\n",
        "            dist = torch.square(X-O).mean(-1)\n",
        "            pred.extend(dist.cpu().tolist())\n",
        "    return pred\n",
        "    "
      ],
      "metadata": {
        "id": "gFNnI2-2-wxk"
      },
      "execution_count": null,
      "outputs": []
    },
    {
      "cell_type": "code",
      "source": [
        "def labelEncoding(x):\n",
        "    if len(x) == 1:\n",
        "        if x[0] == 'BENIGN':\n",
        "            return 0\n",
        "        else:\n",
        "            return 1\n",
        "    else:\n",
        "        return 1\n",
        "\n"
      ],
      "metadata": {
        "id": "prpKJWOqKsTZ"
      },
      "execution_count": null,
      "outputs": []
    },
    {
      "cell_type": "code",
      "source": [
        "from sklearn.metrics import roc_auc_score, roc_curve, f1_score, precision_score, recall_score, accuracy_score"
      ],
      "metadata": {
        "id": "PJDbF7aHKweK"
      },
      "execution_count": null,
      "outputs": []
    },
    {
      "cell_type": "code",
      "source": [
        "def testSetLoader(files):\n",
        "    testSet = FlowReader.read_csv(files)\n",
        "    testSet = FlowProfiler.preprocessing(testSet, mode=\"default\")\n",
        "    return testSet"
      ],
      "metadata": {
        "id": "igXOiAFzmRIw"
      },
      "execution_count": null,
      "outputs": []
    },
    {
      "cell_type": "code",
      "source": [
        "def result_fn(testSet, loss):\n",
        "    result = pd.DataFrame({\n",
        "        'outer_ip' : testSet['Key_IP'],\n",
        "        'loss' : loss,\n",
        "        'Label' : testSet['Label'],\n",
        "        'Num_Label' : testSet['Label'].apply(\n",
        "            labelEncoding\n",
        "            # lambda x : len(x)\n",
        "        )\n",
        "    })\n",
        "    return result"
      ],
      "metadata": {
        "id": "lEYTGDfUIcVd"
      },
      "execution_count": null,
      "outputs": []
    },
    {
      "cell_type": "code",
      "source": [
        "def best_f1(y_true, loss):\n",
        "    theta = 0.0001\n",
        "    best_theta = 0\n",
        "    best_f1 = 0\n",
        "    while theta <= 1:\n",
        "        predict = np.where(loss>theta, 1, 0)\n",
        "        now_f1 = f1_score(y_true, predict)\n",
        "        if best_f1 < now_f1:\n",
        "            best_f1 = now_f1\n",
        "            best_theta = theta\n",
        "        \n",
        "        theta += 0.0001\n",
        "\n",
        "    predict = np.where(loss>best_theta, 1, 0)\n",
        "    print(\"theta : \", best_theta)\n",
        "    print(\"accuracy : \", accuracy_score(y_true, predict))\n",
        "    print(\"recall : \", recall_score(y_true, predict))\n",
        "    print(\"precision: \", precision_score(y_true, predict))\n",
        "    print(\"f1-score : \", f1_score(y_true, predict))\n",
        "\n",
        "    return best_theta"
      ],
      "metadata": {
        "id": "8frWHl5DvDP-"
      },
      "execution_count": null,
      "outputs": []
    },
    {
      "cell_type": "code",
      "source": [
        "concat_result = pd.DataFrame(columns=['outer_ip', 'loss', 'Label', 'Num_Label'])"
      ],
      "metadata": {
        "id": "qevzK1HTg8IR"
      },
      "execution_count": null,
      "outputs": []
    },
    {
      "cell_type": "markdown",
      "source": [
        "## 화요일"
      ],
      "metadata": {
        "id": "Fqz42U0fIou5"
      }
    },
    {
      "cell_type": "code",
      "source": [
        "testSet = testSetLoader(files[1])"
      ],
      "metadata": {
        "id": "2n9q0Z09_3hF"
      },
      "execution_count": null,
      "outputs": []
    },
    {
      "cell_type": "code",
      "source": [
        "testX = fpp.transform(testSet)"
      ],
      "metadata": {
        "id": "ALv8w9fIAAx7"
      },
      "execution_count": null,
      "outputs": []
    },
    {
      "cell_type": "code",
      "source": [
        "loss = test_fn(model, testX)"
      ],
      "metadata": {
        "id": "i6ifhqZdAvoU"
      },
      "execution_count": null,
      "outputs": []
    },
    {
      "cell_type": "code",
      "source": [
        "result = result_fn(testSet, loss)"
      ],
      "metadata": {
        "id": "hlbCl-xZIXbo"
      },
      "execution_count": null,
      "outputs": []
    },
    {
      "cell_type": "code",
      "source": [
        "result[result['Num_Label']==1]"
      ],
      "metadata": {
        "colab": {
          "base_uri": "https://localhost:8080/",
          "height": 959
        },
        "id": "i9P6D4UKFiNo",
        "outputId": "4834f1fc-0ecb-475b-c9f8-7838ad9d39c2"
      },
      "execution_count": null,
      "outputs": [
        {
          "output_type": "execute_result",
          "data": {
            "text/plain": [
              "         outer_ip      loss                  Label  Num_Label\n",
              "2120   172.16.0.1  0.000414          [FTP-Patator]          1\n",
              "2143   172.16.0.1  0.000011          [FTP-Patator]          1\n",
              "2529   172.16.0.1  0.000214          [FTP-Patator]          1\n",
              "2951   172.16.0.1  0.001494          [FTP-Patator]          1\n",
              "3946   172.16.0.1  0.001484          [FTP-Patator]          1\n",
              "4002   172.16.0.1  0.001517          [FTP-Patator]          1\n",
              "5133   172.16.0.1  0.001474          [FTP-Patator]          1\n",
              "5796   172.16.0.1  0.001462          [FTP-Patator]          1\n",
              "5838   172.16.0.1  0.001479          [FTP-Patator]          1\n",
              "7054   172.16.0.1  0.001488          [FTP-Patator]          1\n",
              "7130   172.16.0.1  0.001488          [FTP-Patator]          1\n",
              "8252   172.16.0.1  0.001494          [FTP-Patator]          1\n",
              "8327   172.16.0.1  0.001437          [FTP-Patator]          1\n",
              "9473   172.16.0.1  0.001504          [FTP-Patator]          1\n",
              "9564   172.16.0.1  0.001485          [FTP-Patator]          1\n",
              "23355  172.16.0.1  0.000484          [SSH-Patator]          1\n",
              "23581  172.16.0.1  0.018045  [SSH-Patator, BENIGN]          1\n",
              "24350  172.16.0.1  0.002003          [SSH-Patator]          1\n",
              "24352  172.16.0.1  0.032667  [SSH-Patator, BENIGN]          1\n",
              "25367  172.16.0.1  0.001899          [SSH-Patator]          1\n",
              "25814  172.16.0.1  0.002115          [SSH-Patator]          1\n",
              "25826  172.16.0.1  0.001970          [SSH-Patator]          1\n",
              "26765  172.16.0.1  0.002139          [SSH-Patator]          1\n",
              "27418  172.16.0.1  0.002127          [SSH-Patator]          1\n",
              "27432  172.16.0.1  0.002096          [SSH-Patator]          1\n",
              "28332  172.16.0.1  0.002179          [SSH-Patator]          1\n",
              "28854  172.16.0.1  0.002093          [SSH-Patator]          1\n",
              "28929  172.16.0.1  0.002204          [SSH-Patator]          1\n",
              "29693  172.16.0.1  0.002105          [SSH-Patator]          1"
            ],
            "text/html": [
              "<div>\n",
              "<style scoped>\n",
              "    .dataframe tbody tr th:only-of-type {\n",
              "        vertical-align: middle;\n",
              "    }\n",
              "\n",
              "    .dataframe tbody tr th {\n",
              "        vertical-align: top;\n",
              "    }\n",
              "\n",
              "    .dataframe thead th {\n",
              "        text-align: right;\n",
              "    }\n",
              "</style>\n",
              "<table border=\"1\" class=\"dataframe\">\n",
              "  <thead>\n",
              "    <tr style=\"text-align: right;\">\n",
              "      <th></th>\n",
              "      <th>outer_ip</th>\n",
              "      <th>loss</th>\n",
              "      <th>Label</th>\n",
              "      <th>Num_Label</th>\n",
              "    </tr>\n",
              "  </thead>\n",
              "  <tbody>\n",
              "    <tr>\n",
              "      <th>2120</th>\n",
              "      <td>172.16.0.1</td>\n",
              "      <td>0.000414</td>\n",
              "      <td>[FTP-Patator]</td>\n",
              "      <td>1</td>\n",
              "    </tr>\n",
              "    <tr>\n",
              "      <th>2143</th>\n",
              "      <td>172.16.0.1</td>\n",
              "      <td>0.000011</td>\n",
              "      <td>[FTP-Patator]</td>\n",
              "      <td>1</td>\n",
              "    </tr>\n",
              "    <tr>\n",
              "      <th>2529</th>\n",
              "      <td>172.16.0.1</td>\n",
              "      <td>0.000214</td>\n",
              "      <td>[FTP-Patator]</td>\n",
              "      <td>1</td>\n",
              "    </tr>\n",
              "    <tr>\n",
              "      <th>2951</th>\n",
              "      <td>172.16.0.1</td>\n",
              "      <td>0.001494</td>\n",
              "      <td>[FTP-Patator]</td>\n",
              "      <td>1</td>\n",
              "    </tr>\n",
              "    <tr>\n",
              "      <th>3946</th>\n",
              "      <td>172.16.0.1</td>\n",
              "      <td>0.001484</td>\n",
              "      <td>[FTP-Patator]</td>\n",
              "      <td>1</td>\n",
              "    </tr>\n",
              "    <tr>\n",
              "      <th>4002</th>\n",
              "      <td>172.16.0.1</td>\n",
              "      <td>0.001517</td>\n",
              "      <td>[FTP-Patator]</td>\n",
              "      <td>1</td>\n",
              "    </tr>\n",
              "    <tr>\n",
              "      <th>5133</th>\n",
              "      <td>172.16.0.1</td>\n",
              "      <td>0.001474</td>\n",
              "      <td>[FTP-Patator]</td>\n",
              "      <td>1</td>\n",
              "    </tr>\n",
              "    <tr>\n",
              "      <th>5796</th>\n",
              "      <td>172.16.0.1</td>\n",
              "      <td>0.001462</td>\n",
              "      <td>[FTP-Patator]</td>\n",
              "      <td>1</td>\n",
              "    </tr>\n",
              "    <tr>\n",
              "      <th>5838</th>\n",
              "      <td>172.16.0.1</td>\n",
              "      <td>0.001479</td>\n",
              "      <td>[FTP-Patator]</td>\n",
              "      <td>1</td>\n",
              "    </tr>\n",
              "    <tr>\n",
              "      <th>7054</th>\n",
              "      <td>172.16.0.1</td>\n",
              "      <td>0.001488</td>\n",
              "      <td>[FTP-Patator]</td>\n",
              "      <td>1</td>\n",
              "    </tr>\n",
              "    <tr>\n",
              "      <th>7130</th>\n",
              "      <td>172.16.0.1</td>\n",
              "      <td>0.001488</td>\n",
              "      <td>[FTP-Patator]</td>\n",
              "      <td>1</td>\n",
              "    </tr>\n",
              "    <tr>\n",
              "      <th>8252</th>\n",
              "      <td>172.16.0.1</td>\n",
              "      <td>0.001494</td>\n",
              "      <td>[FTP-Patator]</td>\n",
              "      <td>1</td>\n",
              "    </tr>\n",
              "    <tr>\n",
              "      <th>8327</th>\n",
              "      <td>172.16.0.1</td>\n",
              "      <td>0.001437</td>\n",
              "      <td>[FTP-Patator]</td>\n",
              "      <td>1</td>\n",
              "    </tr>\n",
              "    <tr>\n",
              "      <th>9473</th>\n",
              "      <td>172.16.0.1</td>\n",
              "      <td>0.001504</td>\n",
              "      <td>[FTP-Patator]</td>\n",
              "      <td>1</td>\n",
              "    </tr>\n",
              "    <tr>\n",
              "      <th>9564</th>\n",
              "      <td>172.16.0.1</td>\n",
              "      <td>0.001485</td>\n",
              "      <td>[FTP-Patator]</td>\n",
              "      <td>1</td>\n",
              "    </tr>\n",
              "    <tr>\n",
              "      <th>23355</th>\n",
              "      <td>172.16.0.1</td>\n",
              "      <td>0.000484</td>\n",
              "      <td>[SSH-Patator]</td>\n",
              "      <td>1</td>\n",
              "    </tr>\n",
              "    <tr>\n",
              "      <th>23581</th>\n",
              "      <td>172.16.0.1</td>\n",
              "      <td>0.018045</td>\n",
              "      <td>[SSH-Patator, BENIGN]</td>\n",
              "      <td>1</td>\n",
              "    </tr>\n",
              "    <tr>\n",
              "      <th>24350</th>\n",
              "      <td>172.16.0.1</td>\n",
              "      <td>0.002003</td>\n",
              "      <td>[SSH-Patator]</td>\n",
              "      <td>1</td>\n",
              "    </tr>\n",
              "    <tr>\n",
              "      <th>24352</th>\n",
              "      <td>172.16.0.1</td>\n",
              "      <td>0.032667</td>\n",
              "      <td>[SSH-Patator, BENIGN]</td>\n",
              "      <td>1</td>\n",
              "    </tr>\n",
              "    <tr>\n",
              "      <th>25367</th>\n",
              "      <td>172.16.0.1</td>\n",
              "      <td>0.001899</td>\n",
              "      <td>[SSH-Patator]</td>\n",
              "      <td>1</td>\n",
              "    </tr>\n",
              "    <tr>\n",
              "      <th>25814</th>\n",
              "      <td>172.16.0.1</td>\n",
              "      <td>0.002115</td>\n",
              "      <td>[SSH-Patator]</td>\n",
              "      <td>1</td>\n",
              "    </tr>\n",
              "    <tr>\n",
              "      <th>25826</th>\n",
              "      <td>172.16.0.1</td>\n",
              "      <td>0.001970</td>\n",
              "      <td>[SSH-Patator]</td>\n",
              "      <td>1</td>\n",
              "    </tr>\n",
              "    <tr>\n",
              "      <th>26765</th>\n",
              "      <td>172.16.0.1</td>\n",
              "      <td>0.002139</td>\n",
              "      <td>[SSH-Patator]</td>\n",
              "      <td>1</td>\n",
              "    </tr>\n",
              "    <tr>\n",
              "      <th>27418</th>\n",
              "      <td>172.16.0.1</td>\n",
              "      <td>0.002127</td>\n",
              "      <td>[SSH-Patator]</td>\n",
              "      <td>1</td>\n",
              "    </tr>\n",
              "    <tr>\n",
              "      <th>27432</th>\n",
              "      <td>172.16.0.1</td>\n",
              "      <td>0.002096</td>\n",
              "      <td>[SSH-Patator]</td>\n",
              "      <td>1</td>\n",
              "    </tr>\n",
              "    <tr>\n",
              "      <th>28332</th>\n",
              "      <td>172.16.0.1</td>\n",
              "      <td>0.002179</td>\n",
              "      <td>[SSH-Patator]</td>\n",
              "      <td>1</td>\n",
              "    </tr>\n",
              "    <tr>\n",
              "      <th>28854</th>\n",
              "      <td>172.16.0.1</td>\n",
              "      <td>0.002093</td>\n",
              "      <td>[SSH-Patator]</td>\n",
              "      <td>1</td>\n",
              "    </tr>\n",
              "    <tr>\n",
              "      <th>28929</th>\n",
              "      <td>172.16.0.1</td>\n",
              "      <td>0.002204</td>\n",
              "      <td>[SSH-Patator]</td>\n",
              "      <td>1</td>\n",
              "    </tr>\n",
              "    <tr>\n",
              "      <th>29693</th>\n",
              "      <td>172.16.0.1</td>\n",
              "      <td>0.002105</td>\n",
              "      <td>[SSH-Patator]</td>\n",
              "      <td>1</td>\n",
              "    </tr>\n",
              "  </tbody>\n",
              "</table>\n",
              "</div>"
            ]
          },
          "metadata": {},
          "execution_count": 558
        }
      ]
    },
    {
      "cell_type": "code",
      "source": [
        "concat_result = pd.concat([\n",
        "    concat_result, result\n",
        "])"
      ],
      "metadata": {
        "id": "e1a621JahRLN"
      },
      "execution_count": null,
      "outputs": []
    },
    {
      "cell_type": "code",
      "source": [
        "y_true = result['Num_Label'].values\n",
        "loss = result['loss'].values"
      ],
      "metadata": {
        "id": "BaHQCL8ZIU6i"
      },
      "execution_count": null,
      "outputs": []
    },
    {
      "cell_type": "code",
      "source": [
        "tues_fp, tues_tp, _ = roc_curve(y_true, loss)\n",
        "roc_auc_score(y_true, loss)"
      ],
      "metadata": {
        "colab": {
          "base_uri": "https://localhost:8080/"
        },
        "id": "SZAAFwu4cUyh",
        "outputId": "35838e76-9379-439f-d0d7-a32c0b16497f"
      },
      "execution_count": null,
      "outputs": [
        {
          "output_type": "execute_result",
          "data": {
            "text/plain": [
              "0.9884553430030777"
            ]
          },
          "metadata": {},
          "execution_count": 561
        }
      ]
    },
    {
      "cell_type": "code",
      "source": [
        "theta = best_f1(y_true, loss)"
      ],
      "metadata": {
        "colab": {
          "base_uri": "https://localhost:8080/"
        },
        "id": "UPtJpSf4vbmk",
        "outputId": "b0a8e584-4e44-49e6-b8fa-28939b395b87"
      },
      "execution_count": null,
      "outputs": [
        {
          "output_type": "stream",
          "name": "stdout",
          "text": [
            "theta :  0.0014000000000000004\n",
            "accuracy :  0.9974286314021831\n",
            "recall :  0.8620689655172413\n",
            "precision:  0.21008403361344538\n",
            "f1-score :  0.33783783783783783\n"
          ]
        }
      ]
    },
    {
      "cell_type": "code",
      "source": [
        "_, axs = plt.subplots(2,1, figsize=(22,14))\n",
        "titles = ['benign', 'attack']\n",
        "\n",
        "for i in range(2):\n",
        "    axs[i].hist(result[result['Num_Label'] == i]['loss'], bins=200, =(0,1range))\n",
        "    axs[i].axvline(x=theta, color='r', linestyle='--')\n",
        "    axs[i].set_title(titles[i])\n"
      ],
      "metadata": {
        "colab": {
          "base_uri": "https://localhost:8080/",
          "height": 825
        },
        "id": "8Fquja89cybg",
        "outputId": "bcacf9f6-027e-42c0-c46a-63ec1e5de28f"
      },
      "execution_count": null,
      "outputs": [
        {
          "output_type": "display_data",
          "data": {
            "text/plain": [
              "<Figure size 1584x1008 with 2 Axes>"
            ],
            "image/png": "[encoded data removed]"
          },
          "metadata": {
            "needs_background": "light"
          }
        }
      ]
    },
    {
      "cell_type": "markdown",
      "source": [
        "## 수요일"
      ],
      "metadata": {
        "id": "FZDwNMGOImED"
      }
    },
    {
      "cell_type": "code",
      "source": [
        "testSet = testSetLoader(files[2])"
      ],
      "metadata": {
        "id": "YuGb5u_JIlSj"
      },
      "execution_count": null,
      "outputs": []
    },
    {
      "cell_type": "code",
      "source": [
        "testX = fpp.transform(testSet)"
      ],
      "metadata": {
        "id": "z0BatnDmIlSk"
      },
      "execution_count": null,
      "outputs": []
    },
    {
      "cell_type": "code",
      "source": [
        "loss = test_fn(model, testX)"
      ],
      "metadata": {
        "id": "iQKJPCg_IlSk"
      },
      "execution_count": null,
      "outputs": []
    },
    {
      "cell_type": "code",
      "source": [
        "result = result_fn(testSet, loss)"
      ],
      "metadata": {
        "id": "ieCTbcg6IlSk"
      },
      "execution_count": null,
      "outputs": []
    },
    {
      "cell_type": "code",
      "source": [
        "result[result['Num_Label']==1]"
      ],
      "metadata": {
        "colab": {
          "base_uri": "https://localhost:8080/",
          "height": 896
        },
        "outputId": "95f1a00a-efca-41aa-b658-36db07d40003",
        "id": "8plR9q6NIlSk"
      },
      "execution_count": null,
      "outputs": [
        {
          "output_type": "execute_result",
          "data": {
            "text/plain": [
              "         outer_ip         loss                       Label  Num_Label\n",
              "1721   172.16.0.1     0.000011             [DoS slowloris]          1\n",
              "1748   172.16.0.1     0.000067     [DoS slowloris, BENIGN]          1\n",
              "5575   172.16.0.1     0.083379             [DoS slowloris]          1\n",
              "5751   172.16.0.1     0.000085     [DoS slowloris, BENIGN]          1\n",
              "6592   172.16.0.1     0.480213     [DoS slowloris, BENIGN]          1\n",
              "7043   172.16.0.1     0.593679     [DoS slowloris, BENIGN]          1\n",
              "7689   172.16.0.1     0.453069             [DoS slowloris]          1\n",
              "8116   172.16.0.1     0.506977     [DoS slowloris, BENIGN]          1\n",
              "8581   172.16.0.1     0.036731     [DoS slowloris, BENIGN]          1\n",
              "9177   172.16.0.1     0.629879  [DoS Slowhttptest, BENIGN]          1\n",
              "9552   172.16.0.1     0.559489  [DoS Slowhttptest, BENIGN]          1\n",
              "10085  172.16.0.1     0.570347  [DoS Slowhttptest, BENIGN]          1\n",
              "10856  172.16.0.1     0.490524  [DoS Slowhttptest, BENIGN]          1\n",
              "11344  172.16.0.1     0.037800  [DoS Slowhttptest, BENIGN]          1\n",
              "11643  172.16.0.1   448.770996          [DoS Hulk, BENIGN]          1\n",
              "11848  172.16.0.1  1934.162842          [DoS Hulk, BENIGN]          1\n",
              "12258  172.16.0.1  1913.982788                  [DoS Hulk]          1\n",
              "12667  172.16.0.1  1410.502930                  [DoS Hulk]          1\n",
              "13590  172.16.0.1     0.667920                  [DoS Hulk]          1\n",
              "14077  172.16.0.1     0.001024                  [DoS Hulk]          1\n",
              "14642  172.16.0.1     6.674927     [DoS GoldenEye, BENIGN]          1\n",
              "15012  172.16.0.1     2.822954     [DoS GoldenEye, BENIGN]          1\n",
              "30241  172.16.0.1     2.416812        [BENIGN, Heartbleed]          1\n",
              "30616  172.16.0.1     1.600587                [Heartbleed]          1\n",
              "31066  172.16.0.1     2.404692                [Heartbleed]          1\n",
              "31583  172.16.0.1     1.588308                [Heartbleed]          1\n",
              "31986  172.16.0.1     2.616599                [Heartbleed]          1"
            ],
            "text/html": [
              "<div>\n",
              "<style scoped>\n",
              "    .dataframe tbody tr th:only-of-type {\n",
              "        vertical-align: middle;\n",
              "    }\n",
              "\n",
              "    .dataframe tbody tr th {\n",
              "        vertical-align: top;\n",
              "    }\n",
              "\n",
              "    .dataframe thead th {\n",
              "        text-align: right;\n",
              "    }\n",
              "</style>\n",
              "<table border=\"1\" class=\"dataframe\">\n",
              "  <thead>\n",
              "    <tr style=\"text-align: right;\">\n",
              "      <th></th>\n",
              "      <th>outer_ip</th>\n",
              "      <th>loss</th>\n",
              "      <th>Label</th>\n",
              "      <th>Num_Label</th>\n",
              "    </tr>\n",
              "  </thead>\n",
              "  <tbody>\n",
              "    <tr>\n",
              "      <th>1721</th>\n",
              "      <td>172.16.0.1</td>\n",
              "      <td>0.000011</td>\n",
              "      <td>[DoS slowloris]</td>\n",
              "      <td>1</td>\n",
              "    </tr>\n",
              "    <tr>\n",
              "      <th>1748</th>\n",
              "      <td>172.16.0.1</td>\n",
              "      <td>0.000067</td>\n",
              "      <td>[DoS slowloris, BENIGN]</td>\n",
              "      <td>1</td>\n",
              "    </tr>\n",
              "    <tr>\n",
              "      <th>5575</th>\n",
              "      <td>172.16.0.1</td>\n",
              "      <td>0.083379</td>\n",
              "      <td>[DoS slowloris]</td>\n",
              "      <td>1</td>\n",
              "    </tr>\n",
              "    <tr>\n",
              "      <th>5751</th>\n",
              "      <td>172.16.0.1</td>\n",
              "      <td>0.000085</td>\n",
              "      <td>[DoS slowloris, BENIGN]</td>\n",
              "      <td>1</td>\n",
              "    </tr>\n",
              "    <tr>\n",
              "      <th>6592</th>\n",
              "      <td>172.16.0.1</td>\n",
              "      <td>0.480213</td>\n",
              "      <td>[DoS slowloris, BENIGN]</td>\n",
              "      <td>1</td>\n",
              "    </tr>\n",
              "    <tr>\n",
              "      <th>7043</th>\n",
              "      <td>172.16.0.1</td>\n",
              "      <td>0.593679</td>\n",
              "      <td>[DoS slowloris, BENIGN]</td>\n",
              "      <td>1</td>\n",
              "    </tr>\n",
              "    <tr>\n",
              "      <th>7689</th>\n",
              "      <td>172.16.0.1</td>\n",
              "      <td>0.453069</td>\n",
              "      <td>[DoS slowloris]</td>\n",
              "      <td>1</td>\n",
              "    </tr>\n",
              "    <tr>\n",
              "      <th>8116</th>\n",
              "      <td>172.16.0.1</td>\n",
              "      <td>0.506977</td>\n",
              "      <td>[DoS slowloris, BENIGN]</td>\n",
              "      <td>1</td>\n",
              "    </tr>\n",
              "    <tr>\n",
              "      <th>8581</th>\n",
              "      <td>172.16.0.1</td>\n",
              "      <td>0.036731</td>\n",
              "      <td>[DoS slowloris, BENIGN]</td>\n",
              "      <td>1</td>\n",
              "    </tr>\n",
              "    <tr>\n",
              "      <th>9177</th>\n",
              "      <td>172.16.0.1</td>\n",
              "      <td>0.629879</td>\n",
              "      <td>[DoS Slowhttptest, BENIGN]</td>\n",
              "      <td>1</td>\n",
              "    </tr>\n",
              "    <tr>\n",
              "      <th>9552</th>\n",
              "      <td>172.16.0.1</td>\n",
              "      <td>0.559489</td>\n",
              "      <td>[DoS Slowhttptest, BENIGN]</td>\n",
              "      <td>1</td>\n",
              "    </tr>\n",
              "    <tr>\n",
              "      <th>10085</th>\n",
              "      <td>172.16.0.1</td>\n",
              "      <td>0.570347</td>\n",
              "      <td>[DoS Slowhttptest, BENIGN]</td>\n",
              "      <td>1</td>\n",
              "    </tr>\n",
              "    <tr>\n",
              "      <th>10856</th>\n",
              "      <td>172.16.0.1</td>\n",
              "      <td>0.490524</td>\n",
              "      <td>[DoS Slowhttptest, BENIGN]</td>\n",
              "      <td>1</td>\n",
              "    </tr>\n",
              "    <tr>\n",
              "      <th>11344</th>\n",
              "      <td>172.16.0.1</td>\n",
              "      <td>0.037800</td>\n",
              "      <td>[DoS Slowhttptest, BENIGN]</td>\n",
              "      <td>1</td>\n",
              "    </tr>\n",
              "    <tr>\n",
              "      <th>11643</th>\n",
              "      <td>172.16.0.1</td>\n",
              "      <td>448.770996</td>\n",
              "      <td>[DoS Hulk, BENIGN]</td>\n",
              "      <td>1</td>\n",
              "    </tr>\n",
              "    <tr>\n",
              "      <th>11848</th>\n",
              "      <td>172.16.0.1</td>\n",
              "      <td>1934.162842</td>\n",
              "      <td>[DoS Hulk, BENIGN]</td>\n",
              "      <td>1</td>\n",
              "    </tr>\n",
              "    <tr>\n",
              "      <th>12258</th>\n",
              "      <td>172.16.0.1</td>\n",
              "      <td>1913.982788</td>\n",
              "      <td>[DoS Hulk]</td>\n",
              "      <td>1</td>\n",
              "    </tr>\n",
              "    <tr>\n",
              "      <th>12667</th>\n",
              "      <td>172.16.0.1</td>\n",
              "      <td>1410.502930</td>\n",
              "      <td>[DoS Hulk]</td>\n",
              "      <td>1</td>\n",
              "    </tr>\n",
              "    <tr>\n",
              "      <th>13590</th>\n",
              "      <td>172.16.0.1</td>\n",
              "      <td>0.667920</td>\n",
              "      <td>[DoS Hulk]</td>\n",
              "      <td>1</td>\n",
              "    </tr>\n",
              "    <tr>\n",
              "      <th>14077</th>\n",
              "      <td>172.16.0.1</td>\n",
              "      <td>0.001024</td>\n",
              "      <td>[DoS Hulk]</td>\n",
              "      <td>1</td>\n",
              "    </tr>\n",
              "    <tr>\n",
              "      <th>14642</th>\n",
              "      <td>172.16.0.1</td>\n",
              "      <td>6.674927</td>\n",
              "      <td>[DoS GoldenEye, BENIGN]</td>\n",
              "      <td>1</td>\n",
              "    </tr>\n",
              "    <tr>\n",
              "      <th>15012</th>\n",
              "      <td>172.16.0.1</td>\n",
              "      <td>2.822954</td>\n",
              "      <td>[DoS GoldenEye, BENIGN]</td>\n",
              "      <td>1</td>\n",
              "    </tr>\n",
              "    <tr>\n",
              "      <th>30241</th>\n",
              "      <td>172.16.0.1</td>\n",
              "      <td>2.416812</td>\n",
              "      <td>[BENIGN, Heartbleed]</td>\n",
              "      <td>1</td>\n",
              "    </tr>\n",
              "    <tr>\n",
              "      <th>30616</th>\n",
              "      <td>172.16.0.1</td>\n",
              "      <td>1.600587</td>\n",
              "      <td>[Heartbleed]</td>\n",
              "      <td>1</td>\n",
              "    </tr>\n",
              "    <tr>\n",
              "      <th>31066</th>\n",
              "      <td>172.16.0.1</td>\n",
              "      <td>2.404692</td>\n",
              "      <td>[Heartbleed]</td>\n",
              "      <td>1</td>\n",
              "    </tr>\n",
              "    <tr>\n",
              "      <th>31583</th>\n",
              "      <td>172.16.0.1</td>\n",
              "      <td>1.588308</td>\n",
              "      <td>[Heartbleed]</td>\n",
              "      <td>1</td>\n",
              "    </tr>\n",
              "    <tr>\n",
              "      <th>31986</th>\n",
              "      <td>172.16.0.1</td>\n",
              "      <td>2.616599</td>\n",
              "      <td>[Heartbleed]</td>\n",
              "      <td>1</td>\n",
              "    </tr>\n",
              "  </tbody>\n",
              "</table>\n",
              "</div>"
            ]
          },
          "metadata": {},
          "execution_count": 568
        }
      ]
    },
    {
      "cell_type": "code",
      "source": [
        "concat_result = pd.concat([\n",
        "    concat_result, result\n",
        "])"
      ],
      "metadata": {
        "id": "kEm2WtaZhhbC"
      },
      "execution_count": null,
      "outputs": []
    },
    {
      "cell_type": "code",
      "source": [
        "y_true = result['Num_Label'].values\n",
        "loss = result['loss'].values"
      ],
      "metadata": {
        "id": "KX8lLqBOIlSk"
      },
      "execution_count": null,
      "outputs": []
    },
    {
      "cell_type": "code",
      "source": [
        "wednes_fp, wednes_tp, _ = roc_curve(y_true, loss)\n",
        "roc_auc_score(y_true, loss)"
      ],
      "metadata": {
        "colab": {
          "base_uri": "https://localhost:8080/"
        },
        "outputId": "d40b67f7-9d29-4ac3-954e-3b4089e91e75",
        "id": "f5_QUi31IlSk"
      },
      "execution_count": null,
      "outputs": [
        {
          "output_type": "execute_result",
          "data": {
            "text/plain": [
              "0.9873093596497852"
            ]
          },
          "metadata": {},
          "execution_count": 571
        }
      ]
    },
    {
      "cell_type": "code",
      "source": [
        "theta = best_f1(y_true, loss)"
      ],
      "metadata": {
        "colab": {
          "base_uri": "https://localhost:8080/"
        },
        "outputId": "45934f0e-1fd7-4c81-e6d2-4d2b0dfee4c5",
        "id": "jhCSgsrDIlSk"
      },
      "execution_count": null,
      "outputs": [
        {
          "output_type": "stream",
          "name": "stdout",
          "text": [
            "theta :  0.44719999999996707\n",
            "accuracy :  0.9997649209873318\n",
            "recall :  0.7407407407407407\n",
            "precision:  0.9090909090909091\n",
            "f1-score :  0.8163265306122449\n"
          ]
        }
      ]
    },
    {
      "cell_type": "code",
      "source": [
        "_, axs = plt.subplots(2,1, figsize=(22,14))\n",
        "titles = ['benign', 'attack']\n",
        "\n",
        "for i in range(2):\n",
        "    axs[i].hist(result[result['Num_Label'] == i]['loss'], bins=200, range=(0,1))\n",
        "    axs[i].axvline(x=theta, color='r', linestyle='--')\n",
        "    axs[i].set_title(titles[i])\n"
      ],
      "metadata": {
        "colab": {
          "base_uri": "https://localhost:8080/",
          "height": 825
        },
        "outputId": "a9283aff-b11f-4208-f979-f1a3ba189e96",
        "id": "A1DEcik4IlSl"
      },
      "execution_count": null,
      "outputs": [
        {
          "output_type": "display_data",
          "data": {
            "text/plain": [
              "<Figure size 1584x1008 with 2 Axes>"
            ],
            "image/png": "[encoded data removed]"
          },
          "metadata": {
            "needs_background": "light"
          }
        }
      ]
    },
    {
      "cell_type": "markdown",
      "source": [
        "## 금요일 \n",
        "- 목요일은 이유를 알 수 없는 에러로 인해 스킵"
      ],
      "metadata": {
        "id": "NWmFu44yJe8w"
      }
    },
    {
      "cell_type": "code",
      "source": [
        "testSet = testSetLoader(files[3])"
      ],
      "metadata": {
        "id": "_w9HUH10JBmG"
      },
      "execution_count": null,
      "outputs": []
    },
    {
      "cell_type": "code",
      "source": [
        "testX = fpp.transform(testSet)"
      ],
      "metadata": {
        "id": "4FDGTVa0JBmG"
      },
      "execution_count": null,
      "outputs": []
    },
    {
      "cell_type": "code",
      "source": [
        "loss = test_fn(model, testX)"
      ],
      "metadata": {
        "id": "n3o47y1lJBmG"
      },
      "execution_count": null,
      "outputs": []
    },
    {
      "cell_type": "code",
      "source": [
        "result = result_fn(testSet, loss)"
      ],
      "metadata": {
        "id": "qInl_y7YJBmG"
      },
      "execution_count": null,
      "outputs": []
    },
    {
      "cell_type": "code",
      "source": [
        "result[result['Num_Label']==1]"
      ],
      "metadata": {
        "colab": {
          "base_uri": "https://localhost:8080/",
          "height": 614
        },
        "outputId": "31759e3e-c520-4246-f3f7-b02970d52983",
        "id": "hjqQfJSLJBmG"
      },
      "execution_count": null,
      "outputs": [
        {
          "output_type": "execute_result",
          "data": {
            "text/plain": [
              "            outer_ip        loss               Label  Num_Label\n",
              "1656      172.16.0.1  112.466614              [DDoS]          1\n",
              "1984      172.16.0.1  214.171982              [DDoS]          1\n",
              "2247      172.16.0.1  185.339294              [DDoS]          1\n",
              "2288   192.168.10.50    4.251068      [BENIGN, DDoS]          1\n",
              "2480      172.16.0.1  179.004272              [DDoS]          1\n",
              "2928      172.16.0.1    4.396950      [DDoS, BENIGN]          1\n",
              "5849      172.16.0.1    0.000801          [PortScan]          1\n",
              "9213      172.16.0.1    0.000011          [PortScan]          1\n",
              "9452      172.16.0.1    0.002042          [PortScan]          1\n",
              "9742      172.16.0.1    0.002393          [PortScan]          1\n",
              "10918     172.16.0.1    0.000817          [PortScan]          1\n",
              "11004     172.16.0.1    0.000727          [PortScan]          1\n",
              "14065     172.16.0.1    1.196297  [PortScan, BENIGN]          1\n",
              "14234     172.16.0.1    1.324299          [PortScan]          1\n",
              "15004     172.16.0.1    0.000588          [PortScan]          1\n",
              "15394     172.16.0.1    0.018998          [PortScan]          1\n",
              "15549     172.16.0.1    0.007106          [PortScan]          1\n",
              "16657     172.16.0.1    0.018934          [PortScan]          1"
            ],
            "text/html": [
              "<div>\n",
              "<style scoped>\n",
              "    .dataframe tbody tr th:only-of-type {\n",
              "        vertical-align: middle;\n",
              "    }\n",
              "\n",
              "    .dataframe tbody tr th {\n",
              "        vertical-align: top;\n",
              "    }\n",
              "\n",
              "    .dataframe thead th {\n",
              "        text-align: right;\n",
              "    }\n",
              "</style>\n",
              "<table border=\"1\" class=\"dataframe\">\n",
              "  <thead>\n",
              "    <tr style=\"text-align: right;\">\n",
              "      <th></th>\n",
              "      <th>outer_ip</th>\n",
              "      <th>loss</th>\n",
              "      <th>Label</th>\n",
              "      <th>Num_Label</th>\n",
              "    </tr>\n",
              "  </thead>\n",
              "  <tbody>\n",
              "    <tr>\n",
              "      <th>1656</th>\n",
              "      <td>172.16.0.1</td>\n",
              "      <td>112.466614</td>\n",
              "      <td>[DDoS]</td>\n",
              "      <td>1</td>\n",
              "    </tr>\n",
              "    <tr>\n",
              "      <th>1984</th>\n",
              "      <td>172.16.0.1</td>\n",
              "      <td>214.171982</td>\n",
              "      <td>[DDoS]</td>\n",
              "      <td>1</td>\n",
              "    </tr>\n",
              "    <tr>\n",
              "      <th>2247</th>\n",
              "      <td>172.16.0.1</td>\n",
              "      <td>185.339294</td>\n",
              "      <td>[DDoS]</td>\n",
              "      <td>1</td>\n",
              "    </tr>\n",
              "    <tr>\n",
              "      <th>2288</th>\n",
              "      <td>192.168.10.50</td>\n",
              "      <td>4.251068</td>\n",
              "      <td>[BENIGN, DDoS]</td>\n",
              "      <td>1</td>\n",
              "    </tr>\n",
              "    <tr>\n",
              "      <th>2480</th>\n",
              "      <td>172.16.0.1</td>\n",
              "      <td>179.004272</td>\n",
              "      <td>[DDoS]</td>\n",
              "      <td>1</td>\n",
              "    </tr>\n",
              "    <tr>\n",
              "      <th>2928</th>\n",
              "      <td>172.16.0.1</td>\n",
              "      <td>4.396950</td>\n",
              "      <td>[DDoS, BENIGN]</td>\n",
              "      <td>1</td>\n",
              "    </tr>\n",
              "    <tr>\n",
              "      <th>5849</th>\n",
              "      <td>172.16.0.1</td>\n",
              "      <td>0.000801</td>\n",
              "      <td>[PortScan]</td>\n",
              "      <td>1</td>\n",
              "    </tr>\n",
              "    <tr>\n",
              "      <th>9213</th>\n",
              "      <td>172.16.0.1</td>\n",
              "      <td>0.000011</td>\n",
              "      <td>[PortScan]</td>\n",
              "      <td>1</td>\n",
              "    </tr>\n",
              "    <tr>\n",
              "      <th>9452</th>\n",
              "      <td>172.16.0.1</td>\n",
              "      <td>0.002042</td>\n",
              "      <td>[PortScan]</td>\n",
              "      <td>1</td>\n",
              "    </tr>\n",
              "    <tr>\n",
              "      <th>9742</th>\n",
              "      <td>172.16.0.1</td>\n",
              "      <td>0.002393</td>\n",
              "      <td>[PortScan]</td>\n",
              "      <td>1</td>\n",
              "    </tr>\n",
              "    <tr>\n",
              "      <th>10918</th>\n",
              "      <td>172.16.0.1</td>\n",
              "      <td>0.000817</td>\n",
              "      <td>[PortScan]</td>\n",
              "      <td>1</td>\n",
              "    </tr>\n",
              "    <tr>\n",
              "      <th>11004</th>\n",
              "      <td>172.16.0.1</td>\n",
              "      <td>0.000727</td>\n",
              "      <td>[PortScan]</td>\n",
              "      <td>1</td>\n",
              "    </tr>\n",
              "    <tr>\n",
              "      <th>14065</th>\n",
              "      <td>172.16.0.1</td>\n",
              "      <td>1.196297</td>\n",
              "      <td>[PortScan, BENIGN]</td>\n",
              "      <td>1</td>\n",
              "    </tr>\n",
              "    <tr>\n",
              "      <th>14234</th>\n",
              "      <td>172.16.0.1</td>\n",
              "      <td>1.324299</td>\n",
              "      <td>[PortScan]</td>\n",
              "      <td>1</td>\n",
              "    </tr>\n",
              "    <tr>\n",
              "      <th>15004</th>\n",
              "      <td>172.16.0.1</td>\n",
              "      <td>0.000588</td>\n",
              "      <td>[PortScan]</td>\n",
              "      <td>1</td>\n",
              "    </tr>\n",
              "    <tr>\n",
              "      <th>15394</th>\n",
              "      <td>172.16.0.1</td>\n",
              "      <td>0.018998</td>\n",
              "      <td>[PortScan]</td>\n",
              "      <td>1</td>\n",
              "    </tr>\n",
              "    <tr>\n",
              "      <th>15549</th>\n",
              "      <td>172.16.0.1</td>\n",
              "      <td>0.007106</td>\n",
              "      <td>[PortScan]</td>\n",
              "      <td>1</td>\n",
              "    </tr>\n",
              "    <tr>\n",
              "      <th>16657</th>\n",
              "      <td>172.16.0.1</td>\n",
              "      <td>0.018934</td>\n",
              "      <td>[PortScan]</td>\n",
              "      <td>1</td>\n",
              "    </tr>\n",
              "  </tbody>\n",
              "</table>\n",
              "</div>"
            ]
          },
          "metadata": {},
          "execution_count": 578
        }
      ]
    },
    {
      "cell_type": "code",
      "source": [
        "concat_result = pd.concat([\n",
        "    concat_result, result\n",
        "])"
      ],
      "metadata": {
        "id": "ciNP4oKthi67"
      },
      "execution_count": null,
      "outputs": []
    },
    {
      "cell_type": "code",
      "source": [
        "y_true = result['Num_Label'].values\n",
        "loss = result['loss'].values"
      ],
      "metadata": {
        "id": "IPhE7PIGJBmG"
      },
      "execution_count": null,
      "outputs": []
    },
    {
      "cell_type": "code",
      "source": [
        "fri_fp, fri_tp, _ = roc_curve(y_true, loss)\n",
        "roc_auc_score(y_true, loss)"
      ],
      "metadata": {
        "colab": {
          "base_uri": "https://localhost:8080/"
        },
        "outputId": "62a5c82f-a2f1-45fb-9613-09167474d526",
        "id": "LWPgbp7oJBmH"
      },
      "execution_count": null,
      "outputs": [
        {
          "output_type": "execute_result",
          "data": {
            "text/plain": [
              "0.9853041455565116"
            ]
          },
          "metadata": {},
          "execution_count": 581
        }
      ]
    },
    {
      "cell_type": "code",
      "source": [
        "theta = best_f1(y_true, loss)"
      ],
      "metadata": {
        "colab": {
          "base_uri": "https://localhost:8080/"
        },
        "outputId": "e820a68c-86c4-48c2-ca32-3a95aef84815",
        "id": "_QboepSlJBmH"
      },
      "execution_count": null,
      "outputs": [
        {
          "output_type": "stream",
          "name": "stdout",
          "text": [
            "theta :  0.014599999999999967\n",
            "accuracy :  0.9993124391222139\n",
            "recall :  0.5555555555555556\n",
            "precision:  0.7142857142857143\n",
            "f1-score :  0.6250000000000001\n"
          ]
        }
      ]
    },
    {
      "cell_type": "code",
      "source": [
        "_, axs = plt.subplots(2,1, figsize=(22,14))\n",
        "titles = ['benign', 'attack']\n",
        "\n",
        "for i in range(2):\n",
        "    axs[i].hist(result[result['Num_Label'] == i]['loss'], bins=200, range=(0,1))\n",
        "    axs[i].axvline(x=theta, color='r', linestyle='--')\n",
        "    axs[i].set_title(titles[i])\n"
      ],
      "metadata": {
        "colab": {
          "base_uri": "https://localhost:8080/",
          "height": 825
        },
        "outputId": "41a8d327-a660-424c-b937-4083149349d4",
        "id": "-55ovTJlJBmH"
      },
      "execution_count": null,
      "outputs": [
        {
          "output_type": "display_data",
          "data": {
            "text/plain": [
              "<Figure size 1584x1008 with 2 Axes>"
            ],
            "image/png": "[encoded data removed]"
          },
          "metadata": {
            "needs_background": "light"
          }
        }
      ]
    },
    {
      "cell_type": "markdown",
      "source": [
        "## 금요일 BOT"
      ],
      "metadata": {
        "id": "Cxvtbbd9KMyz"
      }
    },
    {
      "cell_type": "code",
      "source": [
        "testSet = testSetLoader(files[4])"
      ],
      "metadata": {
        "id": "IIuxOv3IKQmJ"
      },
      "execution_count": null,
      "outputs": []
    },
    {
      "cell_type": "code",
      "source": [
        "testX = fpp.transform(testSet)"
      ],
      "metadata": {
        "id": "q41OYsXmKQmJ"
      },
      "execution_count": null,
      "outputs": []
    },
    {
      "cell_type": "code",
      "source": [
        "loss = test_fn(model, testX)"
      ],
      "metadata": {
        "id": "ycNG6t4jKQmJ"
      },
      "execution_count": null,
      "outputs": []
    },
    {
      "cell_type": "code",
      "source": [
        "result = result_fn(testSet, loss)"
      ],
      "metadata": {
        "id": "Y54pmX2EKQmJ"
      },
      "execution_count": null,
      "outputs": []
    },
    {
      "cell_type": "code",
      "source": [
        "result[result['Num_Label']==1]"
      ],
      "metadata": {
        "colab": {
          "base_uri": "https://localhost:8080/",
          "height": 1000
        },
        "outputId": "cca510b5-d234-4c45-d305-90c7f3fe38c3",
        "id": "Y0L1XkOjKQmJ"
      },
      "execution_count": null,
      "outputs": [
        {
          "output_type": "execute_result",
          "data": {
            "text/plain": [
              "             outer_ip      loss  Label  Num_Label\n",
              "2471       52.6.13.28  0.000046  [Bot]          1\n",
              "2511       52.6.13.28  0.000012  [Bot]          1\n",
              "5408   205.174.165.73  0.000076  [Bot]          1\n",
              "5535   205.174.165.73  0.000633  [Bot]          1\n",
              "6068   205.174.165.73  0.000337  [Bot]          1\n",
              "6531   205.174.165.73  0.000130  [Bot]          1\n",
              "6963   205.174.165.73  0.000589  [Bot]          1\n",
              "7590   205.174.165.73  0.002745  [Bot]          1\n",
              "8265   205.174.165.73  0.002590  [Bot]          1\n",
              "8913   205.174.165.73  0.003731  [Bot]          1\n",
              "9302   205.174.165.73  0.007869  [Bot]          1\n",
              "9584   205.174.165.73  0.011036  [Bot]          1\n",
              "9781   205.174.165.73  0.001259  [Bot]          1\n",
              "10108  205.174.165.73  0.000686  [Bot]          1\n",
              "10348  205.174.165.73  0.000360  [Bot]          1\n",
              "10768  205.174.165.73  0.001247  [Bot]          1\n",
              "11195  205.174.165.73  0.001246  [Bot]          1\n",
              "11566  205.174.165.73  0.001273  [Bot]          1\n",
              "12077  205.174.165.73  0.001272  [Bot]          1\n",
              "12178    52.7.235.158  0.000100  [Bot]          1\n",
              "12772  205.174.165.73  0.001273  [Bot]          1\n",
              "13301  205.174.165.73  0.001272  [Bot]          1\n",
              "13803  205.174.165.73  0.001272  [Bot]          1\n",
              "14106  205.174.165.73  0.001272  [Bot]          1\n",
              "14518  205.174.165.73  0.001273  [Bot]          1\n",
              "15027  205.174.165.73  0.001272  [Bot]          1\n",
              "15300  205.174.165.73  0.001273  [Bot]          1\n",
              "15798  205.174.165.73  0.001272  [Bot]          1\n",
              "15980  205.174.165.73  0.001272  [Bot]          1\n",
              "16058  205.174.165.73  0.001273  [Bot]          1\n",
              "16473  205.174.165.73  0.001272  [Bot]          1\n",
              "16763  205.174.165.73  0.001272  [Bot]          1\n",
              "16857  205.174.165.73  0.001272  [Bot]          1\n",
              "16974  205.174.165.73  0.001272  [Bot]          1\n",
              "17039  205.174.165.73  0.001273  [Bot]          1\n",
              "17124  205.174.165.73  0.001273  [Bot]          1\n",
              "17181  205.174.165.73  0.001272  [Bot]          1\n",
              "17221  205.174.165.73  0.001273  [Bot]          1\n",
              "17350  205.174.165.73  0.001272  [Bot]          1"
            ],
            "text/html": [
              "<div>\n",
              "<style scoped>\n",
              "    .dataframe tbody tr th:only-of-type {\n",
              "        vertical-align: middle;\n",
              "    }\n",
              "\n",
              "    .dataframe tbody tr th {\n",
              "        vertical-align: top;\n",
              "    }\n",
              "\n",
              "    .dataframe thead th {\n",
              "        text-align: right;\n",
              "    }\n",
              "</style>\n",
              "<table border=\"1\" class=\"dataframe\">\n",
              "  <thead>\n",
              "    <tr style=\"text-align: right;\">\n",
              "      <th></th>\n",
              "      <th>outer_ip</th>\n",
              "      <th>loss</th>\n",
              "      <th>Label</th>\n",
              "      <th>Num_Label</th>\n",
              "    </tr>\n",
              "  </thead>\n",
              "  <tbody>\n",
              "    <tr>\n",
              "      <th>2471</th>\n",
              "      <td>52.6.13.28</td>\n",
              "      <td>0.000046</td>\n",
              "      <td>[Bot]</td>\n",
              "      <td>1</td>\n",
              "    </tr>\n",
              "    <tr>\n",
              "      <th>2511</th>\n",
              "      <td>52.6.13.28</td>\n",
              "      <td>0.000012</td>\n",
              "      <td>[Bot]</td>\n",
              "      <td>1</td>\n",
              "    </tr>\n",
              "    <tr>\n",
              "      <th>5408</th>\n",
              "      <td>205.174.165.73</td>\n",
              "      <td>0.000076</td>\n",
              "      <td>[Bot]</td>\n",
              "      <td>1</td>\n",
              "    </tr>\n",
              "    <tr>\n",
              "      <th>5535</th>\n",
              "      <td>205.174.165.73</td>\n",
              "      <td>0.000633</td>\n",
              "      <td>[Bot]</td>\n",
              "      <td>1</td>\n",
              "    </tr>\n",
              "    <tr>\n",
              "      <th>6068</th>\n",
              "      <td>205.174.165.73</td>\n",
              "      <td>0.000337</td>\n",
              "      <td>[Bot]</td>\n",
              "      <td>1</td>\n",
              "    </tr>\n",
              "    <tr>\n",
              "      <th>6531</th>\n",
              "      <td>205.174.165.73</td>\n",
              "      <td>0.000130</td>\n",
              "      <td>[Bot]</td>\n",
              "      <td>1</td>\n",
              "    </tr>\n",
              "    <tr>\n",
              "      <th>6963</th>\n",
              "      <td>205.174.165.73</td>\n",
              "      <td>0.000589</td>\n",
              "      <td>[Bot]</td>\n",
              "      <td>1</td>\n",
              "    </tr>\n",
              "    <tr>\n",
              "      <th>7590</th>\n",
              "      <td>205.174.165.73</td>\n",
              "      <td>0.002745</td>\n",
              "      <td>[Bot]</td>\n",
              "      <td>1</td>\n",
              "    </tr>\n",
              "    <tr>\n",
              "      <th>8265</th>\n",
              "      <td>205.174.165.73</td>\n",
              "      <td>0.002590</td>\n",
              "      <td>[Bot]</td>\n",
              "      <td>1</td>\n",
              "    </tr>\n",
              "    <tr>\n",
              "      <th>8913</th>\n",
              "      <td>205.174.165.73</td>\n",
              "      <td>0.003731</td>\n",
              "      <td>[Bot]</td>\n",
              "      <td>1</td>\n",
              "    </tr>\n",
              "    <tr>\n",
              "      <th>9302</th>\n",
              "      <td>205.174.165.73</td>\n",
              "      <td>0.007869</td>\n",
              "      <td>[Bot]</td>\n",
              "      <td>1</td>\n",
              "    </tr>\n",
              "    <tr>\n",
              "      <th>9584</th>\n",
              "      <td>205.174.165.73</td>\n",
              "      <td>0.011036</td>\n",
              "      <td>[Bot]</td>\n",
              "      <td>1</td>\n",
              "    </tr>\n",
              "    <tr>\n",
              "      <th>9781</th>\n",
              "      <td>205.174.165.73</td>\n",
              "      <td>0.001259</td>\n",
              "      <td>[Bot]</td>\n",
              "      <td>1</td>\n",
              "    </tr>\n",
              "    <tr>\n",
              "      <th>10108</th>\n",
              "      <td>205.174.165.73</td>\n",
              "      <td>0.000686</td>\n",
              "      <td>[Bot]</td>\n",
              "      <td>1</td>\n",
              "    </tr>\n",
              "    <tr>\n",
              "      <th>10348</th>\n",
              "      <td>205.174.165.73</td>\n",
              "      <td>0.000360</td>\n",
              "      <td>[Bot]</td>\n",
              "      <td>1</td>\n",
              "    </tr>\n",
              "    <tr>\n",
              "      <th>10768</th>\n",
              "      <td>205.174.165.73</td>\n",
              "      <td>0.001247</td>\n",
              "      <td>[Bot]</td>\n",
              "      <td>1</td>\n",
              "    </tr>\n",
              "    <tr>\n",
              "      <th>11195</th>\n",
              "      <td>205.174.165.73</td>\n",
              "      <td>0.001246</td>\n",
              "      <td>[Bot]</td>\n",
              "      <td>1</td>\n",
              "    </tr>\n",
              "    <tr>\n",
              "      <th>11566</th>\n",
              "      <td>205.174.165.73</td>\n",
              "      <td>0.001273</td>\n",
              "      <td>[Bot]</td>\n",
              "      <td>1</td>\n",
              "    </tr>\n",
              "    <tr>\n",
              "      <th>12077</th>\n",
              "      <td>205.174.165.73</td>\n",
              "      <td>0.001272</td>\n",
              "      <td>[Bot]</td>\n",
              "      <td>1</td>\n",
              "    </tr>\n",
              "    <tr>\n",
              "      <th>12178</th>\n",
              "      <td>52.7.235.158</td>\n",
              "      <td>0.000100</td>\n",
              "      <td>[Bot]</td>\n",
              "      <td>1</td>\n",
              "    </tr>\n",
              "    <tr>\n",
              "      <th>12772</th>\n",
              "      <td>205.174.165.73</td>\n",
              "      <td>0.001273</td>\n",
              "      <td>[Bot]</td>\n",
              "      <td>1</td>\n",
              "    </tr>\n",
              "    <tr>\n",
              "      <th>13301</th>\n",
              "      <td>205.174.165.73</td>\n",
              "      <td>0.001272</td>\n",
              "      <td>[Bot]</td>\n",
              "      <td>1</td>\n",
              "    </tr>\n",
              "    <tr>\n",
              "      <th>13803</th>\n",
              "      <td>205.174.165.73</td>\n",
              "      <td>0.001272</td>\n",
              "      <td>[Bot]</td>\n",
              "      <td>1</td>\n",
              "    </tr>\n",
              "    <tr>\n",
              "      <th>14106</th>\n",
              "      <td>205.174.165.73</td>\n",
              "      <td>0.001272</td>\n",
              "      <td>[Bot]</td>\n",
              "      <td>1</td>\n",
              "    </tr>\n",
              "    <tr>\n",
              "      <th>14518</th>\n",
              "      <td>205.174.165.73</td>\n",
              "      <td>0.001273</td>\n",
              "      <td>[Bot]</td>\n",
              "      <td>1</td>\n",
              "    </tr>\n",
              "    <tr>\n",
              "      <th>15027</th>\n",
              "      <td>205.174.165.73</td>\n",
              "      <td>0.001272</td>\n",
              "      <td>[Bot]</td>\n",
              "      <td>1</td>\n",
              "    </tr>\n",
              "    <tr>\n",
              "      <th>15300</th>\n",
              "      <td>205.174.165.73</td>\n",
              "      <td>0.001273</td>\n",
              "      <td>[Bot]</td>\n",
              "      <td>1</td>\n",
              "    </tr>\n",
              "    <tr>\n",
              "      <th>15798</th>\n",
              "      <td>205.174.165.73</td>\n",
              "      <td>0.001272</td>\n",
              "      <td>[Bot]</td>\n",
              "      <td>1</td>\n",
              "    </tr>\n",
              "    <tr>\n",
              "      <th>15980</th>\n",
              "      <td>205.174.165.73</td>\n",
              "      <td>0.001272</td>\n",
              "      <td>[Bot]</td>\n",
              "      <td>1</td>\n",
              "    </tr>\n",
              "    <tr>\n",
              "      <th>16058</th>\n",
              "      <td>205.174.165.73</td>\n",
              "      <td>0.001273</td>\n",
              "      <td>[Bot]</td>\n",
              "      <td>1</td>\n",
              "    </tr>\n",
              "    <tr>\n",
              "      <th>16473</th>\n",
              "      <td>205.174.165.73</td>\n",
              "      <td>0.001272</td>\n",
              "      <td>[Bot]</td>\n",
              "      <td>1</td>\n",
              "    </tr>\n",
              "    <tr>\n",
              "      <th>16763</th>\n",
              "      <td>205.174.165.73</td>\n",
              "      <td>0.001272</td>\n",
              "      <td>[Bot]</td>\n",
              "      <td>1</td>\n",
              "    </tr>\n",
              "    <tr>\n",
              "      <th>16857</th>\n",
              "      <td>205.174.165.73</td>\n",
              "      <td>0.001272</td>\n",
              "      <td>[Bot]</td>\n",
              "      <td>1</td>\n",
              "    </tr>\n",
              "    <tr>\n",
              "      <th>16974</th>\n",
              "      <td>205.174.165.73</td>\n",
              "      <td>0.001272</td>\n",
              "      <td>[Bot]</td>\n",
              "      <td>1</td>\n",
              "    </tr>\n",
              "    <tr>\n",
              "      <th>17039</th>\n",
              "      <td>205.174.165.73</td>\n",
              "      <td>0.001273</td>\n",
              "      <td>[Bot]</td>\n",
              "      <td>1</td>\n",
              "    </tr>\n",
              "    <tr>\n",
              "      <th>17124</th>\n",
              "      <td>205.174.165.73</td>\n",
              "      <td>0.001273</td>\n",
              "      <td>[Bot]</td>\n",
              "      <td>1</td>\n",
              "    </tr>\n",
              "    <tr>\n",
              "      <th>17181</th>\n",
              "      <td>205.174.165.73</td>\n",
              "      <td>0.001272</td>\n",
              "      <td>[Bot]</td>\n",
              "      <td>1</td>\n",
              "    </tr>\n",
              "    <tr>\n",
              "      <th>17221</th>\n",
              "      <td>205.174.165.73</td>\n",
              "      <td>0.001273</td>\n",
              "      <td>[Bot]</td>\n",
              "      <td>1</td>\n",
              "    </tr>\n",
              "    <tr>\n",
              "      <th>17350</th>\n",
              "      <td>205.174.165.73</td>\n",
              "      <td>0.001272</td>\n",
              "      <td>[Bot]</td>\n",
              "      <td>1</td>\n",
              "    </tr>\n",
              "  </tbody>\n",
              "</table>\n",
              "</div>"
            ]
          },
          "metadata": {},
          "execution_count": 588
        }
      ]
    },
    {
      "cell_type": "code",
      "source": [
        "concat_result = pd.concat([\n",
        "    concat_result, result\n",
        "])"
      ],
      "metadata": {
        "id": "mKpYNjtshlkB"
      },
      "execution_count": null,
      "outputs": []
    },
    {
      "cell_type": "code",
      "source": [
        "y_true = result['Num_Label'].values\n",
        "loss = result['loss'].values"
      ],
      "metadata": {
        "id": "InqStT-sKQmJ"
      },
      "execution_count": null,
      "outputs": []
    },
    {
      "cell_type": "code",
      "source": [
        "bot_fp, bot_tp, _ = roc_curve(y_true, loss)\n",
        "roc_auc_score(y_true, loss)"
      ],
      "metadata": {
        "colab": {
          "base_uri": "https://localhost:8080/"
        },
        "outputId": "ae78773b-8896-420f-d501-32b7aefaec3f",
        "id": "in1gB3wxKQmK"
      },
      "execution_count": null,
      "outputs": [
        {
          "output_type": "execute_result",
          "data": {
            "text/plain": [
              "0.983847218279875"
            ]
          },
          "metadata": {},
          "execution_count": 591
        }
      ]
    },
    {
      "cell_type": "code",
      "source": [
        "theta = best_f1(y_true, loss)"
      ],
      "metadata": {
        "colab": {
          "base_uri": "https://localhost:8080/"
        },
        "outputId": "583ac472-2924-4c96-adbf-35059a8dabe3",
        "id": "sbccFhwMKQmK"
      },
      "execution_count": null,
      "outputs": [
        {
          "output_type": "stream",
          "name": "stdout",
          "text": [
            "theta :  0.0012000000000000003\n",
            "accuracy :  0.9963182419605362\n",
            "recall :  0.7435897435897436\n",
            "precision:  0.3493975903614458\n",
            "f1-score :  0.47540983606557385\n"
          ]
        }
      ]
    },
    {
      "cell_type": "code",
      "source": [
        "_, axs = plt.subplots(2,1, figsize=(22,14))\n",
        "titles = ['benign', 'attack']\n",
        "\n",
        "for i in range(2):\n",
        "    axs[i].hist(result[result['Num_Label'] == i]['loss'], bins=200, range=(0,1))\n",
        "    axs[i].axvline(x=theta, color='r', linestyle='--')\n",
        "    axs[i].set_title(titles[i])\n"
      ],
      "metadata": {
        "colab": {
          "base_uri": "https://localhost:8080/",
          "height": 825
        },
        "outputId": "9cdc62d8-8bc5-4552-baf6-d91da824aa96",
        "id": "gO-MEiUrKQmK"
      },
      "execution_count": null,
      "outputs": [
        {
          "output_type": "display_data",
          "data": {
            "text/plain": [
              "<Figure size 1584x1008 with 2 Axes>"
            ],
            "image/png": "[encoded data removed]"
          },
          "metadata": {
            "needs_background": "light"
          }
        }
      ]
    },
    {
      "cell_type": "markdown",
      "source": [
        "## ROC 곡선 그리기"
      ],
      "metadata": {
        "id": "piVV2qQDQPyL"
      }
    },
    {
      "cell_type": "code",
      "source": [
        "plt.plot(tues_fp, tues_tp, color='red', label='tuesday')\n",
        "plt.plot(wednes_fp, wednes_tp, color='blue', label='wednesday')\n",
        "plt.plot(fri_fp, fri_tp, color='green', label='friday')\n",
        "plt.plot(bot_fp, bot_tp, color='pink', label='Bot-attack')\n",
        "plt.plot([0, 1], [0, 1], color='black', linestyle='--')\n",
        "plt.xlabel('False Positive Rate')\n",
        "plt.ylabel('True Positive Rate')\n",
        "plt.title('Receiver Operating Characteristic Curve')\n",
        "plt.legend()\n",
        "plt.show()"
      ],
      "metadata": {
        "colab": {
          "base_uri": "https://localhost:8080/",
          "height": 295
        },
        "id": "ZjA1ktZhKMSs",
        "outputId": "836e6b42-e99f-4399-851d-bc7f843b1ac7"
      },
      "execution_count": null,
      "outputs": [
        {
          "output_type": "display_data",
          "data": {
            "text/plain": [
              "<Figure size 432x288 with 1 Axes>"
            ],
            "image/png": "[encoded data removed]"
          },
          "metadata": {
            "needs_background": "light"
          }
        }
      ]
    },
    {
      "cell_type": "code",
      "source": [
        "concat_result[concat_result['Num_Label']==1].describe()"
      ],
      "metadata": {
        "id": "Z7o-hnC-QoxV",
        "colab": {
          "base_uri": "https://localhost:8080/",
          "height": 300
        },
        "outputId": "88371821-a20d-4c98-9eea-05fe266a23c8"
      },
      "execution_count": null,
      "outputs": [
        {
          "output_type": "execute_result",
          "data": {
            "text/plain": [
              "              loss\n",
              "count   113.000000\n",
              "mean     56.947016\n",
              "std     288.991568\n",
              "min       0.000011\n",
              "25%       0.001272\n",
              "50%       0.001494\n",
              "75%       0.083379\n",
              "max    1934.162842"
            ],
            "text/html": [
              "<div>\n",
              "<style scoped>\n",
              "    .dataframe tbody tr th:only-of-type {\n",
              "        vertical-align: middle;\n",
              "    }\n",
              "\n",
              "    .dataframe tbody tr th {\n",
              "        vertical-align: top;\n",
              "    }\n",
              "\n",
              "    .dataframe thead th {\n",
              "        text-align: right;\n",
              "    }\n",
              "</style>\n",
              "<table border=\"1\" class=\"dataframe\">\n",
              "  <thead>\n",
              "    <tr style=\"text-align: right;\">\n",
              "      <th></th>\n",
              "      <th>loss</th>\n",
              "    </tr>\n",
              "  </thead>\n",
              "  <tbody>\n",
              "    <tr>\n",
              "      <th>count</th>\n",
              "      <td>113.000000</td>\n",
              "    </tr>\n",
              "    <tr>\n",
              "      <th>mean</th>\n",
              "      <td>56.947016</td>\n",
              "    </tr>\n",
              "    <tr>\n",
              "      <th>std</th>\n",
              "      <td>288.991568</td>\n",
              "    </tr>\n",
              "    <tr>\n",
              "      <th>min</th>\n",
              "      <td>0.000011</td>\n",
              "    </tr>\n",
              "    <tr>\n",
              "      <th>25%</th>\n",
              "      <td>0.001272</td>\n",
              "    </tr>\n",
              "    <tr>\n",
              "      <th>50%</th>\n",
              "      <td>0.001494</td>\n",
              "    </tr>\n",
              "    <tr>\n",
              "      <th>75%</th>\n",
              "      <td>0.083379</td>\n",
              "    </tr>\n",
              "    <tr>\n",
              "      <th>max</th>\n",
              "      <td>1934.162842</td>\n",
              "    </tr>\n",
              "  </tbody>\n",
              "</table>\n",
              "</div>"
            ]
          },
          "metadata": {},
          "execution_count": 595
        }
      ]
    },
    {
      "cell_type": "code",
      "source": [
        "y_true = concat_result['Num_Label'].values\n",
        "y_true = y_true.astype(np.int64)\n",
        "loss = concat_result['loss'].values"
      ],
      "metadata": {
        "id": "0cHJPfDEhuQj"
      },
      "execution_count": null,
      "outputs": []
    },
    {
      "cell_type": "code",
      "source": [
        "y_true"
      ],
      "metadata": {
        "colab": {
          "base_uri": "https://localhost:8080/"
        },
        "id": "jOvRxr1spblT",
        "outputId": "d3e38c33-0030-4e87-e22c-9c56f82b88fa"
      },
      "execution_count": null,
      "outputs": [
        {
          "output_type": "execute_result",
          "data": {
            "text/plain": [
              "array([0, 0, 0, ..., 0, 0, 0], dtype=int64)"
            ]
          },
          "metadata": {},
          "execution_count": 597
        }
      ]
    },
    {
      "cell_type": "code",
      "source": [
        "roc_auc_score(y_true, loss)"
      ],
      "metadata": {
        "colab": {
          "base_uri": "https://localhost:8080/"
        },
        "outputId": "0b43acf3-8527-4bbd-eb10-393629387752",
        "id": "FjiCEoP4huQk"
      },
      "execution_count": null,
      "outputs": [
        {
          "output_type": "execute_result",
          "data": {
            "text/plain": [
              "0.9864367310792128"
            ]
          },
          "metadata": {},
          "execution_count": 598
        }
      ]
    },
    {
      "cell_type": "code",
      "source": [
        "theta = best_f1(y_true, loss)"
      ],
      "metadata": {
        "colab": {
          "base_uri": "https://localhost:8080/"
        },
        "outputId": "1a05d6d2-267e-460f-dd86-691194cfa19f",
        "id": "2IjkXZbjhuQk"
      },
      "execution_count": null,
      "outputs": [
        {
          "output_type": "stream",
          "name": "stdout",
          "text": [
            "theta :  0.030099999999999873\n",
            "accuracy :  0.9991099763559376\n",
            "recall :  0.2831858407079646\n",
            "precision:  0.64\n",
            "f1-score :  0.39263803680981596\n"
          ]
        }
      ]
    },
    {
      "cell_type": "code",
      "source": [
        "_, axs = plt.subplots(2,1, figsize=(22,14))\n",
        "titles = ['benign', 'attack']\n",
        "\n",
        "for i in range(2):\n",
        "    axs[i].hist(concat_result[concat_result['Num_Label'] == i]['loss'], bins=200, range=(0,0.1))\n",
        "    axs[i].axvline(x=theta, color='r', linestyle='--')\n",
        "    axs[i].set_title(titles[i])\n"
      ],
      "metadata": {
        "colab": {
          "base_uri": "https://localhost:8080/",
          "height": 825
        },
        "id": "3oXwrTCHq3NL",
        "outputId": "532b640f-89ea-4ccb-c1b3-da1b7b05e2a1"
      },
      "execution_count": null,
      "outputs": [
        {
          "output_type": "display_data",
          "data": {
            "text/plain": [
              "<Figure size 1584x1008 with 2 Axes>"
            ],
            "image/png": "[encoded data removed]"
          },
          "metadata": {
            "needs_background": "light"
          }
        }
      ]
    }
  ]
}